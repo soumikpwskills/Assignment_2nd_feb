{
  "nbformat": 4,
  "nbformat_minor": 0,
  "metadata": {
    "colab": {
      "provenance": []
    },
    "kernelspec": {
      "name": "python3",
      "display_name": "Python 3"
    },
    "language_info": {
      "name": "python"
    }
  },
  "cells": [
    {
      "cell_type": "markdown",
      "source": [
        "**Q1. What is an API? Give an example, where an API is used in real life.**"
      ],
      "metadata": {
        "id": "wUqtOkrkIOgG"
      }
    },
    {
      "cell_type": "markdown",
      "source": [
        "**Ans :-** API stands for application programming interface, which is a set of definitions and protocols for building and integrating application software. An API is the interface that allows two independent software components to exchange information. An API acts as an intermediary between internal software functions and external ones, creating an exchange of information so seamless that it often goes unnoticed by the end user.\n",
        "\n",
        "Google Maps is a popular app on billions of mobile devices around the world, but you're probably aware of at least a few dozen other apps that use Google Maps APIs to pull customized location data, send directions, and analyze all types of location data that can help businesses provide better services and establish streamlined connections with suppliers, customers, delivery services, and more."
      ],
      "metadata": {
        "id": "EGn7rIOMIilP"
      }
    },
    {
      "cell_type": "markdown",
      "source": [
        "**Q2. Give advantages and disadvantages of using API.**"
      ],
      "metadata": {
        "id": "V8XjfRPYJM7s"
      }
    },
    {
      "cell_type": "markdown",
      "source": [
        "**Ans :-**\n",
        "###Advantages:-\n",
        "\n",
        "1. Increased Interoperability: API solutions enable different software systems to communicate with each other, regardless of their programming language or platform. This enhances the interoperability between systems, allowing for the exchange of data and functionality.\n",
        "2. Improved Efficiency: API driven infrastructures enable developers to reuse code and functionality from existing software systems, saving time and reducing the amount of code that needs to be written from scratch.\n",
        "3. Better User Experience: APIs can enable third-party developers to create applications that integrate with existing software systems, providing a better user experience and increased functionality.\n",
        "4. Increased Flexibility: APIs provide developers with greater flexibility, enabling them to choose the best programming languages and frameworks for their needs.\n",
        "5. New Revenue Streams: APIs can enable companies to create new revenue streams by providing third-party developers with access to their software systems.\n",
        "\n",
        "###Disadvantages:-\n",
        "1. Security Concerns: API infrastructures can be vulnerable to security breaches, such as SQL injection attacks and cross-site scripting (XSS) attacks, making it crucial to implement security measures to protect against these threats.\n",
        "2. Complexity: APIs can be complex, requiring a significant amount of development effort to implement and maintain.\n",
        "3. Compatibility Issues: APIs can have compatibility issues between different versions of the same software system or between different systems, which can lead to errors and system failures.\n",
        "4. Dependency on Third-Party Developers: APIs rely on third-party developers to create applications that integrate with the software system. This can create dependencies that are outside of the control of the company that owns the software system.\n",
        "5. Governance and Management: APIs require proper governance and management to ensure they are being used correctly and consistently across different applications and systems."
      ],
      "metadata": {
        "id": "vnGEaxynJPv4"
      }
    },
    {
      "cell_type": "markdown",
      "source": [
        "**Q3. What is a Web API? Differentiate between API and Web API.**"
      ],
      "metadata": {
        "id": "4WOOdx7EK405"
      }
    },
    {
      "cell_type": "markdown",
      "source": [
        "**Ans :-** Web API is an API as the name suggests, it can be accessed over the web using the HTTP protocol. It is a framework that helps you to create and develop HTTP based RESTFUL services. The web API can be developed by using different technologies such as java, ASP.NET, etc. Web API is used in either a web server or a web browser. Basically Web API is a web development concept. It is limited to Web Application’s client-side and also it does not include a web server or web browser details. If an application is to be used on a distributed system and to provide services on different devices like laptops, mobiles, etc then web API services are used. Web API is the enhanced form of the web application.\n",
        "\n",
        "* API stands for Application Programming Interface. API is actually some kind of interface which is having a set of functions. These set of functions will allow programmers to acquire some specific features or the data of an application.\n",
        "\n",
        "* Web API is an API as the name suggests, it can be accessed over the web using the HTTP protocol. It is a framework that helps you to create and develop HTTP based RESTFUL services. The web API can be developed by using different technologies such as java, ASP.NET, etc."
      ],
      "metadata": {
        "id": "o0iwNv4pK-1n"
      }
    },
    {
      "cell_type": "markdown",
      "source": [
        "**Q4. Explain REST and SOAP Architecture. Mention shortcomings of SOAP.**"
      ],
      "metadata": {
        "id": "1QPNFpKfL4cD"
      }
    },
    {
      "cell_type": "markdown",
      "source": [
        "**Ans :-**\n",
        "###**REST API :-**\n",
        "REST stands for REpresentational State Transfer and API stands for Application Program Interface. REST is a software architectural style that defines the set of rules to be used for creating web services. Web services which follow the REST architectural style are known as RESTful web services. It allows requesting systems to access and manipulate web resources by using a uniform and predefined set of rules. Interaction in REST based systems happen through Internet’s Hypertext Transfer Protocol (HTTP).\n",
        "\n",
        "**Architectural Constraints of RESTful API:** There are six architectural constraints which makes any web service are listed below:\n",
        "\n",
        "* **Uniform interface:-** Specific resources should be identified in the request. Usually, they are described by Uniform Resource Identifier (URI). Moreover, internal implementation is separate from resource representation. Further, representation should provide all information to modify or delete the resource or fetch additional data.\n",
        "* **Client-server architecture:-** The client uses URIs to obtain resources. It doesn’t concern how the server process the request. On the other hand, the server process and returns the resources. It doesn’t impact a user interface in any way. Both client and server don’t need to know about other responsibilities. Thus, they can evolve independently. It allows using a single API in many different clients, e.g., web browsers, mobile apps.\n",
        "* **Statelessness:-** A RESTful API should be stateless. In simple words, it means that it doesn’t store any information about the user’s session. Therefore, every single request should provide complete data to process it. Thus, it leads to greater availability of the API.\n",
        "* **Cacheability:-** The server’s response should provide information on whether it should be cached and for what time or not. Caching the data that updates rarely improves performance and eliminates redundant client-server interactions.\n",
        "* **Layered system:-** A REST API can consist of multiple layers, eg., business logic, presentation, data access. Moreover, layers shouldn’t directly impact others. Further, the client shouldn’t know if it’s connected directly to the end server or intermediary. Therefore, we can easily scale the system or provide additional layers such as gateways, proxies, load balancers.\n",
        "* **Code on demand:-** This one is an optional constraint. The server can return a part of the code itself instead of the data in JSON format. The point is to provide specific operations on the data that the client can use directly. Although, it’s not a common practice.\n",
        "\n",
        "### **SOAP API :-**\n",
        "\n",
        "The SOAP web services architecture is based on interactions between three components: a service provider, a service requester, and an optional service registry.\n",
        "\n",
        "* **The service provider :-** The collection of software that provides a web service.\n",
        "  * The application program\n",
        "  * The middleware\n",
        "  * The platform on which they run\n",
        "* **The service requester :-** The collection of software that is responsible for requesting a web service from a service provider.\n",
        "  * The application program\n",
        "  * The middleware\n",
        "  * The platform on which they run\n",
        "* **The service registry :-** The service registry is a central location where service providers can publish their service descriptions and where service requesters can find those service descriptions.\n",
        "The registry is an optional component of the web services architecture because service requesters and providers can communicate without it in many situations. For example, the organization that provides a service can distribute the service description directly to the users of the service in a number of ways, including offering the service as a download from an FTP site.\n",
        "\n",
        "  Using a service registry offers a number of advantages to both the requester and provider; for example, using the IBM® WebSphere® Service Registry and Repository (WSRR) can help the requester to find services more quickly and can help the provider to enforce version control of the services being offered.\n",
        "####Shortcomings of SOAP :-\n",
        "* **Slow:** SOAP uses XML format that must be parsed to be read. It defines many standards that must be followed while developing the SOAP applications. So it is slow and consumes more bandwidth and resource.\n",
        "\n",
        "* **WSDL dependent:** SOAP uses WSDL and doesn't have any other mechanism to discover the service."
      ],
      "metadata": {
        "id": "hrYyo0yYL5o9"
      }
    },
    {
      "cell_type": "markdown",
      "source": [
        "**Q5. Differentiate between REST and SOAP.**"
      ],
      "metadata": {
        "id": "70rOxnOcQC18"
      }
    },
    {
      "cell_type": "markdown",
      "source": [
        "**Ans :-**\n",
        "###Difference Between REST and SOAP :-\n",
        "* SOAP stands for Simple Object Access Protocol and REST stands for Representational State Transfer.\n",
        "* Since SOAP is a protocol, it follows a strict standard to allow communication between the client and the server whereas REST is an architectural style that doesn’t follow any strict standard but follows six constraints defined by Roy Fielding in 2000. Those constraints are – Uniform Interface, Client-Server, Stateless, Cacheable, Layered System, Code on Demand.\n",
        "* SOAP uses only XML for exchanging information in its message format whereas REST is not restricted to XML and its the choice of implementer which Media-Type to use like XML, JSON, Plain-text. Moreover, REST can use SOAP protocol but SOAP cannot use REST.\n",
        "* On behalf of services interfaces to business logic, SOAP uses @WebService whereas REST instead of using interfaces uses URI like @Path.\n",
        "* SOAP is difficult to implement and it requires more bandwidth whereas REST is easy to implement and requires less bandwidth such as smartphones.\n",
        "* Benefits of SOAP over REST as SOAP has ACID compliance transaction. Some of the applications require transaction ability which is accepted by SOAP whereas REST lacks in it.\n",
        "* On the basis of Security, SOAP has SSL( Secure Socket Layer) and WS-security whereas REST has SSL and HTTPS. In the case of Bank Account Password, Card Number, etc. SOAP is preferred over REST. The security issue is all about your application requirement, you have to build security on your own. It’s about what type of protocol you use.\n",
        "* SOAP cannot make use of REST since SOAP is a protocol without any architectural pattern. REST can make use of SOAP because it is an architectural pattern having protocol."
      ],
      "metadata": {
        "id": "ejknnF-uQBjM"
      }
    }
  ]
}