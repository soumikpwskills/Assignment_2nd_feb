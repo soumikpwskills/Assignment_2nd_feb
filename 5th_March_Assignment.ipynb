{
  "nbformat": 4,
  "nbformat_minor": 0,
  "metadata": {
    "colab": {
      "provenance": [],
      "toc_visible": true
    },
    "kernelspec": {
      "name": "python3",
      "display_name": "Python 3"
    },
    "language_info": {
      "name": "python"
    }
  },
  "cells": [
    {
      "cell_type": "markdown",
      "source": [
        "**Q1. How can you create a Bokeh plot using Python code?**"
      ],
      "metadata": {
        "id": "YwMoXw7AcdPx"
      }
    },
    {
      "cell_type": "markdown",
      "source": [
        "**Answer :-**\n",
        "Bokeh is a Python library that allows you to create interactive data visualizations in a web browser. Here's how you can create a Bokeh plot using Python code:"
      ],
      "metadata": {
        "id": "X0I3BSYpdEXn"
      }
    },
    {
      "cell_type": "markdown",
      "source": [
        "1. Install Bokeh: You can install Bokeh using pip, which is the Python package manager."
      ],
      "metadata": {
        "id": "Qd2Nw9MpdJXv"
      }
    },
    {
      "cell_type": "code",
      "source": [
        "%pip install bokeh"
      ],
      "metadata": {
        "colab": {
          "base_uri": "https://localhost:8080/"
        },
        "id": "9RwQ5Qw0dMIW",
        "outputId": "4c708ff4-c07c-44ff-cd36-f136911c6122"
      },
      "execution_count": 1,
      "outputs": [
        {
          "output_type": "stream",
          "name": "stdout",
          "text": [
            "Requirement already satisfied: bokeh in /usr/local/lib/python3.10/dist-packages (3.2.2)\n",
            "Requirement already satisfied: Jinja2>=2.9 in /usr/local/lib/python3.10/dist-packages (from bokeh) (3.1.2)\n",
            "Requirement already satisfied: contourpy>=1 in /usr/local/lib/python3.10/dist-packages (from bokeh) (1.1.0)\n",
            "Requirement already satisfied: numpy>=1.16 in /usr/local/lib/python3.10/dist-packages (from bokeh) (1.23.5)\n",
            "Requirement already satisfied: packaging>=16.8 in /usr/local/lib/python3.10/dist-packages (from bokeh) (23.1)\n",
            "Requirement already satisfied: pandas>=1.2 in /usr/local/lib/python3.10/dist-packages (from bokeh) (1.5.3)\n",
            "Requirement already satisfied: pillow>=7.1.0 in /usr/local/lib/python3.10/dist-packages (from bokeh) (9.4.0)\n",
            "Requirement already satisfied: PyYAML>=3.10 in /usr/local/lib/python3.10/dist-packages (from bokeh) (6.0.1)\n",
            "Requirement already satisfied: tornado>=5.1 in /usr/local/lib/python3.10/dist-packages (from bokeh) (6.3.2)\n",
            "Requirement already satisfied: xyzservices>=2021.09.1 in /usr/local/lib/python3.10/dist-packages (from bokeh) (2023.7.0)\n",
            "Requirement already satisfied: MarkupSafe>=2.0 in /usr/local/lib/python3.10/dist-packages (from Jinja2>=2.9->bokeh) (2.1.3)\n",
            "Requirement already satisfied: python-dateutil>=2.8.1 in /usr/local/lib/python3.10/dist-packages (from pandas>=1.2->bokeh) (2.8.2)\n",
            "Requirement already satisfied: pytz>=2020.1 in /usr/local/lib/python3.10/dist-packages (from pandas>=1.2->bokeh) (2023.3.post1)\n",
            "Requirement already satisfied: six>=1.5 in /usr/local/lib/python3.10/dist-packages (from python-dateutil>=2.8.1->pandas>=1.2->bokeh) (1.16.0)\n"
          ]
        }
      ]
    },
    {
      "cell_type": "code",
      "source": [
        "import bokeh\n",
        "bokeh.__version__"
      ],
      "metadata": {
        "colab": {
          "base_uri": "https://localhost:8080/",
          "height": 36
        },
        "id": "g3K9H9dmdR17",
        "outputId": "9ddab979-120c-4959-9222-381db044690b"
      },
      "execution_count": 2,
      "outputs": [
        {
          "output_type": "execute_result",
          "data": {
            "text/plain": [
              "'3.2.2'"
            ],
            "application/vnd.google.colaboratory.intrinsic+json": {
              "type": "string"
            }
          },
          "metadata": {},
          "execution_count": 2
        }
      ]
    },
    {
      "cell_type": "markdown",
      "source": [
        "2. Import the required libraries: Before you can create a Bokeh plot, you need to import the necessary libraries. The most important library is bokeh.plotting, which provides a high-level interface for creating plots:"
      ],
      "metadata": {
        "id": "pW-q47dsdULb"
      }
    },
    {
      "cell_type": "code",
      "source": [
        "import bokeh.io\n",
        "import bokeh.plotting\n",
        "bokeh.io.output_notebook()\n",
        "from bokeh.plotting import figure, output_file, show"
      ],
      "metadata": {
        "id": "iI6iMWXmdYwq"
      },
      "execution_count": 3,
      "outputs": []
    },
    {
      "cell_type": "markdown",
      "source": [
        "3. Prepare the data: You need to prepare the data that you want to plot. In this example, we will create a simple line plot, so we will create two arrays of data: one for the x-axis and one for the y-axis:"
      ],
      "metadata": {
        "id": "Zy4XzScidfJb"
      }
    },
    {
      "cell_type": "code",
      "source": [
        "x = [1, 2, 3, 4, 5]\n",
        "y = [5, 4, 3, 2, 1]"
      ],
      "metadata": {
        "id": "kx5v7XUCdigv"
      },
      "execution_count": 4,
      "outputs": []
    },
    {
      "cell_type": "markdown",
      "source": [
        "4. Create a figure: To create a plot, you first need to create a figure object. The figure function takes several arguments, such as the size of the plot, the title, and the axis labels. In this example, we will create a plot with a size of 400x400 pixels, a title of \"My Plot\", and axis labels of \"X\" and \"Y\":"
      ],
      "metadata": {
        "id": "CYPRnHogdkVp"
      }
    },
    {
      "cell_type": "code",
      "source": [
        "p = figure(title=\"My Plot\", width=400, height=400, x_axis_label=\"X\", y_axis_label=\"Y\")"
      ],
      "metadata": {
        "id": "L3MEcg-Ldq-y"
      },
      "execution_count": 5,
      "outputs": []
    },
    {
      "cell_type": "markdown",
      "source": [
        "5. Add the data to the plot: Once you have created the figure object, you can add the data to the plot using the line function. The line function takes the x- and y-coordinates as arguments:"
      ],
      "metadata": {
        "id": "_mRm-dLeduwE"
      }
    },
    {
      "cell_type": "code",
      "source": [
        "p.line(x, y, line_width=2)"
      ],
      "metadata": {
        "colab": {
          "base_uri": "https://localhost:8080/",
          "height": 34
        },
        "id": "Qvedh_8Tdwpd",
        "outputId": "59e8148f-23a4-4825-a220-26c9a3ecbb31"
      },
      "execution_count": 6,
      "outputs": [
        {
          "output_type": "execute_result",
          "data": {
            "text/plain": [
              "GlyphRenderer(id='p1036', ...)"
            ],
            "text/html": [
              "<div style=\"display: table;\"><div style=\"display: table-row;\"><div style=\"display: table-cell;\"><b title=\"bokeh.models.renderers.glyph_renderer.GlyphRenderer\">GlyphRenderer</b>(</div><div style=\"display: table-cell;\">id&nbsp;=&nbsp;'p1036', <span id=\"p1040\" style=\"cursor: pointer;\">&hellip;)</span></div></div><div class=\"p1039\" style=\"display: none;\"><div style=\"display: table-cell;\"></div><div style=\"display: table-cell;\">coordinates&nbsp;=&nbsp;None,</div></div><div class=\"p1039\" style=\"display: none;\"><div style=\"display: table-cell;\"></div><div style=\"display: table-cell;\">data_source&nbsp;=&nbsp;ColumnDataSource(id='p1030', ...),</div></div><div class=\"p1039\" style=\"display: none;\"><div style=\"display: table-cell;\"></div><div style=\"display: table-cell;\">glyph&nbsp;=&nbsp;Line(id='p1033', ...),</div></div><div class=\"p1039\" style=\"display: none;\"><div style=\"display: table-cell;\"></div><div style=\"display: table-cell;\">group&nbsp;=&nbsp;None,</div></div><div class=\"p1039\" style=\"display: none;\"><div style=\"display: table-cell;\"></div><div style=\"display: table-cell;\">hover_glyph&nbsp;=&nbsp;None,</div></div><div class=\"p1039\" style=\"display: none;\"><div style=\"display: table-cell;\"></div><div style=\"display: table-cell;\">js_event_callbacks&nbsp;=&nbsp;{},</div></div><div class=\"p1039\" style=\"display: none;\"><div style=\"display: table-cell;\"></div><div style=\"display: table-cell;\">js_property_callbacks&nbsp;=&nbsp;{},</div></div><div class=\"p1039\" style=\"display: none;\"><div style=\"display: table-cell;\"></div><div style=\"display: table-cell;\">level&nbsp;=&nbsp;'glyph',</div></div><div class=\"p1039\" style=\"display: none;\"><div style=\"display: table-cell;\"></div><div style=\"display: table-cell;\">muted&nbsp;=&nbsp;False,</div></div><div class=\"p1039\" style=\"display: none;\"><div style=\"display: table-cell;\"></div><div style=\"display: table-cell;\">muted_glyph&nbsp;=&nbsp;Line(id='p1035', ...),</div></div><div class=\"p1039\" style=\"display: none;\"><div style=\"display: table-cell;\"></div><div style=\"display: table-cell;\">name&nbsp;=&nbsp;None,</div></div><div class=\"p1039\" style=\"display: none;\"><div style=\"display: table-cell;\"></div><div style=\"display: table-cell;\">nonselection_glyph&nbsp;=&nbsp;Line(id='p1034', ...),</div></div><div class=\"p1039\" style=\"display: none;\"><div style=\"display: table-cell;\"></div><div style=\"display: table-cell;\">propagate_hover&nbsp;=&nbsp;False,</div></div><div class=\"p1039\" style=\"display: none;\"><div style=\"display: table-cell;\"></div><div style=\"display: table-cell;\">selection_glyph&nbsp;=&nbsp;'auto',</div></div><div class=\"p1039\" style=\"display: none;\"><div style=\"display: table-cell;\"></div><div style=\"display: table-cell;\">subscribed_events&nbsp;=&nbsp;PropertyValueSet(),</div></div><div class=\"p1039\" style=\"display: none;\"><div style=\"display: table-cell;\"></div><div style=\"display: table-cell;\">syncable&nbsp;=&nbsp;True,</div></div><div class=\"p1039\" style=\"display: none;\"><div style=\"display: table-cell;\"></div><div style=\"display: table-cell;\">tags&nbsp;=&nbsp;[],</div></div><div class=\"p1039\" style=\"display: none;\"><div style=\"display: table-cell;\"></div><div style=\"display: table-cell;\">view&nbsp;=&nbsp;CDSView(id='p1037', ...),</div></div><div class=\"p1039\" style=\"display: none;\"><div style=\"display: table-cell;\"></div><div style=\"display: table-cell;\">visible&nbsp;=&nbsp;True,</div></div><div class=\"p1039\" style=\"display: none;\"><div style=\"display: table-cell;\"></div><div style=\"display: table-cell;\">x_range_name&nbsp;=&nbsp;'default',</div></div><div class=\"p1039\" style=\"display: none;\"><div style=\"display: table-cell;\"></div><div style=\"display: table-cell;\">y_range_name&nbsp;=&nbsp;'default')</div></div></div>\n",
              "<script>\n",
              "(function() {\n",
              "  let expanded = false;\n",
              "  const ellipsis = document.getElementById(\"p1040\");\n",
              "  ellipsis.addEventListener(\"click\", function() {\n",
              "    const rows = document.getElementsByClassName(\"p1039\");\n",
              "    for (let i = 0; i < rows.length; i++) {\n",
              "      const el = rows[i];\n",
              "      el.style.display = expanded ? \"none\" : \"table-row\";\n",
              "    }\n",
              "    ellipsis.innerHTML = expanded ? \"&hellip;)\" : \"&lsaquo;&lsaquo;&lsaquo;\";\n",
              "    expanded = !expanded;\n",
              "  });\n",
              "})();\n",
              "</script>\n"
            ]
          },
          "metadata": {},
          "execution_count": 6
        }
      ]
    },
    {
      "cell_type": "code",
      "source": [
        "bokeh.io.show(p)"
      ],
      "metadata": {
        "colab": {
          "base_uri": "https://localhost:8080/",
          "height": 417
        },
        "id": "E6kx4YpQd5Ll",
        "outputId": "d5c6f143-1460-4df2-cc28-a6888f636f17"
      },
      "execution_count": 7,
      "outputs": [
        {
          "output_type": "display_data",
          "data": {
            "application/javascript": [
              "(function(root) {\n",
              "  function now() {\n",
              "    return new Date();\n",
              "  }\n",
              "\n",
              "  const force = true;\n",
              "\n",
              "  if (typeof root._bokeh_onload_callbacks === \"undefined\" || force === true) {\n",
              "    root._bokeh_onload_callbacks = [];\n",
              "    root._bokeh_is_loading = undefined;\n",
              "  }\n",
              "\n",
              "const JS_MIME_TYPE = 'application/javascript';\n",
              "  const HTML_MIME_TYPE = 'text/html';\n",
              "  const EXEC_MIME_TYPE = 'application/vnd.bokehjs_exec.v0+json';\n",
              "  const CLASS_NAME = 'output_bokeh rendered_html';\n",
              "\n",
              "  /**\n",
              "   * Render data to the DOM node\n",
              "   */\n",
              "  function render(props, node) {\n",
              "    const script = document.createElement(\"script\");\n",
              "    node.appendChild(script);\n",
              "  }\n",
              "\n",
              "  /**\n",
              "   * Handle when an output is cleared or removed\n",
              "   */\n",
              "  function handleClearOutput(event, handle) {\n",
              "    const cell = handle.cell;\n",
              "\n",
              "    const id = cell.output_area._bokeh_element_id;\n",
              "    const server_id = cell.output_area._bokeh_server_id;\n",
              "    // Clean up Bokeh references\n",
              "    if (id != null && id in Bokeh.index) {\n",
              "      Bokeh.index[id].model.document.clear();\n",
              "      delete Bokeh.index[id];\n",
              "    }\n",
              "\n",
              "    if (server_id !== undefined) {\n",
              "      // Clean up Bokeh references\n",
              "      const cmd_clean = \"from bokeh.io.state import curstate; print(curstate().uuid_to_server['\" + server_id + \"'].get_sessions()[0].document.roots[0]._id)\";\n",
              "      cell.notebook.kernel.execute(cmd_clean, {\n",
              "        iopub: {\n",
              "          output: function(msg) {\n",
              "            const id = msg.content.text.trim();\n",
              "            if (id in Bokeh.index) {\n",
              "              Bokeh.index[id].model.document.clear();\n",
              "              delete Bokeh.index[id];\n",
              "            }\n",
              "          }\n",
              "        }\n",
              "      });\n",
              "      // Destroy server and session\n",
              "      const cmd_destroy = \"import bokeh.io.notebook as ion; ion.destroy_server('\" + server_id + \"')\";\n",
              "      cell.notebook.kernel.execute(cmd_destroy);\n",
              "    }\n",
              "  }\n",
              "\n",
              "  /**\n",
              "   * Handle when a new output is added\n",
              "   */\n",
              "  function handleAddOutput(event, handle) {\n",
              "    const output_area = handle.output_area;\n",
              "    const output = handle.output;\n",
              "\n",
              "    // limit handleAddOutput to display_data with EXEC_MIME_TYPE content only\n",
              "    if ((output.output_type != \"display_data\") || (!Object.prototype.hasOwnProperty.call(output.data, EXEC_MIME_TYPE))) {\n",
              "      return\n",
              "    }\n",
              "\n",
              "    const toinsert = output_area.element.find(\".\" + CLASS_NAME.split(' ')[0]);\n",
              "\n",
              "    if (output.metadata[EXEC_MIME_TYPE][\"id\"] !== undefined) {\n",
              "      toinsert[toinsert.length - 1].firstChild.textContent = output.data[JS_MIME_TYPE];\n",
              "      // store reference to embed id on output_area\n",
              "      output_area._bokeh_element_id = output.metadata[EXEC_MIME_TYPE][\"id\"];\n",
              "    }\n",
              "    if (output.metadata[EXEC_MIME_TYPE][\"server_id\"] !== undefined) {\n",
              "      const bk_div = document.createElement(\"div\");\n",
              "      bk_div.innerHTML = output.data[HTML_MIME_TYPE];\n",
              "      const script_attrs = bk_div.children[0].attributes;\n",
              "      for (let i = 0; i < script_attrs.length; i++) {\n",
              "        toinsert[toinsert.length - 1].firstChild.setAttribute(script_attrs[i].name, script_attrs[i].value);\n",
              "        toinsert[toinsert.length - 1].firstChild.textContent = bk_div.children[0].textContent\n",
              "      }\n",
              "      // store reference to server id on output_area\n",
              "      output_area._bokeh_server_id = output.metadata[EXEC_MIME_TYPE][\"server_id\"];\n",
              "    }\n",
              "  }\n",
              "\n",
              "  function register_renderer(events, OutputArea) {\n",
              "\n",
              "    function append_mime(data, metadata, element) {\n",
              "      // create a DOM node to render to\n",
              "      const toinsert = this.create_output_subarea(\n",
              "        metadata,\n",
              "        CLASS_NAME,\n",
              "        EXEC_MIME_TYPE\n",
              "      );\n",
              "      this.keyboard_manager.register_events(toinsert);\n",
              "      // Render to node\n",
              "      const props = {data: data, metadata: metadata[EXEC_MIME_TYPE]};\n",
              "      render(props, toinsert[toinsert.length - 1]);\n",
              "      element.append(toinsert);\n",
              "      return toinsert\n",
              "    }\n",
              "\n",
              "    /* Handle when an output is cleared or removed */\n",
              "    events.on('clear_output.CodeCell', handleClearOutput);\n",
              "    events.on('delete.Cell', handleClearOutput);\n",
              "\n",
              "    /* Handle when a new output is added */\n",
              "    events.on('output_added.OutputArea', handleAddOutput);\n",
              "\n",
              "    /**\n",
              "     * Register the mime type and append_mime function with output_area\n",
              "     */\n",
              "    OutputArea.prototype.register_mime_type(EXEC_MIME_TYPE, append_mime, {\n",
              "      /* Is output safe? */\n",
              "      safe: true,\n",
              "      /* Index of renderer in `output_area.display_order` */\n",
              "      index: 0\n",
              "    });\n",
              "  }\n",
              "\n",
              "  // register the mime type if in Jupyter Notebook environment and previously unregistered\n",
              "  if (root.Jupyter !== undefined) {\n",
              "    const events = require('base/js/events');\n",
              "    const OutputArea = require('notebook/js/outputarea').OutputArea;\n",
              "\n",
              "    if (OutputArea.prototype.mime_types().indexOf(EXEC_MIME_TYPE) == -1) {\n",
              "      register_renderer(events, OutputArea);\n",
              "    }\n",
              "  }\n",
              "  if (typeof (root._bokeh_timeout) === \"undefined\" || force === true) {\n",
              "    root._bokeh_timeout = Date.now() + 5000;\n",
              "    root._bokeh_failed_load = false;\n",
              "  }\n",
              "\n",
              "  const NB_LOAD_WARNING = {'data': {'text/html':\n",
              "     \"<div style='background-color: #fdd'>\\n\"+\n",
              "     \"<p>\\n\"+\n",
              "     \"BokehJS does not appear to have successfully loaded. If loading BokehJS from CDN, this \\n\"+\n",
              "     \"may be due to a slow or bad network connection. Possible fixes:\\n\"+\n",
              "     \"</p>\\n\"+\n",
              "     \"<ul>\\n\"+\n",
              "     \"<li>re-rerun `output_notebook()` to attempt to load from CDN again, or</li>\\n\"+\n",
              "     \"<li>use INLINE resources instead, as so:</li>\\n\"+\n",
              "     \"</ul>\\n\"+\n",
              "     \"<code>\\n\"+\n",
              "     \"from bokeh.resources import INLINE\\n\"+\n",
              "     \"output_notebook(resources=INLINE)\\n\"+\n",
              "     \"</code>\\n\"+\n",
              "     \"</div>\"}};\n",
              "\n",
              "  function display_loaded() {\n",
              "    const el = document.getElementById(null);\n",
              "    if (el != null) {\n",
              "      el.textContent = \"BokehJS is loading...\";\n",
              "    }\n",
              "    if (root.Bokeh !== undefined) {\n",
              "      if (el != null) {\n",
              "        el.textContent = \"BokehJS \" + root.Bokeh.version + \" successfully loaded.\";\n",
              "      }\n",
              "    } else if (Date.now() < root._bokeh_timeout) {\n",
              "      setTimeout(display_loaded, 100)\n",
              "    }\n",
              "  }\n",
              "\n",
              "  function run_callbacks() {\n",
              "    try {\n",
              "      root._bokeh_onload_callbacks.forEach(function(callback) {\n",
              "        if (callback != null)\n",
              "          callback();\n",
              "      });\n",
              "    } finally {\n",
              "      delete root._bokeh_onload_callbacks\n",
              "    }\n",
              "    console.debug(\"Bokeh: all callbacks have finished\");\n",
              "  }\n",
              "\n",
              "  function load_libs(css_urls, js_urls, callback) {\n",
              "    if (css_urls == null) css_urls = [];\n",
              "    if (js_urls == null) js_urls = [];\n",
              "\n",
              "    root._bokeh_onload_callbacks.push(callback);\n",
              "    if (root._bokeh_is_loading > 0) {\n",
              "      console.debug(\"Bokeh: BokehJS is being loaded, scheduling callback at\", now());\n",
              "      return null;\n",
              "    }\n",
              "    if (js_urls == null || js_urls.length === 0) {\n",
              "      run_callbacks();\n",
              "      return null;\n",
              "    }\n",
              "    console.debug(\"Bokeh: BokehJS not loaded, scheduling load and callback at\", now());\n",
              "    root._bokeh_is_loading = css_urls.length + js_urls.length;\n",
              "\n",
              "    function on_load() {\n",
              "      root._bokeh_is_loading--;\n",
              "      if (root._bokeh_is_loading === 0) {\n",
              "        console.debug(\"Bokeh: all BokehJS libraries/stylesheets loaded\");\n",
              "        run_callbacks()\n",
              "      }\n",
              "    }\n",
              "\n",
              "    function on_error(url) {\n",
              "      console.error(\"failed to load \" + url);\n",
              "    }\n",
              "\n",
              "    for (let i = 0; i < css_urls.length; i++) {\n",
              "      const url = css_urls[i];\n",
              "      const element = document.createElement(\"link\");\n",
              "      element.onload = on_load;\n",
              "      element.onerror = on_error.bind(null, url);\n",
              "      element.rel = \"stylesheet\";\n",
              "      element.type = \"text/css\";\n",
              "      element.href = url;\n",
              "      console.debug(\"Bokeh: injecting link tag for BokehJS stylesheet: \", url);\n",
              "      document.body.appendChild(element);\n",
              "    }\n",
              "\n",
              "    for (let i = 0; i < js_urls.length; i++) {\n",
              "      const url = js_urls[i];\n",
              "      const element = document.createElement('script');\n",
              "      element.onload = on_load;\n",
              "      element.onerror = on_error.bind(null, url);\n",
              "      element.async = false;\n",
              "      element.src = url;\n",
              "      console.debug(\"Bokeh: injecting script tag for BokehJS library: \", url);\n",
              "      document.head.appendChild(element);\n",
              "    }\n",
              "  };\n",
              "\n",
              "  function inject_raw_css(css) {\n",
              "    const element = document.createElement(\"style\");\n",
              "    element.appendChild(document.createTextNode(css));\n",
              "    document.body.appendChild(element);\n",
              "  }\n",
              "\n",
              "  const js_urls = [\"https://cdn.bokeh.org/bokeh/release/bokeh-3.2.2.min.js\", \"https://cdn.bokeh.org/bokeh/release/bokeh-gl-3.2.2.min.js\", \"https://cdn.bokeh.org/bokeh/release/bokeh-widgets-3.2.2.min.js\", \"https://cdn.bokeh.org/bokeh/release/bokeh-tables-3.2.2.min.js\", \"https://cdn.bokeh.org/bokeh/release/bokeh-mathjax-3.2.2.min.js\"];\n",
              "  const css_urls = [];\n",
              "\n",
              "  const inline_js = [    function(Bokeh) {\n",
              "      Bokeh.set_log_level(\"info\");\n",
              "    },\n",
              "function(Bokeh) {\n",
              "    }\n",
              "  ];\n",
              "\n",
              "  function run_inline_js() {\n",
              "    if (root.Bokeh !== undefined || force === true) {\n",
              "          for (let i = 0; i < inline_js.length; i++) {\n",
              "      inline_js[i].call(root, root.Bokeh);\n",
              "    }\n",
              "} else if (Date.now() < root._bokeh_timeout) {\n",
              "      setTimeout(run_inline_js, 100);\n",
              "    } else if (!root._bokeh_failed_load) {\n",
              "      console.log(\"Bokeh: BokehJS failed to load within specified timeout.\");\n",
              "      root._bokeh_failed_load = true;\n",
              "    } else if (force !== true) {\n",
              "      const cell = $(document.getElementById(null)).parents('.cell').data().cell;\n",
              "      cell.output_area.append_execute_result(NB_LOAD_WARNING)\n",
              "    }\n",
              "  }\n",
              "\n",
              "  if (root._bokeh_is_loading === 0) {\n",
              "    console.debug(\"Bokeh: BokehJS loaded, going straight to plotting\");\n",
              "    run_inline_js();\n",
              "  } else {\n",
              "    load_libs(css_urls, js_urls, function() {\n",
              "      console.debug(\"Bokeh: BokehJS plotting callback run at\", now());\n",
              "      run_inline_js();\n",
              "    });\n",
              "  }\n",
              "}(window));"
            ],
            "application/vnd.bokehjs_load.v0+json": "(function(root) {\n  function now() {\n    return new Date();\n  }\n\n  const force = true;\n\n  if (typeof root._bokeh_onload_callbacks === \"undefined\" || force === true) {\n    root._bokeh_onload_callbacks = [];\n    root._bokeh_is_loading = undefined;\n  }\n\n\n  if (typeof (root._bokeh_timeout) === \"undefined\" || force === true) {\n    root._bokeh_timeout = Date.now() + 5000;\n    root._bokeh_failed_load = false;\n  }\n\n  const NB_LOAD_WARNING = {'data': {'text/html':\n     \"<div style='background-color: #fdd'>\\n\"+\n     \"<p>\\n\"+\n     \"BokehJS does not appear to have successfully loaded. If loading BokehJS from CDN, this \\n\"+\n     \"may be due to a slow or bad network connection. Possible fixes:\\n\"+\n     \"</p>\\n\"+\n     \"<ul>\\n\"+\n     \"<li>re-rerun `output_notebook()` to attempt to load from CDN again, or</li>\\n\"+\n     \"<li>use INLINE resources instead, as so:</li>\\n\"+\n     \"</ul>\\n\"+\n     \"<code>\\n\"+\n     \"from bokeh.resources import INLINE\\n\"+\n     \"output_notebook(resources=INLINE)\\n\"+\n     \"</code>\\n\"+\n     \"</div>\"}};\n\n  function display_loaded() {\n    const el = document.getElementById(null);\n    if (el != null) {\n      el.textContent = \"BokehJS is loading...\";\n    }\n    if (root.Bokeh !== undefined) {\n      if (el != null) {\n        el.textContent = \"BokehJS \" + root.Bokeh.version + \" successfully loaded.\";\n      }\n    } else if (Date.now() < root._bokeh_timeout) {\n      setTimeout(display_loaded, 100)\n    }\n  }\n\n  function run_callbacks() {\n    try {\n      root._bokeh_onload_callbacks.forEach(function(callback) {\n        if (callback != null)\n          callback();\n      });\n    } finally {\n      delete root._bokeh_onload_callbacks\n    }\n    console.debug(\"Bokeh: all callbacks have finished\");\n  }\n\n  function load_libs(css_urls, js_urls, callback) {\n    if (css_urls == null) css_urls = [];\n    if (js_urls == null) js_urls = [];\n\n    root._bokeh_onload_callbacks.push(callback);\n    if (root._bokeh_is_loading > 0) {\n      console.debug(\"Bokeh: BokehJS is being loaded, scheduling callback at\", now());\n      return null;\n    }\n    if (js_urls == null || js_urls.length === 0) {\n      run_callbacks();\n      return null;\n    }\n    console.debug(\"Bokeh: BokehJS not loaded, scheduling load and callback at\", now());\n    root._bokeh_is_loading = css_urls.length + js_urls.length;\n\n    function on_load() {\n      root._bokeh_is_loading--;\n      if (root._bokeh_is_loading === 0) {\n        console.debug(\"Bokeh: all BokehJS libraries/stylesheets loaded\");\n        run_callbacks()\n      }\n    }\n\n    function on_error(url) {\n      console.error(\"failed to load \" + url);\n    }\n\n    for (let i = 0; i < css_urls.length; i++) {\n      const url = css_urls[i];\n      const element = document.createElement(\"link\");\n      element.onload = on_load;\n      element.onerror = on_error.bind(null, url);\n      element.rel = \"stylesheet\";\n      element.type = \"text/css\";\n      element.href = url;\n      console.debug(\"Bokeh: injecting link tag for BokehJS stylesheet: \", url);\n      document.body.appendChild(element);\n    }\n\n    for (let i = 0; i < js_urls.length; i++) {\n      const url = js_urls[i];\n      const element = document.createElement('script');\n      element.onload = on_load;\n      element.onerror = on_error.bind(null, url);\n      element.async = false;\n      element.src = url;\n      console.debug(\"Bokeh: injecting script tag for BokehJS library: \", url);\n      document.head.appendChild(element);\n    }\n  };\n\n  function inject_raw_css(css) {\n    const element = document.createElement(\"style\");\n    element.appendChild(document.createTextNode(css));\n    document.body.appendChild(element);\n  }\n\n  const js_urls = [\"https://cdn.bokeh.org/bokeh/release/bokeh-3.2.2.min.js\", \"https://cdn.bokeh.org/bokeh/release/bokeh-gl-3.2.2.min.js\", \"https://cdn.bokeh.org/bokeh/release/bokeh-widgets-3.2.2.min.js\", \"https://cdn.bokeh.org/bokeh/release/bokeh-tables-3.2.2.min.js\", \"https://cdn.bokeh.org/bokeh/release/bokeh-mathjax-3.2.2.min.js\"];\n  const css_urls = [];\n\n  const inline_js = [    function(Bokeh) {\n      Bokeh.set_log_level(\"info\");\n    },\nfunction(Bokeh) {\n    }\n  ];\n\n  function run_inline_js() {\n    if (root.Bokeh !== undefined || force === true) {\n          for (let i = 0; i < inline_js.length; i++) {\n      inline_js[i].call(root, root.Bokeh);\n    }\n} else if (Date.now() < root._bokeh_timeout) {\n      setTimeout(run_inline_js, 100);\n    } else if (!root._bokeh_failed_load) {\n      console.log(\"Bokeh: BokehJS failed to load within specified timeout.\");\n      root._bokeh_failed_load = true;\n    } else if (force !== true) {\n      const cell = $(document.getElementById(null)).parents('.cell').data().cell;\n      cell.output_area.append_execute_result(NB_LOAD_WARNING)\n    }\n  }\n\n  if (root._bokeh_is_loading === 0) {\n    console.debug(\"Bokeh: BokehJS loaded, going straight to plotting\");\n    run_inline_js();\n  } else {\n    load_libs(css_urls, js_urls, function() {\n      console.debug(\"Bokeh: BokehJS plotting callback run at\", now());\n      run_inline_js();\n    });\n  }\n}(window));"
          },
          "metadata": {}
        },
        {
          "output_type": "display_data",
          "data": {
            "text/html": [
              "\n",
              "  <div id=\"db7055e5-05ac-430d-83af-ac21ff6eebfd\" data-root-id=\"p1001\" style=\"display: contents;\"></div>\n"
            ]
          },
          "metadata": {}
        },
        {
          "output_type": "display_data",
          "data": {
            "application/javascript": [
              "(function(root) {\n",
              "  function embed_document(root) {\n",
              "  const docs_json = {\"0bf1cb0a-a41c-4b87-850a-efe12f64fd25\":{\"version\":\"3.2.2\",\"title\":\"Bokeh Application\",\"roots\":[{\"type\":\"object\",\"name\":\"Figure\",\"id\":\"p1001\",\"attributes\":{\"width\":400,\"height\":400,\"x_range\":{\"type\":\"object\",\"name\":\"DataRange1d\",\"id\":\"p1002\"},\"y_range\":{\"type\":\"object\",\"name\":\"DataRange1d\",\"id\":\"p1003\"},\"x_scale\":{\"type\":\"object\",\"name\":\"LinearScale\",\"id\":\"p1011\"},\"y_scale\":{\"type\":\"object\",\"name\":\"LinearScale\",\"id\":\"p1012\"},\"title\":{\"type\":\"object\",\"name\":\"Title\",\"id\":\"p1004\",\"attributes\":{\"text\":\"My Plot\"}},\"renderers\":[{\"type\":\"object\",\"name\":\"GlyphRenderer\",\"id\":\"p1036\",\"attributes\":{\"data_source\":{\"type\":\"object\",\"name\":\"ColumnDataSource\",\"id\":\"p1030\",\"attributes\":{\"selected\":{\"type\":\"object\",\"name\":\"Selection\",\"id\":\"p1031\",\"attributes\":{\"indices\":[],\"line_indices\":[]}},\"selection_policy\":{\"type\":\"object\",\"name\":\"UnionRenderers\",\"id\":\"p1032\"},\"data\":{\"type\":\"map\",\"entries\":[[\"x\",[1,2,3,4,5]],[\"y\",[5,4,3,2,1]]]}}},\"view\":{\"type\":\"object\",\"name\":\"CDSView\",\"id\":\"p1037\",\"attributes\":{\"filter\":{\"type\":\"object\",\"name\":\"AllIndices\",\"id\":\"p1038\"}}},\"glyph\":{\"type\":\"object\",\"name\":\"Line\",\"id\":\"p1033\",\"attributes\":{\"x\":{\"type\":\"field\",\"field\":\"x\"},\"y\":{\"type\":\"field\",\"field\":\"y\"},\"line_color\":\"#1f77b4\",\"line_width\":2}},\"nonselection_glyph\":{\"type\":\"object\",\"name\":\"Line\",\"id\":\"p1034\",\"attributes\":{\"x\":{\"type\":\"field\",\"field\":\"x\"},\"y\":{\"type\":\"field\",\"field\":\"y\"},\"line_color\":\"#1f77b4\",\"line_alpha\":0.1,\"line_width\":2}},\"muted_glyph\":{\"type\":\"object\",\"name\":\"Line\",\"id\":\"p1035\",\"attributes\":{\"x\":{\"type\":\"field\",\"field\":\"x\"},\"y\":{\"type\":\"field\",\"field\":\"y\"},\"line_color\":\"#1f77b4\",\"line_alpha\":0.2,\"line_width\":2}}}}],\"toolbar\":{\"type\":\"object\",\"name\":\"Toolbar\",\"id\":\"p1010\",\"attributes\":{\"tools\":[{\"type\":\"object\",\"name\":\"PanTool\",\"id\":\"p1023\"},{\"type\":\"object\",\"name\":\"WheelZoomTool\",\"id\":\"p1024\"},{\"type\":\"object\",\"name\":\"BoxZoomTool\",\"id\":\"p1025\",\"attributes\":{\"overlay\":{\"type\":\"object\",\"name\":\"BoxAnnotation\",\"id\":\"p1026\",\"attributes\":{\"syncable\":false,\"level\":\"overlay\",\"visible\":false,\"left_units\":\"canvas\",\"right_units\":\"canvas\",\"bottom_units\":\"canvas\",\"top_units\":\"canvas\",\"line_color\":\"black\",\"line_alpha\":1.0,\"line_width\":2,\"line_dash\":[4,4],\"fill_color\":\"lightgrey\",\"fill_alpha\":0.5}}}},{\"type\":\"object\",\"name\":\"SaveTool\",\"id\":\"p1027\"},{\"type\":\"object\",\"name\":\"ResetTool\",\"id\":\"p1028\"},{\"type\":\"object\",\"name\":\"HelpTool\",\"id\":\"p1029\"}]}},\"left\":[{\"type\":\"object\",\"name\":\"LinearAxis\",\"id\":\"p1018\",\"attributes\":{\"ticker\":{\"type\":\"object\",\"name\":\"BasicTicker\",\"id\":\"p1019\",\"attributes\":{\"mantissas\":[1,2,5]}},\"formatter\":{\"type\":\"object\",\"name\":\"BasicTickFormatter\",\"id\":\"p1020\"},\"axis_label\":\"Y\",\"major_label_policy\":{\"type\":\"object\",\"name\":\"AllLabels\",\"id\":\"p1021\"}}}],\"below\":[{\"type\":\"object\",\"name\":\"LinearAxis\",\"id\":\"p1013\",\"attributes\":{\"ticker\":{\"type\":\"object\",\"name\":\"BasicTicker\",\"id\":\"p1014\",\"attributes\":{\"mantissas\":[1,2,5]}},\"formatter\":{\"type\":\"object\",\"name\":\"BasicTickFormatter\",\"id\":\"p1015\"},\"axis_label\":\"X\",\"major_label_policy\":{\"type\":\"object\",\"name\":\"AllLabels\",\"id\":\"p1016\"}}}],\"center\":[{\"type\":\"object\",\"name\":\"Grid\",\"id\":\"p1017\",\"attributes\":{\"axis\":{\"id\":\"p1013\"}}},{\"type\":\"object\",\"name\":\"Grid\",\"id\":\"p1022\",\"attributes\":{\"dimension\":1,\"axis\":{\"id\":\"p1018\"}}}]}}]}};\n",
              "  const render_items = [{\"docid\":\"0bf1cb0a-a41c-4b87-850a-efe12f64fd25\",\"roots\":{\"p1001\":\"db7055e5-05ac-430d-83af-ac21ff6eebfd\"},\"root_ids\":[\"p1001\"]}];\n",
              "  root.Bokeh.embed.embed_items_notebook(docs_json, render_items);\n",
              "  }\n",
              "  if (root.Bokeh !== undefined) {\n",
              "    embed_document(root);\n",
              "  } else {\n",
              "    let attempts = 0;\n",
              "    const timer = setInterval(function(root) {\n",
              "      if (root.Bokeh !== undefined) {\n",
              "        clearInterval(timer);\n",
              "        embed_document(root);\n",
              "      } else {\n",
              "        attempts++;\n",
              "        if (attempts > 100) {\n",
              "          clearInterval(timer);\n",
              "          console.log(\"Bokeh: ERROR: Unable to run BokehJS code because BokehJS library is missing\");\n",
              "        }\n",
              "      }\n",
              "    }, 10, root)\n",
              "  }\n",
              "})(window);"
            ],
            "application/vnd.bokehjs_exec.v0+json": ""
          },
          "metadata": {
            "application/vnd.bokehjs_exec.v0+json": {
              "id": "p1001"
            }
          }
        }
      ]
    },
    {
      "cell_type": "markdown",
      "source": [
        "Output :-\n",
        "\n",
        "![bokeh_plot.png](data:image/png;base64,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)"
      ],
      "metadata": {
        "id": "hiDS0wj_eVbo"
      }
    },
    {
      "cell_type": "markdown",
      "source": [
        "**Q2. What are glyphs in Bokeh, and how can you add them to a Bokeh plot? Explain with an example.**"
      ],
      "metadata": {
        "id": "m3l2LhOteh36"
      }
    },
    {
      "cell_type": "markdown",
      "source": [
        "Glyphs are the basic building blocks of visualizations in Bokeh. A glyph is a visual shape or marker that represents data points. Bokeh provides a wide range of glyphs, including lines, circles, squares, triangles, and more.\n",
        "\n",
        "To add glyphs to a Bokeh plot, you can use the glyph methods provided by the figure object. These methods take arrays of data for the x and y coordinates, as well as any additional attributes or properties that you want to set for the glyph.\n",
        "\n",
        "Here's an example of how to add glyphs to a Bokeh plot:"
      ],
      "metadata": {
        "id": "2IAbtlB8ekDM"
      }
    },
    {
      "cell_type": "code",
      "source": [
        "import bokeh.io\n",
        "import bokeh.plotting\n",
        "from bokeh.plotting import figure, output_file, show\n",
        "\n",
        "# Showing output inside notebook\n",
        "bokeh.io.output_notebook()\n",
        "\n",
        "# Prepare the data\n",
        "x = [1, 2, 3, 4, 5]\n",
        "y = [1, 4, 9, 16, 25]\n",
        "\n",
        "# Create a figure\n",
        "p = figure(title=\"My Plot\", width=400, height=400, x_axis_label=\"X\", y_axis_label=\"Y\")\n",
        "\n",
        "# Add a circle glyph\n",
        "p.circle(x, y, size=10, color=\"red\", alpha=0.5)\n",
        "\n",
        "# Add a line glyph\n",
        "p.line(x, y, line_width=2, color=\"blue\")\n",
        "\n",
        "#Display the plot\n",
        "show(p)"
      ],
      "metadata": {
        "colab": {
          "base_uri": "https://localhost:8080/",
          "height": 417
        },
        "id": "QEQ7JBXfep4B",
        "outputId": "c23032a1-69cb-4aa0-f1b3-1d7a64120e4a"
      },
      "execution_count": 8,
      "outputs": [
        {
          "output_type": "display_data",
          "data": {
            "application/javascript": [
              "(function(root) {\n",
              "  function now() {\n",
              "    return new Date();\n",
              "  }\n",
              "\n",
              "  const force = true;\n",
              "\n",
              "  if (typeof root._bokeh_onload_callbacks === \"undefined\" || force === true) {\n",
              "    root._bokeh_onload_callbacks = [];\n",
              "    root._bokeh_is_loading = undefined;\n",
              "  }\n",
              "\n",
              "const JS_MIME_TYPE = 'application/javascript';\n",
              "  const HTML_MIME_TYPE = 'text/html';\n",
              "  const EXEC_MIME_TYPE = 'application/vnd.bokehjs_exec.v0+json';\n",
              "  const CLASS_NAME = 'output_bokeh rendered_html';\n",
              "\n",
              "  /**\n",
              "   * Render data to the DOM node\n",
              "   */\n",
              "  function render(props, node) {\n",
              "    const script = document.createElement(\"script\");\n",
              "    node.appendChild(script);\n",
              "  }\n",
              "\n",
              "  /**\n",
              "   * Handle when an output is cleared or removed\n",
              "   */\n",
              "  function handleClearOutput(event, handle) {\n",
              "    const cell = handle.cell;\n",
              "\n",
              "    const id = cell.output_area._bokeh_element_id;\n",
              "    const server_id = cell.output_area._bokeh_server_id;\n",
              "    // Clean up Bokeh references\n",
              "    if (id != null && id in Bokeh.index) {\n",
              "      Bokeh.index[id].model.document.clear();\n",
              "      delete Bokeh.index[id];\n",
              "    }\n",
              "\n",
              "    if (server_id !== undefined) {\n",
              "      // Clean up Bokeh references\n",
              "      const cmd_clean = \"from bokeh.io.state import curstate; print(curstate().uuid_to_server['\" + server_id + \"'].get_sessions()[0].document.roots[0]._id)\";\n",
              "      cell.notebook.kernel.execute(cmd_clean, {\n",
              "        iopub: {\n",
              "          output: function(msg) {\n",
              "            const id = msg.content.text.trim();\n",
              "            if (id in Bokeh.index) {\n",
              "              Bokeh.index[id].model.document.clear();\n",
              "              delete Bokeh.index[id];\n",
              "            }\n",
              "          }\n",
              "        }\n",
              "      });\n",
              "      // Destroy server and session\n",
              "      const cmd_destroy = \"import bokeh.io.notebook as ion; ion.destroy_server('\" + server_id + \"')\";\n",
              "      cell.notebook.kernel.execute(cmd_destroy);\n",
              "    }\n",
              "  }\n",
              "\n",
              "  /**\n",
              "   * Handle when a new output is added\n",
              "   */\n",
              "  function handleAddOutput(event, handle) {\n",
              "    const output_area = handle.output_area;\n",
              "    const output = handle.output;\n",
              "\n",
              "    // limit handleAddOutput to display_data with EXEC_MIME_TYPE content only\n",
              "    if ((output.output_type != \"display_data\") || (!Object.prototype.hasOwnProperty.call(output.data, EXEC_MIME_TYPE))) {\n",
              "      return\n",
              "    }\n",
              "\n",
              "    const toinsert = output_area.element.find(\".\" + CLASS_NAME.split(' ')[0]);\n",
              "\n",
              "    if (output.metadata[EXEC_MIME_TYPE][\"id\"] !== undefined) {\n",
              "      toinsert[toinsert.length - 1].firstChild.textContent = output.data[JS_MIME_TYPE];\n",
              "      // store reference to embed id on output_area\n",
              "      output_area._bokeh_element_id = output.metadata[EXEC_MIME_TYPE][\"id\"];\n",
              "    }\n",
              "    if (output.metadata[EXEC_MIME_TYPE][\"server_id\"] !== undefined) {\n",
              "      const bk_div = document.createElement(\"div\");\n",
              "      bk_div.innerHTML = output.data[HTML_MIME_TYPE];\n",
              "      const script_attrs = bk_div.children[0].attributes;\n",
              "      for (let i = 0; i < script_attrs.length; i++) {\n",
              "        toinsert[toinsert.length - 1].firstChild.setAttribute(script_attrs[i].name, script_attrs[i].value);\n",
              "        toinsert[toinsert.length - 1].firstChild.textContent = bk_div.children[0].textContent\n",
              "      }\n",
              "      // store reference to server id on output_area\n",
              "      output_area._bokeh_server_id = output.metadata[EXEC_MIME_TYPE][\"server_id\"];\n",
              "    }\n",
              "  }\n",
              "\n",
              "  function register_renderer(events, OutputArea) {\n",
              "\n",
              "    function append_mime(data, metadata, element) {\n",
              "      // create a DOM node to render to\n",
              "      const toinsert = this.create_output_subarea(\n",
              "        metadata,\n",
              "        CLASS_NAME,\n",
              "        EXEC_MIME_TYPE\n",
              "      );\n",
              "      this.keyboard_manager.register_events(toinsert);\n",
              "      // Render to node\n",
              "      const props = {data: data, metadata: metadata[EXEC_MIME_TYPE]};\n",
              "      render(props, toinsert[toinsert.length - 1]);\n",
              "      element.append(toinsert);\n",
              "      return toinsert\n",
              "    }\n",
              "\n",
              "    /* Handle when an output is cleared or removed */\n",
              "    events.on('clear_output.CodeCell', handleClearOutput);\n",
              "    events.on('delete.Cell', handleClearOutput);\n",
              "\n",
              "    /* Handle when a new output is added */\n",
              "    events.on('output_added.OutputArea', handleAddOutput);\n",
              "\n",
              "    /**\n",
              "     * Register the mime type and append_mime function with output_area\n",
              "     */\n",
              "    OutputArea.prototype.register_mime_type(EXEC_MIME_TYPE, append_mime, {\n",
              "      /* Is output safe? */\n",
              "      safe: true,\n",
              "      /* Index of renderer in `output_area.display_order` */\n",
              "      index: 0\n",
              "    });\n",
              "  }\n",
              "\n",
              "  // register the mime type if in Jupyter Notebook environment and previously unregistered\n",
              "  if (root.Jupyter !== undefined) {\n",
              "    const events = require('base/js/events');\n",
              "    const OutputArea = require('notebook/js/outputarea').OutputArea;\n",
              "\n",
              "    if (OutputArea.prototype.mime_types().indexOf(EXEC_MIME_TYPE) == -1) {\n",
              "      register_renderer(events, OutputArea);\n",
              "    }\n",
              "  }\n",
              "  if (typeof (root._bokeh_timeout) === \"undefined\" || force === true) {\n",
              "    root._bokeh_timeout = Date.now() + 5000;\n",
              "    root._bokeh_failed_load = false;\n",
              "  }\n",
              "\n",
              "  const NB_LOAD_WARNING = {'data': {'text/html':\n",
              "     \"<div style='background-color: #fdd'>\\n\"+\n",
              "     \"<p>\\n\"+\n",
              "     \"BokehJS does not appear to have successfully loaded. If loading BokehJS from CDN, this \\n\"+\n",
              "     \"may be due to a slow or bad network connection. Possible fixes:\\n\"+\n",
              "     \"</p>\\n\"+\n",
              "     \"<ul>\\n\"+\n",
              "     \"<li>re-rerun `output_notebook()` to attempt to load from CDN again, or</li>\\n\"+\n",
              "     \"<li>use INLINE resources instead, as so:</li>\\n\"+\n",
              "     \"</ul>\\n\"+\n",
              "     \"<code>\\n\"+\n",
              "     \"from bokeh.resources import INLINE\\n\"+\n",
              "     \"output_notebook(resources=INLINE)\\n\"+\n",
              "     \"</code>\\n\"+\n",
              "     \"</div>\"}};\n",
              "\n",
              "  function display_loaded() {\n",
              "    const el = document.getElementById(null);\n",
              "    if (el != null) {\n",
              "      el.textContent = \"BokehJS is loading...\";\n",
              "    }\n",
              "    if (root.Bokeh !== undefined) {\n",
              "      if (el != null) {\n",
              "        el.textContent = \"BokehJS \" + root.Bokeh.version + \" successfully loaded.\";\n",
              "      }\n",
              "    } else if (Date.now() < root._bokeh_timeout) {\n",
              "      setTimeout(display_loaded, 100)\n",
              "    }\n",
              "  }\n",
              "\n",
              "  function run_callbacks() {\n",
              "    try {\n",
              "      root._bokeh_onload_callbacks.forEach(function(callback) {\n",
              "        if (callback != null)\n",
              "          callback();\n",
              "      });\n",
              "    } finally {\n",
              "      delete root._bokeh_onload_callbacks\n",
              "    }\n",
              "    console.debug(\"Bokeh: all callbacks have finished\");\n",
              "  }\n",
              "\n",
              "  function load_libs(css_urls, js_urls, callback) {\n",
              "    if (css_urls == null) css_urls = [];\n",
              "    if (js_urls == null) js_urls = [];\n",
              "\n",
              "    root._bokeh_onload_callbacks.push(callback);\n",
              "    if (root._bokeh_is_loading > 0) {\n",
              "      console.debug(\"Bokeh: BokehJS is being loaded, scheduling callback at\", now());\n",
              "      return null;\n",
              "    }\n",
              "    if (js_urls == null || js_urls.length === 0) {\n",
              "      run_callbacks();\n",
              "      return null;\n",
              "    }\n",
              "    console.debug(\"Bokeh: BokehJS not loaded, scheduling load and callback at\", now());\n",
              "    root._bokeh_is_loading = css_urls.length + js_urls.length;\n",
              "\n",
              "    function on_load() {\n",
              "      root._bokeh_is_loading--;\n",
              "      if (root._bokeh_is_loading === 0) {\n",
              "        console.debug(\"Bokeh: all BokehJS libraries/stylesheets loaded\");\n",
              "        run_callbacks()\n",
              "      }\n",
              "    }\n",
              "\n",
              "    function on_error(url) {\n",
              "      console.error(\"failed to load \" + url);\n",
              "    }\n",
              "\n",
              "    for (let i = 0; i < css_urls.length; i++) {\n",
              "      const url = css_urls[i];\n",
              "      const element = document.createElement(\"link\");\n",
              "      element.onload = on_load;\n",
              "      element.onerror = on_error.bind(null, url);\n",
              "      element.rel = \"stylesheet\";\n",
              "      element.type = \"text/css\";\n",
              "      element.href = url;\n",
              "      console.debug(\"Bokeh: injecting link tag for BokehJS stylesheet: \", url);\n",
              "      document.body.appendChild(element);\n",
              "    }\n",
              "\n",
              "    for (let i = 0; i < js_urls.length; i++) {\n",
              "      const url = js_urls[i];\n",
              "      const element = document.createElement('script');\n",
              "      element.onload = on_load;\n",
              "      element.onerror = on_error.bind(null, url);\n",
              "      element.async = false;\n",
              "      element.src = url;\n",
              "      console.debug(\"Bokeh: injecting script tag for BokehJS library: \", url);\n",
              "      document.head.appendChild(element);\n",
              "    }\n",
              "  };\n",
              "\n",
              "  function inject_raw_css(css) {\n",
              "    const element = document.createElement(\"style\");\n",
              "    element.appendChild(document.createTextNode(css));\n",
              "    document.body.appendChild(element);\n",
              "  }\n",
              "\n",
              "  const js_urls = [\"https://cdn.bokeh.org/bokeh/release/bokeh-3.2.2.min.js\", \"https://cdn.bokeh.org/bokeh/release/bokeh-gl-3.2.2.min.js\", \"https://cdn.bokeh.org/bokeh/release/bokeh-widgets-3.2.2.min.js\", \"https://cdn.bokeh.org/bokeh/release/bokeh-tables-3.2.2.min.js\", \"https://cdn.bokeh.org/bokeh/release/bokeh-mathjax-3.2.2.min.js\"];\n",
              "  const css_urls = [];\n",
              "\n",
              "  const inline_js = [    function(Bokeh) {\n",
              "      Bokeh.set_log_level(\"info\");\n",
              "    },\n",
              "function(Bokeh) {\n",
              "    }\n",
              "  ];\n",
              "\n",
              "  function run_inline_js() {\n",
              "    if (root.Bokeh !== undefined || force === true) {\n",
              "          for (let i = 0; i < inline_js.length; i++) {\n",
              "      inline_js[i].call(root, root.Bokeh);\n",
              "    }\n",
              "} else if (Date.now() < root._bokeh_timeout) {\n",
              "      setTimeout(run_inline_js, 100);\n",
              "    } else if (!root._bokeh_failed_load) {\n",
              "      console.log(\"Bokeh: BokehJS failed to load within specified timeout.\");\n",
              "      root._bokeh_failed_load = true;\n",
              "    } else if (force !== true) {\n",
              "      const cell = $(document.getElementById(null)).parents('.cell').data().cell;\n",
              "      cell.output_area.append_execute_result(NB_LOAD_WARNING)\n",
              "    }\n",
              "  }\n",
              "\n",
              "  if (root._bokeh_is_loading === 0) {\n",
              "    console.debug(\"Bokeh: BokehJS loaded, going straight to plotting\");\n",
              "    run_inline_js();\n",
              "  } else {\n",
              "    load_libs(css_urls, js_urls, function() {\n",
              "      console.debug(\"Bokeh: BokehJS plotting callback run at\", now());\n",
              "      run_inline_js();\n",
              "    });\n",
              "  }\n",
              "}(window));"
            ],
            "application/vnd.bokehjs_load.v0+json": "(function(root) {\n  function now() {\n    return new Date();\n  }\n\n  const force = true;\n\n  if (typeof root._bokeh_onload_callbacks === \"undefined\" || force === true) {\n    root._bokeh_onload_callbacks = [];\n    root._bokeh_is_loading = undefined;\n  }\n\n\n  if (typeof (root._bokeh_timeout) === \"undefined\" || force === true) {\n    root._bokeh_timeout = Date.now() + 5000;\n    root._bokeh_failed_load = false;\n  }\n\n  const NB_LOAD_WARNING = {'data': {'text/html':\n     \"<div style='background-color: #fdd'>\\n\"+\n     \"<p>\\n\"+\n     \"BokehJS does not appear to have successfully loaded. If loading BokehJS from CDN, this \\n\"+\n     \"may be due to a slow or bad network connection. Possible fixes:\\n\"+\n     \"</p>\\n\"+\n     \"<ul>\\n\"+\n     \"<li>re-rerun `output_notebook()` to attempt to load from CDN again, or</li>\\n\"+\n     \"<li>use INLINE resources instead, as so:</li>\\n\"+\n     \"</ul>\\n\"+\n     \"<code>\\n\"+\n     \"from bokeh.resources import INLINE\\n\"+\n     \"output_notebook(resources=INLINE)\\n\"+\n     \"</code>\\n\"+\n     \"</div>\"}};\n\n  function display_loaded() {\n    const el = document.getElementById(null);\n    if (el != null) {\n      el.textContent = \"BokehJS is loading...\";\n    }\n    if (root.Bokeh !== undefined) {\n      if (el != null) {\n        el.textContent = \"BokehJS \" + root.Bokeh.version + \" successfully loaded.\";\n      }\n    } else if (Date.now() < root._bokeh_timeout) {\n      setTimeout(display_loaded, 100)\n    }\n  }\n\n  function run_callbacks() {\n    try {\n      root._bokeh_onload_callbacks.forEach(function(callback) {\n        if (callback != null)\n          callback();\n      });\n    } finally {\n      delete root._bokeh_onload_callbacks\n    }\n    console.debug(\"Bokeh: all callbacks have finished\");\n  }\n\n  function load_libs(css_urls, js_urls, callback) {\n    if (css_urls == null) css_urls = [];\n    if (js_urls == null) js_urls = [];\n\n    root._bokeh_onload_callbacks.push(callback);\n    if (root._bokeh_is_loading > 0) {\n      console.debug(\"Bokeh: BokehJS is being loaded, scheduling callback at\", now());\n      return null;\n    }\n    if (js_urls == null || js_urls.length === 0) {\n      run_callbacks();\n      return null;\n    }\n    console.debug(\"Bokeh: BokehJS not loaded, scheduling load and callback at\", now());\n    root._bokeh_is_loading = css_urls.length + js_urls.length;\n\n    function on_load() {\n      root._bokeh_is_loading--;\n      if (root._bokeh_is_loading === 0) {\n        console.debug(\"Bokeh: all BokehJS libraries/stylesheets loaded\");\n        run_callbacks()\n      }\n    }\n\n    function on_error(url) {\n      console.error(\"failed to load \" + url);\n    }\n\n    for (let i = 0; i < css_urls.length; i++) {\n      const url = css_urls[i];\n      const element = document.createElement(\"link\");\n      element.onload = on_load;\n      element.onerror = on_error.bind(null, url);\n      element.rel = \"stylesheet\";\n      element.type = \"text/css\";\n      element.href = url;\n      console.debug(\"Bokeh: injecting link tag for BokehJS stylesheet: \", url);\n      document.body.appendChild(element);\n    }\n\n    for (let i = 0; i < js_urls.length; i++) {\n      const url = js_urls[i];\n      const element = document.createElement('script');\n      element.onload = on_load;\n      element.onerror = on_error.bind(null, url);\n      element.async = false;\n      element.src = url;\n      console.debug(\"Bokeh: injecting script tag for BokehJS library: \", url);\n      document.head.appendChild(element);\n    }\n  };\n\n  function inject_raw_css(css) {\n    const element = document.createElement(\"style\");\n    element.appendChild(document.createTextNode(css));\n    document.body.appendChild(element);\n  }\n\n  const js_urls = [\"https://cdn.bokeh.org/bokeh/release/bokeh-3.2.2.min.js\", \"https://cdn.bokeh.org/bokeh/release/bokeh-gl-3.2.2.min.js\", \"https://cdn.bokeh.org/bokeh/release/bokeh-widgets-3.2.2.min.js\", \"https://cdn.bokeh.org/bokeh/release/bokeh-tables-3.2.2.min.js\", \"https://cdn.bokeh.org/bokeh/release/bokeh-mathjax-3.2.2.min.js\"];\n  const css_urls = [];\n\n  const inline_js = [    function(Bokeh) {\n      Bokeh.set_log_level(\"info\");\n    },\nfunction(Bokeh) {\n    }\n  ];\n\n  function run_inline_js() {\n    if (root.Bokeh !== undefined || force === true) {\n          for (let i = 0; i < inline_js.length; i++) {\n      inline_js[i].call(root, root.Bokeh);\n    }\n} else if (Date.now() < root._bokeh_timeout) {\n      setTimeout(run_inline_js, 100);\n    } else if (!root._bokeh_failed_load) {\n      console.log(\"Bokeh: BokehJS failed to load within specified timeout.\");\n      root._bokeh_failed_load = true;\n    } else if (force !== true) {\n      const cell = $(document.getElementById(null)).parents('.cell').data().cell;\n      cell.output_area.append_execute_result(NB_LOAD_WARNING)\n    }\n  }\n\n  if (root._bokeh_is_loading === 0) {\n    console.debug(\"Bokeh: BokehJS loaded, going straight to plotting\");\n    run_inline_js();\n  } else {\n    load_libs(css_urls, js_urls, function() {\n      console.debug(\"Bokeh: BokehJS plotting callback run at\", now());\n      run_inline_js();\n    });\n  }\n}(window));"
          },
          "metadata": {}
        },
        {
          "output_type": "display_data",
          "data": {
            "text/html": [
              "\n",
              "  <div id=\"c5577b11-9de4-4d4b-8d1c-c6f69db3766c\" data-root-id=\"p1041\" style=\"display: contents;\"></div>\n"
            ]
          },
          "metadata": {}
        },
        {
          "output_type": "display_data",
          "data": {
            "application/javascript": [
              "(function(root) {\n",
              "  function embed_document(root) {\n",
              "  const docs_json = {\"1ae74cd7-22a8-4abe-909c-5f59de2d7358\":{\"version\":\"3.2.2\",\"title\":\"Bokeh Application\",\"roots\":[{\"type\":\"object\",\"name\":\"Figure\",\"id\":\"p1041\",\"attributes\":{\"width\":400,\"height\":400,\"x_range\":{\"type\":\"object\",\"name\":\"DataRange1d\",\"id\":\"p1042\"},\"y_range\":{\"type\":\"object\",\"name\":\"DataRange1d\",\"id\":\"p1043\"},\"x_scale\":{\"type\":\"object\",\"name\":\"LinearScale\",\"id\":\"p1051\"},\"y_scale\":{\"type\":\"object\",\"name\":\"LinearScale\",\"id\":\"p1052\"},\"title\":{\"type\":\"object\",\"name\":\"Title\",\"id\":\"p1044\",\"attributes\":{\"text\":\"My Plot\"}},\"renderers\":[{\"type\":\"object\",\"name\":\"GlyphRenderer\",\"id\":\"p1076\",\"attributes\":{\"data_source\":{\"type\":\"object\",\"name\":\"ColumnDataSource\",\"id\":\"p1070\",\"attributes\":{\"selected\":{\"type\":\"object\",\"name\":\"Selection\",\"id\":\"p1071\",\"attributes\":{\"indices\":[],\"line_indices\":[]}},\"selection_policy\":{\"type\":\"object\",\"name\":\"UnionRenderers\",\"id\":\"p1072\"},\"data\":{\"type\":\"map\",\"entries\":[[\"x\",[1,2,3,4,5]],[\"y\",[1,4,9,16,25]]]}}},\"view\":{\"type\":\"object\",\"name\":\"CDSView\",\"id\":\"p1077\",\"attributes\":{\"filter\":{\"type\":\"object\",\"name\":\"AllIndices\",\"id\":\"p1078\"}}},\"glyph\":{\"type\":\"object\",\"name\":\"Circle\",\"id\":\"p1073\",\"attributes\":{\"x\":{\"type\":\"field\",\"field\":\"x\"},\"y\":{\"type\":\"field\",\"field\":\"y\"},\"size\":{\"type\":\"value\",\"value\":10},\"line_color\":{\"type\":\"value\",\"value\":\"red\"},\"line_alpha\":{\"type\":\"value\",\"value\":0.5},\"fill_color\":{\"type\":\"value\",\"value\":\"red\"},\"fill_alpha\":{\"type\":\"value\",\"value\":0.5},\"hatch_color\":{\"type\":\"value\",\"value\":\"red\"},\"hatch_alpha\":{\"type\":\"value\",\"value\":0.5}}},\"nonselection_glyph\":{\"type\":\"object\",\"name\":\"Circle\",\"id\":\"p1074\",\"attributes\":{\"x\":{\"type\":\"field\",\"field\":\"x\"},\"y\":{\"type\":\"field\",\"field\":\"y\"},\"size\":{\"type\":\"value\",\"value\":10},\"line_color\":{\"type\":\"value\",\"value\":\"red\"},\"line_alpha\":{\"type\":\"value\",\"value\":0.1},\"fill_color\":{\"type\":\"value\",\"value\":\"red\"},\"fill_alpha\":{\"type\":\"value\",\"value\":0.1},\"hatch_color\":{\"type\":\"value\",\"value\":\"red\"},\"hatch_alpha\":{\"type\":\"value\",\"value\":0.1}}},\"muted_glyph\":{\"type\":\"object\",\"name\":\"Circle\",\"id\":\"p1075\",\"attributes\":{\"x\":{\"type\":\"field\",\"field\":\"x\"},\"y\":{\"type\":\"field\",\"field\":\"y\"},\"size\":{\"type\":\"value\",\"value\":10},\"line_color\":{\"type\":\"value\",\"value\":\"red\"},\"line_alpha\":{\"type\":\"value\",\"value\":0.2},\"fill_color\":{\"type\":\"value\",\"value\":\"red\"},\"fill_alpha\":{\"type\":\"value\",\"value\":0.2},\"hatch_color\":{\"type\":\"value\",\"value\":\"red\"},\"hatch_alpha\":{\"type\":\"value\",\"value\":0.2}}}}},{\"type\":\"object\",\"name\":\"GlyphRenderer\",\"id\":\"p1085\",\"attributes\":{\"data_source\":{\"type\":\"object\",\"name\":\"ColumnDataSource\",\"id\":\"p1079\",\"attributes\":{\"selected\":{\"type\":\"object\",\"name\":\"Selection\",\"id\":\"p1080\",\"attributes\":{\"indices\":[],\"line_indices\":[]}},\"selection_policy\":{\"type\":\"object\",\"name\":\"UnionRenderers\",\"id\":\"p1081\"},\"data\":{\"type\":\"map\",\"entries\":[[\"x\",[1,2,3,4,5]],[\"y\",[1,4,9,16,25]]]}}},\"view\":{\"type\":\"object\",\"name\":\"CDSView\",\"id\":\"p1086\",\"attributes\":{\"filter\":{\"type\":\"object\",\"name\":\"AllIndices\",\"id\":\"p1087\"}}},\"glyph\":{\"type\":\"object\",\"name\":\"Line\",\"id\":\"p1082\",\"attributes\":{\"x\":{\"type\":\"field\",\"field\":\"x\"},\"y\":{\"type\":\"field\",\"field\":\"y\"},\"line_color\":\"blue\",\"line_width\":2}},\"nonselection_glyph\":{\"type\":\"object\",\"name\":\"Line\",\"id\":\"p1083\",\"attributes\":{\"x\":{\"type\":\"field\",\"field\":\"x\"},\"y\":{\"type\":\"field\",\"field\":\"y\"},\"line_color\":\"blue\",\"line_alpha\":0.1,\"line_width\":2}},\"muted_glyph\":{\"type\":\"object\",\"name\":\"Line\",\"id\":\"p1084\",\"attributes\":{\"x\":{\"type\":\"field\",\"field\":\"x\"},\"y\":{\"type\":\"field\",\"field\":\"y\"},\"line_color\":\"blue\",\"line_alpha\":0.2,\"line_width\":2}}}}],\"toolbar\":{\"type\":\"object\",\"name\":\"Toolbar\",\"id\":\"p1050\",\"attributes\":{\"tools\":[{\"type\":\"object\",\"name\":\"PanTool\",\"id\":\"p1063\"},{\"type\":\"object\",\"name\":\"WheelZoomTool\",\"id\":\"p1064\"},{\"type\":\"object\",\"name\":\"BoxZoomTool\",\"id\":\"p1065\",\"attributes\":{\"overlay\":{\"type\":\"object\",\"name\":\"BoxAnnotation\",\"id\":\"p1066\",\"attributes\":{\"syncable\":false,\"level\":\"overlay\",\"visible\":false,\"left_units\":\"canvas\",\"right_units\":\"canvas\",\"bottom_units\":\"canvas\",\"top_units\":\"canvas\",\"line_color\":\"black\",\"line_alpha\":1.0,\"line_width\":2,\"line_dash\":[4,4],\"fill_color\":\"lightgrey\",\"fill_alpha\":0.5}}}},{\"type\":\"object\",\"name\":\"SaveTool\",\"id\":\"p1067\"},{\"type\":\"object\",\"name\":\"ResetTool\",\"id\":\"p1068\"},{\"type\":\"object\",\"name\":\"HelpTool\",\"id\":\"p1069\"}]}},\"left\":[{\"type\":\"object\",\"name\":\"LinearAxis\",\"id\":\"p1058\",\"attributes\":{\"ticker\":{\"type\":\"object\",\"name\":\"BasicTicker\",\"id\":\"p1059\",\"attributes\":{\"mantissas\":[1,2,5]}},\"formatter\":{\"type\":\"object\",\"name\":\"BasicTickFormatter\",\"id\":\"p1060\"},\"axis_label\":\"Y\",\"major_label_policy\":{\"type\":\"object\",\"name\":\"AllLabels\",\"id\":\"p1061\"}}}],\"below\":[{\"type\":\"object\",\"name\":\"LinearAxis\",\"id\":\"p1053\",\"attributes\":{\"ticker\":{\"type\":\"object\",\"name\":\"BasicTicker\",\"id\":\"p1054\",\"attributes\":{\"mantissas\":[1,2,5]}},\"formatter\":{\"type\":\"object\",\"name\":\"BasicTickFormatter\",\"id\":\"p1055\"},\"axis_label\":\"X\",\"major_label_policy\":{\"type\":\"object\",\"name\":\"AllLabels\",\"id\":\"p1056\"}}}],\"center\":[{\"type\":\"object\",\"name\":\"Grid\",\"id\":\"p1057\",\"attributes\":{\"axis\":{\"id\":\"p1053\"}}},{\"type\":\"object\",\"name\":\"Grid\",\"id\":\"p1062\",\"attributes\":{\"dimension\":1,\"axis\":{\"id\":\"p1058\"}}}]}}]}};\n",
              "  const render_items = [{\"docid\":\"1ae74cd7-22a8-4abe-909c-5f59de2d7358\",\"roots\":{\"p1041\":\"c5577b11-9de4-4d4b-8d1c-c6f69db3766c\"},\"root_ids\":[\"p1041\"]}];\n",
              "  root.Bokeh.embed.embed_items_notebook(docs_json, render_items);\n",
              "  }\n",
              "  if (root.Bokeh !== undefined) {\n",
              "    embed_document(root);\n",
              "  } else {\n",
              "    let attempts = 0;\n",
              "    const timer = setInterval(function(root) {\n",
              "      if (root.Bokeh !== undefined) {\n",
              "        clearInterval(timer);\n",
              "        embed_document(root);\n",
              "      } else {\n",
              "        attempts++;\n",
              "        if (attempts > 100) {\n",
              "          clearInterval(timer);\n",
              "          console.log(\"Bokeh: ERROR: Unable to run BokehJS code because BokehJS library is missing\");\n",
              "        }\n",
              "      }\n",
              "    }, 10, root)\n",
              "  }\n",
              "})(window);"
            ],
            "application/vnd.bokehjs_exec.v0+json": ""
          },
          "metadata": {
            "application/vnd.bokehjs_exec.v0+json": {
              "id": "p1041"
            }
          }
        }
      ]
    },
    {
      "cell_type": "markdown",
      "source": [
        "Output :-\n",
        "\n",
        "![bokeh_plot (1).png](data:image/png;base64,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)"
      ],
      "metadata": {
        "id": "tWAJ5IR8gCKl"
      }
    },
    {
      "cell_type": "markdown",
      "source": [
        "**Q3. How can you customize the appearance of a Bokeh plot, including the axes title, and legend?**"
      ],
      "metadata": {
        "id": "2x1eELMdgLvq"
      }
    },
    {
      "cell_type": "markdown",
      "source": [
        "**Answer :-**\n",
        "Here is an example code that demonstrates customizing the appearance of a Bokeh plot by modifying the axes, legend, and background and grid lines:"
      ],
      "metadata": {
        "id": "e0OG_ML9gZs6"
      }
    },
    {
      "cell_type": "code",
      "source": [
        "import bokeh.io\n",
        "import bokeh.plotting\n",
        "from bokeh.plotting import figure, output_file, show\n",
        "from bokeh.models import Range1d\n",
        "\n",
        "# Showing output inside notebook\n",
        "bokeh.io.output_notebook()\n",
        "\n",
        "# Prepare the data\n",
        "x = [1, 2, 3, 4, 5]\n",
        "y1 = [5, 4, 3, 2, 1]\n",
        "y2 = [1, 1.5, 3, 6, 5]\n",
        "\n",
        "# Create a figure with a gray background and grid lines\n",
        "p = figure(title=\"My Plot\", width=400, height=400, background_fill_color=\"#f0f0f0\")\n",
        "p.grid.grid_line_color = \"white\"\n",
        "\n",
        "# Set the x-axis label and range\n",
        "p.xaxis.axis_label = \"X\"\n",
        "p.x_range = Range1d(0, 6)\n",
        "\n",
        "# Set the y-axis label and range\n",
        "p.yaxis.axis_label = \"Y\"\n",
        "p.y_range = Range1d(0, 6)\n",
        "\n",
        "# Add two line glyphs with legend labels\n",
        "p.line(x, y1, legend_label=\"Line 1\", line_width=2, color=\"red\")\n",
        "p.line(x, y2, legend_label=\"Line 2\", line_width=2, color=\"blue\")\n",
        "\n",
        "# Set the legend location and orientation\n",
        "p.legend.location = \"top_left\"\n",
        "p.legend.orientation = \"horizontal\"\n",
        "\n",
        "# display\n",
        "show(p)"
      ],
      "metadata": {
        "colab": {
          "base_uri": "https://localhost:8080/",
          "height": 417
        },
        "id": "eQG7x2RggqOm",
        "outputId": "79b2d32c-8301-426a-9201-caac5882f822"
      },
      "execution_count": 9,
      "outputs": [
        {
          "output_type": "display_data",
          "data": {
            "application/javascript": [
              "(function(root) {\n",
              "  function now() {\n",
              "    return new Date();\n",
              "  }\n",
              "\n",
              "  const force = true;\n",
              "\n",
              "  if (typeof root._bokeh_onload_callbacks === \"undefined\" || force === true) {\n",
              "    root._bokeh_onload_callbacks = [];\n",
              "    root._bokeh_is_loading = undefined;\n",
              "  }\n",
              "\n",
              "const JS_MIME_TYPE = 'application/javascript';\n",
              "  const HTML_MIME_TYPE = 'text/html';\n",
              "  const EXEC_MIME_TYPE = 'application/vnd.bokehjs_exec.v0+json';\n",
              "  const CLASS_NAME = 'output_bokeh rendered_html';\n",
              "\n",
              "  /**\n",
              "   * Render data to the DOM node\n",
              "   */\n",
              "  function render(props, node) {\n",
              "    const script = document.createElement(\"script\");\n",
              "    node.appendChild(script);\n",
              "  }\n",
              "\n",
              "  /**\n",
              "   * Handle when an output is cleared or removed\n",
              "   */\n",
              "  function handleClearOutput(event, handle) {\n",
              "    const cell = handle.cell;\n",
              "\n",
              "    const id = cell.output_area._bokeh_element_id;\n",
              "    const server_id = cell.output_area._bokeh_server_id;\n",
              "    // Clean up Bokeh references\n",
              "    if (id != null && id in Bokeh.index) {\n",
              "      Bokeh.index[id].model.document.clear();\n",
              "      delete Bokeh.index[id];\n",
              "    }\n",
              "\n",
              "    if (server_id !== undefined) {\n",
              "      // Clean up Bokeh references\n",
              "      const cmd_clean = \"from bokeh.io.state import curstate; print(curstate().uuid_to_server['\" + server_id + \"'].get_sessions()[0].document.roots[0]._id)\";\n",
              "      cell.notebook.kernel.execute(cmd_clean, {\n",
              "        iopub: {\n",
              "          output: function(msg) {\n",
              "            const id = msg.content.text.trim();\n",
              "            if (id in Bokeh.index) {\n",
              "              Bokeh.index[id].model.document.clear();\n",
              "              delete Bokeh.index[id];\n",
              "            }\n",
              "          }\n",
              "        }\n",
              "      });\n",
              "      // Destroy server and session\n",
              "      const cmd_destroy = \"import bokeh.io.notebook as ion; ion.destroy_server('\" + server_id + \"')\";\n",
              "      cell.notebook.kernel.execute(cmd_destroy);\n",
              "    }\n",
              "  }\n",
              "\n",
              "  /**\n",
              "   * Handle when a new output is added\n",
              "   */\n",
              "  function handleAddOutput(event, handle) {\n",
              "    const output_area = handle.output_area;\n",
              "    const output = handle.output;\n",
              "\n",
              "    // limit handleAddOutput to display_data with EXEC_MIME_TYPE content only\n",
              "    if ((output.output_type != \"display_data\") || (!Object.prototype.hasOwnProperty.call(output.data, EXEC_MIME_TYPE))) {\n",
              "      return\n",
              "    }\n",
              "\n",
              "    const toinsert = output_area.element.find(\".\" + CLASS_NAME.split(' ')[0]);\n",
              "\n",
              "    if (output.metadata[EXEC_MIME_TYPE][\"id\"] !== undefined) {\n",
              "      toinsert[toinsert.length - 1].firstChild.textContent = output.data[JS_MIME_TYPE];\n",
              "      // store reference to embed id on output_area\n",
              "      output_area._bokeh_element_id = output.metadata[EXEC_MIME_TYPE][\"id\"];\n",
              "    }\n",
              "    if (output.metadata[EXEC_MIME_TYPE][\"server_id\"] !== undefined) {\n",
              "      const bk_div = document.createElement(\"div\");\n",
              "      bk_div.innerHTML = output.data[HTML_MIME_TYPE];\n",
              "      const script_attrs = bk_div.children[0].attributes;\n",
              "      for (let i = 0; i < script_attrs.length; i++) {\n",
              "        toinsert[toinsert.length - 1].firstChild.setAttribute(script_attrs[i].name, script_attrs[i].value);\n",
              "        toinsert[toinsert.length - 1].firstChild.textContent = bk_div.children[0].textContent\n",
              "      }\n",
              "      // store reference to server id on output_area\n",
              "      output_area._bokeh_server_id = output.metadata[EXEC_MIME_TYPE][\"server_id\"];\n",
              "    }\n",
              "  }\n",
              "\n",
              "  function register_renderer(events, OutputArea) {\n",
              "\n",
              "    function append_mime(data, metadata, element) {\n",
              "      // create a DOM node to render to\n",
              "      const toinsert = this.create_output_subarea(\n",
              "        metadata,\n",
              "        CLASS_NAME,\n",
              "        EXEC_MIME_TYPE\n",
              "      );\n",
              "      this.keyboard_manager.register_events(toinsert);\n",
              "      // Render to node\n",
              "      const props = {data: data, metadata: metadata[EXEC_MIME_TYPE]};\n",
              "      render(props, toinsert[toinsert.length - 1]);\n",
              "      element.append(toinsert);\n",
              "      return toinsert\n",
              "    }\n",
              "\n",
              "    /* Handle when an output is cleared or removed */\n",
              "    events.on('clear_output.CodeCell', handleClearOutput);\n",
              "    events.on('delete.Cell', handleClearOutput);\n",
              "\n",
              "    /* Handle when a new output is added */\n",
              "    events.on('output_added.OutputArea', handleAddOutput);\n",
              "\n",
              "    /**\n",
              "     * Register the mime type and append_mime function with output_area\n",
              "     */\n",
              "    OutputArea.prototype.register_mime_type(EXEC_MIME_TYPE, append_mime, {\n",
              "      /* Is output safe? */\n",
              "      safe: true,\n",
              "      /* Index of renderer in `output_area.display_order` */\n",
              "      index: 0\n",
              "    });\n",
              "  }\n",
              "\n",
              "  // register the mime type if in Jupyter Notebook environment and previously unregistered\n",
              "  if (root.Jupyter !== undefined) {\n",
              "    const events = require('base/js/events');\n",
              "    const OutputArea = require('notebook/js/outputarea').OutputArea;\n",
              "\n",
              "    if (OutputArea.prototype.mime_types().indexOf(EXEC_MIME_TYPE) == -1) {\n",
              "      register_renderer(events, OutputArea);\n",
              "    }\n",
              "  }\n",
              "  if (typeof (root._bokeh_timeout) === \"undefined\" || force === true) {\n",
              "    root._bokeh_timeout = Date.now() + 5000;\n",
              "    root._bokeh_failed_load = false;\n",
              "  }\n",
              "\n",
              "  const NB_LOAD_WARNING = {'data': {'text/html':\n",
              "     \"<div style='background-color: #fdd'>\\n\"+\n",
              "     \"<p>\\n\"+\n",
              "     \"BokehJS does not appear to have successfully loaded. If loading BokehJS from CDN, this \\n\"+\n",
              "     \"may be due to a slow or bad network connection. Possible fixes:\\n\"+\n",
              "     \"</p>\\n\"+\n",
              "     \"<ul>\\n\"+\n",
              "     \"<li>re-rerun `output_notebook()` to attempt to load from CDN again, or</li>\\n\"+\n",
              "     \"<li>use INLINE resources instead, as so:</li>\\n\"+\n",
              "     \"</ul>\\n\"+\n",
              "     \"<code>\\n\"+\n",
              "     \"from bokeh.resources import INLINE\\n\"+\n",
              "     \"output_notebook(resources=INLINE)\\n\"+\n",
              "     \"</code>\\n\"+\n",
              "     \"</div>\"}};\n",
              "\n",
              "  function display_loaded() {\n",
              "    const el = document.getElementById(null);\n",
              "    if (el != null) {\n",
              "      el.textContent = \"BokehJS is loading...\";\n",
              "    }\n",
              "    if (root.Bokeh !== undefined) {\n",
              "      if (el != null) {\n",
              "        el.textContent = \"BokehJS \" + root.Bokeh.version + \" successfully loaded.\";\n",
              "      }\n",
              "    } else if (Date.now() < root._bokeh_timeout) {\n",
              "      setTimeout(display_loaded, 100)\n",
              "    }\n",
              "  }\n",
              "\n",
              "  function run_callbacks() {\n",
              "    try {\n",
              "      root._bokeh_onload_callbacks.forEach(function(callback) {\n",
              "        if (callback != null)\n",
              "          callback();\n",
              "      });\n",
              "    } finally {\n",
              "      delete root._bokeh_onload_callbacks\n",
              "    }\n",
              "    console.debug(\"Bokeh: all callbacks have finished\");\n",
              "  }\n",
              "\n",
              "  function load_libs(css_urls, js_urls, callback) {\n",
              "    if (css_urls == null) css_urls = [];\n",
              "    if (js_urls == null) js_urls = [];\n",
              "\n",
              "    root._bokeh_onload_callbacks.push(callback);\n",
              "    if (root._bokeh_is_loading > 0) {\n",
              "      console.debug(\"Bokeh: BokehJS is being loaded, scheduling callback at\", now());\n",
              "      return null;\n",
              "    }\n",
              "    if (js_urls == null || js_urls.length === 0) {\n",
              "      run_callbacks();\n",
              "      return null;\n",
              "    }\n",
              "    console.debug(\"Bokeh: BokehJS not loaded, scheduling load and callback at\", now());\n",
              "    root._bokeh_is_loading = css_urls.length + js_urls.length;\n",
              "\n",
              "    function on_load() {\n",
              "      root._bokeh_is_loading--;\n",
              "      if (root._bokeh_is_loading === 0) {\n",
              "        console.debug(\"Bokeh: all BokehJS libraries/stylesheets loaded\");\n",
              "        run_callbacks()\n",
              "      }\n",
              "    }\n",
              "\n",
              "    function on_error(url) {\n",
              "      console.error(\"failed to load \" + url);\n",
              "    }\n",
              "\n",
              "    for (let i = 0; i < css_urls.length; i++) {\n",
              "      const url = css_urls[i];\n",
              "      const element = document.createElement(\"link\");\n",
              "      element.onload = on_load;\n",
              "      element.onerror = on_error.bind(null, url);\n",
              "      element.rel = \"stylesheet\";\n",
              "      element.type = \"text/css\";\n",
              "      element.href = url;\n",
              "      console.debug(\"Bokeh: injecting link tag for BokehJS stylesheet: \", url);\n",
              "      document.body.appendChild(element);\n",
              "    }\n",
              "\n",
              "    for (let i = 0; i < js_urls.length; i++) {\n",
              "      const url = js_urls[i];\n",
              "      const element = document.createElement('script');\n",
              "      element.onload = on_load;\n",
              "      element.onerror = on_error.bind(null, url);\n",
              "      element.async = false;\n",
              "      element.src = url;\n",
              "      console.debug(\"Bokeh: injecting script tag for BokehJS library: \", url);\n",
              "      document.head.appendChild(element);\n",
              "    }\n",
              "  };\n",
              "\n",
              "  function inject_raw_css(css) {\n",
              "    const element = document.createElement(\"style\");\n",
              "    element.appendChild(document.createTextNode(css));\n",
              "    document.body.appendChild(element);\n",
              "  }\n",
              "\n",
              "  const js_urls = [\"https://cdn.bokeh.org/bokeh/release/bokeh-3.2.2.min.js\", \"https://cdn.bokeh.org/bokeh/release/bokeh-gl-3.2.2.min.js\", \"https://cdn.bokeh.org/bokeh/release/bokeh-widgets-3.2.2.min.js\", \"https://cdn.bokeh.org/bokeh/release/bokeh-tables-3.2.2.min.js\", \"https://cdn.bokeh.org/bokeh/release/bokeh-mathjax-3.2.2.min.js\"];\n",
              "  const css_urls = [];\n",
              "\n",
              "  const inline_js = [    function(Bokeh) {\n",
              "      Bokeh.set_log_level(\"info\");\n",
              "    },\n",
              "function(Bokeh) {\n",
              "    }\n",
              "  ];\n",
              "\n",
              "  function run_inline_js() {\n",
              "    if (root.Bokeh !== undefined || force === true) {\n",
              "          for (let i = 0; i < inline_js.length; i++) {\n",
              "      inline_js[i].call(root, root.Bokeh);\n",
              "    }\n",
              "} else if (Date.now() < root._bokeh_timeout) {\n",
              "      setTimeout(run_inline_js, 100);\n",
              "    } else if (!root._bokeh_failed_load) {\n",
              "      console.log(\"Bokeh: BokehJS failed to load within specified timeout.\");\n",
              "      root._bokeh_failed_load = true;\n",
              "    } else if (force !== true) {\n",
              "      const cell = $(document.getElementById(null)).parents('.cell').data().cell;\n",
              "      cell.output_area.append_execute_result(NB_LOAD_WARNING)\n",
              "    }\n",
              "  }\n",
              "\n",
              "  if (root._bokeh_is_loading === 0) {\n",
              "    console.debug(\"Bokeh: BokehJS loaded, going straight to plotting\");\n",
              "    run_inline_js();\n",
              "  } else {\n",
              "    load_libs(css_urls, js_urls, function() {\n",
              "      console.debug(\"Bokeh: BokehJS plotting callback run at\", now());\n",
              "      run_inline_js();\n",
              "    });\n",
              "  }\n",
              "}(window));"
            ],
            "application/vnd.bokehjs_load.v0+json": "(function(root) {\n  function now() {\n    return new Date();\n  }\n\n  const force = true;\n\n  if (typeof root._bokeh_onload_callbacks === \"undefined\" || force === true) {\n    root._bokeh_onload_callbacks = [];\n    root._bokeh_is_loading = undefined;\n  }\n\n\n  if (typeof (root._bokeh_timeout) === \"undefined\" || force === true) {\n    root._bokeh_timeout = Date.now() + 5000;\n    root._bokeh_failed_load = false;\n  }\n\n  const NB_LOAD_WARNING = {'data': {'text/html':\n     \"<div style='background-color: #fdd'>\\n\"+\n     \"<p>\\n\"+\n     \"BokehJS does not appear to have successfully loaded. If loading BokehJS from CDN, this \\n\"+\n     \"may be due to a slow or bad network connection. Possible fixes:\\n\"+\n     \"</p>\\n\"+\n     \"<ul>\\n\"+\n     \"<li>re-rerun `output_notebook()` to attempt to load from CDN again, or</li>\\n\"+\n     \"<li>use INLINE resources instead, as so:</li>\\n\"+\n     \"</ul>\\n\"+\n     \"<code>\\n\"+\n     \"from bokeh.resources import INLINE\\n\"+\n     \"output_notebook(resources=INLINE)\\n\"+\n     \"</code>\\n\"+\n     \"</div>\"}};\n\n  function display_loaded() {\n    const el = document.getElementById(null);\n    if (el != null) {\n      el.textContent = \"BokehJS is loading...\";\n    }\n    if (root.Bokeh !== undefined) {\n      if (el != null) {\n        el.textContent = \"BokehJS \" + root.Bokeh.version + \" successfully loaded.\";\n      }\n    } else if (Date.now() < root._bokeh_timeout) {\n      setTimeout(display_loaded, 100)\n    }\n  }\n\n  function run_callbacks() {\n    try {\n      root._bokeh_onload_callbacks.forEach(function(callback) {\n        if (callback != null)\n          callback();\n      });\n    } finally {\n      delete root._bokeh_onload_callbacks\n    }\n    console.debug(\"Bokeh: all callbacks have finished\");\n  }\n\n  function load_libs(css_urls, js_urls, callback) {\n    if (css_urls == null) css_urls = [];\n    if (js_urls == null) js_urls = [];\n\n    root._bokeh_onload_callbacks.push(callback);\n    if (root._bokeh_is_loading > 0) {\n      console.debug(\"Bokeh: BokehJS is being loaded, scheduling callback at\", now());\n      return null;\n    }\n    if (js_urls == null || js_urls.length === 0) {\n      run_callbacks();\n      return null;\n    }\n    console.debug(\"Bokeh: BokehJS not loaded, scheduling load and callback at\", now());\n    root._bokeh_is_loading = css_urls.length + js_urls.length;\n\n    function on_load() {\n      root._bokeh_is_loading--;\n      if (root._bokeh_is_loading === 0) {\n        console.debug(\"Bokeh: all BokehJS libraries/stylesheets loaded\");\n        run_callbacks()\n      }\n    }\n\n    function on_error(url) {\n      console.error(\"failed to load \" + url);\n    }\n\n    for (let i = 0; i < css_urls.length; i++) {\n      const url = css_urls[i];\n      const element = document.createElement(\"link\");\n      element.onload = on_load;\n      element.onerror = on_error.bind(null, url);\n      element.rel = \"stylesheet\";\n      element.type = \"text/css\";\n      element.href = url;\n      console.debug(\"Bokeh: injecting link tag for BokehJS stylesheet: \", url);\n      document.body.appendChild(element);\n    }\n\n    for (let i = 0; i < js_urls.length; i++) {\n      const url = js_urls[i];\n      const element = document.createElement('script');\n      element.onload = on_load;\n      element.onerror = on_error.bind(null, url);\n      element.async = false;\n      element.src = url;\n      console.debug(\"Bokeh: injecting script tag for BokehJS library: \", url);\n      document.head.appendChild(element);\n    }\n  };\n\n  function inject_raw_css(css) {\n    const element = document.createElement(\"style\");\n    element.appendChild(document.createTextNode(css));\n    document.body.appendChild(element);\n  }\n\n  const js_urls = [\"https://cdn.bokeh.org/bokeh/release/bokeh-3.2.2.min.js\", \"https://cdn.bokeh.org/bokeh/release/bokeh-gl-3.2.2.min.js\", \"https://cdn.bokeh.org/bokeh/release/bokeh-widgets-3.2.2.min.js\", \"https://cdn.bokeh.org/bokeh/release/bokeh-tables-3.2.2.min.js\", \"https://cdn.bokeh.org/bokeh/release/bokeh-mathjax-3.2.2.min.js\"];\n  const css_urls = [];\n\n  const inline_js = [    function(Bokeh) {\n      Bokeh.set_log_level(\"info\");\n    },\nfunction(Bokeh) {\n    }\n  ];\n\n  function run_inline_js() {\n    if (root.Bokeh !== undefined || force === true) {\n          for (let i = 0; i < inline_js.length; i++) {\n      inline_js[i].call(root, root.Bokeh);\n    }\n} else if (Date.now() < root._bokeh_timeout) {\n      setTimeout(run_inline_js, 100);\n    } else if (!root._bokeh_failed_load) {\n      console.log(\"Bokeh: BokehJS failed to load within specified timeout.\");\n      root._bokeh_failed_load = true;\n    } else if (force !== true) {\n      const cell = $(document.getElementById(null)).parents('.cell').data().cell;\n      cell.output_area.append_execute_result(NB_LOAD_WARNING)\n    }\n  }\n\n  if (root._bokeh_is_loading === 0) {\n    console.debug(\"Bokeh: BokehJS loaded, going straight to plotting\");\n    run_inline_js();\n  } else {\n    load_libs(css_urls, js_urls, function() {\n      console.debug(\"Bokeh: BokehJS plotting callback run at\", now());\n      run_inline_js();\n    });\n  }\n}(window));"
          },
          "metadata": {}
        },
        {
          "output_type": "display_data",
          "data": {
            "text/html": [
              "\n",
              "  <div id=\"cede51e5-6e0a-475f-ae43-1ad65fa31309\" data-root-id=\"p1088\" style=\"display: contents;\"></div>\n"
            ]
          },
          "metadata": {}
        },
        {
          "output_type": "display_data",
          "data": {
            "application/javascript": [
              "(function(root) {\n",
              "  function embed_document(root) {\n",
              "  const docs_json = {\"579dd3ee-affa-423d-a0de-6c4819587fc8\":{\"version\":\"3.2.2\",\"title\":\"Bokeh Application\",\"roots\":[{\"type\":\"object\",\"name\":\"Figure\",\"id\":\"p1088\",\"attributes\":{\"width\":400,\"height\":400,\"x_range\":{\"type\":\"object\",\"name\":\"Range1d\",\"id\":\"p1117\",\"attributes\":{\"end\":6}},\"y_range\":{\"type\":\"object\",\"name\":\"Range1d\",\"id\":\"p1118\",\"attributes\":{\"end\":6}},\"x_scale\":{\"type\":\"object\",\"name\":\"LinearScale\",\"id\":\"p1098\"},\"y_scale\":{\"type\":\"object\",\"name\":\"LinearScale\",\"id\":\"p1099\"},\"title\":{\"type\":\"object\",\"name\":\"Title\",\"id\":\"p1091\",\"attributes\":{\"text\":\"My Plot\"}},\"renderers\":[{\"type\":\"object\",\"name\":\"GlyphRenderer\",\"id\":\"p1125\",\"attributes\":{\"data_source\":{\"type\":\"object\",\"name\":\"ColumnDataSource\",\"id\":\"p1119\",\"attributes\":{\"selected\":{\"type\":\"object\",\"name\":\"Selection\",\"id\":\"p1120\",\"attributes\":{\"indices\":[],\"line_indices\":[]}},\"selection_policy\":{\"type\":\"object\",\"name\":\"UnionRenderers\",\"id\":\"p1121\"},\"data\":{\"type\":\"map\",\"entries\":[[\"x\",[1,2,3,4,5]],[\"y\",[5,4,3,2,1]]]}}},\"view\":{\"type\":\"object\",\"name\":\"CDSView\",\"id\":\"p1126\",\"attributes\":{\"filter\":{\"type\":\"object\",\"name\":\"AllIndices\",\"id\":\"p1127\"}}},\"glyph\":{\"type\":\"object\",\"name\":\"Line\",\"id\":\"p1122\",\"attributes\":{\"x\":{\"type\":\"field\",\"field\":\"x\"},\"y\":{\"type\":\"field\",\"field\":\"y\"},\"line_color\":\"red\",\"line_width\":2}},\"nonselection_glyph\":{\"type\":\"object\",\"name\":\"Line\",\"id\":\"p1123\",\"attributes\":{\"x\":{\"type\":\"field\",\"field\":\"x\"},\"y\":{\"type\":\"field\",\"field\":\"y\"},\"line_color\":\"red\",\"line_alpha\":0.1,\"line_width\":2}},\"muted_glyph\":{\"type\":\"object\",\"name\":\"Line\",\"id\":\"p1124\",\"attributes\":{\"x\":{\"type\":\"field\",\"field\":\"x\"},\"y\":{\"type\":\"field\",\"field\":\"y\"},\"line_color\":\"red\",\"line_alpha\":0.2,\"line_width\":2}}}},{\"type\":\"object\",\"name\":\"GlyphRenderer\",\"id\":\"p1136\",\"attributes\":{\"data_source\":{\"type\":\"object\",\"name\":\"ColumnDataSource\",\"id\":\"p1130\",\"attributes\":{\"selected\":{\"type\":\"object\",\"name\":\"Selection\",\"id\":\"p1131\",\"attributes\":{\"indices\":[],\"line_indices\":[]}},\"selection_policy\":{\"type\":\"object\",\"name\":\"UnionRenderers\",\"id\":\"p1132\"},\"data\":{\"type\":\"map\",\"entries\":[[\"x\",[1,2,3,4,5]],[\"y\",[1,1.5,3,6,5]]]}}},\"view\":{\"type\":\"object\",\"name\":\"CDSView\",\"id\":\"p1137\",\"attributes\":{\"filter\":{\"type\":\"object\",\"name\":\"AllIndices\",\"id\":\"p1138\"}}},\"glyph\":{\"type\":\"object\",\"name\":\"Line\",\"id\":\"p1133\",\"attributes\":{\"x\":{\"type\":\"field\",\"field\":\"x\"},\"y\":{\"type\":\"field\",\"field\":\"y\"},\"line_color\":\"blue\",\"line_width\":2}},\"nonselection_glyph\":{\"type\":\"object\",\"name\":\"Line\",\"id\":\"p1134\",\"attributes\":{\"x\":{\"type\":\"field\",\"field\":\"x\"},\"y\":{\"type\":\"field\",\"field\":\"y\"},\"line_color\":\"blue\",\"line_alpha\":0.1,\"line_width\":2}},\"muted_glyph\":{\"type\":\"object\",\"name\":\"Line\",\"id\":\"p1135\",\"attributes\":{\"x\":{\"type\":\"field\",\"field\":\"x\"},\"y\":{\"type\":\"field\",\"field\":\"y\"},\"line_color\":\"blue\",\"line_alpha\":0.2,\"line_width\":2}}}}],\"toolbar\":{\"type\":\"object\",\"name\":\"Toolbar\",\"id\":\"p1097\",\"attributes\":{\"tools\":[{\"type\":\"object\",\"name\":\"PanTool\",\"id\":\"p1110\"},{\"type\":\"object\",\"name\":\"WheelZoomTool\",\"id\":\"p1111\"},{\"type\":\"object\",\"name\":\"BoxZoomTool\",\"id\":\"p1112\",\"attributes\":{\"overlay\":{\"type\":\"object\",\"name\":\"BoxAnnotation\",\"id\":\"p1113\",\"attributes\":{\"syncable\":false,\"level\":\"overlay\",\"visible\":false,\"left_units\":\"canvas\",\"right_units\":\"canvas\",\"bottom_units\":\"canvas\",\"top_units\":\"canvas\",\"line_color\":\"black\",\"line_alpha\":1.0,\"line_width\":2,\"line_dash\":[4,4],\"fill_color\":\"lightgrey\",\"fill_alpha\":0.5}}}},{\"type\":\"object\",\"name\":\"SaveTool\",\"id\":\"p1114\"},{\"type\":\"object\",\"name\":\"ResetTool\",\"id\":\"p1115\"},{\"type\":\"object\",\"name\":\"HelpTool\",\"id\":\"p1116\"}]}},\"left\":[{\"type\":\"object\",\"name\":\"LinearAxis\",\"id\":\"p1105\",\"attributes\":{\"ticker\":{\"type\":\"object\",\"name\":\"BasicTicker\",\"id\":\"p1106\",\"attributes\":{\"mantissas\":[1,2,5]}},\"formatter\":{\"type\":\"object\",\"name\":\"BasicTickFormatter\",\"id\":\"p1107\"},\"axis_label\":\"Y\",\"major_label_policy\":{\"type\":\"object\",\"name\":\"AllLabels\",\"id\":\"p1108\"}}}],\"below\":[{\"type\":\"object\",\"name\":\"LinearAxis\",\"id\":\"p1100\",\"attributes\":{\"ticker\":{\"type\":\"object\",\"name\":\"BasicTicker\",\"id\":\"p1101\",\"attributes\":{\"mantissas\":[1,2,5]}},\"formatter\":{\"type\":\"object\",\"name\":\"BasicTickFormatter\",\"id\":\"p1102\"},\"axis_label\":\"X\",\"major_label_policy\":{\"type\":\"object\",\"name\":\"AllLabels\",\"id\":\"p1103\"}}}],\"center\":[{\"type\":\"object\",\"name\":\"Grid\",\"id\":\"p1104\",\"attributes\":{\"axis\":{\"id\":\"p1100\"},\"grid_line_color\":\"white\"}},{\"type\":\"object\",\"name\":\"Grid\",\"id\":\"p1109\",\"attributes\":{\"dimension\":1,\"axis\":{\"id\":\"p1105\"},\"grid_line_color\":\"white\"}},{\"type\":\"object\",\"name\":\"Legend\",\"id\":\"p1128\",\"attributes\":{\"location\":\"top_left\",\"orientation\":\"horizontal\",\"items\":[{\"type\":\"object\",\"name\":\"LegendItem\",\"id\":\"p1129\",\"attributes\":{\"label\":{\"type\":\"value\",\"value\":\"Line 1\"},\"renderers\":[{\"id\":\"p1125\"}]}},{\"type\":\"object\",\"name\":\"LegendItem\",\"id\":\"p1139\",\"attributes\":{\"label\":{\"type\":\"value\",\"value\":\"Line 2\"},\"renderers\":[{\"id\":\"p1136\"}]}}]}}],\"background_fill_color\":\"#f0f0f0\"}}]}};\n",
              "  const render_items = [{\"docid\":\"579dd3ee-affa-423d-a0de-6c4819587fc8\",\"roots\":{\"p1088\":\"cede51e5-6e0a-475f-ae43-1ad65fa31309\"},\"root_ids\":[\"p1088\"]}];\n",
              "  root.Bokeh.embed.embed_items_notebook(docs_json, render_items);\n",
              "  }\n",
              "  if (root.Bokeh !== undefined) {\n",
              "    embed_document(root);\n",
              "  } else {\n",
              "    let attempts = 0;\n",
              "    const timer = setInterval(function(root) {\n",
              "      if (root.Bokeh !== undefined) {\n",
              "        clearInterval(timer);\n",
              "        embed_document(root);\n",
              "      } else {\n",
              "        attempts++;\n",
              "        if (attempts > 100) {\n",
              "          clearInterval(timer);\n",
              "          console.log(\"Bokeh: ERROR: Unable to run BokehJS code because BokehJS library is missing\");\n",
              "        }\n",
              "      }\n",
              "    }, 10, root)\n",
              "  }\n",
              "})(window);"
            ],
            "application/vnd.bokehjs_exec.v0+json": ""
          },
          "metadata": {
            "application/vnd.bokehjs_exec.v0+json": {
              "id": "p1088"
            }
          }
        }
      ]
    },
    {
      "cell_type": "markdown",
      "source": [
        "Output :-\n",
        "\n",
        "![bokeh_plot (2).png](data:image/png;base64,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)"
      ],
      "metadata": {
        "id": "FYv8F5EGgzVj"
      }
    },
    {
      "cell_type": "markdown",
      "source": [
        "**Q4. What is a Bokeh server, and how can you use it to create interactive plots that can be updated in real time?**"
      ],
      "metadata": {
        "id": "CRW3efBqg4U_"
      }
    },
    {
      "cell_type": "markdown",
      "source": [
        "**Answer :-**\n",
        "A Bokeh server is a Python application that allows you to create interactive web-based visualizations that can be updated in real time. By using the Bokeh server, you can create a plot or dashboard that responds to user input or data changes and updates the visualization automatically, without the need to refresh the page.\n",
        "\n",
        "To create a Bokeh server application, you need to define a function that returns a Layout object (or a subclass of Layout, such as column or row). The Layout object represents the structure of the web page, and can contain multiple plots and widgets.\n",
        "\n",
        "Here's an example of a simple Bokeh server application, It displays random scatter plots with different colours automatically."
      ],
      "metadata": {
        "id": "a6qWRbHug8ZH"
      }
    },
    {
      "cell_type": "code",
      "source": [
        "import random\n",
        "import bokeh.io\n",
        "from bokeh.server.server import Server\n",
        "from bokeh.application import Application\n",
        "from bokeh.application.handlers.function import FunctionHandler\n",
        "from bokeh.plotting import figure, ColumnDataSource\n",
        "\n",
        "# Showing output inside notebook\n",
        "bokeh.io.output_notebook()\n",
        "\n",
        "def make_document(doc):\n",
        "    source = ColumnDataSource({'x': [], 'y': [], 'color': []})\n",
        "\n",
        "    def update():\n",
        "        new = {'x': [random.random()],\n",
        "               'y': [random.random()],\n",
        "               'color': [random.choice(['red', 'blue', 'green'])]}\n",
        "        source.stream(new)\n",
        "\n",
        "    doc.add_periodic_callback(update, 100)\n",
        "\n",
        "    fig = figure(title='Streaming Circle Plot!', sizing_mode='scale_width',\n",
        "                 x_range=[0, 1], y_range=[0, 1])\n",
        "    fig.circle(source=source, x='x', y='y', color='color', size=10)\n",
        "\n",
        "    doc.title = \"Now with live updating!\"\n",
        "    doc.add_root(fig)\n",
        "\n",
        "apps = {'/': Application(FunctionHandler(make_document))}\n",
        "\n",
        "server = Server(apps, port=5001)\n",
        "server.start()\n",
        "\n",
        "print('Please go to following url in Web Browser to run this application : http://localhost:5001/')"
      ],
      "metadata": {
        "colab": {
          "base_uri": "https://localhost:8080/"
        },
        "id": "el1ZwND8hP5w",
        "outputId": "0a38d84d-0fc8-4919-8d35-c2cb615e221e"
      },
      "execution_count": 10,
      "outputs": [
        {
          "output_type": "stream",
          "name": "stdout",
          "text": [
            "Please go to following url in Web Browser to run this application : http://localhost:5001/\n"
          ]
        }
      ]
    },
    {
      "cell_type": "markdown",
      "source": [
        "Stopping the server after application runs. Please note that execute this below command only after executing above code and viewing localhost url"
      ],
      "metadata": {
        "id": "RDyxLXYiiQnC"
      }
    },
    {
      "cell_type": "code",
      "source": [
        "server.stop()"
      ],
      "metadata": {
        "id": "VAJ-WZL5iSNc"
      },
      "execution_count": 11,
      "outputs": []
    },
    {
      "cell_type": "markdown",
      "source": [
        "**Q5. How can you embed a Bokeh plot into a web page or dashboard using Flask or Django?**"
      ],
      "metadata": {
        "id": "ayWaDMEMh0FG"
      }
    },
    {
      "cell_type": "markdown",
      "source": [
        "**Answer :-**\n",
        "\n",
        "Downloading Bokeh sampledata"
      ],
      "metadata": {
        "id": "ldSSTYVeiAhj"
      }
    },
    {
      "cell_type": "code",
      "source": [
        "from bokeh.sampledata import download\n",
        "download()"
      ],
      "metadata": {
        "colab": {
          "base_uri": "https://localhost:8080/"
        },
        "id": "1qc7KBSNiFIa",
        "outputId": "2d3ee036-dcca-47d9-d3ab-3fa3a5fe7f90"
      },
      "execution_count": 12,
      "outputs": [
        {
          "output_type": "stream",
          "name": "stdout",
          "text": [
            "Using data directory: /root/.bokeh/data\n",
            "Skipping 'CGM.csv' (checksum match)\n",
            "Skipping 'US_Counties.zip' (checksum match)\n",
            "Skipping 'us_cities.json' (checksum match)\n",
            "Skipping 'unemployment09.csv' (checksum match)\n",
            "Skipping 'AAPL.csv' (checksum match)\n",
            "Skipping 'FB.csv' (checksum match)\n",
            "Skipping 'GOOG.csv' (checksum match)\n",
            "Skipping 'IBM.csv' (checksum match)\n",
            "Skipping 'MSFT.csv' (checksum match)\n",
            "Skipping 'WPP2012_SA_DB03_POPULATION_QUINQUENNIAL.zip' (checksum match)\n",
            "Skipping 'gapminder_fertility.csv' (checksum match)\n",
            "Skipping 'gapminder_population.csv' (checksum match)\n",
            "Skipping 'gapminder_life_expectancy.csv' (checksum match)\n",
            "Skipping 'gapminder_regions.csv' (checksum match)\n",
            "Skipping 'world_cities.zip' (checksum match)\n",
            "Skipping 'airports.json' (checksum match)\n",
            "Skipping 'movies.db.zip' (checksum match)\n",
            "Skipping 'airports.csv' (checksum match)\n",
            "Skipping 'routes.csv' (checksum match)\n",
            "Skipping 'haarcascade_frontalface_default.xml' (checksum match)\n",
            "Skipping 'SampleSuperstore.csv.zip' (checksum match)\n"
          ]
        }
      ]
    },
    {
      "cell_type": "markdown",
      "source": [
        "Plotting the candelstick chart for IBM Stock"
      ],
      "metadata": {
        "id": "Uc-RKVFiiYJ6"
      }
    },
    {
      "cell_type": "code",
      "source": [
        "import pandas as pd\n",
        "\n",
        "from bokeh.plotting import figure, show\n",
        "from bokeh.sampledata.stocks import IBM\n",
        "import bokeh.io\n",
        "\n",
        "\n",
        "# Showing output inside notebook\n",
        "bokeh.io.output_notebook()\n",
        "\n",
        "df = pd.DataFrame(IBM)[3000:3060]\n",
        "df[\"date\"] = pd.to_datetime(df[\"date\"])\n",
        "\n",
        "inc = df.close > df.open\n",
        "dec = df.open > df.close\n",
        "w = 16*60*60*1000 # milliseconds\n",
        "\n",
        "TOOLS = \"pan,wheel_zoom,box_zoom,reset,save\"\n",
        "\n",
        "p = figure(x_axis_type=\"datetime\", tools=TOOLS, width=1000, height=400,\n",
        "           title=\"IBM Candlestick Plot\", background_fill_color=\"#efefef\")\n",
        "p.xaxis.major_label_orientation = 0.8 # radians\n",
        "\n",
        "p.segment(df.date, df.high, df.date, df.low, color=\"black\")\n",
        "\n",
        "p.vbar(df.date[dec], w, df.open[dec], df.close[dec], color=\"#eb3c40\")\n",
        "p.vbar(df.date[inc], w, df.open[inc], df.close[inc], fill_color=\"green\",\n",
        "       line_color=\"green\", line_width=2)\n",
        "\n",
        "show(p)"
      ],
      "metadata": {
        "colab": {
          "base_uri": "https://localhost:8080/",
          "height": 417
        },
        "id": "5MUy7QM4iZNF",
        "outputId": "5ecb5cb4-f0ae-4ce5-97e2-0b1f4b0a9999"
      },
      "execution_count": 13,
      "outputs": [
        {
          "output_type": "display_data",
          "data": {
            "application/javascript": [
              "(function(root) {\n",
              "  function now() {\n",
              "    return new Date();\n",
              "  }\n",
              "\n",
              "  const force = true;\n",
              "\n",
              "  if (typeof root._bokeh_onload_callbacks === \"undefined\" || force === true) {\n",
              "    root._bokeh_onload_callbacks = [];\n",
              "    root._bokeh_is_loading = undefined;\n",
              "  }\n",
              "\n",
              "const JS_MIME_TYPE = 'application/javascript';\n",
              "  const HTML_MIME_TYPE = 'text/html';\n",
              "  const EXEC_MIME_TYPE = 'application/vnd.bokehjs_exec.v0+json';\n",
              "  const CLASS_NAME = 'output_bokeh rendered_html';\n",
              "\n",
              "  /**\n",
              "   * Render data to the DOM node\n",
              "   */\n",
              "  function render(props, node) {\n",
              "    const script = document.createElement(\"script\");\n",
              "    node.appendChild(script);\n",
              "  }\n",
              "\n",
              "  /**\n",
              "   * Handle when an output is cleared or removed\n",
              "   */\n",
              "  function handleClearOutput(event, handle) {\n",
              "    const cell = handle.cell;\n",
              "\n",
              "    const id = cell.output_area._bokeh_element_id;\n",
              "    const server_id = cell.output_area._bokeh_server_id;\n",
              "    // Clean up Bokeh references\n",
              "    if (id != null && id in Bokeh.index) {\n",
              "      Bokeh.index[id].model.document.clear();\n",
              "      delete Bokeh.index[id];\n",
              "    }\n",
              "\n",
              "    if (server_id !== undefined) {\n",
              "      // Clean up Bokeh references\n",
              "      const cmd_clean = \"from bokeh.io.state import curstate; print(curstate().uuid_to_server['\" + server_id + \"'].get_sessions()[0].document.roots[0]._id)\";\n",
              "      cell.notebook.kernel.execute(cmd_clean, {\n",
              "        iopub: {\n",
              "          output: function(msg) {\n",
              "            const id = msg.content.text.trim();\n",
              "            if (id in Bokeh.index) {\n",
              "              Bokeh.index[id].model.document.clear();\n",
              "              delete Bokeh.index[id];\n",
              "            }\n",
              "          }\n",
              "        }\n",
              "      });\n",
              "      // Destroy server and session\n",
              "      const cmd_destroy = \"import bokeh.io.notebook as ion; ion.destroy_server('\" + server_id + \"')\";\n",
              "      cell.notebook.kernel.execute(cmd_destroy);\n",
              "    }\n",
              "  }\n",
              "\n",
              "  /**\n",
              "   * Handle when a new output is added\n",
              "   */\n",
              "  function handleAddOutput(event, handle) {\n",
              "    const output_area = handle.output_area;\n",
              "    const output = handle.output;\n",
              "\n",
              "    // limit handleAddOutput to display_data with EXEC_MIME_TYPE content only\n",
              "    if ((output.output_type != \"display_data\") || (!Object.prototype.hasOwnProperty.call(output.data, EXEC_MIME_TYPE))) {\n",
              "      return\n",
              "    }\n",
              "\n",
              "    const toinsert = output_area.element.find(\".\" + CLASS_NAME.split(' ')[0]);\n",
              "\n",
              "    if (output.metadata[EXEC_MIME_TYPE][\"id\"] !== undefined) {\n",
              "      toinsert[toinsert.length - 1].firstChild.textContent = output.data[JS_MIME_TYPE];\n",
              "      // store reference to embed id on output_area\n",
              "      output_area._bokeh_element_id = output.metadata[EXEC_MIME_TYPE][\"id\"];\n",
              "    }\n",
              "    if (output.metadata[EXEC_MIME_TYPE][\"server_id\"] !== undefined) {\n",
              "      const bk_div = document.createElement(\"div\");\n",
              "      bk_div.innerHTML = output.data[HTML_MIME_TYPE];\n",
              "      const script_attrs = bk_div.children[0].attributes;\n",
              "      for (let i = 0; i < script_attrs.length; i++) {\n",
              "        toinsert[toinsert.length - 1].firstChild.setAttribute(script_attrs[i].name, script_attrs[i].value);\n",
              "        toinsert[toinsert.length - 1].firstChild.textContent = bk_div.children[0].textContent\n",
              "      }\n",
              "      // store reference to server id on output_area\n",
              "      output_area._bokeh_server_id = output.metadata[EXEC_MIME_TYPE][\"server_id\"];\n",
              "    }\n",
              "  }\n",
              "\n",
              "  function register_renderer(events, OutputArea) {\n",
              "\n",
              "    function append_mime(data, metadata, element) {\n",
              "      // create a DOM node to render to\n",
              "      const toinsert = this.create_output_subarea(\n",
              "        metadata,\n",
              "        CLASS_NAME,\n",
              "        EXEC_MIME_TYPE\n",
              "      );\n",
              "      this.keyboard_manager.register_events(toinsert);\n",
              "      // Render to node\n",
              "      const props = {data: data, metadata: metadata[EXEC_MIME_TYPE]};\n",
              "      render(props, toinsert[toinsert.length - 1]);\n",
              "      element.append(toinsert);\n",
              "      return toinsert\n",
              "    }\n",
              "\n",
              "    /* Handle when an output is cleared or removed */\n",
              "    events.on('clear_output.CodeCell', handleClearOutput);\n",
              "    events.on('delete.Cell', handleClearOutput);\n",
              "\n",
              "    /* Handle when a new output is added */\n",
              "    events.on('output_added.OutputArea', handleAddOutput);\n",
              "\n",
              "    /**\n",
              "     * Register the mime type and append_mime function with output_area\n",
              "     */\n",
              "    OutputArea.prototype.register_mime_type(EXEC_MIME_TYPE, append_mime, {\n",
              "      /* Is output safe? */\n",
              "      safe: true,\n",
              "      /* Index of renderer in `output_area.display_order` */\n",
              "      index: 0\n",
              "    });\n",
              "  }\n",
              "\n",
              "  // register the mime type if in Jupyter Notebook environment and previously unregistered\n",
              "  if (root.Jupyter !== undefined) {\n",
              "    const events = require('base/js/events');\n",
              "    const OutputArea = require('notebook/js/outputarea').OutputArea;\n",
              "\n",
              "    if (OutputArea.prototype.mime_types().indexOf(EXEC_MIME_TYPE) == -1) {\n",
              "      register_renderer(events, OutputArea);\n",
              "    }\n",
              "  }\n",
              "  if (typeof (root._bokeh_timeout) === \"undefined\" || force === true) {\n",
              "    root._bokeh_timeout = Date.now() + 5000;\n",
              "    root._bokeh_failed_load = false;\n",
              "  }\n",
              "\n",
              "  const NB_LOAD_WARNING = {'data': {'text/html':\n",
              "     \"<div style='background-color: #fdd'>\\n\"+\n",
              "     \"<p>\\n\"+\n",
              "     \"BokehJS does not appear to have successfully loaded. If loading BokehJS from CDN, this \\n\"+\n",
              "     \"may be due to a slow or bad network connection. Possible fixes:\\n\"+\n",
              "     \"</p>\\n\"+\n",
              "     \"<ul>\\n\"+\n",
              "     \"<li>re-rerun `output_notebook()` to attempt to load from CDN again, or</li>\\n\"+\n",
              "     \"<li>use INLINE resources instead, as so:</li>\\n\"+\n",
              "     \"</ul>\\n\"+\n",
              "     \"<code>\\n\"+\n",
              "     \"from bokeh.resources import INLINE\\n\"+\n",
              "     \"output_notebook(resources=INLINE)\\n\"+\n",
              "     \"</code>\\n\"+\n",
              "     \"</div>\"}};\n",
              "\n",
              "  function display_loaded() {\n",
              "    const el = document.getElementById(null);\n",
              "    if (el != null) {\n",
              "      el.textContent = \"BokehJS is loading...\";\n",
              "    }\n",
              "    if (root.Bokeh !== undefined) {\n",
              "      if (el != null) {\n",
              "        el.textContent = \"BokehJS \" + root.Bokeh.version + \" successfully loaded.\";\n",
              "      }\n",
              "    } else if (Date.now() < root._bokeh_timeout) {\n",
              "      setTimeout(display_loaded, 100)\n",
              "    }\n",
              "  }\n",
              "\n",
              "  function run_callbacks() {\n",
              "    try {\n",
              "      root._bokeh_onload_callbacks.forEach(function(callback) {\n",
              "        if (callback != null)\n",
              "          callback();\n",
              "      });\n",
              "    } finally {\n",
              "      delete root._bokeh_onload_callbacks\n",
              "    }\n",
              "    console.debug(\"Bokeh: all callbacks have finished\");\n",
              "  }\n",
              "\n",
              "  function load_libs(css_urls, js_urls, callback) {\n",
              "    if (css_urls == null) css_urls = [];\n",
              "    if (js_urls == null) js_urls = [];\n",
              "\n",
              "    root._bokeh_onload_callbacks.push(callback);\n",
              "    if (root._bokeh_is_loading > 0) {\n",
              "      console.debug(\"Bokeh: BokehJS is being loaded, scheduling callback at\", now());\n",
              "      return null;\n",
              "    }\n",
              "    if (js_urls == null || js_urls.length === 0) {\n",
              "      run_callbacks();\n",
              "      return null;\n",
              "    }\n",
              "    console.debug(\"Bokeh: BokehJS not loaded, scheduling load and callback at\", now());\n",
              "    root._bokeh_is_loading = css_urls.length + js_urls.length;\n",
              "\n",
              "    function on_load() {\n",
              "      root._bokeh_is_loading--;\n",
              "      if (root._bokeh_is_loading === 0) {\n",
              "        console.debug(\"Bokeh: all BokehJS libraries/stylesheets loaded\");\n",
              "        run_callbacks()\n",
              "      }\n",
              "    }\n",
              "\n",
              "    function on_error(url) {\n",
              "      console.error(\"failed to load \" + url);\n",
              "    }\n",
              "\n",
              "    for (let i = 0; i < css_urls.length; i++) {\n",
              "      const url = css_urls[i];\n",
              "      const element = document.createElement(\"link\");\n",
              "      element.onload = on_load;\n",
              "      element.onerror = on_error.bind(null, url);\n",
              "      element.rel = \"stylesheet\";\n",
              "      element.type = \"text/css\";\n",
              "      element.href = url;\n",
              "      console.debug(\"Bokeh: injecting link tag for BokehJS stylesheet: \", url);\n",
              "      document.body.appendChild(element);\n",
              "    }\n",
              "\n",
              "    for (let i = 0; i < js_urls.length; i++) {\n",
              "      const url = js_urls[i];\n",
              "      const element = document.createElement('script');\n",
              "      element.onload = on_load;\n",
              "      element.onerror = on_error.bind(null, url);\n",
              "      element.async = false;\n",
              "      element.src = url;\n",
              "      console.debug(\"Bokeh: injecting script tag for BokehJS library: \", url);\n",
              "      document.head.appendChild(element);\n",
              "    }\n",
              "  };\n",
              "\n",
              "  function inject_raw_css(css) {\n",
              "    const element = document.createElement(\"style\");\n",
              "    element.appendChild(document.createTextNode(css));\n",
              "    document.body.appendChild(element);\n",
              "  }\n",
              "\n",
              "  const js_urls = [\"https://cdn.bokeh.org/bokeh/release/bokeh-3.2.2.min.js\", \"https://cdn.bokeh.org/bokeh/release/bokeh-gl-3.2.2.min.js\", \"https://cdn.bokeh.org/bokeh/release/bokeh-widgets-3.2.2.min.js\", \"https://cdn.bokeh.org/bokeh/release/bokeh-tables-3.2.2.min.js\", \"https://cdn.bokeh.org/bokeh/release/bokeh-mathjax-3.2.2.min.js\"];\n",
              "  const css_urls = [];\n",
              "\n",
              "  const inline_js = [    function(Bokeh) {\n",
              "      Bokeh.set_log_level(\"info\");\n",
              "    },\n",
              "function(Bokeh) {\n",
              "    }\n",
              "  ];\n",
              "\n",
              "  function run_inline_js() {\n",
              "    if (root.Bokeh !== undefined || force === true) {\n",
              "          for (let i = 0; i < inline_js.length; i++) {\n",
              "      inline_js[i].call(root, root.Bokeh);\n",
              "    }\n",
              "} else if (Date.now() < root._bokeh_timeout) {\n",
              "      setTimeout(run_inline_js, 100);\n",
              "    } else if (!root._bokeh_failed_load) {\n",
              "      console.log(\"Bokeh: BokehJS failed to load within specified timeout.\");\n",
              "      root._bokeh_failed_load = true;\n",
              "    } else if (force !== true) {\n",
              "      const cell = $(document.getElementById(null)).parents('.cell').data().cell;\n",
              "      cell.output_area.append_execute_result(NB_LOAD_WARNING)\n",
              "    }\n",
              "  }\n",
              "\n",
              "  if (root._bokeh_is_loading === 0) {\n",
              "    console.debug(\"Bokeh: BokehJS loaded, going straight to plotting\");\n",
              "    run_inline_js();\n",
              "  } else {\n",
              "    load_libs(css_urls, js_urls, function() {\n",
              "      console.debug(\"Bokeh: BokehJS plotting callback run at\", now());\n",
              "      run_inline_js();\n",
              "    });\n",
              "  }\n",
              "}(window));"
            ],
            "application/vnd.bokehjs_load.v0+json": "(function(root) {\n  function now() {\n    return new Date();\n  }\n\n  const force = true;\n\n  if (typeof root._bokeh_onload_callbacks === \"undefined\" || force === true) {\n    root._bokeh_onload_callbacks = [];\n    root._bokeh_is_loading = undefined;\n  }\n\n\n  if (typeof (root._bokeh_timeout) === \"undefined\" || force === true) {\n    root._bokeh_timeout = Date.now() + 5000;\n    root._bokeh_failed_load = false;\n  }\n\n  const NB_LOAD_WARNING = {'data': {'text/html':\n     \"<div style='background-color: #fdd'>\\n\"+\n     \"<p>\\n\"+\n     \"BokehJS does not appear to have successfully loaded. If loading BokehJS from CDN, this \\n\"+\n     \"may be due to a slow or bad network connection. Possible fixes:\\n\"+\n     \"</p>\\n\"+\n     \"<ul>\\n\"+\n     \"<li>re-rerun `output_notebook()` to attempt to load from CDN again, or</li>\\n\"+\n     \"<li>use INLINE resources instead, as so:</li>\\n\"+\n     \"</ul>\\n\"+\n     \"<code>\\n\"+\n     \"from bokeh.resources import INLINE\\n\"+\n     \"output_notebook(resources=INLINE)\\n\"+\n     \"</code>\\n\"+\n     \"</div>\"}};\n\n  function display_loaded() {\n    const el = document.getElementById(null);\n    if (el != null) {\n      el.textContent = \"BokehJS is loading...\";\n    }\n    if (root.Bokeh !== undefined) {\n      if (el != null) {\n        el.textContent = \"BokehJS \" + root.Bokeh.version + \" successfully loaded.\";\n      }\n    } else if (Date.now() < root._bokeh_timeout) {\n      setTimeout(display_loaded, 100)\n    }\n  }\n\n  function run_callbacks() {\n    try {\n      root._bokeh_onload_callbacks.forEach(function(callback) {\n        if (callback != null)\n          callback();\n      });\n    } finally {\n      delete root._bokeh_onload_callbacks\n    }\n    console.debug(\"Bokeh: all callbacks have finished\");\n  }\n\n  function load_libs(css_urls, js_urls, callback) {\n    if (css_urls == null) css_urls = [];\n    if (js_urls == null) js_urls = [];\n\n    root._bokeh_onload_callbacks.push(callback);\n    if (root._bokeh_is_loading > 0) {\n      console.debug(\"Bokeh: BokehJS is being loaded, scheduling callback at\", now());\n      return null;\n    }\n    if (js_urls == null || js_urls.length === 0) {\n      run_callbacks();\n      return null;\n    }\n    console.debug(\"Bokeh: BokehJS not loaded, scheduling load and callback at\", now());\n    root._bokeh_is_loading = css_urls.length + js_urls.length;\n\n    function on_load() {\n      root._bokeh_is_loading--;\n      if (root._bokeh_is_loading === 0) {\n        console.debug(\"Bokeh: all BokehJS libraries/stylesheets loaded\");\n        run_callbacks()\n      }\n    }\n\n    function on_error(url) {\n      console.error(\"failed to load \" + url);\n    }\n\n    for (let i = 0; i < css_urls.length; i++) {\n      const url = css_urls[i];\n      const element = document.createElement(\"link\");\n      element.onload = on_load;\n      element.onerror = on_error.bind(null, url);\n      element.rel = \"stylesheet\";\n      element.type = \"text/css\";\n      element.href = url;\n      console.debug(\"Bokeh: injecting link tag for BokehJS stylesheet: \", url);\n      document.body.appendChild(element);\n    }\n\n    for (let i = 0; i < js_urls.length; i++) {\n      const url = js_urls[i];\n      const element = document.createElement('script');\n      element.onload = on_load;\n      element.onerror = on_error.bind(null, url);\n      element.async = false;\n      element.src = url;\n      console.debug(\"Bokeh: injecting script tag for BokehJS library: \", url);\n      document.head.appendChild(element);\n    }\n  };\n\n  function inject_raw_css(css) {\n    const element = document.createElement(\"style\");\n    element.appendChild(document.createTextNode(css));\n    document.body.appendChild(element);\n  }\n\n  const js_urls = [\"https://cdn.bokeh.org/bokeh/release/bokeh-3.2.2.min.js\", \"https://cdn.bokeh.org/bokeh/release/bokeh-gl-3.2.2.min.js\", \"https://cdn.bokeh.org/bokeh/release/bokeh-widgets-3.2.2.min.js\", \"https://cdn.bokeh.org/bokeh/release/bokeh-tables-3.2.2.min.js\", \"https://cdn.bokeh.org/bokeh/release/bokeh-mathjax-3.2.2.min.js\"];\n  const css_urls = [];\n\n  const inline_js = [    function(Bokeh) {\n      Bokeh.set_log_level(\"info\");\n    },\nfunction(Bokeh) {\n    }\n  ];\n\n  function run_inline_js() {\n    if (root.Bokeh !== undefined || force === true) {\n          for (let i = 0; i < inline_js.length; i++) {\n      inline_js[i].call(root, root.Bokeh);\n    }\n} else if (Date.now() < root._bokeh_timeout) {\n      setTimeout(run_inline_js, 100);\n    } else if (!root._bokeh_failed_load) {\n      console.log(\"Bokeh: BokehJS failed to load within specified timeout.\");\n      root._bokeh_failed_load = true;\n    } else if (force !== true) {\n      const cell = $(document.getElementById(null)).parents('.cell').data().cell;\n      cell.output_area.append_execute_result(NB_LOAD_WARNING)\n    }\n  }\n\n  if (root._bokeh_is_loading === 0) {\n    console.debug(\"Bokeh: BokehJS loaded, going straight to plotting\");\n    run_inline_js();\n  } else {\n    load_libs(css_urls, js_urls, function() {\n      console.debug(\"Bokeh: BokehJS plotting callback run at\", now());\n      run_inline_js();\n    });\n  }\n}(window));"
          },
          "metadata": {}
        },
        {
          "output_type": "display_data",
          "data": {
            "text/html": [
              "\n",
              "  <div id=\"cfff6c8a-65c4-42e0-a361-de43e12f7f52\" data-root-id=\"p1140\" style=\"display: contents;\"></div>\n"
            ]
          },
          "metadata": {}
        },
        {
          "output_type": "display_data",
          "data": {
            "application/javascript": [
              "(function(root) {\n",
              "  function embed_document(root) {\n",
              "  const docs_json = {\"12a5647f-1c31-4028-86e3-7e946142f56b\":{\"version\":\"3.2.2\",\"title\":\"Bokeh Application\",\"roots\":[{\"type\":\"object\",\"name\":\"Figure\",\"id\":\"p1140\",\"attributes\":{\"width\":1000,\"height\":400,\"x_range\":{\"type\":\"object\",\"name\":\"DataRange1d\",\"id\":\"p1141\"},\"y_range\":{\"type\":\"object\",\"name\":\"DataRange1d\",\"id\":\"p1142\"},\"x_scale\":{\"type\":\"object\",\"name\":\"LinearScale\",\"id\":\"p1150\"},\"y_scale\":{\"type\":\"object\",\"name\":\"LinearScale\",\"id\":\"p1151\"},\"title\":{\"type\":\"object\",\"name\":\"Title\",\"id\":\"p1143\",\"attributes\":{\"text\":\"IBM Candlestick Plot\"}},\"renderers\":[{\"type\":\"object\",\"name\":\"GlyphRenderer\",\"id\":\"p1186\",\"attributes\":{\"data_source\":{\"type\":\"object\",\"name\":\"ColumnDataSource\",\"id\":\"p1180\",\"attributes\":{\"selected\":{\"type\":\"object\",\"name\":\"Selection\",\"id\":\"p1181\",\"attributes\":{\"indices\":[],\"line_indices\":[]}},\"selection_policy\":{\"type\":\"object\",\"name\":\"UnionRenderers\",\"id\":\"p1182\"},\"data\":{\"type\":\"map\",\"entries\":[[\"x0\",{\"type\":\"ndarray\",\"array\":{\"type\":\"bytes\",\"data\":\"AAAAxbVTc0IAAMAqCFRzQgAAAFz/VHNCAADAwVFVc0IAAIAnpFVzQgAAQI32VXNCAAAA80hWc0IAAEAkQFdzQgAAAIqSV3NCAADA7+RXc0IAAIBVN1hzQgAAQLuJWHNCAABAUtNZc0IAAAC4JVpzQgAAwB14WnNCAACAg8pac0IAAMC0wVtzQgAAgBoUXHNCAABAgGZcc0IAAADmuFxzQgAAwEsLXXNCAAAAfQJec0IAAMDiVF5zQgAAgEinXnNCAABArvlec0IAAAAUTF9zQgAAQEVDYHNCAAAAq5Vgc0IAAMAQ6GBzQgAAgHY6YXNCAABA3Ixhc0IAAIANhGJzQgAAQHPWYnNCAAAA2Shjc0IAAMA+e2NzQgAAgKTNY3NCAADA1cRkc0IAAIA7F2VzQgAAQKFpZXNCAAAAB7xlc0IAAMBsDmZzQgAAAJ4FZ3NCAADAA1hnc0IAAIBpqmdzQgAAQM/8Z3NCAABAZkZpc0IAAADMmGlzQgAAwDHraXNCAACAlz1qc0IAAED9j2pzQgAAgC6Ha3NCAABAlNlrc0IAAAD6K2xzQgAAwF9+bHNCAACAxdBsc0IAAMD2x21zQgAAgFwabnNCAABAwmxuc0IAAAAov25zQgAAwI0Rb3NC\"},\"shape\":[60],\"dtype\":\"float64\",\"order\":\"little\"}],[\"y0\",{\"type\":\"ndarray\",\"array\":{\"type\":\"bytes\",\"data\":\"w/UoXI8qaEBcj8L1KERoQLgehetROGhAFK5H4XpEaEDD9ShcjzJoQB+F61G4TmhA9ihcj8INaECuR+F6FDZoQDMzMzMzE2hArkfhehQuaEAAAAAAAChoQOxRuB6FO2hASOF6FK5HaEBI4XoUrldoQI/C9Shc52hAUrgehevRaEAfhetRuNZoQB+F61G43mhAPQrXo3DlaEDXo3A9Cs9oQBSuR+F63GhArkfhehQmaUAUrkfhevRoQArXo3A90mhASOF6FK7/aEAzMzMzMyNpQArXo3A9MmlAzczMzMx8aUDNzMzMzKRpQPYoXI/CxWlAcT0K16PwaUApXI/C9dBpQAAAAAAAoGlAcT0K16O4aUBI4XoUrr9pQB+F61G4vmlAPQrXo3D9aUCF61G4HhVqQK5H4XoUFmpAAAAAAAAQakCkcD0K1yNqQK5H4XoUNmpArkfhehRWakCPwvUoXN9pQPYoXI/CtWlAPQrXo3DFaUBI4XoUrrdpQArXo3A9imlAUrgeheuxaUDNzMzMzJRpQNejcD0Kv2lAFK5H4Xr0aUAK16NwPYJpQLgehetRKGlApHA9CtcDaUAzMzMzM+NoQI/C9ShcT2lArkfhehR2aUAfhetRuMZpQD0K16NwBWpA\"},\"shape\":[60],\"dtype\":\"float64\",\"order\":\"little\"}],[\"x1\",{\"type\":\"ndarray\",\"array\":{\"type\":\"bytes\",\"data\":\"AAAAxbVTc0IAAMAqCFRzQgAAAFz/VHNCAADAwVFVc0IAAIAnpFVzQgAAQI32VXNCAAAA80hWc0IAAEAkQFdzQgAAAIqSV3NCAADA7+RXc0IAAIBVN1hzQgAAQLuJWHNCAABAUtNZc0IAAAC4JVpzQgAAwB14WnNCAACAg8pac0IAAMC0wVtzQgAAgBoUXHNCAABAgGZcc0IAAADmuFxzQgAAwEsLXXNCAAAAfQJec0IAAMDiVF5zQgAAgEinXnNCAABArvlec0IAAAAUTF9zQgAAQEVDYHNCAAAAq5Vgc0IAAMAQ6GBzQgAAgHY6YXNCAABA3Ixhc0IAAIANhGJzQgAAQHPWYnNCAAAA2Shjc0IAAMA+e2NzQgAAgKTNY3NCAADA1cRkc0IAAIA7F2VzQgAAQKFpZXNCAAAAB7xlc0IAAMBsDmZzQgAAAJ4FZ3NCAADAA1hnc0IAAIBpqmdzQgAAQM/8Z3NCAABAZkZpc0IAAADMmGlzQgAAwDHraXNCAACAlz1qc0IAAED9j2pzQgAAgC6Ha3NCAABAlNlrc0IAAAD6K2xzQgAAwF9+bHNCAACAxdBsc0IAAMD2x21zQgAAgFwabnNCAABAwmxuc0IAAAAov25zQgAAwI0Rb3NC\"},\"shape\":[60],\"dtype\":\"float64\",\"order\":\"little\"}],[\"y1\",{\"type\":\"ndarray\",\"array\":{\"type\":\"bytes\",\"data\":\"w/UoXI/qZ0DhehSuRxFoQAAAAAAAAGhA16NwPQr/Z0CPwvUoXPdnQJqZmZmZEWhAKVyPwvXoZ0BI4XoUrvdnQMP1KFyP2mdAuB6F61HoZ0AAAAAAAABoQJqZmZmZCWhAH4XrUbgOaEAAAAAAABhoQClcj8L1KGhA7FG4HoWTaEAzMzMzM4NoQPYoXI/CrWhAZmZmZmaOaED2KFyPwp1oQFK4HoXroWhAmpmZmZnJaEBSuB6F65loQFK4HoXrqWhAzczMzMzUaEDXo3A9CvdoQI/C9ShcB2lA7FG4HoUzaUAUrkfhenRpQEjhehSul2lAuB6F61HAaUAAAAAAAJBpQGZmZmZmdmlAmpmZmZmJaUAfhetRuH5pQFK4HoXrkWlACtejcD3KaUAAAAAAAOBpQHE9CtejyGlAcT0K16PAaUC4HoXrUQBqQHsUrkfhAmpA4XoUrkcRakCuR+F6FKZpQB+F61G4jmlApHA9CtdraUA9CtejcEVpQB+F61G4TmlAFK5H4XpUaUCamZmZmVlpQNejcD0KV2lAzczMzMyEaUAAAAAAAABpQHE9CtejsGhAexSuR+HiaEDhehSuR5loQKRwPQrX22hAmpmZmZk5aUDNzMzMzGxpQIXrUbgevWlA\"},\"shape\":[60],\"dtype\":\"float64\",\"order\":\"little\"}]]}}},\"view\":{\"type\":\"object\",\"name\":\"CDSView\",\"id\":\"p1187\",\"attributes\":{\"filter\":{\"type\":\"object\",\"name\":\"AllIndices\",\"id\":\"p1188\"}}},\"glyph\":{\"type\":\"object\",\"name\":\"Segment\",\"id\":\"p1183\",\"attributes\":{\"x0\":{\"type\":\"field\",\"field\":\"x0\"},\"y0\":{\"type\":\"field\",\"field\":\"y0\"},\"x1\":{\"type\":\"field\",\"field\":\"x1\"},\"y1\":{\"type\":\"field\",\"field\":\"y1\"}}},\"nonselection_glyph\":{\"type\":\"object\",\"name\":\"Segment\",\"id\":\"p1184\",\"attributes\":{\"x0\":{\"type\":\"field\",\"field\":\"x0\"},\"y0\":{\"type\":\"field\",\"field\":\"y0\"},\"x1\":{\"type\":\"field\",\"field\":\"x1\"},\"y1\":{\"type\":\"field\",\"field\":\"y1\"},\"line_alpha\":{\"type\":\"value\",\"value\":0.1}}},\"muted_glyph\":{\"type\":\"object\",\"name\":\"Segment\",\"id\":\"p1185\",\"attributes\":{\"x0\":{\"type\":\"field\",\"field\":\"x0\"},\"y0\":{\"type\":\"field\",\"field\":\"y0\"},\"x1\":{\"type\":\"field\",\"field\":\"x1\"},\"y1\":{\"type\":\"field\",\"field\":\"y1\"},\"line_alpha\":{\"type\":\"value\",\"value\":0.2}}}}},{\"type\":\"object\",\"name\":\"GlyphRenderer\",\"id\":\"p1195\",\"attributes\":{\"data_source\":{\"type\":\"object\",\"name\":\"ColumnDataSource\",\"id\":\"p1189\",\"attributes\":{\"selected\":{\"type\":\"object\",\"name\":\"Selection\",\"id\":\"p1190\",\"attributes\":{\"indices\":[],\"line_indices\":[]}},\"selection_policy\":{\"type\":\"object\",\"name\":\"UnionRenderers\",\"id\":\"p1191\"},\"data\":{\"type\":\"map\",\"entries\":[[\"x\",{\"type\":\"ndarray\",\"array\":{\"type\":\"bytes\",\"data\":\"AAAAxbVTc0IAAEAkQFdzQgAAwO/kV3NCAABAu4lYc0IAAEBS01lzQgAAgIPKWnNCAABAgGZcc0IAAMDiVF5zQgAAgEinXnNCAABA3Ixhc0IAAEBz1mJzQgAAgKTNY3NCAACAOxdlc0IAAEChaWVzQgAAwGwOZnNCAACAaapnc0IAAADMmGlzQgAAwDHraXNCAABA/Y9qc0IAAIAuh2tzQgAAAPorbHNCAADAX35sc0IAAIDF0GxzQg==\"},\"shape\":[23],\"dtype\":\"float64\",\"order\":\"little\"}],[\"top\",{\"type\":\"ndarray\",\"array\":{\"type\":\"bytes\",\"data\":\"16NwPQoXaEBSuB6F6yloQFK4HoXrCWhAH4XrUbg2aECPwvUoXDdoQFyPwvUozGhA7FG4HoW7aEAUrkfheuRoQHsUrkfhwmhAKVyPwvXgaUBI4XoUrpdpQBSuR+F6vGlAH4XrUbgOakCuR+F6FO5pQEjhehSuF2pA16NwPQrHaUCuR+F6FJ5pQEjhehSuf2lACtejcD2KaUBI4XoUrpdpQPYoXI/CTWlAKVyPwvUAaUDD9Shcj/poQA==\"},\"shape\":[23],\"dtype\":\"float64\",\"order\":\"little\"}],[\"bottom\",{\"type\":\"ndarray\",\"array\":{\"type\":\"bytes\",\"data\":\"KVyPwvXwZ0CkcD0K1xNoQAAAAAAACGhAPQrXo3AtaEAUrkfheixoQLgehetRuGhAj8L1KFyXaEC4HoXrUahoQHE9CtejuGhAuB6F61HAaUAAAAAAAIhpQI/C9Shcr2lA9ihcj8LlaUDhehSuR+lpQM3MzMzMFGpAmpmZmZnBaUDD9Shcj0ppQMP1KFyPUmlAmpmZmZlZaUDXo3A9CldpQFyPwvUoBGlAuB6F61HwaEAzMzMzM/NoQA==\"},\"shape\":[23],\"dtype\":\"float64\",\"order\":\"little\"}]]}}},\"view\":{\"type\":\"object\",\"name\":\"CDSView\",\"id\":\"p1196\",\"attributes\":{\"filter\":{\"type\":\"object\",\"name\":\"AllIndices\",\"id\":\"p1197\"}}},\"glyph\":{\"type\":\"object\",\"name\":\"VBar\",\"id\":\"p1192\",\"attributes\":{\"x\":{\"type\":\"field\",\"field\":\"x\"},\"width\":{\"type\":\"value\",\"value\":57600000},\"bottom\":{\"type\":\"field\",\"field\":\"bottom\"},\"top\":{\"type\":\"field\",\"field\":\"top\"},\"line_color\":{\"type\":\"value\",\"value\":\"#eb3c40\"},\"fill_color\":{\"type\":\"value\",\"value\":\"#eb3c40\"},\"hatch_color\":{\"type\":\"value\",\"value\":\"#eb3c40\"}}},\"nonselection_glyph\":{\"type\":\"object\",\"name\":\"VBar\",\"id\":\"p1193\",\"attributes\":{\"x\":{\"type\":\"field\",\"field\":\"x\"},\"width\":{\"type\":\"value\",\"value\":57600000},\"bottom\":{\"type\":\"field\",\"field\":\"bottom\"},\"top\":{\"type\":\"field\",\"field\":\"top\"},\"line_color\":{\"type\":\"value\",\"value\":\"#eb3c40\"},\"line_alpha\":{\"type\":\"value\",\"value\":0.1},\"fill_color\":{\"type\":\"value\",\"value\":\"#eb3c40\"},\"fill_alpha\":{\"type\":\"value\",\"value\":0.1},\"hatch_color\":{\"type\":\"value\",\"value\":\"#eb3c40\"},\"hatch_alpha\":{\"type\":\"value\",\"value\":0.1}}},\"muted_glyph\":{\"type\":\"object\",\"name\":\"VBar\",\"id\":\"p1194\",\"attributes\":{\"x\":{\"type\":\"field\",\"field\":\"x\"},\"width\":{\"type\":\"value\",\"value\":57600000},\"bottom\":{\"type\":\"field\",\"field\":\"bottom\"},\"top\":{\"type\":\"field\",\"field\":\"top\"},\"line_color\":{\"type\":\"value\",\"value\":\"#eb3c40\"},\"line_alpha\":{\"type\":\"value\",\"value\":0.2},\"fill_color\":{\"type\":\"value\",\"value\":\"#eb3c40\"},\"fill_alpha\":{\"type\":\"value\",\"value\":0.2},\"hatch_color\":{\"type\":\"value\",\"value\":\"#eb3c40\"},\"hatch_alpha\":{\"type\":\"value\",\"value\":0.2}}}}},{\"type\":\"object\",\"name\":\"GlyphRenderer\",\"id\":\"p1204\",\"attributes\":{\"data_source\":{\"type\":\"object\",\"name\":\"ColumnDataSource\",\"id\":\"p1198\",\"attributes\":{\"selected\":{\"type\":\"object\",\"name\":\"Selection\",\"id\":\"p1199\",\"attributes\":{\"indices\":[],\"line_indices\":[]}},\"selection_policy\":{\"type\":\"object\",\"name\":\"UnionRenderers\",\"id\":\"p1200\"},\"data\":{\"type\":\"map\",\"entries\":[[\"x\",{\"type\":\"ndarray\",\"array\":{\"type\":\"bytes\",\"data\":\"AADAKghUc0IAAABc/1RzQgAAwMFRVXNCAACAJ6RVc0IAAECN9lVzQgAAAPNIVnNCAAAAipJXc0IAAIBVN1hzQgAAALglWnNCAADAHXhac0IAAMC0wVtzQgAAgBoUXHNCAAAA5rhcc0IAAMBLC11zQgAAAH0CXnNCAABArvlec0IAAAAUTF9zQgAAQEVDYHNCAAAAq5Vgc0IAAMAQ6GBzQgAAgHY6YXNCAACADYRic0IAAADZKGNzQgAAwD57Y3NCAADA1cRkc0IAAAAHvGVzQgAAAJ4FZ3NCAADAA1hnc0IAAEDP/GdzQgAAQGZGaXNCAACAlz1qc0IAAECU2WtzQgAAwPbHbXNCAACAXBpuc0IAAEDCbG5zQgAAACi/bnNCAADAjRFvc0I=\"},\"shape\":[37],\"dtype\":\"float64\",\"order\":\"little\"}],[\"top\",{\"type\":\"ndarray\",\"array\":{\"type\":\"bytes\",\"data\":\"9ihcj8IdaECPwvUoXA9oQGZmZmZmDmhAKVyPwvUYaEApXI/C9SBoQLgehetR+GdAuB6F61H4Z0DsUbgehRNoQClcj8L1IGhApHA9Ctc7aEApXI/C9ZhoQAAAAAAAuGhAj8L1KFynaEAzMzMzM6NoQOxRuB6Fy2hASOF6FK7naECPwvUoXP9oQPYoXI/CHWlA16NwPQo3aUApXI/C9XhpQK5H4XoUnmlAH4XrUbi2aUAK16NwPYppQAAAAAAAgGlAZmZmZmbOaUB7FK5H4cJpQB+F61G4HmpAUrgehespakDNzMzMzKRpQM3MzMzMjGlAmpmZmZlZaUAK16NwPZJpQBSuR+F6vGhAUrgehevhaEBxPQrXo0BpQM3MzMzMbGlA16NwPQrPaUA=\"},\"shape\":[37],\"dtype\":\"float64\",\"order\":\"little\"}],[\"bottom\",{\"type\":\"ndarray\",\"array\":{\"type\":\"bytes\",\"data\":\"FK5H4Xo0aEAK16NwPRpoQDMzMzMzK2hAZmZmZmYeaEBcj8L1KCRoQD0K16NwDWhA16NwPQoHaEBxPQrXoyBoQKRwPQrXO2hA7FG4HoWzaEApXI/C9bBoQI/C9Shcv2hAKVyPwvWwaEBSuB6F69loQIXrUbgeFWlAUrgehev5aECkcD0K1xNpQAAAAAAAIGlAKVyPwvV4aUDXo3A9CpdpQAAAAAAAwGlA16NwPQq3aUCuR+F6FJZpQEjhehSur2lAcT0K16P4aUBxPQrXowhqQNejcD0KL2pAAAAAAAAwakDXo3A9Cq9pQK5H4XoUnmlACtejcD2qaUBmZmZmZu5pQKRwPQrX02hAAAAAAAAAaUAK16NwPXJpQMP1KFyPsmlAUrgehevZaUA=\"},\"shape\":[37],\"dtype\":\"float64\",\"order\":\"little\"}]]}}},\"view\":{\"type\":\"object\",\"name\":\"CDSView\",\"id\":\"p1205\",\"attributes\":{\"filter\":{\"type\":\"object\",\"name\":\"AllIndices\",\"id\":\"p1206\"}}},\"glyph\":{\"type\":\"object\",\"name\":\"VBar\",\"id\":\"p1201\",\"attributes\":{\"x\":{\"type\":\"field\",\"field\":\"x\"},\"width\":{\"type\":\"value\",\"value\":57600000},\"bottom\":{\"type\":\"field\",\"field\":\"bottom\"},\"top\":{\"type\":\"field\",\"field\":\"top\"},\"line_color\":{\"type\":\"value\",\"value\":\"green\"},\"line_width\":{\"type\":\"value\",\"value\":2},\"fill_color\":{\"type\":\"value\",\"value\":\"green\"}}},\"nonselection_glyph\":{\"type\":\"object\",\"name\":\"VBar\",\"id\":\"p1202\",\"attributes\":{\"x\":{\"type\":\"field\",\"field\":\"x\"},\"width\":{\"type\":\"value\",\"value\":57600000},\"bottom\":{\"type\":\"field\",\"field\":\"bottom\"},\"top\":{\"type\":\"field\",\"field\":\"top\"},\"line_color\":{\"type\":\"value\",\"value\":\"green\"},\"line_alpha\":{\"type\":\"value\",\"value\":0.1},\"line_width\":{\"type\":\"value\",\"value\":2},\"fill_color\":{\"type\":\"value\",\"value\":\"green\"},\"fill_alpha\":{\"type\":\"value\",\"value\":0.1},\"hatch_alpha\":{\"type\":\"value\",\"value\":0.1}}},\"muted_glyph\":{\"type\":\"object\",\"name\":\"VBar\",\"id\":\"p1203\",\"attributes\":{\"x\":{\"type\":\"field\",\"field\":\"x\"},\"width\":{\"type\":\"value\",\"value\":57600000},\"bottom\":{\"type\":\"field\",\"field\":\"bottom\"},\"top\":{\"type\":\"field\",\"field\":\"top\"},\"line_color\":{\"type\":\"value\",\"value\":\"green\"},\"line_alpha\":{\"type\":\"value\",\"value\":0.2},\"line_width\":{\"type\":\"value\",\"value\":2},\"fill_color\":{\"type\":\"value\",\"value\":\"green\"},\"fill_alpha\":{\"type\":\"value\",\"value\":0.2},\"hatch_alpha\":{\"type\":\"value\",\"value\":0.2}}}}}],\"toolbar\":{\"type\":\"object\",\"name\":\"Toolbar\",\"id\":\"p1149\",\"attributes\":{\"tools\":[{\"type\":\"object\",\"name\":\"PanTool\",\"id\":\"p1174\"},{\"type\":\"object\",\"name\":\"WheelZoomTool\",\"id\":\"p1175\"},{\"type\":\"object\",\"name\":\"BoxZoomTool\",\"id\":\"p1176\",\"attributes\":{\"overlay\":{\"type\":\"object\",\"name\":\"BoxAnnotation\",\"id\":\"p1177\",\"attributes\":{\"syncable\":false,\"level\":\"overlay\",\"visible\":false,\"left_units\":\"canvas\",\"right_units\":\"canvas\",\"bottom_units\":\"canvas\",\"top_units\":\"canvas\",\"line_color\":\"black\",\"line_alpha\":1.0,\"line_width\":2,\"line_dash\":[4,4],\"fill_color\":\"lightgrey\",\"fill_alpha\":0.5}}}},{\"type\":\"object\",\"name\":\"ResetTool\",\"id\":\"p1178\"},{\"type\":\"object\",\"name\":\"SaveTool\",\"id\":\"p1179\"}]}},\"left\":[{\"type\":\"object\",\"name\":\"LinearAxis\",\"id\":\"p1169\",\"attributes\":{\"ticker\":{\"type\":\"object\",\"name\":\"BasicTicker\",\"id\":\"p1170\",\"attributes\":{\"mantissas\":[1,2,5]}},\"formatter\":{\"type\":\"object\",\"name\":\"BasicTickFormatter\",\"id\":\"p1171\"},\"major_label_policy\":{\"type\":\"object\",\"name\":\"AllLabels\",\"id\":\"p1172\"}}}],\"below\":[{\"type\":\"object\",\"name\":\"DatetimeAxis\",\"id\":\"p1152\",\"attributes\":{\"ticker\":{\"type\":\"object\",\"name\":\"DatetimeTicker\",\"id\":\"p1153\",\"attributes\":{\"num_minor_ticks\":5,\"tickers\":[{\"type\":\"object\",\"name\":\"AdaptiveTicker\",\"id\":\"p1154\",\"attributes\":{\"num_minor_ticks\":0,\"mantissas\":[1,2,5],\"max_interval\":500.0}},{\"type\":\"object\",\"name\":\"AdaptiveTicker\",\"id\":\"p1155\",\"attributes\":{\"num_minor_ticks\":0,\"base\":60,\"mantissas\":[1,2,5,10,15,20,30],\"min_interval\":1000.0,\"max_interval\":1800000.0}},{\"type\":\"object\",\"name\":\"AdaptiveTicker\",\"id\":\"p1156\",\"attributes\":{\"num_minor_ticks\":0,\"base\":24,\"mantissas\":[1,2,4,6,8,12],\"min_interval\":3600000.0,\"max_interval\":43200000.0}},{\"type\":\"object\",\"name\":\"DaysTicker\",\"id\":\"p1157\",\"attributes\":{\"days\":[1,2,3,4,5,6,7,8,9,10,11,12,13,14,15,16,17,18,19,20,21,22,23,24,25,26,27,28,29,30,31]}},{\"type\":\"object\",\"name\":\"DaysTicker\",\"id\":\"p1158\",\"attributes\":{\"days\":[1,4,7,10,13,16,19,22,25,28]}},{\"type\":\"object\",\"name\":\"DaysTicker\",\"id\":\"p1159\",\"attributes\":{\"days\":[1,8,15,22]}},{\"type\":\"object\",\"name\":\"DaysTicker\",\"id\":\"p1160\",\"attributes\":{\"days\":[1,15]}},{\"type\":\"object\",\"name\":\"MonthsTicker\",\"id\":\"p1161\",\"attributes\":{\"months\":[0,1,2,3,4,5,6,7,8,9,10,11]}},{\"type\":\"object\",\"name\":\"MonthsTicker\",\"id\":\"p1162\",\"attributes\":{\"months\":[0,2,4,6,8,10]}},{\"type\":\"object\",\"name\":\"MonthsTicker\",\"id\":\"p1163\",\"attributes\":{\"months\":[0,4,8]}},{\"type\":\"object\",\"name\":\"MonthsTicker\",\"id\":\"p1164\",\"attributes\":{\"months\":[0,6]}},{\"type\":\"object\",\"name\":\"YearsTicker\",\"id\":\"p1165\"}]}},\"formatter\":{\"type\":\"object\",\"name\":\"DatetimeTickFormatter\",\"id\":\"p1166\"},\"major_label_orientation\":0.8,\"major_label_policy\":{\"type\":\"object\",\"name\":\"AllLabels\",\"id\":\"p1167\"}}}],\"center\":[{\"type\":\"object\",\"name\":\"Grid\",\"id\":\"p1168\",\"attributes\":{\"axis\":{\"id\":\"p1152\"}}},{\"type\":\"object\",\"name\":\"Grid\",\"id\":\"p1173\",\"attributes\":{\"dimension\":1,\"axis\":{\"id\":\"p1169\"}}}],\"background_fill_color\":\"#efefef\"}}]}};\n",
              "  const render_items = [{\"docid\":\"12a5647f-1c31-4028-86e3-7e946142f56b\",\"roots\":{\"p1140\":\"cfff6c8a-65c4-42e0-a361-de43e12f7f52\"},\"root_ids\":[\"p1140\"]}];\n",
              "  root.Bokeh.embed.embed_items_notebook(docs_json, render_items);\n",
              "  }\n",
              "  if (root.Bokeh !== undefined) {\n",
              "    embed_document(root);\n",
              "  } else {\n",
              "    let attempts = 0;\n",
              "    const timer = setInterval(function(root) {\n",
              "      if (root.Bokeh !== undefined) {\n",
              "        clearInterval(timer);\n",
              "        embed_document(root);\n",
              "      } else {\n",
              "        attempts++;\n",
              "        if (attempts > 100) {\n",
              "          clearInterval(timer);\n",
              "          console.log(\"Bokeh: ERROR: Unable to run BokehJS code because BokehJS library is missing\");\n",
              "        }\n",
              "      }\n",
              "    }, 10, root)\n",
              "  }\n",
              "})(window);"
            ],
            "application/vnd.bokehjs_exec.v0+json": ""
          },
          "metadata": {
            "application/vnd.bokehjs_exec.v0+json": {
              "id": "p1140"
            }
          }
        }
      ]
    },
    {
      "cell_type": "markdown",
      "source": [
        "Output :-\n",
        "\n",
        "![bokeh_plot (3).png](data:image/png;base64,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)"
      ],
      "metadata": {
        "id": "B7U2THgcihNE"
      }
    },
    {
      "cell_type": "markdown",
      "source": [
        "Getting Script and div of above plot"
      ],
      "metadata": {
        "id": "3Uuftw6qilKy"
      }
    },
    {
      "cell_type": "code",
      "source": [
        "from bokeh.embed import components\n",
        "script, div = components(p)"
      ],
      "metadata": {
        "id": "2okYqBZminU9"
      },
      "execution_count": 14,
      "outputs": []
    },
    {
      "cell_type": "code",
      "source": [
        "from bokeh.resources import CDN\n",
        "cdn_js = CDN.js_files"
      ],
      "metadata": {
        "id": "2Mi7HBFEio0z"
      },
      "execution_count": 15,
      "outputs": []
    },
    {
      "cell_type": "code",
      "source": [
        "cdn_js[0]"
      ],
      "metadata": {
        "colab": {
          "base_uri": "https://localhost:8080/",
          "height": 36
        },
        "id": "psi_gV7BiqdZ",
        "outputId": "cfc5a4dc-72f6-40b4-a1a1-22b801b695bf"
      },
      "execution_count": 16,
      "outputs": [
        {
          "output_type": "execute_result",
          "data": {
            "text/plain": [
              "'https://cdn.bokeh.org/bokeh/release/bokeh-3.2.2.min.js'"
            ],
            "application/vnd.google.colaboratory.intrinsic+json": {
              "type": "string"
            }
          },
          "metadata": {},
          "execution_count": 16
        }
      ]
    },
    {
      "cell_type": "markdown",
      "source": [
        "Creating Flask app"
      ],
      "metadata": {
        "id": "RvAFshXAitt6"
      }
    },
    {
      "cell_type": "code",
      "source": [
        "import pandas as pd\n",
        "from bokeh.plotting import figure, show\n",
        "from bokeh.sampledata.stocks import IBM\n",
        "from flask import Flask, render_template\n",
        "from bokeh.embed import components\n",
        "from bokeh.resources import CDN\n",
        "\n",
        "app = Flask(__name__)\n",
        "\n",
        "@app.route('/')\n",
        "def plot_bokeh():\n",
        "    df = pd.DataFrame(IBM)[3000:3060]\n",
        "    df[\"date\"] = pd.to_datetime(df[\"date\"])\n",
        "\n",
        "    inc = df.close > df.open\n",
        "    dec = df.open > df.close\n",
        "    w = 16*60*60*1000 # milliseconds\n",
        "\n",
        "    TOOLS = \"pan,wheel_zoom,box_zoom,reset,save\"\n",
        "\n",
        "    p = figure(x_axis_type=\"datetime\", tools=TOOLS, width=1000, height=400,\n",
        "               title=\"IBM Candlestick Plot\", background_fill_color=\"#efefef\")\n",
        "    p.xaxis.major_label_orientation = 0.8 # radians\n",
        "\n",
        "    p.segment(df.date, df.high, df.date, df.low, color=\"black\")\n",
        "\n",
        "    p.vbar(df.date[dec], w, df.open[dec], df.close[dec], color=\"#eb3c40\")\n",
        "    p.vbar(df.date[inc], w, df.open[inc], df.close[inc], fill_color=\"green\",\n",
        "           line_color=\"green\", line_width=2)\n",
        "\n",
        "    script, div = components(p)\n",
        "    cdn_js = CDN.js_files[0]\n",
        "\n",
        "    return render_template('index.html',cdn_js=cdn_js,script=script,div=div)\n",
        "\n",
        "if __name__ == \"__main__\":\n",
        "    app.run()"
      ],
      "metadata": {
        "colab": {
          "base_uri": "https://localhost:8080/"
        },
        "id": "DG0ilrZEiubt",
        "outputId": "8777b107-a851-419c-9577-cd174a679d99"
      },
      "execution_count": 17,
      "outputs": [
        {
          "output_type": "stream",
          "name": "stdout",
          "text": [
            " * Serving Flask app '__main__'\n",
            " * Debug mode: off\n"
          ]
        },
        {
          "output_type": "stream",
          "name": "stderr",
          "text": [
            "INFO:werkzeug:\u001b[31m\u001b[1mWARNING: This is a development server. Do not use it in a production deployment. Use a production WSGI server instead.\u001b[0m\n",
            " * Running on http://127.0.0.1:5000\n",
            "INFO:werkzeug:\u001b[33mPress CTRL+C to quit\u001b[0m\n"
          ]
        }
      ]
    },
    {
      "cell_type": "markdown",
      "source": [
        "![image.png](data:image/png;base64,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)"
      ],
      "metadata": {
        "id": "BNv_S0FMlkhs"
      }
    },
    {
      "cell_type": "markdown",
      "source": [
        "Code of index.html"
      ],
      "metadata": {
        "id": "MEZE6hZEltlf"
      }
    },
    {
      "cell_type": "markdown",
      "source": [
        "```<!doctype html>\n",
        "\n",
        "<html lang=\"en\">\n",
        "<head>\n",
        "  <meta charset=\"utf-8\">\n",
        "  <script type=\"text/javascript\" src={{ cdn_js | safe }}></script>\n",
        "  <title>Bokeh Flask App</title>\n",
        "</head>\n",
        "\n",
        "<body>\n",
        "  <div>\n",
        "    <h3>This is a candlestick plot for IBM Stock</h3>\n",
        "  </div>\n",
        "  {{ script|safe }}\n",
        "  {{ div | safe}}\n",
        "</body>\n",
        "</html>```\n",
        "\n"
      ],
      "metadata": {
        "id": "bMo29x4vmL3a"
      }
    }
  ]
}