{
 "cells": [
  {
   "cell_type": "markdown",
   "metadata": {},
   "source": [
    "# <p style=\"padding:10px;background-color:#87CEEB ;margin:10;color:#000000;font-family:newtimeroman;font-size:100%;text-align:center;border-radius: 10px 10px ;overflow:hidden;font-weight:50\">Part 1: Theoretical Questions</p>"
   ]
  },
  {
   "cell_type": "markdown",
   "metadata": {},
   "source": [
    "## Q1. What is different data structures used in Tensorflow ? Give some examples\n",
    "---"
   ]
  },
  {
   "cell_type": "markdown",
   "metadata": {},
   "source": [
    "## Answer :"
   ]
  },
  {
   "cell_type": "markdown",
   "metadata": {},
   "source": [
    "### TensorFlow, a popular open-source machine learning framework, provides several different data structures to efficiently handle and manipulate data for building and training machine learning models. Some of the key data structures used in TensorFlow include:\n",
    "\n",
    "1. `Tensors` : Tensors are the fundamental building blocks in TensorFlow. They are n-dimensional arrays that represent the data in the computation graph. Tensors can be scalars (0-dimensional), vectors (1-dimensional), matrices (2-dimensional), or higher-dimensional arrays. TensorFlow tensors can be created using functions like tf.constant(), tf.Variable(), and by performing various operations on existing tensors."
   ]
  },
  {
   "cell_type": "code",
   "execution_count": 1,
   "metadata": {},
   "outputs": [],
   "source": [
    "import tensorflow as tf\n",
    "\n",
    "# Creating tensors\n",
    "scalar = tf.constant(5)\n",
    "vector = tf.constant([1, 2, 3])\n",
    "matrix = tf.constant([[1, 2], [3, 4]])"
   ]
  },
  {
   "cell_type": "code",
   "execution_count": 2,
   "metadata": {},
   "outputs": [
    {
     "data": {
      "text/plain": [
       "<tf.Tensor: shape=(), dtype=int32, numpy=5>"
      ]
     },
     "execution_count": 2,
     "metadata": {},
     "output_type": "execute_result"
    }
   ],
   "source": [
    "scalar"
   ]
  },
  {
   "cell_type": "code",
   "execution_count": 3,
   "metadata": {},
   "outputs": [
    {
     "data": {
      "text/plain": [
       "<tf.Tensor: shape=(3,), dtype=int32, numpy=array([1, 2, 3])>"
      ]
     },
     "execution_count": 3,
     "metadata": {},
     "output_type": "execute_result"
    }
   ],
   "source": [
    "vector"
   ]
  },
  {
   "cell_type": "code",
   "execution_count": 4,
   "metadata": {},
   "outputs": [
    {
     "data": {
      "text/plain": [
       "<tf.Tensor: shape=(2, 2), dtype=int32, numpy=\n",
       "array([[1, 2],\n",
       "       [3, 4]])>"
      ]
     },
     "execution_count": 4,
     "metadata": {},
     "output_type": "execute_result"
    }
   ],
   "source": [
    "matrix"
   ]
  },
  {
   "cell_type": "markdown",
   "metadata": {},
   "source": [
    "2. `Variables`: TensorFlow Variables are special tensors that can hold mutable state. They are often used to store model parameters that need to be learned during training. Variables are typically initialized with some initial values and then updated through operations."
   ]
  },
  {
   "cell_type": "code",
   "execution_count": 5,
   "metadata": {},
   "outputs": [],
   "source": [
    "# Creating a variable\n",
    "initial_value = tf.random.normal(shape=(3, 3))\n",
    "model_weights = tf.Variable(initial_value)"
   ]
  },
  {
   "cell_type": "code",
   "execution_count": 6,
   "metadata": {},
   "outputs": [
    {
     "data": {
      "text/plain": [
       "<tf.Tensor: shape=(3, 3), dtype=float32, numpy=\n",
       "array([[ 1.5848066 , -0.5739986 ,  0.54276234],\n",
       "       [-0.5992302 ,  0.66022646, -0.63603985],\n",
       "       [-0.55673915,  0.06151083,  0.03655427]], dtype=float32)>"
      ]
     },
     "execution_count": 6,
     "metadata": {},
     "output_type": "execute_result"
    }
   ],
   "source": [
    "initial_value"
   ]
  },
  {
   "cell_type": "code",
   "execution_count": 7,
   "metadata": {},
   "outputs": [
    {
     "data": {
      "text/plain": [
       "<tf.Variable 'Variable:0' shape=(3, 3) dtype=float32, numpy=\n",
       "array([[ 1.5848066 , -0.5739986 ,  0.54276234],\n",
       "       [-0.5992302 ,  0.66022646, -0.63603985],\n",
       "       [-0.55673915,  0.06151083,  0.03655427]], dtype=float32)>"
      ]
     },
     "execution_count": 7,
     "metadata": {},
     "output_type": "execute_result"
    }
   ],
   "source": [
    "model_weights"
   ]
  },
  {
   "cell_type": "markdown",
   "metadata": {},
   "source": [
    "3. `Constants`: Constants are tensors with fixed values that remain unchanged throughout the computation. They are often used for providing constant inputs or values to the computation graph."
   ]
  },
  {
   "cell_type": "code",
   "execution_count": 8,
   "metadata": {},
   "outputs": [],
   "source": [
    "# Creating a constant\n",
    "pi = tf.constant(3.14159)"
   ]
  },
  {
   "cell_type": "code",
   "execution_count": 9,
   "metadata": {},
   "outputs": [
    {
     "data": {
      "text/plain": [
       "<tf.Tensor: shape=(), dtype=float32, numpy=3.14159>"
      ]
     },
     "execution_count": 9,
     "metadata": {},
     "output_type": "execute_result"
    }
   ],
   "source": [
    "pi"
   ]
  },
  {
   "cell_type": "markdown",
   "metadata": {},
   "source": [
    "4. `Placeholders (Deprecated)`: In older versions of TensorFlow (before TensorFlow 2.0), placeholders were used to feed data into the computation graph during training. However, placeholders have been deprecated in favor of the new tf.data API and eager execution in TensorFlow 2.0 and later.\n",
    "\n",
    "5. `Sparse Tensors`: Sparse tensors are designed to efficiently represent tensors with a large number of zero elements. They are useful for tasks involving sparse data, such as natural language processing or certain types of neural networks."
   ]
  },
  {
   "cell_type": "code",
   "execution_count": 10,
   "metadata": {},
   "outputs": [],
   "source": [
    "indices = [[0, 1], [1, 2]]\n",
    "values = [1, 2]\n",
    "shape = [3, 4]\n",
    "sparse_tensor = tf.SparseTensor(indices, values, shape)"
   ]
  },
  {
   "cell_type": "code",
   "execution_count": 11,
   "metadata": {},
   "outputs": [
    {
     "data": {
      "text/plain": [
       "SparseTensor(indices=tf.Tensor(\n",
       "[[0 1]\n",
       " [1 2]], shape=(2, 2), dtype=int64), values=tf.Tensor([1 2], shape=(2,), dtype=int32), dense_shape=tf.Tensor([3 4], shape=(2,), dtype=int64))"
      ]
     },
     "execution_count": 11,
     "metadata": {},
     "output_type": "execute_result"
    }
   ],
   "source": [
    "sparse_tensor"
   ]
  },
  {
   "cell_type": "markdown",
   "metadata": {},
   "source": [
    "6. `Ragged Tensors`: Ragged tensors are used to represent tensors with varying lengths along one or more dimensions. They are useful for sequences or nested data structures."
   ]
  },
  {
   "cell_type": "code",
   "execution_count": 12,
   "metadata": {},
   "outputs": [],
   "source": [
    "# Creating a ragged tensor\n",
    "values = tf.ragged.constant([[1, 2], [3, 4, 5], [6]])"
   ]
  },
  {
   "cell_type": "code",
   "execution_count": 13,
   "metadata": {},
   "outputs": [
    {
     "data": {
      "text/plain": [
       "<tf.RaggedTensor [[1, 2], [3, 4, 5], [6]]>"
      ]
     },
     "execution_count": 13,
     "metadata": {},
     "output_type": "execute_result"
    }
   ],
   "source": [
    "values"
   ]
  },
  {
   "cell_type": "markdown",
   "metadata": {},
   "source": [
    "7. `TensorArray`: TensorArray is a dynamic data structure that allows you to store tensors of different shapes and sizes. It's often used in dynamic loop constructs."
   ]
  },
  {
   "cell_type": "code",
   "execution_count": 14,
   "metadata": {},
   "outputs": [],
   "source": [
    "# Creating a TensorArray\n",
    "ta = tf.TensorArray(dtype=tf.float32, size=0, dynamic_size=True)"
   ]
  },
  {
   "cell_type": "code",
   "execution_count": 15,
   "metadata": {},
   "outputs": [
    {
     "data": {
      "text/plain": [
       "<tensorflow.python.ops.tensor_array_ops.TensorArray at 0x1bb186c7f80>"
      ]
     },
     "execution_count": 15,
     "metadata": {},
     "output_type": "execute_result"
    }
   ],
   "source": [
    "ta"
   ]
  },
  {
   "cell_type": "markdown",
   "metadata": {},
   "source": [
    "### These are some of the key data structures used in TensorFlow. TensorFlow's flexible and powerful data structure system allows developers to efficiently build and train a wide variety of machine learning models\n",
    "---\n",
    "---"
   ]
  },
  {
   "cell_type": "markdown",
   "metadata": {},
   "source": [
    "## Q2. How does TensorFlow constant differ from TensorFlow Variable? Explain with example\n",
    "---"
   ]
  },
  {
   "cell_type": "markdown",
   "metadata": {},
   "source": [
    "## Answer :"
   ]
  },
  {
   "cell_type": "markdown",
   "metadata": {},
   "source": [
    "### Both TensorFlow constants and variables are fundamental data structures, but they have different purposes and behaviors within a TensorFlow computation graph.\n",
    "\n",
    "## TensorFlow Constants:\n",
    "- Constants are tensors with fixed values that remain unchanged throughout the computation.\n",
    "- They are typically used to provide inputs or fixed values to the computation graph.\n",
    "- Constants cannot be modified or updated after they are created.\n",
    "\n",
    "## TensorFlow Variables:\n",
    "- Variables are tensors that hold mutable state, often used for model parameters that need to be learned during training.\n",
    "- They are initialized with initial values and can be updated through operations like assignments.\n",
    "- Variables can be used to store and update values as the model iteratively adjusts its parameters during training.\n",
    "\n",
    "Let's illustrate the difference with examples:"
   ]
  },
  {
   "cell_type": "markdown",
   "metadata": {},
   "source": [
    "**Example of TensorFlow Constant:**"
   ]
  },
  {
   "cell_type": "code",
   "execution_count": 16,
   "metadata": {},
   "outputs": [
    {
     "name": "stdout",
     "output_type": "stream",
     "text": [
      "Error: 'tensorflow.python.framework.ops.EagerTensor' object has no attribute 'assign'\n"
     ]
    }
   ],
   "source": [
    "import tensorflow as tf\n",
    "\n",
    "# Creating a constant\n",
    "a = tf.constant(5)\n",
    "\n",
    "# Attempting to assign a new value to a constant will result in an error\n",
    "try:\n",
    "    a.assign(8)  # This will raise an error\n",
    "except Exception as e:\n",
    "    print(\"Error:\", e)"
   ]
  },
  {
   "cell_type": "markdown",
   "metadata": {},
   "source": [
    "**Example of TensorFlow Variable:**"
   ]
  },
  {
   "cell_type": "code",
   "execution_count": 17,
   "metadata": {},
   "outputs": [
    {
     "name": "stdout",
     "output_type": "stream",
     "text": [
      "Initial 'b': <tf.Variable 'Variable:0' shape=(3, 3) dtype=float32, numpy=\n",
      "array([[-1.0542845 ,  0.9187891 , -0.4825596 ],\n",
      "       [-0.31403294, -0.58701456, -0.43116364],\n",
      "       [ 1.847034  , -1.1243069 , -1.8634386 ]], dtype=float32)>\n",
      "\n",
      "Updated 'b': <tf.Variable 'Variable:0' shape=(3, 3) dtype=float32, numpy=\n",
      "array([[ 2.0693793 ,  1.2796758 , -1.6522288 ],\n",
      "       [-1.7688705 ,  0.42249998, -0.1494538 ],\n",
      "       [-0.2829799 ,  1.2352597 ,  1.1740432 ]], dtype=float32)>\n"
     ]
    }
   ],
   "source": [
    "import tensorflow as tf\n",
    "\n",
    "# Creating a variable with an initial value\n",
    "initial_value = tf.random.normal(shape=(3, 3))\n",
    "b = tf.Variable(initial_value)\n",
    "\n",
    "print(\"Initial 'b':\",b)\n",
    "\n",
    "# Assigning a new value to the variable using the assign() operation\n",
    "new_value = tf.random.normal(shape=(3, 3))\n",
    "b.assign(new_value)\n",
    "\n",
    "# Now 'b' holds the new value assigned to it\n",
    "print(\"\\nUpdated 'b':\", b)"
   ]
  },
  {
   "cell_type": "markdown",
   "metadata": {},
   "source": [
    "### In the second example, you can see that a TensorFlow variable b is created with an initial value. Unlike constants, variables can be assigned new values using the assign() operation. This capability is crucial during the training process, where model parameters (weights and biases) are updated iteratively to minimize the loss function.\n",
    "\n",
    "### In summary, constants are used to provide fixed inputs or values, while variables are used to hold and update mutable state, often representing model parameters.\n",
    "\n",
    "---\n",
    "---"
   ]
  },
  {
   "cell_type": "markdown",
   "metadata": {},
   "source": [
    "## Q3. Describe the process of matrix addition, multiplication and element wise operations in Tensorflow.\n",
    "--- "
   ]
  },
  {
   "cell_type": "markdown",
   "metadata": {},
   "source": [
    "## Answer :"
   ]
  },
  {
   "cell_type": "markdown",
   "metadata": {},
   "source": [
    "### 1.Matrix Addition:\n",
    "\n",
    "Matrix addition is a basic arithmetic operation where corresponding elements of two matrices are added together to create a new matrix of the same dimensions. In TensorFlow, you can perform matrix addition using the tf.add() function or by using the + operator."
   ]
  },
  {
   "cell_type": "code",
   "execution_count": 18,
   "metadata": {},
   "outputs": [
    {
     "name": "stdout",
     "output_type": "stream",
     "text": [
      "Matrix Addition Result:\n",
      "[[ 6  8]\n",
      " [10 12]]\n",
      "[[ 6  8]\n",
      " [10 12]]\n"
     ]
    }
   ],
   "source": [
    "import tensorflow as tf\n",
    "\n",
    "# Define two matrices\n",
    "matrix_a = tf.constant([[1, 2], [3, 4]])\n",
    "matrix_b = tf.constant([[5, 6], [7, 8]])\n",
    "\n",
    "# Perform matrix addition\n",
    "result = tf.add(matrix_a, matrix_b)\n",
    "\n",
    "# Alternatively, you can use the + operator\n",
    "result_alternative = matrix_a + matrix_b\n",
    "\n",
    "print(\"Matrix Addition Result:\")\n",
    "print(result.numpy())\n",
    "print(result_alternative.numpy())"
   ]
  },
  {
   "cell_type": "markdown",
   "metadata": {},
   "source": [
    "### 2. Matrix Multiplication:\n",
    "\n",
    "Matrix multiplication is a more complex operation where the dot product of rows and columns of two matrices results in a new matrix. TensorFlow provides the tf.matmul() function to perform matrix multiplication."
   ]
  },
  {
   "cell_type": "code",
   "execution_count": 19,
   "metadata": {},
   "outputs": [
    {
     "name": "stdout",
     "output_type": "stream",
     "text": [
      "Matrix Multiplication Result:\n",
      "[[19 22]\n",
      " [43 50]]\n"
     ]
    }
   ],
   "source": [
    "import tensorflow as tf\n",
    "\n",
    "# Define two matrices\n",
    "matrix_a = tf.constant([[1, 2], [3, 4]])\n",
    "matrix_b = tf.constant([[5, 6], [7, 8]])\n",
    "\n",
    "# Perform matrix multiplication\n",
    "result = tf.matmul(matrix_a, matrix_b)\n",
    "\n",
    "print(\"Matrix Multiplication Result:\")\n",
    "print(result.numpy())"
   ]
  },
  {
   "cell_type": "markdown",
   "metadata": {},
   "source": [
    "### 3. Element-wise Operations:\n",
    "Element-wise operations involve applying an operation to each corresponding element of two matrices (or a matrix and a scalar). TensorFlow allows you to perform a variety of element-wise operations, such as addition, subtraction, multiplication, division, and more."
   ]
  },
  {
   "cell_type": "code",
   "execution_count": 20,
   "metadata": {},
   "outputs": [
    {
     "name": "stdout",
     "output_type": "stream",
     "text": [
      "Element-wise Addition Result:\n",
      "[[3 4]\n",
      " [5 6]]\n",
      "Element-wise Multiplication Result:\n",
      "[[2 4]\n",
      " [6 8]]\n"
     ]
    }
   ],
   "source": [
    "import tensorflow as tf\n",
    "\n",
    "# Define a matrix and a scalar\n",
    "matrix = tf.constant([[1, 2], [3, 4]])\n",
    "scalar = 2\n",
    "\n",
    "# Perform element-wise addition\n",
    "result_add = matrix + scalar\n",
    "\n",
    "# Perform element-wise multiplication\n",
    "result_multiply = matrix * scalar\n",
    "\n",
    "print(\"Element-wise Addition Result:\")\n",
    "print(result_add.numpy())\n",
    "\n",
    "print(\"Element-wise Multiplication Result:\")\n",
    "print(result_multiply.numpy())"
   ]
  },
  {
   "cell_type": "markdown",
   "metadata": {},
   "source": [
    "### In TensorFlow, these operations are efficiently handled using optimized numerical libraries, such as Intel MKL and NVIDIA cuBLAS, for CPU and GPU computation, respectively. These libraries allow TensorFlow to take advantage of hardware acceleration for faster computation.\n",
    "\n",
    "### Remember that proper matrix dimensions and compatibility are crucial for matrix multiplication. The number of columns in the first matrix must match the number of rows in the second matrix for successful matrix multiplication. Element-wise operations require matrices or tensors to have the same shape or be broadcastable.\n",
    "\n",
    "---\n",
    "---"
   ]
  },
  {
   "cell_type": "markdown",
   "metadata": {},
   "source": [
    "# <p style=\"padding:10px;background-color:#87CEEB ;margin:10;color:#000000;font-family:newtimeroman;font-size:100%;text-align:center;border-radius: 10px 10px ;overflow:hidden;font-weight:50\">Part 2: Practical Implementation</p>"
   ]
  },
  {
   "cell_type": "markdown",
   "metadata": {},
   "source": [
    "# Task 1 : Creating and Manipulating matrices\n",
    "---"
   ]
  },
  {
   "cell_type": "markdown",
   "metadata": {},
   "source": [
    "## Q1. Create a normal matrix A with dimensions 3x3, using Tensorflows random normal function. Display the value of matrix A.\n",
    "---"
   ]
  },
  {
   "cell_type": "markdown",
   "metadata": {},
   "source": [
    "## Answer : "
   ]
  },
  {
   "cell_type": "code",
   "execution_count": 21,
   "metadata": {},
   "outputs": [
    {
     "name": "stdout",
     "output_type": "stream",
     "text": [
      "Matrix A:\n",
      "tf.Tensor(\n",
      "[[-0.01150752  1.3407172  -1.1315583 ]\n",
      " [ 0.3405222   0.1820937   1.0297903 ]\n",
      " [ 1.8228894   1.0081108  -0.8736245 ]], shape=(3, 3), dtype=float32)\n"
     ]
    }
   ],
   "source": [
    "import tensorflow as tf\n",
    "\n",
    "# Create a 3x3 matrix with random values from a normal distribution\n",
    "A = tf.random.normal(shape=(3, 3))\n",
    "\n",
    "# Display the value of matrix A\n",
    "print(\"Matrix A:\")\n",
    "print(A)"
   ]
  },
  {
   "cell_type": "markdown",
   "metadata": {},
   "source": [
    "## Q2. Create a Gaussian Matrix B with dimension 4X4, using truncated_normal function. Display the values of Matrix B\n",
    "---"
   ]
  },
  {
   "cell_type": "code",
   "execution_count": 22,
   "metadata": {},
   "outputs": [
    {
     "name": "stdout",
     "output_type": "stream",
     "text": [
      "Matrix B:\n",
      "[[ 1.0760449   0.05981957 -1.2490033   0.38080743]\n",
      " [ 0.74258524  0.5817177   0.7385034   0.9984532 ]\n",
      " [-0.48876092 -1.3877549   0.88926667  1.3304393 ]\n",
      " [-0.48128867 -0.94503653 -1.0297993  -1.2660013 ]]\n"
     ]
    }
   ],
   "source": [
    "import tensorflow as tf\n",
    "\n",
    "# Define the dimensions of the matrix\n",
    "matrix_shape = (4, 4)\n",
    "\n",
    "# Generate a Gaussian matrix using truncated normal distribution\n",
    "mean = 0\n",
    "stddev = 1\n",
    "B = tf.random.truncated_normal(shape=matrix_shape, mean=mean, stddev=stddev)\n",
    "\n",
    "# Display the generated matrix\n",
    "print(\"Matrix B:\")\n",
    "print(B.numpy())"
   ]
  },
  {
   "cell_type": "markdown",
   "metadata": {},
   "source": [
    "## Q3. Create a Gaussian Matrix C with dimension 2X2, where values are drawn from normal distribution with a mean of 3 and a standard deviation of 0.5, using Tensorflow's random.normal function Display values of matrix C.\n",
    "---"
   ]
  },
  {
   "cell_type": "markdown",
   "metadata": {},
   "source": [
    "## Answer:"
   ]
  },
  {
   "cell_type": "code",
   "execution_count": 23,
   "metadata": {},
   "outputs": [
    {
     "name": "stdout",
     "output_type": "stream",
     "text": [
      "Matrix C:\n",
      "[[2.9238417 2.867147 ]\n",
      " [2.7902782 3.5543659]]\n"
     ]
    }
   ],
   "source": [
    "import tensorflow as tf\n",
    "\n",
    "# Define the dimensions of the matrix\n",
    "matrix_shape = (2, 2)\n",
    "\n",
    "# Generate a Gaussian matrix using normal distribution\n",
    "mean = 3.0\n",
    "stddev = 0.5\n",
    "C = tf.random.normal(shape=matrix_shape, mean=mean, stddev=stddev)\n",
    "\n",
    "# Display the generated matrix\n",
    "print(\"Matrix C:\")\n",
    "print(C.numpy())"
   ]
  },
  {
   "cell_type": "markdown",
   "metadata": {},
   "source": [
    "## Q4. Perform matrix addition between matrix A and matrix B and store the results in matrix D\n",
    "---"
   ]
  },
  {
   "cell_type": "markdown",
   "metadata": {},
   "source": [
    "## Answer:"
   ]
  },
  {
   "cell_type": "markdown",
   "metadata": {},
   "source": [
    "### Matrix A has shape (3,3) while matrix B has shape(4,4) it is not possible to add these matrices as shapes are different \n",
    "Below is alternate example to show matrix addition"
   ]
  },
  {
   "cell_type": "code",
   "execution_count": 24,
   "metadata": {},
   "outputs": [
    {
     "name": "stdout",
     "output_type": "stream",
     "text": [
      "Matrix 1 :\n",
      " [[-0.18440172  2.0316737 ]\n",
      " [-0.4196326  -1.5314165 ]]\n",
      "\n",
      "Matrix 2 :\n",
      " [[-0.34275904 -1.0725524 ]\n",
      " [-0.12966597  0.05023339]]\n",
      "\n",
      "Matrix D :\n",
      " [[-0.52716076  0.9591212 ]\n",
      " [-0.5492986  -1.4811832 ]]\n"
     ]
    }
   ],
   "source": [
    "matrix1 = tf.random.normal(shape=(2,2))\n",
    "matrix2 = tf.random.normal(shape=(2,2))\n",
    "D = tf.add(matrix1, matrix2)\n",
    "print(f'Matrix 1 :\\n {matrix1.numpy()}')\n",
    "print(f'\\nMatrix 2 :\\n {matrix2.numpy()}')\n",
    "print(f'\\nMatrix D :\\n {D.numpy()}')"
   ]
  },
  {
   "cell_type": "markdown",
   "metadata": {},
   "source": [
    "## Q5. Perform matrix multiplication between  matrix C and matrix D and store result in matrix E\n",
    "---"
   ]
  },
  {
   "cell_type": "markdown",
   "metadata": {},
   "source": [
    "## Answer :"
   ]
  },
  {
   "cell_type": "code",
   "execution_count": 25,
   "metadata": {},
   "outputs": [
    {
     "name": "stdout",
     "output_type": "stream",
     "text": [
      "Matrix C :\n",
      "[[2.9238417 2.867147 ]\n",
      " [2.7902782 3.5543659]]\n",
      "\n",
      "Matrix D :\n",
      "[[-0.52716076  0.9591212 ]\n",
      " [-0.5492986  -1.4811832 ]]\n",
      "\n",
      "Matrix E = CxD:\n",
      "[[-3.1162543 -1.4424512]\n",
      " [-3.4233334 -2.588452 ]]\n"
     ]
    }
   ],
   "source": [
    "E = tf.matmul(C,D)\n",
    "\n",
    "print(f'Matrix C :\\n{C.numpy()}')\n",
    "print(f'\\nMatrix D :\\n{D.numpy()}')\n",
    "print(f'\\nMatrix E = CxD:\\n{E.numpy()}')"
   ]
  },
  {
   "cell_type": "markdown",
   "metadata": {},
   "source": [
    "---\n",
    "---"
   ]
  },
  {
   "cell_type": "markdown",
   "metadata": {},
   "source": [
    "# Task 2: Performing additional matrix operations\n",
    "---"
   ]
  },
  {
   "cell_type": "markdown",
   "metadata": {},
   "source": [
    "## Q1. Create a matrix F with dimensions 3x3, initialized random values using Tensorflows random_uniform function.\n",
    "---"
   ]
  },
  {
   "cell_type": "markdown",
   "metadata": {},
   "source": [
    "## Answer :"
   ]
  },
  {
   "cell_type": "code",
   "execution_count": 26,
   "metadata": {},
   "outputs": [
    {
     "name": "stdout",
     "output_type": "stream",
     "text": [
      "Matrix F :\n",
      "[[0.29922867 0.36811936 0.25376344]\n",
      " [0.9044229  0.5555639  0.39746737]\n",
      " [0.9609295  0.3836105  0.48168707]]\n"
     ]
    }
   ],
   "source": [
    "# Create a matrix F\n",
    "F = tf.random.uniform(shape=(3,3))\n",
    "print(f'Matrix F :\\n{F.numpy()}')"
   ]
  },
  {
   "cell_type": "markdown",
   "metadata": {},
   "source": [
    "## Q2. Calculate Transpose of Matrix F and store in Matrix G\n",
    "---"
   ]
  },
  {
   "cell_type": "markdown",
   "metadata": {},
   "source": [
    "## Answer :"
   ]
  },
  {
   "cell_type": "code",
   "execution_count": 27,
   "metadata": {},
   "outputs": [
    {
     "name": "stdout",
     "output_type": "stream",
     "text": [
      "Matrix G :\n",
      "[[0.29922867 0.9044229  0.9609295 ]\n",
      " [0.36811936 0.5555639  0.3836105 ]\n",
      " [0.25376344 0.39746737 0.48168707]]\n"
     ]
    }
   ],
   "source": [
    "# Transpose the F matrix\n",
    "G = tf.transpose(F)\n",
    "\n",
    "# Print the matrix\n",
    "print(f'Matrix G :\\n{G.numpy()}')"
   ]
  },
  {
   "cell_type": "markdown",
   "metadata": {},
   "source": [
    "## Q3. Calculate element wise exponential of Matrix F and store the result in matrix H\n",
    "---"
   ]
  },
  {
   "cell_type": "markdown",
   "metadata": {},
   "source": [
    "## Answer :"
   ]
  },
  {
   "cell_type": "code",
   "execution_count": 28,
   "metadata": {},
   "outputs": [
    {
     "name": "stdout",
     "output_type": "stream",
     "text": [
      "Matrix H :\n",
      "[[1.3488181 1.4450145 1.2888669]\n",
      " [2.4705057 1.7429236 1.4880512]\n",
      " [2.6141253 1.4675736 1.6188031]]\n"
     ]
    }
   ],
   "source": [
    "# Element wise exponent\n",
    "H = tf.math.exp(F)\n",
    "\n",
    "# Print matrix H\n",
    "print(f'Matrix H :\\n{H.numpy()}')"
   ]
  },
  {
   "cell_type": "markdown",
   "metadata": {},
   "source": [
    "## Q4. Create a matrix I by concatenating Matrix F and matrix G horizontally\n",
    "---"
   ]
  },
  {
   "cell_type": "markdown",
   "metadata": {},
   "source": [
    "## Answer :"
   ]
  },
  {
   "cell_type": "code",
   "execution_count": 29,
   "metadata": {},
   "outputs": [
    {
     "name": "stdout",
     "output_type": "stream",
     "text": [
      "Matrix F:\n",
      "[[0.29922867 0.36811936 0.25376344]\n",
      " [0.9044229  0.5555639  0.39746737]\n",
      " [0.9609295  0.3836105  0.48168707]]\n",
      "\n",
      "Matrix G:\n",
      "[[0.29922867 0.9044229  0.9609295 ]\n",
      " [0.36811936 0.5555639  0.3836105 ]\n",
      " [0.25376344 0.39746737 0.48168707]]\n",
      "\n",
      "Matrix I (Concatenated Horizontally):\n",
      "[[0.29922867 0.36811936 0.25376344 0.29922867 0.9044229  0.9609295 ]\n",
      " [0.9044229  0.5555639  0.39746737 0.36811936 0.5555639  0.3836105 ]\n",
      " [0.9609295  0.3836105  0.48168707 0.25376344 0.39746737 0.48168707]]\n"
     ]
    }
   ],
   "source": [
    "# Concatenate matrices F and G horizontally to create matrix I\n",
    "I = tf.concat([F, G], axis=1)\n",
    "\n",
    "# Display the original matrices and the concatenated matrix\n",
    "print(\"Matrix F:\")\n",
    "print(F.numpy())\n",
    "\n",
    "print(\"\\nMatrix G:\")\n",
    "print(G.numpy())\n",
    "\n",
    "print(\"\\nMatrix I (Concatenated Horizontally):\")\n",
    "print(I.numpy())"
   ]
  },
  {
   "cell_type": "markdown",
   "metadata": {},
   "source": [
    "## Q5. Create a matrix J by concatenating matrix F and matrix H vertically \n",
    "---"
   ]
  },
  {
   "cell_type": "markdown",
   "metadata": {},
   "source": [
    "## Answer :"
   ]
  },
  {
   "cell_type": "code",
   "execution_count": 30,
   "metadata": {},
   "outputs": [
    {
     "name": "stdout",
     "output_type": "stream",
     "text": [
      "Matrix F:\n",
      "[[0.29922867 0.36811936 0.25376344]\n",
      " [0.9044229  0.5555639  0.39746737]\n",
      " [0.9609295  0.3836105  0.48168707]]\n",
      "\n",
      "Matrix H:\n",
      "[[1.3488181 1.4450145 1.2888669]\n",
      " [2.4705057 1.7429236 1.4880512]\n",
      " [2.6141253 1.4675736 1.6188031]]\n",
      "\n",
      "Matrix J (Concatenated Vertically):\n",
      "[[0.29922867 0.36811936 0.25376344]\n",
      " [0.9044229  0.5555639  0.39746737]\n",
      " [0.9609295  0.3836105  0.48168707]\n",
      " [1.3488181  1.4450145  1.2888669 ]\n",
      " [2.4705057  1.7429236  1.4880512 ]\n",
      " [2.6141253  1.4675736  1.6188031 ]]\n"
     ]
    }
   ],
   "source": [
    "# Concatenate matrices F and H vertically to create matrix J\n",
    "J = tf.concat([F, H], axis=0)\n",
    "\n",
    "# Display the original matrices and the concatenated matrix\n",
    "print(\"Matrix F:\")\n",
    "print(F.numpy())\n",
    "\n",
    "print(\"\\nMatrix H:\")\n",
    "print(H.numpy())\n",
    "\n",
    "print(\"\\nMatrix J (Concatenated Vertically):\")\n",
    "print(J.numpy())"
   ]
  }
 ],
 "metadata": {
  "kernelspec": {
   "display_name": "venv",
   "language": "python",
   "name": "python3"
  },
  "language_info": {
   "codemirror_mode": {
    "name": "ipython",
    "version": 3
   },
   "file_extension": ".py",
   "mimetype": "text/x-python",
   "name": "python",
   "nbconvert_exporter": "python",
   "pygments_lexer": "ipython3",
   "version": "3.12.2"
  },
  "orig_nbformat": 4
 },
 "nbformat": 4,
 "nbformat_minor": 2
}
