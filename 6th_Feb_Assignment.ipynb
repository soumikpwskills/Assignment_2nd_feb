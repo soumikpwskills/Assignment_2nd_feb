{
 "cells": [
  {
   "attachments": {},
   "cell_type": "markdown",
   "metadata": {},
   "source": [
    "**Q1. Create a function which will take a list as an argument and return the product of all the numbers after creating a flat list.**\n",
    "\n",
    "Use the below-given list as an argument for your function.\n",
    "\n",
    "list1 = [1,2,3,4, [44,55,66, True], False, (34,56,78,89,34), {1,2,3,3,2,1}, {1:34, \"key2\": [55, 67, 78, 89], 4: (45, 22, 61, 34)}, [56, 'data science'], 'Machine Learning']\n",
    "\n",
    "Note: you must extract numeric keys and values of the dictionary also."
   ]
  },
  {
   "cell_type": "code",
   "execution_count": 1,
   "metadata": {},
   "outputs": [
    {
     "data": {
      "text/plain": [
       "4134711838987085478833841242112000"
      ]
     },
     "execution_count": 1,
     "metadata": {},
     "output_type": "execute_result"
    }
   ],
   "source": [
    "lst = []\n",
    "key = []\n",
    "val = []\n",
    "set1=[]\n",
    "def func(l):\n",
    "    for element in l:\n",
    "        if type(element) is list:\n",
    "            for item in element:\n",
    "                if type(item) is int:\n",
    "                    lst.append(item)\n",
    "        elif type(element) is tuple:\n",
    "            mylst=list(element)\n",
    "            for item in mylst:\n",
    "                if type(item) is int:\n",
    "                    lst.append(item)\n",
    "        elif type(element) is set:\n",
    "            set1=list(element)\n",
    "            for item in set1:\n",
    "                if type(item) is int:\n",
    "                    lst.append(item)\n",
    "        elif type(element) is dict:\n",
    "            for k, v in element.items():\n",
    "                key.append(k)\n",
    "                val.append(v)\n",
    "            for i in key:\n",
    "                if type(i) is int:\n",
    "                    lst.append(i)\n",
    "            for j in val:\n",
    "                if type(j) is int:\n",
    "                    lst.append(j)\n",
    "                elif type(j) is list:\n",
    "                    for item in j:\n",
    "                        if type(item) is int:\n",
    "                            lst.append(item)\n",
    "                elif type(j) is tuple:\n",
    "                    for item in j:\n",
    "                        if type(item) is int:\n",
    "                            lst.append(item) \n",
    "        elif type(element) is int:\n",
    "            lst.append(element)\n",
    "    product=1\n",
    "    for i in lst:\n",
    "        product=product*i\n",
    "    return product\n",
    "                \n",
    "list1 = [1,2,3,4, [44,55,66, True], False, (34,56,78,89,34), {1,2,3,3,2,1}, {1:34, \"key2\": [55, 67, 78, 89], 4: (45,\n",
    "22, 61, 34)}, [56, 'data science'], 'Machine Learning'] \n",
    "list2 = func(list1)  \n",
    "list2\n"
   ]
  },
  {
   "attachments": {},
   "cell_type": "markdown",
   "metadata": {},
   "source": [
    "Q2. Write a python program for encrypting a message sent to you by your friend. The logic of encryption should be such that, for a the output should be z. For b, the output should be y. For c, the output should be x respectively. Also, the whitespace should be replaced with a dollar sign. Keep the punctuation\n",
    "marks unchanged.\n",
    "\n",
    "Input Sentence: I want to become a Data Scientist.\n",
    "\n",
    "Encrypt the above input sentence using the program you just created.\n",
    "\n",
    "Note: Convert the given input sentence into lowercase before encrypting. The final output should be\n",
    "lowercase."
   ]
  },
  {
   "cell_type": "code",
   "execution_count": 2,
   "metadata": {},
   "outputs": [
    {
     "name": "stdout",
     "output_type": "stream",
     "text": [
      "i$wznt$to$yexome$z$dztz$sxientist.\n"
     ]
    }
   ],
   "source": [
    "str1 = input(\"Enter the sentence : \")\n",
    "str2 = str1.lower()\n",
    "\n",
    "dict = {\"a\": \"z\", \"b\": \"y\",\n",
    "        \"c\": \"x\", \" \": \"$\"}\n",
    "\n",
    "for i in dict:\n",
    "    str2 = str2.replace(i, dict[i])\n",
    " \n",
    "print(str2)"
   ]
  }
 ],
 "metadata": {
  "kernelspec": {
   "display_name": "Python 3",
   "language": "python",
   "name": "python3"
  },
  "language_info": {
   "codemirror_mode": {
    "name": "ipython",
    "version": 3
   },
   "file_extension": ".py",
   "mimetype": "text/x-python",
   "name": "python",
   "nbconvert_exporter": "python",
   "pygments_lexer": "ipython3",
   "version": "3.11.3"
  },
  "orig_nbformat": 4
 },
 "nbformat": 4,
 "nbformat_minor": 2
}
