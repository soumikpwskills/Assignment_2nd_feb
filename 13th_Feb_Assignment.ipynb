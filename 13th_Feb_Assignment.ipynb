{
  "nbformat": 4,
  "nbformat_minor": 0,
  "metadata": {
    "colab": {
      "provenance": []
    },
    "kernelspec": {
      "name": "python3",
      "display_name": "Python 3"
    },
    "language_info": {
      "name": "python"
    }
  },
  "cells": [
    {
      "cell_type": "markdown",
      "source": [
        "Q1. Explain why we have to use the Exception class while creating a Custom Exception.\n",
        "\n",
        "Note: Here Exception class refers to the base class for all the exceptions."
      ],
      "metadata": {
        "id": "HMW8HNRvftH7"
      }
    },
    {
      "cell_type": "markdown",
      "source": [
        "**Ans :-** We have to use the Exception class while creating a Custom Class Exception for the following reasons --\n",
        "\n",
        "1. To improve readability of your code.\n",
        "2. To enhance reusability of features.\n",
        "3. To provide custom messages/instructions to users for specific use cases.\n",
        "\n",
        "You can define custom exceptions in Python by creating a new class, that is derived from the built-in Exception class."
      ],
      "metadata": {
        "id": "zhkQD9t0gQU3"
      }
    },
    {
      "cell_type": "markdown",
      "source": [
        "**Q2. Write a python program to print Python Exception Hierarchy.**"
      ],
      "metadata": {
        "id": "uwySKL1lg4rX"
      }
    },
    {
      "cell_type": "code",
      "source": [
        "import inspect\n",
        "\n",
        "def treeClass(cls, ind = 0):\n",
        "\n",
        "\tprint ('-' * ind, cls.__name__)\n",
        "\n",
        "\tfor i in cls.__subclasses__():\n",
        "\t\ttreeClass(i, ind + 3)\n",
        "\n",
        "print(\"Python Exception Hierarchy : \")\n",
        "\n",
        "inspect.getclasstree(inspect.getmro(BaseException))\n",
        "\n",
        "treeClass(BaseException)\n"
      ],
      "metadata": {
        "colab": {
          "base_uri": "https://localhost:8080/"
        },
        "id": "rWyPjktfg9bt",
        "outputId": "451935a9-be27-4388-d92a-7122e06eaefc"
      },
      "execution_count": 1,
      "outputs": [
        {
          "output_type": "stream",
          "name": "stdout",
          "text": [
            "Python Exception Hierarchy : \n",
            " BaseException\n",
            "--- Exception\n",
            "------ TypeError\n",
            "--------- MultipartConversionError\n",
            "--------- FloatOperation\n",
            "--------- UFuncTypeError\n",
            "------------ UFuncTypeError\n",
            "------------ UFuncTypeError\n",
            "------------ UFuncTypeError\n",
            "--------------- UFuncTypeError\n",
            "--------------- UFuncTypeError\n",
            "--------- ConversionError\n",
            "------ StopAsyncIteration\n",
            "------ StopIteration\n",
            "------ ImportError\n",
            "--------- ModuleNotFoundError\n",
            "------------ PackageNotFoundError\n",
            "--------- ZipImportError\n",
            "------ OSError\n",
            "--------- ConnectionError\n",
            "------------ BrokenPipeError\n",
            "------------ ConnectionAbortedError\n",
            "------------ ConnectionRefusedError\n",
            "------------ ConnectionResetError\n",
            "--------------- RemoteDisconnected\n",
            "--------- BlockingIOError\n",
            "--------- ChildProcessError\n",
            "--------- FileExistsError\n",
            "--------- FileNotFoundError\n",
            "------------ ExecutableNotFoundError\n",
            "--------- IsADirectoryError\n",
            "--------- NotADirectoryError\n",
            "--------- InterruptedError\n",
            "------------ InterruptedSystemCall\n",
            "--------- PermissionError\n",
            "--------- ProcessLookupError\n",
            "--------- TimeoutError\n",
            "--------- UnsupportedOperation\n",
            "--------- itimer_error\n",
            "--------- Error\n",
            "------------ SameFileError\n",
            "--------- SpecialFileError\n",
            "--------- ExecError\n",
            "--------- ReadError\n",
            "--------- herror\n",
            "--------- gaierror\n",
            "--------- SSLError\n",
            "------------ SSLCertVerificationError\n",
            "------------ SSLZeroReturnError\n",
            "------------ SSLWantWriteError\n",
            "------------ SSLWantReadError\n",
            "------------ SSLSyscallError\n",
            "------------ SSLEOFError\n",
            "--------- URLError\n",
            "------------ HTTPError\n",
            "------------ ContentTooShortError\n",
            "--------- BadGzipFile\n",
            "--------- ProxyError\n",
            "------------ GeneralProxyError\n",
            "------------ ProxyConnectionError\n",
            "------------ SOCKS5AuthError\n",
            "------------ SOCKS5Error\n",
            "------------ SOCKS4Error\n",
            "------------ HTTPError\n",
            "--------- UnidentifiedImageError\n",
            "------ EOFError\n",
            "--------- IncompleteReadError\n",
            "------ RuntimeError\n",
            "--------- RecursionError\n",
            "--------- NotImplementedError\n",
            "------------ StdinNotImplementedError\n",
            "------------ ZMQVersionError\n",
            "--------- _DeadlockError\n",
            "--------- BrokenBarrierError\n",
            "--------- BrokenExecutor\n",
            "------------ BrokenThreadPool\n",
            "--------- SendfileNotAvailableError\n",
            "--------- RemovedCommandError\n",
            "--------- PackageDiscoveryError\n",
            "--------- TooHardError\n",
            "--------- ExtractionError\n",
            "--------- VariableError\n",
            "------ NameError\n",
            "--------- UnboundLocalError\n",
            "------ AttributeError\n",
            "--------- FrozenInstanceError\n",
            "------ SyntaxError\n",
            "--------- IndentationError\n",
            "------------ TabError\n",
            "--------- ParseError\n",
            "------ LookupError\n",
            "--------- IndexError\n",
            "------------ AxisError\n",
            "------------ OutOfBounds\n",
            "--------- KeyError\n",
            "------------ UnknownBackend\n",
            "------------ NoSuchKernel\n",
            "--------- CodecRegistryError\n",
            "------ ValueError\n",
            "--------- UnicodeError\n",
            "------------ UnicodeEncodeError\n",
            "------------ UnicodeDecodeError\n",
            "------------ UnicodeTranslateError\n",
            "--------- UnsupportedOperation\n",
            "--------- JSONDecodeError\n",
            "--------- UnsupportedDigestmodError\n",
            "--------- Error\n",
            "--------- ClassNotFound\n",
            "--------- SSLCertVerificationError\n",
            "--------- ClipboardEmpty\n",
            "--------- MessageDefect\n",
            "------------ NoBoundaryInMultipartDefect\n",
            "------------ StartBoundaryNotFoundDefect\n",
            "------------ CloseBoundaryNotFoundDefect\n",
            "------------ FirstHeaderLineIsContinuationDefect\n",
            "------------ MisplacedEnvelopeHeaderDefect\n",
            "------------ MissingHeaderBodySeparatorDefect\n",
            "------------ MultipartInvariantViolationDefect\n",
            "------------ InvalidMultipartContentTransferEncodingDefect\n",
            "------------ UndecodableBytesDefect\n",
            "------------ InvalidBase64PaddingDefect\n",
            "------------ InvalidBase64CharactersDefect\n",
            "------------ InvalidBase64LengthDefect\n",
            "------------ HeaderDefect\n",
            "--------------- InvalidHeaderDefect\n",
            "--------------- HeaderMissingRequiredValue\n",
            "--------------- NonPrintableDefect\n",
            "--------------- ObsoleteHeaderDefect\n",
            "--------------- NonASCIILocalPartDefect\n",
            "--------------- InvalidDateDefect\n",
            "--------- IllegalMonthError\n",
            "--------- IllegalWeekdayError\n",
            "--------- MacroToEdit\n",
            "--------- ParserError\n",
            "--------- UnequalIterablesError\n",
            "--------- ELFInvalid\n",
            "--------- InvalidVersion\n",
            "--------- InvalidWheelFilename\n",
            "--------- InvalidSdistFilename\n",
            "--------- InvalidSpecifier\n",
            "--------- InvalidMarker\n",
            "--------- UndefinedComparison\n",
            "--------- UndefinedEnvironmentName\n",
            "--------- InvalidRequirement\n",
            "--------- DisabledFunctionError\n",
            "--------- AxisError\n",
            "--------- InvalidVersion\n",
            "--------- DefusedXmlException\n",
            "------------ DTDForbidden\n",
            "------------ EntitiesForbidden\n",
            "------------ ExternalReferenceForbidden\n",
            "------------ NotSupportedError\n",
            "--------- NonIntersectingPathException\n",
            "--------- InvalidFileException\n",
            "--------- UnequalIterablesError\n",
            "--------- InvalidVersion\n",
            "--------- ELFInvalid\n",
            "--------- InvalidWheelFilename\n",
            "--------- InvalidSdistFilename\n",
            "--------- InvalidSpecifier\n",
            "--------- InvalidMarker\n",
            "--------- UndefinedComparison\n",
            "--------- UndefinedEnvironmentName\n",
            "--------- InvalidRequirement\n",
            "------------ RequirementParseError\n",
            "------ AssertionError\n",
            "------ ArithmeticError\n",
            "--------- FloatingPointError\n",
            "--------- OverflowError\n",
            "--------- ZeroDivisionError\n",
            "------------ DivisionByZero\n",
            "------------ DivisionUndefined\n",
            "--------- DecimalException\n",
            "------------ Clamped\n",
            "------------ Rounded\n",
            "--------------- Underflow\n",
            "--------------- Overflow\n",
            "------------ Inexact\n",
            "--------------- Underflow\n",
            "--------------- Overflow\n",
            "------------ Subnormal\n",
            "--------------- Underflow\n",
            "------------ DivisionByZero\n",
            "------------ FloatOperation\n",
            "------------ InvalidOperation\n",
            "--------------- ConversionSyntax\n",
            "--------------- DivisionImpossible\n",
            "--------------- DivisionUndefined\n",
            "--------------- InvalidContext\n",
            "------ SystemError\n",
            "--------- CodecRegistryError\n",
            "------ ReferenceError\n",
            "------ MemoryError\n",
            "--------- MemoryError\n",
            "------ BufferError\n",
            "------ Warning\n",
            "--------- UserWarning\n",
            "------------ GetPassWarning\n",
            "------------ FormatterWarning\n",
            "------------ SetuptoolsWarning\n",
            "--------------- InformationOnly\n",
            "--------------- SetuptoolsDeprecationWarning\n",
            "------------------ _AmbiguousMarker\n",
            "------------------ _DeprecatedConfig\n",
            "------------------ _WouldIgnoreField\n",
            "------------------ DistDeprecationWarning\n",
            "--------------- _BetaConfiguration\n",
            "--------------- _InvalidFile\n",
            "------------ VisibleDeprecationWarning\n",
            "------------ RankWarning\n",
            "------------ ConversionWarning\n",
            "------------ RankWarning\n",
            "--------- EncodingWarning\n",
            "--------- DeprecationWarning\n",
            "------------ ProvisionalWarning\n",
            "------------ ModuleDeprecationWarning\n",
            "------------ MatplotlibDeprecationWarning\n",
            "--------- PendingDeprecationWarning\n",
            "--------- SyntaxWarning\n",
            "--------- RuntimeWarning\n",
            "------------ ProactorSelectorThreadWarning\n",
            "------------ UnknownTimezoneWarning\n",
            "------------ ComplexWarning\n",
            "------------ DecompressionBombWarning\n",
            "------------ PEP440Warning\n",
            "--------- FutureWarning\n",
            "------------ ProvisionalCompleterWarning\n",
            "------------ MaskedArrayFutureWarning\n",
            "--------- ImportWarning\n",
            "--------- UnicodeWarning\n",
            "--------- BytesWarning\n",
            "--------- ResourceWarning\n",
            "--------- DeprecatedTzFormatWarning\n",
            "--------- MathTextWarning\n",
            "--------- PkgResourcesDeprecationWarning\n",
            "------ _OptionError\n",
            "------ error\n",
            "------ Verbose\n",
            "------ Error\n",
            "------ _Error\n",
            "------ SubprocessError\n",
            "--------- CalledProcessError\n",
            "--------- TimeoutExpired\n",
            "------ Error\n",
            "------ TokenError\n",
            "------ StopTokenizing\n",
            "------ error\n",
            "------ LZMAError\n",
            "------ RegistryError\n",
            "------ _GiveupOnFastCopy\n",
            "------ ClassFoundException\n",
            "------ EndOfBlock\n",
            "------ TraitError\n",
            "------ _GiveupOnSendfile\n",
            "------ error\n",
            "------ PickleError\n",
            "--------- PicklingError\n",
            "--------- UnpicklingError\n",
            "------ _Stop\n",
            "------ Empty\n",
            "------ Full\n",
            "------ ArgumentError\n",
            "------ ArgumentTypeError\n",
            "------ ConfigError\n",
            "--------- ConfigLoaderError\n",
            "------------ ArgumentError\n",
            "--------- ConfigFileNotFound\n",
            "------ ConfigurableError\n",
            "--------- MultipleInstanceError\n",
            "------ ApplicationError\n",
            "------ ErrorDuringImport\n",
            "------ BdbQuit\n",
            "------ Restart\n",
            "------ ExceptionPexpect\n",
            "--------- EOF\n",
            "--------- TIMEOUT\n",
            "------ error\n",
            "------ PtyProcessError\n",
            "------ FindCmdError\n",
            "------ HomeDirError\n",
            "------ ProfileDirError\n",
            "------ IPythonCoreError\n",
            "--------- TryNext\n",
            "--------- UsageError\n",
            "--------- StdinNotImplementedError\n",
            "------ InputRejected\n",
            "------ GetoptError\n",
            "------ Incomplete\n",
            "------ OptionError\n",
            "------ ErrorToken\n",
            "------ PrefilterError\n",
            "------ AliasError\n",
            "--------- InvalidAliasError\n",
            "------ Error\n",
            "--------- InterfaceError\n",
            "--------- DatabaseError\n",
            "------------ InternalError\n",
            "------------ OperationalError\n",
            "------------ ProgrammingError\n",
            "------------ IntegrityError\n",
            "------------ DataError\n",
            "------------ NotSupportedError\n",
            "------ Warning\n",
            "------ Error\n",
            "--------- CancelledError\n",
            "--------- TimeoutError\n",
            "--------- InvalidStateError\n",
            "------ TimeoutError\n",
            "------ InvalidStateError\n",
            "------ LimitOverrunError\n",
            "------ QueueEmpty\n",
            "------ QueueFull\n",
            "------ SpaceInInput\n",
            "------ DOMException\n",
            "--------- IndexSizeErr\n",
            "--------- DomstringSizeErr\n",
            "--------- HierarchyRequestErr\n",
            "--------- WrongDocumentErr\n",
            "--------- InvalidCharacterErr\n",
            "--------- NoDataAllowedErr\n",
            "--------- NoModificationAllowedErr\n",
            "--------- NotFoundErr\n",
            "--------- NotSupportedErr\n",
            "--------- InuseAttributeErr\n",
            "--------- InvalidStateErr\n",
            "--------- SyntaxErr\n",
            "--------- InvalidModificationErr\n",
            "--------- NamespaceErr\n",
            "--------- InvalidAccessErr\n",
            "--------- ValidationErr\n",
            "------ ValidationError\n",
            "------ EditReadOnlyBuffer\n",
            "------ _Retry\n",
            "------ InvalidLayoutError\n",
            "------ HeightIsUnknownError\n",
            "------ MessageError\n",
            "--------- MessageParseError\n",
            "------------ HeaderParseError\n",
            "--------------- _InvalidEwError\n",
            "------------ BoundaryError\n",
            "--------- MultipartConversionError\n",
            "--------- CharsetError\n",
            "------ Error\n",
            "------ HTTPException\n",
            "--------- NotConnected\n",
            "--------- InvalidURL\n",
            "--------- UnknownProtocol\n",
            "--------- UnknownTransferEncoding\n",
            "--------- UnimplementedFileMode\n",
            "--------- IncompleteRead\n",
            "--------- ImproperConnectionState\n",
            "------------ CannotSendRequest\n",
            "------------ CannotSendHeader\n",
            "------------ ResponseNotReady\n",
            "--------- BadStatusLine\n",
            "------------ RemoteDisconnected\n",
            "--------- LineTooLong\n",
            "------ InteractivelyDefined\n",
            "------ KillEmbedded\n",
            "------ ArgumentError\n",
            "------ ZMQBaseError\n",
            "--------- ZMQError\n",
            "------------ ContextTerminated\n",
            "------------ Again\n",
            "------------ InterruptedSystemCall\n",
            "--------- ZMQBindError\n",
            "--------- NotDone\n",
            "------ NoIPAddresses\n",
            "------ Error\n",
            "--------- NoSectionError\n",
            "--------- DuplicateSectionError\n",
            "--------- DuplicateOptionError\n",
            "--------- NoOptionError\n",
            "--------- InterpolationError\n",
            "------------ InterpolationMissingOptionError\n",
            "------------ InterpolationSyntaxError\n",
            "------------ InterpolationDepthError\n",
            "--------- ParsingError\n",
            "------------ MissingSectionHeaderError\n",
            "------ InvalidPortNumber\n",
            "------ DuplicateKernelError\n",
            "------ error\n",
            "------ ReturnValueIgnoredError\n",
            "------ KeyReuseError\n",
            "------ UnknownKeyError\n",
            "------ LeakedCallbackError\n",
            "------ BadYieldError\n",
            "------ ReturnValueIgnoredError\n",
            "------ Return\n",
            "------ QueueEmpty\n",
            "------ QueueFull\n",
            "------ DistutilsError\n",
            "--------- DistutilsModuleError\n",
            "--------- DistutilsClassError\n",
            "--------- DistutilsGetoptError\n",
            "--------- DistutilsArgError\n",
            "--------- DistutilsFileError\n",
            "--------- DistutilsOptionError\n",
            "--------- DistutilsSetupError\n",
            "--------- DistutilsPlatformError\n",
            "--------- DistutilsExecError\n",
            "--------- DistutilsInternalError\n",
            "--------- DistutilsTemplateError\n",
            "--------- DistutilsByteCompileError\n",
            "--------- RemovedCommandError\n",
            "--------- PackageDiscoveryError\n",
            "------ CCompilerError\n",
            "--------- PreprocessError\n",
            "--------- CompileError\n",
            "--------- LibError\n",
            "--------- LinkError\n",
            "--------- UnknownFileError\n",
            "------ BadZipFile\n",
            "------ LargeZipFile\n",
            "------ Error\n",
            "------ ParserSyntaxError\n",
            "------ LinAlgError\n",
            "------ ConverterError\n",
            "--------- ConverterLockError\n",
            "------ MAError\n",
            "--------- MaskError\n",
            "------ Error\n",
            "--------- AuthorizationError\n",
            "--------- RuntimeManagementError\n",
            "--------- MessageError\n",
            "------ WidgetException\n",
            "------ JsException\n",
            "------ FormattedTracebackError\n",
            "------ Error\n",
            "--------- NoSuchProcess\n",
            "------------ ZombieProcess\n",
            "--------- AccessDenied\n",
            "--------- TimeoutExpired\n",
            "------ _Ipv6UnsupportedError\n",
            "------ ParseBaseException\n",
            "--------- ParseException\n",
            "--------- ParseFatalException\n",
            "------------ ParseSyntaxException\n",
            "------ RecursiveGrammarException\n",
            "------ HttpLib2Error\n",
            "--------- HttpLib2ErrorWithResponse\n",
            "------------ RedirectMissingLocation\n",
            "------------ RedirectLimit\n",
            "------------ FailedToDecompressContent\n",
            "------------ UnimplementedDigestAuthOptionError\n",
            "------------ UnimplementedHmacDigestAuthOptionError\n",
            "--------- MalformedHeader\n",
            "--------- RelativeURIError\n",
            "--------- ServerNotFoundError\n",
            "--------- ProxiesUnavailableError\n",
            "------ ExpatError\n",
            "------ DecompressionBombError\n",
            "------ FFIError\n",
            "------ CDefError\n",
            "------ VerificationError\n",
            "------ VerificationMissing\n",
            "------ PkgConfigError\n",
            "------ DuplicateConstraint\n",
            "------ UnsatisfiableConstraint\n",
            "------ UnknownConstraint\n",
            "------ DuplicateEditVariable\n",
            "------ UnknownEditVariable\n",
            "------ BadRequiredStrength\n",
            "------ NonGuiException\n",
            "------ InvalidIndexError\n",
            "------ TerminateTrajectory\n",
            "------ NoFreePortFoundError\n",
            "------ DebuggerInitializationError\n",
            "------ Error\n",
            "--------- ProtocolError\n",
            "--------- ResponseError\n",
            "--------- Fault\n",
            "------ ParserSyntaxError\n",
            "------ ResolutionError\n",
            "--------- VersionConflict\n",
            "------------ ContextualVersionConflict\n",
            "--------- DistributionNotFound\n",
            "--------- UnknownExtra\n",
            "------ _Error\n",
            "------ UnableToResolveVariableException\n",
            "------ InvalidTypeInArgsException\n",
            "--- GeneratorExit\n",
            "--- SystemExit\n",
            "--- KeyboardInterrupt\n",
            "--- CancelledError\n",
            "--- AbortThread\n",
            "--- AbortThread\n"
          ]
        }
      ]
    },
    {
      "cell_type": "markdown",
      "source": [
        "**Q3. What errors are defined in the ArithmeticError class? Explain any two with an example.**"
      ],
      "metadata": {
        "id": "vtISuVs_hpus"
      }
    },
    {
      "cell_type": "markdown",
      "source": [
        "**Ans :-** ArithmeticError is simply an error that occurs during numeric calculations.\n",
        "\n",
        "ArithmeticError types in Python include:\n",
        "\n",
        "1. OverFlowError\n",
        "2. ZeroDivisionError\n",
        "3. FloatingPointError\n",
        "\n",
        "These errors are all capable of crashing a code in Python. It is essential to catch an error because you do not want your code to crash as a result of incorrect input from you or a user.\n",
        "\n",
        "1. OverflowError :-"
      ],
      "metadata": {
        "id": "j3LfKH7mhu5P"
      }
    },
    {
      "cell_type": "code",
      "source": [
        "j = 5.0\n",
        "\n",
        "for i in range(1, 1000):\n",
        "  j = j**i"
      ],
      "metadata": {
        "colab": {
          "base_uri": "https://localhost:8080/",
          "height": 200
        },
        "id": "XJyfuXjbisae",
        "outputId": "83bca639-0bc8-431a-e6a9-e019aa15f5c4"
      },
      "execution_count": 2,
      "outputs": [
        {
          "output_type": "error",
          "ename": "OverflowError",
          "evalue": "ignored",
          "traceback": [
            "\u001b[0;31m---------------------------------------------------------------------------\u001b[0m",
            "\u001b[0;31mOverflowError\u001b[0m                             Traceback (most recent call last)",
            "\u001b[0;32m<ipython-input-2-50667cb5dae1>\u001b[0m in \u001b[0;36m<cell line: 3>\u001b[0;34m()\u001b[0m\n\u001b[1;32m      2\u001b[0m \u001b[0;34m\u001b[0m\u001b[0m\n\u001b[1;32m      3\u001b[0m \u001b[0;32mfor\u001b[0m \u001b[0mi\u001b[0m \u001b[0;32min\u001b[0m \u001b[0mrange\u001b[0m\u001b[0;34m(\u001b[0m\u001b[0;36m1\u001b[0m\u001b[0;34m,\u001b[0m \u001b[0;36m1000\u001b[0m\u001b[0;34m)\u001b[0m\u001b[0;34m:\u001b[0m\u001b[0;34m\u001b[0m\u001b[0;34m\u001b[0m\u001b[0m\n\u001b[0;32m----> 4\u001b[0;31m   \u001b[0mj\u001b[0m \u001b[0;34m=\u001b[0m \u001b[0mj\u001b[0m\u001b[0;34m**\u001b[0m\u001b[0mi\u001b[0m\u001b[0;34m\u001b[0m\u001b[0;34m\u001b[0m\u001b[0m\n\u001b[0m",
            "\u001b[0;31mOverflowError\u001b[0m: (34, 'Numerical result out of range')"
          ]
        }
      ]
    },
    {
      "cell_type": "markdown",
      "source": [
        "2. ZeroDivisionError :- Mathematically, dividing an integer by zero is wrong, and that is the reason why Python crashes the program and returns an error message."
      ],
      "metadata": {
        "id": "EIHqeihAivAU"
      }
    },
    {
      "cell_type": "code",
      "source": [
        "arithmetic = 5/0\n",
        "print(arithmetic)"
      ],
      "metadata": {
        "colab": {
          "base_uri": "https://localhost:8080/",
          "height": 182
        },
        "id": "oKofbiSpi8Ev",
        "outputId": "39da6abc-4782-4a58-8476-cf5be55f805b"
      },
      "execution_count": 3,
      "outputs": [
        {
          "output_type": "error",
          "ename": "ZeroDivisionError",
          "evalue": "ignored",
          "traceback": [
            "\u001b[0;31m---------------------------------------------------------------------------\u001b[0m",
            "\u001b[0;31mZeroDivisionError\u001b[0m                         Traceback (most recent call last)",
            "\u001b[0;32m<ipython-input-3-888908747809>\u001b[0m in \u001b[0;36m<cell line: 1>\u001b[0;34m()\u001b[0m\n\u001b[0;32m----> 1\u001b[0;31m \u001b[0marithmetic\u001b[0m \u001b[0;34m=\u001b[0m \u001b[0;36m5\u001b[0m\u001b[0;34m/\u001b[0m\u001b[0;36m0\u001b[0m\u001b[0;34m\u001b[0m\u001b[0;34m\u001b[0m\u001b[0m\n\u001b[0m\u001b[1;32m      2\u001b[0m \u001b[0mprint\u001b[0m\u001b[0;34m(\u001b[0m\u001b[0marithmetic\u001b[0m\u001b[0;34m)\u001b[0m\u001b[0;34m\u001b[0m\u001b[0;34m\u001b[0m\u001b[0m\n",
            "\u001b[0;31mZeroDivisionError\u001b[0m: division by zero"
          ]
        }
      ]
    },
    {
      "cell_type": "markdown",
      "source": [
        "**Q4. Why LookupError class is used? Explain with an example KeyError and IndexError.**"
      ],
      "metadata": {
        "id": "RhVDUCMpjPNt"
      }
    },
    {
      "cell_type": "markdown",
      "source": [
        "**Ans :-** The LookupError exception in Python forms the base class for all exceptions that are raised when an index or a key is not found for a sequence or dictionary respectively.\n",
        "\n",
        "We can use LookupError exception class to handle both IndexError and KeyError exception classes."
      ],
      "metadata": {
        "id": "Lmban55GjUWj"
      }
    },
    {
      "cell_type": "code",
      "source": [
        "info = {'name': 'Lenin Mishra',\n",
        "                'age': 28,\n",
        "                'language': 'Python'}\n",
        "user_input = input('What do you want to learn about ==> ')\n",
        "\n",
        "print(f'{user_input} is {info[user_input]}')\n"
      ],
      "metadata": {
        "colab": {
          "base_uri": "https://localhost:8080/",
          "height": 217
        },
        "id": "oPaKOrrEjya5",
        "outputId": "8afbd8fd-41d8-4898-9b9a-77a6ae5bfd19"
      },
      "execution_count": 4,
      "outputs": [
        {
          "name": "stdout",
          "output_type": "stream",
          "text": [
            "What do you want to learn about ==> key\n"
          ]
        },
        {
          "output_type": "error",
          "ename": "KeyError",
          "evalue": "ignored",
          "traceback": [
            "\u001b[0;31m---------------------------------------------------------------------------\u001b[0m",
            "\u001b[0;31mKeyError\u001b[0m                                  Traceback (most recent call last)",
            "\u001b[0;32m<ipython-input-4-7781b6d8cf7d>\u001b[0m in \u001b[0;36m<cell line: 6>\u001b[0;34m()\u001b[0m\n\u001b[1;32m      4\u001b[0m \u001b[0muser_input\u001b[0m \u001b[0;34m=\u001b[0m \u001b[0minput\u001b[0m\u001b[0;34m(\u001b[0m\u001b[0;34m'What do you want to learn about ==> '\u001b[0m\u001b[0;34m)\u001b[0m\u001b[0;34m\u001b[0m\u001b[0;34m\u001b[0m\u001b[0m\n\u001b[1;32m      5\u001b[0m \u001b[0;34m\u001b[0m\u001b[0m\n\u001b[0;32m----> 6\u001b[0;31m \u001b[0mprint\u001b[0m\u001b[0;34m(\u001b[0m\u001b[0;34mf'{user_input} is {info[user_input]}'\u001b[0m\u001b[0;34m)\u001b[0m\u001b[0;34m\u001b[0m\u001b[0;34m\u001b[0m\u001b[0m\n\u001b[0m",
            "\u001b[0;31mKeyError\u001b[0m: 'key'"
          ]
        }
      ]
    },
    {
      "cell_type": "code",
      "source": [
        "x = [1, 2, 3, 4]\n",
        "print(x[10])\n"
      ],
      "metadata": {
        "colab": {
          "base_uri": "https://localhost:8080/",
          "height": 182
        },
        "id": "jM006_5gkEo1",
        "outputId": "0eb289c4-f6e9-4c8a-bbbe-6ac6707314bc"
      },
      "execution_count": 5,
      "outputs": [
        {
          "output_type": "error",
          "ename": "IndexError",
          "evalue": "ignored",
          "traceback": [
            "\u001b[0;31m---------------------------------------------------------------------------\u001b[0m",
            "\u001b[0;31mIndexError\u001b[0m                                Traceback (most recent call last)",
            "\u001b[0;32m<ipython-input-5-9256be96e70a>\u001b[0m in \u001b[0;36m<cell line: 2>\u001b[0;34m()\u001b[0m\n\u001b[1;32m      1\u001b[0m \u001b[0mx\u001b[0m \u001b[0;34m=\u001b[0m \u001b[0;34m[\u001b[0m\u001b[0;36m1\u001b[0m\u001b[0;34m,\u001b[0m \u001b[0;36m2\u001b[0m\u001b[0;34m,\u001b[0m \u001b[0;36m3\u001b[0m\u001b[0;34m,\u001b[0m \u001b[0;36m4\u001b[0m\u001b[0;34m]\u001b[0m\u001b[0;34m\u001b[0m\u001b[0;34m\u001b[0m\u001b[0m\n\u001b[0;32m----> 2\u001b[0;31m \u001b[0mprint\u001b[0m\u001b[0;34m(\u001b[0m\u001b[0mx\u001b[0m\u001b[0;34m[\u001b[0m\u001b[0;36m10\u001b[0m\u001b[0;34m]\u001b[0m\u001b[0;34m)\u001b[0m\u001b[0;34m\u001b[0m\u001b[0;34m\u001b[0m\u001b[0m\n\u001b[0m",
            "\u001b[0;31mIndexError\u001b[0m: list index out of range"
          ]
        }
      ]
    },
    {
      "cell_type": "markdown",
      "source": [
        "**Q5. Explain ImportError. What is ModuleNotFoundError?**"
      ],
      "metadata": {
        "id": "ePFEEJQnkUAl"
      }
    },
    {
      "cell_type": "markdown",
      "source": [
        "**Ans :-** ImportError is raised when a module, or member of a module, cannot be imported. There are a two conditions where an ImportError might be raised.\n",
        "\n",
        "* If a module does not exist.\n",
        "\n",
        "* If from X import Y is used and Y cannot be found inside the module X, an ImportError is raised."
      ],
      "metadata": {
        "id": "EGdWd8QnkggD"
      }
    },
    {
      "cell_type": "code",
      "source": [
        "import sys\n",
        "from time import datetime"
      ],
      "metadata": {
        "colab": {
          "base_uri": "https://localhost:8080/",
          "height": 321
        },
        "id": "nI-nDKbokxX5",
        "outputId": "9d80a75f-297c-4a30-9983-70beef22424d"
      },
      "execution_count": 6,
      "outputs": [
        {
          "output_type": "error",
          "ename": "ImportError",
          "evalue": "ignored",
          "traceback": [
            "\u001b[0;31m---------------------------------------------------------------------------\u001b[0m",
            "\u001b[0;31mImportError\u001b[0m                               Traceback (most recent call last)",
            "\u001b[0;32m<ipython-input-6-1129a83dab31>\u001b[0m in \u001b[0;36m<cell line: 2>\u001b[0;34m()\u001b[0m\n\u001b[1;32m      1\u001b[0m \u001b[0;32mimport\u001b[0m \u001b[0msys\u001b[0m\u001b[0;34m\u001b[0m\u001b[0;34m\u001b[0m\u001b[0m\n\u001b[0;32m----> 2\u001b[0;31m \u001b[0;32mfrom\u001b[0m \u001b[0mtime\u001b[0m \u001b[0;32mimport\u001b[0m \u001b[0mdatetime\u001b[0m\u001b[0;34m\u001b[0m\u001b[0;34m\u001b[0m\u001b[0m\n\u001b[0m",
            "\u001b[0;31mImportError\u001b[0m: cannot import name 'datetime' from 'time' (unknown location)",
            "",
            "\u001b[0;31m---------------------------------------------------------------------------\u001b[0;32m\nNOTE: If your import is failing due to a missing package, you can\nmanually install dependencies using either !pip or !apt.\n\nTo view examples of installing some common dependencies, click the\n\"Open Examples\" button below.\n\u001b[0;31m---------------------------------------------------------------------------\u001b[0m\n"
          ],
          "errorDetails": {
            "actions": [
              {
                "action": "open_url",
                "actionText": "Open Examples",
                "url": "/notebooks/snippets/importing_libraries.ipynb"
              }
            ]
          }
        }
      ]
    },
    {
      "cell_type": "markdown",
      "source": [
        "**ModuleNotFoundError :-** A ModuleNotFoundError is raised when Python cannot successfully import a module.The full error message looks something like this:\n",
        "\n",
        "ModuleNotFoundError: No module named 'your_module_name'\n",
        "\n",
        "This error is encountered when you forget to install a dependency for a project. Because you haven’t installed the dependency, Python does not know where to locate it.\n",
        "\n",
        "ModuleNotFoundErrors come up in user-defined modules. Often, this error is caused by importing files relatively when doing so is not allowed."
      ],
      "metadata": {
        "id": "0WUXhWQ0lIpX"
      }
    },
    {
      "cell_type": "code",
      "source": [
        "import numpys as np"
      ],
      "metadata": {
        "colab": {
          "base_uri": "https://localhost:8080/",
          "height": 304
        },
        "id": "pRLVKuRCll_C",
        "outputId": "e1973b75-a75d-408b-a7e6-00f918f7d88c"
      },
      "execution_count": 7,
      "outputs": [
        {
          "output_type": "error",
          "ename": "ModuleNotFoundError",
          "evalue": "ignored",
          "traceback": [
            "\u001b[0;31m---------------------------------------------------------------------------\u001b[0m",
            "\u001b[0;31mModuleNotFoundError\u001b[0m                       Traceback (most recent call last)",
            "\u001b[0;32m<ipython-input-7-871f0da127b2>\u001b[0m in \u001b[0;36m<cell line: 1>\u001b[0;34m()\u001b[0m\n\u001b[0;32m----> 1\u001b[0;31m \u001b[0;32mimport\u001b[0m \u001b[0mnumpys\u001b[0m \u001b[0;32mas\u001b[0m \u001b[0mnp\u001b[0m\u001b[0;34m\u001b[0m\u001b[0;34m\u001b[0m\u001b[0m\n\u001b[0m",
            "\u001b[0;31mModuleNotFoundError\u001b[0m: No module named 'numpys'",
            "",
            "\u001b[0;31m---------------------------------------------------------------------------\u001b[0;32m\nNOTE: If your import is failing due to a missing package, you can\nmanually install dependencies using either !pip or !apt.\n\nTo view examples of installing some common dependencies, click the\n\"Open Examples\" button below.\n\u001b[0;31m---------------------------------------------------------------------------\u001b[0m\n"
          ],
          "errorDetails": {
            "actions": [
              {
                "action": "open_url",
                "actionText": "Open Examples",
                "url": "/notebooks/snippets/importing_libraries.ipynb"
              }
            ]
          }
        }
      ]
    },
    {
      "cell_type": "markdown",
      "source": [
        "**Q6. List down some best practices for exception handling in python.**"
      ],
      "metadata": {
        "id": "cOMc0kGalqmW"
      }
    },
    {
      "cell_type": "markdown",
      "source": [
        "**Ans :-** Best Practices for Handling Exceptions in python are --\n",
        "\n",
        "1. **Using try, except, and finally blocks** :-\n",
        "The cornerstone of Python exception handling lies in the try, except, and finally blocks. These essential constructs enable you to separate the code that might raise an exception from the code that handles the exception, making your programs more robust and easier to maintain.\n",
        "\n",
        "  A “try” block encloses the code that may raise an exception, while one or more “except” blocks catch and handle specific exceptions. An optional “finally” block can be added to execute code regardless of whether an exception was raised or not.\n",
        "\n",
        "2. **Catching specific exceptions :-**\n",
        "Catching specific exceptions is crucial for writing maintainable and easy-to-debug code. By specifying the exact exception types you expect to handle, we can avoid inadvertently suppressing unexpected exceptions that may reveal underlying issues in our code.\n",
        "\n",
        "3. **Raising custom exceptions :-**\n",
        "In some cases, we may want to create our own custom exceptions to handle specific error conditions that are unique to your application. Custom exceptions can make our code more readable and easier to understand by providing more descriptive error messages."
      ],
      "metadata": {
        "id": "WqJFD9ZMlsbw"
      }
    }
  ]
}