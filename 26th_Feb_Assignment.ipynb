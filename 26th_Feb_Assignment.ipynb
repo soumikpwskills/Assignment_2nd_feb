{
  "nbformat": 4,
  "nbformat_minor": 0,
  "metadata": {
    "colab": {
      "provenance": []
    },
    "kernelspec": {
      "name": "python3",
      "display_name": "Python 3"
    },
    "language_info": {
      "name": "python"
    }
  },
  "cells": [
    {
      "cell_type": "markdown",
      "source": [
        "Consider the below code to answer further questions:"
      ],
      "metadata": {
        "id": "v7ULfc4WwfeG"
      }
    },
    {
      "cell_type": "code",
      "source": [
        "import numpy as np\n",
        "list_ = [ '1' , '2' , '3' , '4' , '5' ]\n",
        "array_list = np.array(object = list_)"
      ],
      "metadata": {
        "id": "klIRi8I8wjVi"
      },
      "execution_count": 1,
      "outputs": []
    },
    {
      "cell_type": "markdown",
      "source": [
        "**Q1. Is there any difference in the data type of variables list_ and array_list? If there is then write a code to print the data types of both the variables.**"
      ],
      "metadata": {
        "id": "e8NNZGpSwsFf"
      }
    },
    {
      "cell_type": "markdown",
      "source": [
        "**Answer :-**\n",
        "Yes, there is a difference in the data type of the list_ and array_list variables.\n",
        "\n",
        "The list_ variable is a Python list of strings, whereas array_list is a NumPy array of strings. Although they both contain the same string values, they have different data types because they are different types of objects."
      ],
      "metadata": {
        "id": "f7zxZJNKw4k9"
      }
    },
    {
      "cell_type": "code",
      "source": [
        "# Checking type of list_ and array_list\n",
        "print('Type of list_ is :',type(list_))\n",
        "print('Type of array_list is :',type(array_list))"
      ],
      "metadata": {
        "colab": {
          "base_uri": "https://localhost:8080/"
        },
        "id": "dzulOV4TzPkm",
        "outputId": "77d68155-9d90-48dc-c7e1-5555c12e0015"
      },
      "execution_count": 2,
      "outputs": [
        {
          "output_type": "stream",
          "name": "stdout",
          "text": [
            "Type of list_ is : <class 'list'>\n",
            "Type of array_list is : <class 'numpy.ndarray'>\n"
          ]
        }
      ]
    },
    {
      "cell_type": "markdown",
      "source": [
        "**Q2. Write a code to print the data type of each and every element of both the variables list_ and array_list.**"
      ],
      "metadata": {
        "id": "czz7TtvKzYTi"
      }
    },
    {
      "cell_type": "code",
      "source": [
        "# Printing data types of each and every element in list_:\n",
        "for i in list_:\n",
        "    print(f'Element value : {i}, datatype = {type(i)}')"
      ],
      "metadata": {
        "colab": {
          "base_uri": "https://localhost:8080/"
        },
        "id": "JIxRm1zCzsjB",
        "outputId": "04719c06-b3ef-407a-dd6b-0c05e5edcdd2"
      },
      "execution_count": 3,
      "outputs": [
        {
          "output_type": "stream",
          "name": "stdout",
          "text": [
            "Element value : 1, datatype = <class 'str'>\n",
            "Element value : 2, datatype = <class 'str'>\n",
            "Element value : 3, datatype = <class 'str'>\n",
            "Element value : 4, datatype = <class 'str'>\n",
            "Element value : 5, datatype = <class 'str'>\n"
          ]
        }
      ]
    },
    {
      "cell_type": "code",
      "source": [
        "# Printing data types of each and every element in list_:\n",
        "for i in array_list:\n",
        "    print(f'Element value : {i}, datatype = {type(i)}')"
      ],
      "metadata": {
        "colab": {
          "base_uri": "https://localhost:8080/"
        },
        "id": "KjCrFbEnztlx",
        "outputId": "2e0bea72-01b4-4092-e272-1b4b7d64017d"
      },
      "execution_count": 4,
      "outputs": [
        {
          "output_type": "stream",
          "name": "stdout",
          "text": [
            "Element value : 1, datatype = <class 'numpy.str_'>\n",
            "Element value : 2, datatype = <class 'numpy.str_'>\n",
            "Element value : 3, datatype = <class 'numpy.str_'>\n",
            "Element value : 4, datatype = <class 'numpy.str_'>\n",
            "Element value : 5, datatype = <class 'numpy.str_'>\n"
          ]
        }
      ]
    },
    {
      "cell_type": "markdown",
      "source": [
        "**Q3. Considering the following changes in the variable, array_list:**"
      ],
      "metadata": {
        "id": "eoFW0hM31YI7"
      }
    },
    {
      "cell_type": "code",
      "source": [
        "array_list = np.array(object = list_, dtype = int)"
      ],
      "metadata": {
        "id": "KQ2Dbuws1Z2J"
      },
      "execution_count": 5,
      "outputs": []
    },
    {
      "cell_type": "markdown",
      "source": [
        "**Will there be any difference in the data type of the elements present in both the variables, list_ and array_list? If so then print the data types of each and every element present in both the variables, list_ and array_list.**"
      ],
      "metadata": {
        "id": "0lzhtI6C1fhe"
      }
    },
    {
      "cell_type": "markdown",
      "source": [
        "**Answer :-** Yes There will be difference in datatypes of elements present in both lists. List elements will have data type string and array_list will have datatype numpy integer."
      ],
      "metadata": {
        "id": "bgrixWNi14On"
      }
    },
    {
      "cell_type": "code",
      "source": [
        "# Printing data types of each and every element in list_:\n",
        "for i in list_:\n",
        "    print(f'Element value : {i}, datatype = {type(i)}')"
      ],
      "metadata": {
        "colab": {
          "base_uri": "https://localhost:8080/"
        },
        "id": "ZQn_SRYm1-_z",
        "outputId": "476ddf70-0468-432e-bbbb-13620964aef4"
      },
      "execution_count": 6,
      "outputs": [
        {
          "output_type": "stream",
          "name": "stdout",
          "text": [
            "Element value : 1, datatype = <class 'str'>\n",
            "Element value : 2, datatype = <class 'str'>\n",
            "Element value : 3, datatype = <class 'str'>\n",
            "Element value : 4, datatype = <class 'str'>\n",
            "Element value : 5, datatype = <class 'str'>\n"
          ]
        }
      ]
    },
    {
      "cell_type": "code",
      "source": [
        "# Printing data types of each and every element in modified array_list\n",
        "for i in array_list:\n",
        "    print(f'Element value : {i}, datatype = {type(i)}')"
      ],
      "metadata": {
        "colab": {
          "base_uri": "https://localhost:8080/"
        },
        "id": "A4bQgXR52Dil",
        "outputId": "8f0073c7-38e6-4694-d11c-ba6224de1909"
      },
      "execution_count": 7,
      "outputs": [
        {
          "output_type": "stream",
          "name": "stdout",
          "text": [
            "Element value : 1, datatype = <class 'numpy.int64'>\n",
            "Element value : 2, datatype = <class 'numpy.int64'>\n",
            "Element value : 3, datatype = <class 'numpy.int64'>\n",
            "Element value : 4, datatype = <class 'numpy.int64'>\n",
            "Element value : 5, datatype = <class 'numpy.int64'>\n"
          ]
        }
      ]
    },
    {
      "cell_type": "markdown",
      "source": [
        "**Consider the below code to answer further questions:**"
      ],
      "metadata": {
        "id": "bb9JLjDT2ILj"
      }
    },
    {
      "cell_type": "code",
      "source": [
        "import numpy as np\n",
        "num_list = [ [ 1 , 2 , 3 ] , [ 4 , 5 , 6 ] ]\n",
        "num_array = np.array(object = num_list)"
      ],
      "metadata": {
        "id": "ciKsDZ6t2KvW"
      },
      "execution_count": 8,
      "outputs": []
    },
    {
      "cell_type": "markdown",
      "source": [
        "**Q4. Write a code to find the following characteristics of variable, num_array:**\n",
        "\n",
        "(i) shape\n",
        "\n",
        "(ii) size"
      ],
      "metadata": {
        "id": "0s2l_Gcf2QNA"
      }
    },
    {
      "cell_type": "code",
      "source": [
        "# Showing num_array shape\n",
        "num_array.shape"
      ],
      "metadata": {
        "colab": {
          "base_uri": "https://localhost:8080/"
        },
        "id": "xCy40blq2XZf",
        "outputId": "9deba707-2fd9-41b8-d3d1-edb5589d6657"
      },
      "execution_count": 9,
      "outputs": [
        {
          "output_type": "execute_result",
          "data": {
            "text/plain": [
              "(2, 3)"
            ]
          },
          "metadata": {},
          "execution_count": 9
        }
      ]
    },
    {
      "cell_type": "code",
      "source": [
        "# Showing num_array size\n",
        "num_array.size"
      ],
      "metadata": {
        "colab": {
          "base_uri": "https://localhost:8080/"
        },
        "id": "mlspEW-x2YT9",
        "outputId": "0f010a8e-12bc-4ebb-fb5e-b45a430c7c8e"
      },
      "execution_count": 10,
      "outputs": [
        {
          "output_type": "execute_result",
          "data": {
            "text/plain": [
              "6"
            ]
          },
          "metadata": {},
          "execution_count": 10
        }
      ]
    },
    {
      "cell_type": "markdown",
      "source": [
        "** Q5. Write a code to create numpy array of 3*3 matrix containing zeros only, using a numpy array creation function.**\n",
        "\n",
        "[Hint: The size of the array will be 9 and the shape will be (3,3).]"
      ],
      "metadata": {
        "id": "W9hdeApg2bD8"
      }
    },
    {
      "cell_type": "code",
      "source": [
        "## Using np.zeros to create a 3X3 matrix containing zeros\n",
        "arr5 = np.zeros((3,3))\n",
        "arr5"
      ],
      "metadata": {
        "colab": {
          "base_uri": "https://localhost:8080/"
        },
        "id": "vDEMJRGx20EZ",
        "outputId": "8a77aa71-f94c-4234-80e0-05d75c8f4826"
      },
      "execution_count": 11,
      "outputs": [
        {
          "output_type": "execute_result",
          "data": {
            "text/plain": [
              "array([[0., 0., 0.],\n",
              "       [0., 0., 0.],\n",
              "       [0., 0., 0.]])"
            ]
          },
          "metadata": {},
          "execution_count": 11
        }
      ]
    },
    {
      "cell_type": "code",
      "source": [
        "# Verifying Matrix size and shape\n",
        "print(f'Size of arr5 is {arr5.size}')\n",
        "print(f'Shape of arr5 is {arr5.shape}')"
      ],
      "metadata": {
        "colab": {
          "base_uri": "https://localhost:8080/"
        },
        "id": "VxVyIeJY24p8",
        "outputId": "1018a388-1940-4387-c7e3-8957cd083f54"
      },
      "execution_count": 12,
      "outputs": [
        {
          "output_type": "stream",
          "name": "stdout",
          "text": [
            "Size of arr5 is 9\n",
            "Shape of arr5 is (3, 3)\n"
          ]
        }
      ]
    },
    {
      "cell_type": "markdown",
      "source": [
        "**Q6. Create an identity matrix of shape (5,5) using numpy functions?**\n",
        "\n",
        "[Hint: An identity matrix is a matrix containing 1 diagonally and other elements will be 0.]"
      ],
      "metadata": {
        "id": "S1BfHoor3U0h"
      }
    },
    {
      "cell_type": "code",
      "source": [
        "## Creating identity matrix using np.eye\n",
        "arr6 = np.eye(5)\n",
        "arr6"
      ],
      "metadata": {
        "colab": {
          "base_uri": "https://localhost:8080/"
        },
        "id": "MI6yzoag3cE-",
        "outputId": "2e97d477-dd2c-4dc3-c151-36d34f06e647"
      },
      "execution_count": 13,
      "outputs": [
        {
          "output_type": "execute_result",
          "data": {
            "text/plain": [
              "array([[1., 0., 0., 0., 0.],\n",
              "       [0., 1., 0., 0., 0.],\n",
              "       [0., 0., 1., 0., 0.],\n",
              "       [0., 0., 0., 1., 0.],\n",
              "       [0., 0., 0., 0., 1.]])"
            ]
          },
          "metadata": {},
          "execution_count": 13
        }
      ]
    }
  ]
}