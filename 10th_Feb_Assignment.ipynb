{
  "nbformat": 4,
  "nbformat_minor": 0,
  "metadata": {
    "colab": {
      "provenance": []
    },
    "kernelspec": {
      "name": "python3",
      "display_name": "Python 3"
    },
    "language_info": {
      "name": "python"
    }
  },
  "cells": [
    {
      "cell_type": "markdown",
      "source": [
        "**Q1. Which function is used to open a file? What are the different modes of opening a file? Explain each mode of file opening.**"
      ],
      "metadata": {
        "id": "xf7MAOCPyUvx"
      }
    },
    {
      "cell_type": "markdown",
      "source": [
        "**Ans :-** The open() function is used to open a file."
      ],
      "metadata": {
        "id": "4mMIgXHiybQ_"
      }
    },
    {
      "cell_type": "markdown",
      "source": [
        "The different types of modes of opening a file are --\n",
        "\n",
        "\"r\" - Read - Default value. Opens a file for reading, error if the file does not exist\n",
        "\n",
        "\"a\" - Append - Opens a file for appending, creates the file if it does not exist\n",
        "\n",
        "\"w\" - Write - Opens a file for writing, creates the file if it does not exist\n",
        "\n",
        "\"x\" - Create - Creates the specified file, returns an error if the file exist\n",
        "\n",
        "\"t\" - Text - Default value. Text mode\n",
        "\n",
        "\"b\" - Binary - Binary mode (e.g. images)"
      ],
      "metadata": {
        "id": "bWSLuHWN5nA2"
      }
    },
    {
      "cell_type": "markdown",
      "source": [
        "**Q2. Why close() function is used? Why is it important to close a file?**"
      ],
      "metadata": {
        "id": "JZbsKXr15__r"
      }
    },
    {
      "cell_type": "markdown",
      "source": [
        "**Ans :-** The close() function is used to close an open file.\n",
        "\n",
        "Due to buffering, changes made to a file may not show until you close the file.\n",
        "So we4 should close the opened file."
      ],
      "metadata": {
        "id": "SkLvfwfl6_2U"
      }
    },
    {
      "cell_type": "markdown",
      "source": [
        "**Q3. Write a python program to create a text file. Write ‘I want to become a Data Scientist’ in that file. Then close the file. Open this file and read the content of the file.**"
      ],
      "metadata": {
        "id": "naWiZKrj_Mpp"
      }
    },
    {
      "cell_type": "code",
      "source": [
        "#creating a text file\n",
        "f = open(\"myfile.txt\", \"w\")\n",
        "\n",
        "#writing in the file\n",
        "f.write(\"I want to become a Data Scientist\")\n",
        "\n",
        "#closing the file\n",
        "f.close()\n",
        "\n",
        "#opening file and reaing the content of the file\n",
        "fl = open(\"myfile.txt\", \"r\")\n",
        "fl.read()"
      ],
      "metadata": {
        "colab": {
          "base_uri": "https://localhost:8080/",
          "height": 36
        },
        "id": "UsMX6kdeAe3b",
        "outputId": "f8703578-d632-428a-f465-307ec2a13406"
      },
      "execution_count": 1,
      "outputs": [
        {
          "output_type": "execute_result",
          "data": {
            "text/plain": [
              "'I want to become a Data Scientist'"
            ],
            "application/vnd.google.colaboratory.intrinsic+json": {
              "type": "string"
            }
          },
          "metadata": {},
          "execution_count": 1
        }
      ]
    },
    {
      "cell_type": "markdown",
      "source": [
        "**Q4. Explain the following with python code: read(), readline() and readlines().**"
      ],
      "metadata": {
        "id": "k6tsHT07Bn-_"
      }
    },
    {
      "cell_type": "markdown",
      "source": [
        "1. read() :- The read method reads the entire contents of a file and returns it as a string."
      ],
      "metadata": {
        "id": "8fqgpgcCC9A5"
      }
    },
    {
      "cell_type": "code",
      "source": [
        "with open(\"file.txt\", \"r\") as file:\n",
        "    content = file.read()\n",
        "    print(content)"
      ],
      "metadata": {
        "colab": {
          "base_uri": "https://localhost:8080/"
        },
        "id": "Sb8Sf-98C-NT",
        "outputId": "546c0e54-2205-4102-94b5-a0fb13ba3947"
      },
      "execution_count": 2,
      "outputs": [
        {
          "output_type": "stream",
          "name": "stdout",
          "text": [
            "Subhas Chandra Bose (23 January 1897 – 18 August 1945) was an Indian nationalist. His defiance of British authority in India made him a hero among many Indians, but his wartime alliances with Nazi Germany and Imperial Japan left a legacy vexed by authoritarianism, anti-Semitism, and military failure. The honorific Netaji (Hindi: \"Respected Leader\") was first applied to Bose in Germany in early 1942—by the Indian soldiers of the Indische Legion and by the German and Indian officials in the Special Bureau for India in Berlin. It is now used throughout India\n"
          ]
        }
      ]
    },
    {
      "cell_type": "markdown",
      "source": [
        "2. readline() :-The readline method reads a single line from a file and returns it as a string. This means that if you use readline, you can read the contents of a file line by line, which can be useful for processing large files that do not fit in memory."
      ],
      "metadata": {
        "id": "HbrqVdk5DE4H"
      }
    },
    {
      "cell_type": "code",
      "source": [
        "with open(\"file.txt\", \"r\") as file:\n",
        "    line = file.readline()\n",
        "    while line:\n",
        "        print(line.strip())\n",
        "        line = file.readline()"
      ],
      "metadata": {
        "colab": {
          "base_uri": "https://localhost:8080/"
        },
        "id": "_9Lz7_r3DQwe",
        "outputId": "84981a1a-110d-48f3-c417-b4470bdafe8e"
      },
      "execution_count": 3,
      "outputs": [
        {
          "output_type": "stream",
          "name": "stdout",
          "text": [
            "Subhas Chandra Bose (23 January 1897 – 18 August 1945) was an Indian nationalist. His defiance of British authority in India made him a hero among many Indians, but his wartime alliances with Nazi Germany and Imperial Japan left a legacy vexed by authoritarianism, anti-Semitism, and military failure. The honorific Netaji (Hindi: \"Respected Leader\") was first applied to Bose in Germany in early 1942—by the Indian soldiers of the Indische Legion and by the German and Indian officials in the Special Bureau for India in Berlin. It is now used throughout India\n"
          ]
        }
      ]
    },
    {
      "cell_type": "markdown",
      "source": [
        "3. readlines() :- The readline method reads a single line from a file and returns it as a string, while the readlines method reads the entire contents of a file and returns it as a list of strings, where each element of the list is a single line of the file."
      ],
      "metadata": {
        "id": "pVpsdeqaDSkI"
      }
    },
    {
      "cell_type": "code",
      "source": [
        "with open(\"file.txt\", \"r\") as file:\n",
        "    lines = file.readlines()\n",
        "    for line in lines:\n",
        "        print(line.strip())"
      ],
      "metadata": {
        "colab": {
          "base_uri": "https://localhost:8080/"
        },
        "id": "0tMJxzZODa_C",
        "outputId": "154c540d-95eb-4c55-9fca-2b9e3f3f6396"
      },
      "execution_count": 4,
      "outputs": [
        {
          "output_type": "stream",
          "name": "stdout",
          "text": [
            "Subhas Chandra Bose (23 January 1897 – 18 August 1945) was an Indian nationalist. His defiance of British authority in India made him a hero among many Indians, but his wartime alliances with Nazi Germany and Imperial Japan left a legacy vexed by authoritarianism, anti-Semitism, and military failure. The honorific Netaji (Hindi: \"Respected Leader\") was first applied to Bose in Germany in early 1942—by the Indian soldiers of the Indische Legion and by the German and Indian officials in the Special Bureau for India in Berlin. It is now used throughout India\n"
          ]
        }
      ]
    },
    {
      "cell_type": "markdown",
      "source": [
        "**Q5. Explain why with statement is used with open(). What is the advantage of using with statement and open() together?**"
      ],
      "metadata": {
        "id": "ViqjKRpTEpAi"
      }
    },
    {
      "cell_type": "markdown",
      "source": [
        "**Ans :-** In Python, with statement is used in exception handling to make the code cleaner and much more readable. It simplifies the management of common resources like file streams.\n",
        "\n",
        "Advantages :- The with statement works with the open() function to open a file.Unlike open() where you have to close the file with the close() method, the with statement closes the file for you without you telling it to.\n",
        "This is because the with statement calls 2 built-in methods behind the scene – __enter()__ and __exit()__.The __exit()__ method closes the file when the operation you specify is done."
      ],
      "metadata": {
        "id": "3fBDl1v4F6T0"
      }
    },
    {
      "cell_type": "markdown",
      "source": [
        "**Q6. Explain the write() and writelines() functions. Give a suitable example.**"
      ],
      "metadata": {
        "id": "mhkP5slDGsDt"
      }
    },
    {
      "cell_type": "markdown",
      "source": [
        "**Ans :-**\n",
        "\n",
        "**write() function :-**  The write() function will write the content in the file without adding any extra characters.\n",
        "\n",
        "**writelines() function :-** This function writes the content of a list to a file.As per the syntax, the list of strings that is passed to the writelines() function is written into the opened file. Similar to the write() function, the writelines() function does not add a newline character(\\n) to the end of the string."
      ],
      "metadata": {
        "id": "MuaG0zMbHWv2"
      }
    },
    {
      "cell_type": "code",
      "source": [
        "file = open(\"Employees.txt\", \"w\")\n",
        "\n",
        "for i in range(3):\n",
        "  name = input(\"Enter the name of the employee: \")\n",
        "  file.write(name)\n",
        "  file.write(\"\\n\")\n",
        "\n",
        "file.close()\n",
        "\n",
        "\n"
      ],
      "metadata": {
        "colab": {
          "base_uri": "https://localhost:8080/"
        },
        "id": "MkpC20ACIdcw",
        "outputId": "2bfb3214-0852-475b-96a3-fcfabe498267"
      },
      "execution_count": 5,
      "outputs": [
        {
          "name": "stdout",
          "output_type": "stream",
          "text": [
            "Enter the name of the employee: one\n",
            "Enter the name of the employee: two\n",
            "Enter the name of the employee: three\n"
          ]
        }
      ]
    },
    {
      "cell_type": "code",
      "source": [
        "file1 = open(\"Employees.txt\", \"w\")\n",
        "lst = []\n",
        "for i in range(3):\n",
        "\tname = input(\"Enter the name of the employee: \")\n",
        "\tlst.append(name+ '\\n')\n",
        "\n",
        "file1.writelines(lst)\n",
        "file1.close()\n",
        "\n"
      ],
      "metadata": {
        "colab": {
          "base_uri": "https://localhost:8080/"
        },
        "id": "doc8_p5CIfZy",
        "outputId": "146bca2e-59f1-4aef-8188-c5821f4ce15a"
      },
      "execution_count": 8,
      "outputs": [
        {
          "name": "stdout",
          "output_type": "stream",
          "text": [
            "Enter the name of the employee: four\n",
            "Enter the name of the employee: five\n",
            "Enter the name of the employee: six\n"
          ]
        }
      ]
    }
  ]
}