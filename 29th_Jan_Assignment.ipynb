{
  "nbformat": 4,
  "nbformat_minor": 0,
  "metadata": {
    "colab": {
      "provenance": []
    },
    "kernelspec": {
      "name": "python3",
      "display_name": "Python 3"
    },
    "language_info": {
      "name": "python"
    }
  },
  "cells": [
    {
      "cell_type": "markdown",
      "source": [
        "**1. Who developed Python Programming Language?**\n",
        "\n",
        "Ans :- Guido van Rossum developed Python Programming Language."
      ],
      "metadata": {
        "id": "euOKcOU3NFXK"
      }
    },
    {
      "cell_type": "markdown",
      "source": [
        "**2. Which type of Programming does Python support?**\n",
        "\n",
        "Ans :- Object-oriented programming and structured programming are fully supported, and many of their features support functional programming and aspect-oriented programming in Python."
      ],
      "metadata": {
        "id": "nyCelHSmNJ9z"
      }
    },
    {
      "cell_type": "markdown",
      "source": [
        "**3. Is Python case sensitive when dealing with identifiers?**\n",
        "\n",
        "Ans :- Yes, Python is case sensitive when dealing with identifiers. This means that the names \"python\", \"Python\", and “PYTHON\" are treated as three different identifiers by the Python interpreter."
      ],
      "metadata": {
        "id": "tk7LYX_aNQD0"
      }
    },
    {
      "cell_type": "markdown",
      "source": [
        "**4. What is the correct extension of the Python file?**\n",
        "\n",
        "Ans:- .py is the correct extension of the Python file. Another extensions for Python files are - .pyi, .pyc, .pyd, .pyo, .pyw, and .pyz.\n"
      ],
      "metadata": {
        "id": "he-17nKxNTkA"
      }
    },
    {
      "cell_type": "markdown",
      "source": [
        "**5. Is Python code compiled or interpreted?**\n",
        "\n",
        "Ans:- In various resources, it is mentioned that python language is interpreted. But that is half correct the python program is first compiled and then interpreted. The compilation part is hidden from the programmer thus, many programmers believe that it is an interpreted language. The compilation part is done first when we execute our code and this will generate byte code and internally this byte code gets converted by the python virtual machine(p.v.m) according to the underlying platform(machine+operating system)."
      ],
      "metadata": {
        "id": "QfrLYCrdNYhY"
      }
    },
    {
      "cell_type": "markdown",
      "source": [
        "**6. Name a few blocks of code used to define in Python language?**\n",
        "\n",
        "Ans:- Indentation is used to define a block of code in Python language."
      ],
      "metadata": {
        "id": "ngUZ4ewZNchX"
      }
    },
    {
      "cell_type": "markdown",
      "source": [
        "**7. State a character used to give single-line comments in Python?**\n",
        "\n",
        "Ans:- '#' character is used to give single-line comments in Python."
      ],
      "metadata": {
        "id": "1w4Mp90RNjn7"
      }
    },
    {
      "cell_type": "markdown",
      "source": [
        "**8. Mention functions which can help us to find the version of python that we are currently working on?**\n",
        "\n",
        "Ans:- The functions which can help us to find the version of python that we are currently working on are sys.version, python_version(), Python -V."
      ],
      "metadata": {
        "id": "KtHywDxTNnzl"
      }
    },
    {
      "cell_type": "markdown",
      "source": [
        "**9. Python supports the creation of anonymous functions at runtime, using a construct called** ____________.\n",
        "\n",
        "Ans:- Python supports the creation of anonymous functions at runtime, using a construct called lambda."
      ],
      "metadata": {
        "id": "6ism72fhNriF"
      }
    },
    {
      "cell_type": "markdown",
      "source": [
        "**10. What does pip stand for in python?**\n",
        "\n",
        "Ans:- In Python pip stands for 'Preferred Installer Program'."
      ],
      "metadata": {
        "id": "He2OX_PANu7L"
      }
    },
    {
      "cell_type": "markdown",
      "source": [
        "**11. Mention a few built-in functions in python?**\n",
        "\n",
        "Ans:- Few built-in functions in python are abs(), all(), any(), ascii(),\n",
        " bin(), bool(), bytearray(), bytes() etc."
      ],
      "metadata": {
        "id": "_UmfUbqFNyxl"
      }
    },
    {
      "cell_type": "markdown",
      "source": [
        "**12. What is the maximum possible length of an identifier in Python?**\n",
        "\n",
        "Ans:- In Pyhton, the maximum possible length of an identifier is 79 characters."
      ],
      "metadata": {
        "id": "Jq-IaassN4dk"
      }
    },
    {
      "cell_type": "markdown",
      "source": [
        "**13. What are the benefits of using Python?**\n",
        "\n",
        "Ans:- Benefits of using Python ---\n",
        "\n",
        "1. Third-Party Modules :- Python Package Index (PyPI) comprises a multitude of third-party modules which makes Python integrate with other languages and platforms easily.\n",
        "\n",
        "2. Presence of Libraries :- Python is fraught with numerous standard libraries that include string operations, internet protocols, web service tools, Machine Learning libraries, and operating System Interfaces. The presence of these libraries essentially helps in reducing the code to be written by the programmer.\n",
        "\n",
        "3. Open Source and free :- Python is free for use even for commercial purposes. Moreover, active developers can contribute by developing modules and appending them to the existing library.\n",
        "\n",
        "4. Huge Support Community :- Due to lack of official technical support for Python is open-sourced has prompted the development of communities that enrich the resource bank for continued development and adoption of the language.\n",
        "\n",
        "5. Easy to learn :- Python is popular for its excellent readability. This means, even a non-programmer can read and comprehend the uncluttered syntax. The PEP 8 guidelines provide a set of rules to help in formatting the code.\n",
        "\n",
        "6. User-Friendly data structures :- With its built-in data structures, Python can easily construct run-time data structures including Arrays, Lists, tuples, and Files."
      ],
      "metadata": {
        "id": "13bq9gCvN6qW"
      }
    },
    {
      "cell_type": "markdown",
      "source": [
        "**14. How is memory managed in Python?**\n",
        "\n",
        "Ans :- According to the Python memory management documentation, memory management in Python involves a private heap containing all Python objects and data structures. The management of this private heap is ensured internally by the Python memory manager. The Python memory manager has different components which deal with various dynamic storage management aspects, like sharing, segmentation, preallocation or caching.\n",
        "\n",
        "At the lowest level, a raw memory allocator ensures that there is enough room in the private heap for storing all Python-related data by interacting with the memory manager of the operating system. On top of the raw memory allocator, several object-specific allocators operate on the same heap and implement distinct memory management policies adapted to the peculiarities of every object type. For example, integer objects are managed differently within the heap than strings, tuples or dictionaries because integers imply different storage requirements and speed/space tradeoffs. The Python memory manager thus delegates some of the work to the object-specific allocators, but ensures that the latter operate within the bounds of the private heap."
      ],
      "metadata": {
        "id": "HMWSjRU9N-_d"
      }
    },
    {
      "cell_type": "markdown",
      "source": [
        "**15. How to install Python on Windows and set path variables?**\n",
        "\n",
        "Ans :- There are two main ways of installing Python on Windows: installation from the official Python website or from Anaconda, a convenient distribution of Python and R programming languages.\n",
        "\n",
        "Python can be installed from the official Python website on Windows with the help of following steps :-\n",
        "\n",
        "**Step 1.** Open the Python Releases for Windows page, select Python version, and download Python executable installer. To download the latest Python 3 release, you have to manually choose the installer that suits your Windows version.\n",
        "\n",
        "**Step 2. Run the installer** :- Download installer for Python 3, and find it in your Downloads folder. On the first pop-up window, select both checkboxes at the bottom to enable adding Python to your path in Windows automatically. Then select Install Now.The installation process can take a few minutes. Then, in the next window, select Disable path length limit to avoid potential issues with long path names in the future.The latest Python 3 release has been installed on your computer.\n",
        "\n",
        "\n",
        "###**The path variable is being set up by following steps :-**\n",
        "\n",
        "1. Right-clicking This PC and going to Properties.\n",
        "\n",
        "2. Clicking on the Advanced system settings in the menu on the right.\n",
        "\n",
        "3. Clicking on the Environment Variables button o​n the bottom right.\n",
        "\n",
        "4. In the System variables section, selecting the Path variable and clicking on Edit. The next screen will show all the directories that are currently a part of the PATH variable.\n",
        "\n",
        "5. Clicking on New and entering Python’s install directory.\n",
        "\n",
        "Python can now be used directly from the command prompt without having to write its location."
      ],
      "metadata": {
        "id": "E_MQa2sNOB5p"
      }
    },
    {
      "cell_type": "markdown",
      "source": [
        "**16. Is indentation required in python?**\n",
        "\n",
        "Ans :- Indentation is mandatory in python to define the blocks of statements. It is preferred to use whitespaces instead of tabs to indent in python. Python uses four spaces as default indentation spaces."
      ],
      "metadata": {
        "id": "y6EexoNYOELZ"
      }
    }
  ]
}