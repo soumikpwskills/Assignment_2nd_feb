{
  "nbformat": 4,
  "nbformat_minor": 0,
  "metadata": {
    "colab": {
      "provenance": []
    },
    "kernelspec": {
      "name": "python3",
      "display_name": "Python 3"
    },
    "language_info": {
      "name": "python"
    }
  },
  "cells": [
    {
      "cell_type": "markdown",
      "source": [
        "**Q1.  Explain with an example each when to use a for loop and a while loop.**"
      ],
      "metadata": {
        "id": "FMKS5gxSxhIs"
      }
    },
    {
      "cell_type": "markdown",
      "source": [
        "**Ans**:- The for loop is used when we know the number of iterations, that is, how many times a statement must be executed. That is why, when we initialize the for loop, we must define the ending point.\n",
        "\n",
        "A while loop is used when the number of iterations is unknown. It is used when we need to end the loop on a condition other than the number of repetitions. It is not necessary to know the condition ahead of time in this case. That is why we can use a boolean expression in the loop's initialization.\n",
        "\n",
        "In the Absence of Condition\n",
        "If no condition is specified in the for and while loop, the loop will iterate infinitely.\n",
        "\n",
        "Example:-"
      ],
      "metadata": {
        "id": "QCTNpDVpxmEf"
      }
    },
    {
      "cell_type": "code",
      "source": [
        "#for loop\n",
        "List = [10, 20, 30, 40, 50]\n",
        "print(\"Input list elements:\")\n",
        "for element in List:\n",
        "   print(element)"
      ],
      "metadata": {
        "colab": {
          "base_uri": "https://localhost:8080/"
        },
        "id": "l1rw0Xh5zbgd",
        "outputId": "38a892df-182e-4f6d-a8ac-25d31eb7b92c"
      },
      "execution_count": 25,
      "outputs": [
        {
          "output_type": "stream",
          "name": "stdout",
          "text": [
            "Input list elements:\n",
            "10\n",
            "20\n",
            "30\n",
            "40\n",
            "50\n"
          ]
        }
      ]
    },
    {
      "cell_type": "code",
      "source": [
        "#while loop\n",
        "i = 1\n",
        "# Iterate until the given condition is true\n",
        "while i < 10:\n",
        "   print(i)\n",
        "   i += 1 "
      ],
      "metadata": {
        "colab": {
          "base_uri": "https://localhost:8080/"
        },
        "id": "s9y9FB89zpUe",
        "outputId": "a4ff0ec0-3999-4908-d7aa-e3079d95776f"
      },
      "execution_count": null,
      "outputs": [
        {
          "output_type": "stream",
          "name": "stdout",
          "text": [
            "1\n",
            "2\n",
            "3\n",
            "4\n",
            "5\n",
            "6\n",
            "7\n",
            "8\n",
            "9\n"
          ]
        }
      ]
    },
    {
      "cell_type": "markdown",
      "source": [
        " **Q2.  Write a python program to print the sum and product of the first 10 natural numbers using for \n",
        "and while loop.**"
      ],
      "metadata": {
        "id": "mMSg9uDQ0ghn"
      }
    },
    {
      "cell_type": "code",
      "source": [
        "#using for loop\n",
        "sum = 0\n",
        "product = 1\n",
        "for i in range(1,11):\n",
        "  sum = sum+i\n",
        "  product = product*i\n",
        "print(\"The sum of the first 10 natural numbers is :\",sum)\n",
        "print(\"The product of the first 10 natural numbers is :\",product)"
      ],
      "metadata": {
        "colab": {
          "base_uri": "https://localhost:8080/"
        },
        "id": "-YPtL9JOVOoY",
        "outputId": "6b3c56cf-ebd5-4bdd-85c8-bf4f9a36a032"
      },
      "execution_count": 8,
      "outputs": [
        {
          "output_type": "stream",
          "name": "stdout",
          "text": [
            "The sum of the first 10 natural numbers is : 55\n",
            "The product of the first 10 natural numbers is : 3628800\n"
          ]
        }
      ]
    },
    {
      "cell_type": "code",
      "source": [
        "#using while loop\n",
        "i=1\n",
        "sum = 0\n",
        "product = 1\n",
        "while i<=10:\n",
        "  sum = sum+i\n",
        "  product = product*i\n",
        "  i=i+1\n",
        "print(\"The sum of the first 10 natural numbers is :\",sum)\n",
        "print(\"The product of the first 10 natural numbers is :\",product)"
      ],
      "metadata": {
        "id": "L0iyFsYT1TdX",
        "colab": {
          "base_uri": "https://localhost:8080/"
        },
        "outputId": "9b572d89-dab8-4ce4-a914-c8121fbac674"
      },
      "execution_count": 26,
      "outputs": [
        {
          "output_type": "stream",
          "name": "stdout",
          "text": [
            "The sum of the first 10 natural numbers is : 55\n",
            "The product of the first 10 natural numbers is : 3628800\n"
          ]
        }
      ]
    },
    {
      "cell_type": "markdown",
      "source": [
        "**Q3. Create a python program to compute the electricity bill for a household.**\n",
        "\n",
        "**The per-unit charges in rupees are as follows: For the first 100 units, the user will be charged Rs. 4.5 per unit, for the next 100 units, the user will be charged Rs. 6 per unit, and for the next 100 units, the user will be charged Rs. 10 per unit, After 300 units and above the user will be charged Rs. 20 per unit.**\n",
        "\n",
        "**You are required to take the units of electricity consumed in a month from the user as input.**"
      ],
      "metadata": {
        "id": "W9AtLVkJVsy_"
      }
    },
    {
      "cell_type": "code",
      "source": [
        "unit = int(input(\"Enter your unit: \"))\n",
        "if unit <= 100:\n",
        "    bill = unit * 4.5\n",
        "elif unit >= 101 and unit <= 200:\n",
        "    bill = 450 + ((unit - 100) * 6)\n",
        "elif unit >= 201 and unit <= 300:\n",
        "    bill = 450 + 600 + ((unit - 200) * 10)\n",
        "else:\n",
        "    bill = 450 + 600 + 1000 + ((unit - 300) * 20)\n",
        "print(\"The electricity bill :\",bill)"
      ],
      "metadata": {
        "colab": {
          "base_uri": "https://localhost:8080/"
        },
        "id": "pVMYKagkW3L7",
        "outputId": "25f5c8f4-8af5-41ac-9b5d-5b6eb9865102"
      },
      "execution_count": 13,
      "outputs": [
        {
          "output_type": "stream",
          "name": "stdout",
          "text": [
            "Enter your unit: 310\n",
            "The electricity bill : 2250\n"
          ]
        }
      ]
    },
    {
      "cell_type": "markdown",
      "source": [
        "**Q4. Create a list of numbers from 1 to 100. Use for loop and while loop to calculate the cube of each number and if the cube of that number is divisible by 4 or 5 then append that number in a list and print that list.**"
      ],
      "metadata": {
        "id": "JoqFxbiyoDDa"
      }
    },
    {
      "cell_type": "code",
      "source": [
        "# Cube List using for loop\n",
        "l=[]\n",
        "for j in range(1,101):\n",
        "  l.append(j)\n",
        "cube = []\n",
        "for i in l:\n",
        "  n=i*i*i\n",
        "  if (n%4==0) or (n%5==0):\n",
        "    cube.append(n)\n",
        "\n",
        "print(cube)"
      ],
      "metadata": {
        "colab": {
          "base_uri": "https://localhost:8080/"
        },
        "id": "nj4jggVUoaLn",
        "outputId": "003ea9ea-a1c3-4df9-9b02-f60308feeb99"
      },
      "execution_count": 18,
      "outputs": [
        {
          "output_type": "stream",
          "name": "stdout",
          "text": [
            "[8, 64, 125, 216, 512, 1000, 1728, 2744, 3375, 4096, 5832, 8000, 10648, 13824, 15625, 17576, 21952, 27000, 32768, 39304, 42875, 46656, 54872, 64000, 74088, 85184, 91125, 97336, 110592, 125000, 140608, 157464, 166375, 175616, 195112, 216000, 238328, 262144, 274625, 287496, 314432, 343000, 373248, 405224, 421875, 438976, 474552, 512000, 551368, 592704, 614125, 636056, 681472, 729000, 778688, 830584, 857375, 884736, 941192, 1000000]\n"
          ]
        }
      ]
    },
    {
      "cell_type": "code",
      "source": [
        "# Cube List using while loop\n",
        "l=[]\n",
        "j=1\n",
        "while(j<=100):\n",
        "  l.append(j)\n",
        "  j=j+1\n",
        "cube = []\n",
        "i=1\n",
        "while(i<=100):\n",
        "  n=i*i*i\n",
        "  if (n%4==0) or (n%5==0):\n",
        "    cube.append(n)\n",
        "  i=i+1\n",
        "\n",
        "print(cube)"
      ],
      "metadata": {
        "colab": {
          "base_uri": "https://localhost:8080/"
        },
        "id": "y5rntbt2qzyC",
        "outputId": "bfba6b98-cc81-4548-9331-753e2515aab9"
      },
      "execution_count": 23,
      "outputs": [
        {
          "output_type": "stream",
          "name": "stdout",
          "text": [
            "[8, 64, 125, 216, 512, 1000, 1728, 2744, 3375, 4096, 5832, 8000, 10648, 13824, 15625, 17576, 21952, 27000, 32768, 39304, 42875, 46656, 54872, 64000, 74088, 85184, 91125, 97336, 110592, 125000, 140608, 157464, 166375, 175616, 195112, 216000, 238328, 262144, 274625, 287496, 314432, 343000, 373248, 405224, 421875, 438976, 474552, 512000, 551368, 592704, 614125, 636056, 681472, 729000, 778688, 830584, 857375, 884736, 941192, 1000000]\n"
          ]
        }
      ]
    },
    {
      "cell_type": "markdown",
      "source": [
        "**Q5.  Write a program to filter count vowels in the below-given string.**\n",
        "\n",
        "**string = \"I want to become a data scientist\"**"
      ],
      "metadata": {
        "id": "dduRYj7grj-5"
      }
    },
    {
      "cell_type": "code",
      "source": [
        "string = \"I want to become a data scientist\"\n",
        "\n",
        "count = 0\n",
        "vowel = set(\"aeiouAEIOU\")\n",
        "for alphabet in string:\n",
        "  if alphabet in vowel:\n",
        "    count = count + 1\n",
        "print(\"No. of vowels :\", count)"
      ],
      "metadata": {
        "colab": {
          "base_uri": "https://localhost:8080/"
        },
        "id": "87isennIrubc",
        "outputId": "54d13275-7083-4d4e-c008-0abe2fee077b"
      },
      "execution_count": 24,
      "outputs": [
        {
          "output_type": "stream",
          "name": "stdout",
          "text": [
            "No. of vowels : 12\n"
          ]
        }
      ]
    }
  ]
}