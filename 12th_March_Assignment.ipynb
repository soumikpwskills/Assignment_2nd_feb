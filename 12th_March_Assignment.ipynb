{
  "nbformat": 4,
  "nbformat_minor": 0,
  "metadata": {
    "colab": {
      "provenance": []
    },
    "kernelspec": {
      "name": "python3",
      "display_name": "Python 3"
    },
    "language_info": {
      "name": "python"
    }
  },
  "cells": [
    {
      "cell_type": "markdown",
      "source": [
        "**Q1. Calculate the 95% confidence interval for a sample of data with a mean of 50 and a standard deviation of 5 using Python. Interpret the results.**"
      ],
      "metadata": {
        "id": "B2sI9N2GY2QR"
      }
    },
    {
      "cell_type": "markdown",
      "source": [
        "##**Answer :-**\n",
        "Sample size not given in problem , Assuming sample size of 50"
      ],
      "metadata": {
        "id": "ILKV2btcanUf"
      }
    },
    {
      "cell_type": "code",
      "source": [
        "import scipy.stats as stats\n",
        "\n",
        "sample_mean = 50\n",
        "sample_std_dev = 5\n",
        "sample_size = 50 # assuming a sample size of 50\n",
        "\n",
        "# calculate the standard error of the mean\n",
        "std_error_mean = sample_std_dev / (sample_size ** 0.5)\n",
        "\n",
        "# Confidence Level\n",
        "confidence_level = 0.95\n",
        "\n",
        "# significance level\n",
        "alpha = 1 -  confidence_level\n",
        "\n",
        "# calculate the t-value for a 95% confidence interval with 49 degrees of freedom\n",
        "t_value = stats.t.ppf(1-alpha/2, df=sample_size-1)\n",
        "\n",
        "# Print critical t-value\n",
        "print(f'Critical t statistic for {confidence_level*100:.2f}% for {sample_size} samples : {t_value:.4f}')\n",
        "\n",
        "# calculate the margin of error\n",
        "margin_of_error = t_value * std_error_mean\n",
        "print(f'Margin of error is : {margin_of_error:.2f}')\n",
        "print(f'Point Estimate of mean is : {sample_mean}')\n",
        "\n",
        "# calculate the lower and upper bounds of the confidence interval\n",
        "lower_bound = sample_mean - margin_of_error\n",
        "upper_bound = sample_mean + margin_of_error\n",
        "\n",
        "print(f\"Mean Estimate with 95% Confidence Interval: ({lower_bound:.2f}, {upper_bound:.2f})\")"
      ],
      "metadata": {
        "colab": {
          "base_uri": "https://localhost:8080/"
        },
        "id": "zIqHYHjrawbI",
        "outputId": "83d682ca-cd53-49b2-8b50-98bba2a173e8"
      },
      "execution_count": 1,
      "outputs": [
        {
          "output_type": "stream",
          "name": "stdout",
          "text": [
            "Critical t statistic for 95.00% for 50 samples : 2.0096\n",
            "Margin of error is : 1.42\n",
            "Point Estimate of mean is : 50\n",
            "Mean Estimate with 95% Confidence Interval: (48.58, 51.42)\n"
          ]
        }
      ]
    },
    {
      "cell_type": "markdown",
      "source": [
        "Interpretation : Above Results conclude that I can say with 95% confidence that my POPULATION MEAN lies in between 48.58 and 51.42 for sample size of 50"
      ],
      "metadata": {
        "id": "1Mv25esza0ZI"
      }
    },
    {
      "cell_type": "markdown",
      "source": [
        "**Q2. Conduct a chi-square goodness of fit test to determine if the distribution of colors of M&Ms in a bag matches the expected distribution of 20% blue, 20% orange, 20% green, 10% yellow, 10% red, and 20% brown. Use Python to perform the test with a significance level of 0.05.**"
      ],
      "metadata": {
        "id": "1rgSVLM0Y6Sl"
      }
    },
    {
      "cell_type": "markdown",
      "source": [
        "##**Answer :-**\n",
        "In this case Observed data is NOT given I'm assuming following data : [10, 20, 15, 5, 5, 15]"
      ],
      "metadata": {
        "id": "I2OVQW2za33h"
      }
    },
    {
      "cell_type": "code",
      "source": [
        "import numpy as np\n",
        "from scipy.stats import chisquare\n",
        "from scipy.stats import chi2\n",
        "\n",
        "# observed frequencies\n",
        "obs_freq = np.array([10, 20, 15, 5, 5, 15])\n",
        "\n",
        "# expected frequencies\n",
        "exp_freq = np.array([0.2, 0.2, 0.2, 0.1, 0.1, 0.2]) * np.sum(obs_freq)\n",
        "\n",
        "# Null and alternate hypothesis\n",
        "null_hypothesis = \"The distribution of colors of M&Ms in the bag matches the expected distribution.\"\n",
        "alternate_hypothesis = \"The distribution of colors of M&Ms in the bag does not match the expected distribution.\"\n",
        "\n",
        "# perform chi-square goodness of fit test\n",
        "test_statistic, p_value = chisquare(obs_freq, exp_freq)\n",
        "\n",
        "# print results\n",
        "print(\"Test Chi2 statistic:\", test_statistic)\n",
        "print(\"p-value:\", p_value)\n",
        "\n",
        "# Critical chi2 value\n",
        "df = len(obs_freq)-1\n",
        "alpha = 0.05\n",
        "chi2_crit = chi2.ppf(1-alpha,df)\n",
        "print(f\"Critical Chi Square value for {alpha} significance level for {df} degrees of freedom is : {chi2_crit:.4f}\")\n",
        "\n",
        "# compare p-value with significance level\n",
        "alpha = 0.05\n",
        "if p_value < alpha:\n",
        "    print(\"Reject null hypothesis\")\n",
        "    print(f\"Conculsion : {alternate_hypothesis}\")\n",
        "else:\n",
        "    print(\"Fail to reject null hypothesis\")\n",
        "    print(f\"Conclusion : {null_hypothesis}\")"
      ],
      "metadata": {
        "colab": {
          "base_uri": "https://localhost:8080/"
        },
        "id": "XF-Uv4Vha8gu",
        "outputId": "72cd79fe-3544-434a-da76-0f862208e006"
      },
      "execution_count": 2,
      "outputs": [
        {
          "output_type": "stream",
          "name": "stdout",
          "text": [
            "Test Chi2 statistic: 5.0\n",
            "p-value: 0.4158801869955079\n",
            "Critical Chi Square value for 0.05 significance level for 5 degrees of freedom is : 11.0705\n",
            "Fail to reject null hypothesis\n",
            "Conclusion : The distribution of colors of M&Ms in the bag matches the expected distribution.\n"
          ]
        }
      ]
    },
    {
      "cell_type": "markdown",
      "source": [
        "**Q3. Use Python to calculate the chi-square statistic and p-value for a contingency table with the following data:**"
      ],
      "metadata": {
        "id": "J3rIjxl5Y8to"
      }
    },
    {
      "cell_type": "markdown",
      "source": [
        "![image.png](data:image/png;base64,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)"
      ],
      "metadata": {
        "id": "7tGnRUHfZAw9"
      }
    },
    {
      "cell_type": "markdown",
      "source": [
        "Interpret the results of the test."
      ],
      "metadata": {
        "id": "OL0zE2hbZG27"
      }
    },
    {
      "cell_type": "code",
      "source": [
        "from scipy.stats import chi2_contingency\n",
        "import pandas as pd\n",
        "\n",
        "# Defining the observed contingency table in pandas\n",
        "obs_df = pd.DataFrame({'Group A':[20,10,15],'Group B':[15,25,20]})\n",
        "obs_df.index = ['Outcome 1','Outcome 2','Outcome 3']\n",
        "print(\"Observed Dataframe Below :\\n\")\n",
        "print(obs_df)\n",
        "print(\"\\n============================\\n\")\n",
        "\n",
        "# Null and Alternate Hypothesis\n",
        "null_hypothesis = \"The outcomes are independent of the groups.\"\n",
        "alternate_hypothesis = \"The outcomes are Dependent on the groups.\"\n",
        "\n",
        "# Calculate the chi-square statistic and p-value\n",
        "stat, p, dof, expected = chi2_contingency(obs_df)\n",
        "\n",
        "# Print Expected DataFrame\n",
        "expected_df = pd.DataFrame(expected)\n",
        "expected_df.columns = ['Group A','Group B']\n",
        "expected_df.index = ['Outcome 1','Outcome 2','Outcome 3']\n",
        "print(\"Expected Values Dataframe Below :\\n\")\n",
        "print(expected_df)\n",
        "\n",
        "# Print the results\n",
        "print(\"\\nChi-square statistic:\", round(stat,4))\n",
        "print(\"p-value:\", round(p,4))\n",
        "\n",
        "# Significance\n",
        "alpha = 0.05\n",
        "\n",
        "if p < alpha :\n",
        "    print(\"Reject the Null Hypothesis\")\n",
        "    print(f\"Conclusion : {alternate_hypothesis}\")\n",
        "else:\n",
        "    print(\"Failed to reject the Null Hypothesis\")\n",
        "    print(f\"Conclusion : {null_hypothesis}\")"
      ],
      "metadata": {
        "colab": {
          "base_uri": "https://localhost:8080/"
        },
        "id": "XKum-9MPbCfv",
        "outputId": "9e02f6f2-ddb3-4034-c4d3-bcc1d5225cf5"
      },
      "execution_count": 3,
      "outputs": [
        {
          "output_type": "stream",
          "name": "stdout",
          "text": [
            "Observed Dataframe Below :\n",
            "\n",
            "           Group A  Group B\n",
            "Outcome 1       20       15\n",
            "Outcome 2       10       25\n",
            "Outcome 3       15       20\n",
            "\n",
            "============================\n",
            "\n",
            "Expected Values Dataframe Below :\n",
            "\n",
            "           Group A  Group B\n",
            "Outcome 1     15.0     20.0\n",
            "Outcome 2     15.0     20.0\n",
            "Outcome 3     15.0     20.0\n",
            "\n",
            "Chi-square statistic: 5.8333\n",
            "p-value: 0.0541\n",
            "Failed to reject the Null Hypothesis\n",
            "Conclusion : The outcomes are independent of the groups.\n"
          ]
        }
      ]
    },
    {
      "cell_type": "markdown",
      "source": [
        "###Validating above results with manual calculation\n",
        "1. Calculating sums along rows and columns in observed data\n",
        "\n",
        "| |Group A|\tGroup B|\tSum|\n",
        "| :--: | :--: | :--: | :--: |\n",
        "| Outcome 1|\t20|\t15|\t35|\n",
        "|Outcome 2|\t10|\t25|\t35|\n",
        "|Outcome 3|\t15|\t20|\t35|\n",
        "| Sum\t|45|\t60|\t105|\n",
        "\n",
        "2. Calculating Expected Values using formula Expected Value = (Row Sum*Column Sum)/(Total Sum)\n",
        "\n",
        "Expected Values\n",
        "\n",
        "| |Group A|\tGroup B|\n",
        "| :--: | :--: | :--: |\n",
        "| Outcome 1|\t(35x45)/105 = 15|\t(35x60)/105 = 20|\n",
        "|Outcome 2|\t(35x45)/105 = 15|\t(35x60)/105 = 20 |\n",
        "|Outcome 3|\t(35x45)/105 = 15|\t(35x60)/105 = 20 |\n",
        "\n",
        "3. Calculating Chi Square Values : $\\chi^2 = \\sum_{i=1}^n \\frac{(O_i - E_i)^2}{E_i}$\n",
        "\n",
        "For above Chi Square value is 5.8333\n",
        "\n",
        "4. Degrees of freedom\n",
        ">Degrees of freedom = (number of rows - 1)*(number of columns - 1)\n",
        "\n",
        ">>Degrees of freedom = (3-1)*(2-1) = 2*1 = 2\n",
        "5. Critical Chi Square value for alpha = 0.05 dof = 2 is 5.991\n",
        "\n",
        "6. Compare Chi square statistic with critical value\n",
        "In our case Chi Square Statistic < Chi Square Critical (5.8333 < 5.991)\n",
        "\n",
        "Hence We Fail to Reject the Null Hypothesis\n",
        "\n",
        "Conclusion : Outcome and Groups are Independent of each other\n"
      ],
      "metadata": {
        "id": "_NjlA441bI8j"
      }
    },
    {
      "cell_type": "markdown",
      "source": [
        "**Q4. A study of the prevalence of smoking in a population of 500 individuals found that 60 individuals smoked. Use Python to calculate the 95% confidence interval for the true proportion of individuals in the population who smoke.**"
      ],
      "metadata": {
        "id": "zQSGqXhwZNxK"
      }
    },
    {
      "cell_type": "markdown",
      "source": [
        "##**Asnwer :-**\n",
        "Because sample size is large Z statistic can be used directly"
      ],
      "metadata": {
        "id": "HuEuUmcbcw7t"
      }
    },
    {
      "cell_type": "code",
      "source": [
        "import scipy.stats as stats\n",
        "import math\n",
        "\n",
        "# Sample size\n",
        "n = 500\n",
        "\n",
        "# Number of individuals who smoke in the sample\n",
        "x = 60\n",
        "\n",
        "# Proportion of individuals who smoke in the sample\n",
        "p = x/n\n",
        "\n",
        "# Confidence Level\n",
        "confidence_level = 0.95\n",
        "alpha = 1 - confidence_level\n",
        "\n",
        "# Z-value for 95% confidence interval\n",
        "z = stats.norm.ppf(1-alpha/2)\n",
        "\n",
        "# Print critical z value\n",
        "print(f'Critical Z statistic for {confidence_level*100}% is {z:.4f}')\n",
        "\n",
        "# Standard error of proportion\n",
        "se = math.sqrt((p*(1-p))/n)\n",
        "\n",
        "# Calculate confidence interval\n",
        "lower_ci = p - z*se\n",
        "upper_ci = p + z*se\n",
        "\n",
        "print(\"95% confidence interval : ({:.2f}%, {:.2f}%)\".format(lower_ci*100, upper_ci*100))\n"
      ],
      "metadata": {
        "colab": {
          "base_uri": "https://localhost:8080/"
        },
        "id": "Daj-pECac0uf",
        "outputId": "b87d7953-ea15-4726-bad7-20a06660bc1d"
      },
      "execution_count": 4,
      "outputs": [
        {
          "output_type": "stream",
          "name": "stdout",
          "text": [
            "Critical Z statistic for 95.0% is 1.9600\n",
            "95% confidence interval : (9.15%, 14.85%)\n"
          ]
        }
      ]
    },
    {
      "cell_type": "markdown",
      "source": [
        "Validating above with t statistic as well"
      ],
      "metadata": {
        "id": "hEjhEzEqc41E"
      }
    },
    {
      "cell_type": "code",
      "source": [
        "import scipy.stats as stats\n",
        "import math\n",
        "\n",
        "# Sample size\n",
        "n = 500\n",
        "\n",
        "# Number of individuals who smoke in the sample\n",
        "x = 60\n",
        "\n",
        "# Proportion of individuals who smoke in the sample\n",
        "p = x/n\n",
        "\n",
        "# Calculate the standard error of the sample proportion\n",
        "se = math.sqrt(p * (1 - p) / n)\n",
        "\n",
        "# Confidence level\n",
        "confidence_level = 0.95\n",
        "alpha = 1 -  confidence_level\n",
        "\n",
        "# Calculate the t-value for a 95% confidence interval\n",
        "t = stats.t.ppf(1-alpha/2, n - 1)\n",
        "\n",
        "# Printing the t-statistic\n",
        "print(f't statistic for {n} samples with {confidence_level*100}%  confidence is : {t:.4f}')\n",
        "\n",
        "# Calculate the margin of error\n",
        "moe = t * se\n",
        "\n",
        "# Calculate the lower and upper bounds of the confidence interval\n",
        "lower_ci = p - moe\n",
        "upper_ci = p + moe\n",
        "\n",
        "print(\"95% confidence interval: ({:.2f}%, {:.2f}%)\".format(lower_ci*100, upper_ci*100))"
      ],
      "metadata": {
        "colab": {
          "base_uri": "https://localhost:8080/"
        },
        "id": "gRPpWdAac5yt",
        "outputId": "96961292-f3b8-4e82-f515-dab91f04c712"
      },
      "execution_count": 5,
      "outputs": [
        {
          "output_type": "stream",
          "name": "stdout",
          "text": [
            "t statistic for 500 samples with 95.0%  confidence is : 1.9647\n",
            "95% confidence interval: (9.14%, 14.86%)\n"
          ]
        }
      ]
    },
    {
      "cell_type": "markdown",
      "source": [
        "**Q5. Calculate the 90% confidence interval for a sample of data with a mean of 75 and a standard deviation of 12 using Python. Interpret the results.**"
      ],
      "metadata": {
        "id": "TMn4iC9_ZSU6"
      }
    },
    {
      "cell_type": "markdown",
      "source": [
        "##**Answer :-**\n",
        "Sample size is not given in the question assuming the sample size to be 30"
      ],
      "metadata": {
        "id": "ASHfSxXqdEr3"
      }
    },
    {
      "cell_type": "code",
      "source": [
        "import scipy.stats as stats\n",
        "import math\n",
        "\n",
        "# Given data\n",
        "x_bar = 75\n",
        "sigma = 12\n",
        "n = 30 # Assumed sample size 30\n",
        "\n",
        "# Degrees of freedom\n",
        "df = n - 1\n",
        "\n",
        "# Confidence level\n",
        "confidence_level = 0.90\n",
        "alpha = 1 -  confidence_level\n",
        "\n",
        "# Critical value for 90% confidence interval\n",
        "t_critical = stats.t.ppf(1 - alpha/2, df)\n",
        "print(f't_critical for {n} samples with {confidence_level*100}% confidence is : {t_critical:.4f}')\n",
        "\n",
        "# Calculate standard error of the mean\n",
        "sem = sigma / math.sqrt(n)\n",
        "\n",
        "# Calculate confidence interval\n",
        "lower_ci = x_bar - t_critical * sem\n",
        "upper_ci = x_bar + t_critical * sem\n",
        "\n",
        "print(\"90% confidence interval: ({:.3f}, {:.3f})\".format(lower_ci, upper_ci))"
      ],
      "metadata": {
        "colab": {
          "base_uri": "https://localhost:8080/"
        },
        "id": "K1aav_8-dMdd",
        "outputId": "3cb31da5-1265-432e-f09c-153845933d45"
      },
      "execution_count": 6,
      "outputs": [
        {
          "output_type": "stream",
          "name": "stdout",
          "text": [
            "t_critical for 30 samples with 90.0% confidence is : 1.6991\n",
            "90% confidence interval: (71.277, 78.723)\n"
          ]
        }
      ]
    },
    {
      "cell_type": "markdown",
      "source": [
        "Interpretation : Above results mean that for sample size 30 , the estimated population mean lies between 71.277 and 78.723 with 90% confidence"
      ],
      "metadata": {
        "id": "GFOrDrNrdO8a"
      }
    },
    {
      "cell_type": "markdown",
      "source": [
        "**Q6. Use Python to plot the chi-square distribution with 10 degrees of freedom. Label the axes and shade the area corresponding to a chi-square statistic of 15.**"
      ],
      "metadata": {
        "id": "uWE8ygV_ZWO7"
      }
    },
    {
      "cell_type": "code",
      "source": [
        "import numpy as np\n",
        "import scipy.stats as stats\n",
        "import matplotlib.pyplot as plt\n",
        "\n",
        "# Set degrees of freedom\n",
        "df = 10\n",
        "\n",
        "# Define range of x-values for plotting\n",
        "x = np.linspace(stats.chi2.ppf(0.0001, df), stats.chi2.ppf(0.999, df), 100)\n",
        "\n",
        "# Create plot\n",
        "fig, ax = plt.subplots(figsize=(8, 5))\n",
        "\n",
        "# Plot chi-square distribution\n",
        "ax.plot(x, stats.chi2.pdf(x, df), 'k-', lw=2, label='Chi-square PDF')\n",
        "\n",
        "# Calculating area under curve\n",
        "area = stats.chi2.cdf(15,df)\n",
        "\n",
        "# Shade area under the curve\n",
        "x_fill = np.linspace(stats.chi2.ppf(0.0001, df), 15, 100)\n",
        "ax.fill_between(x_fill, stats.chi2.pdf(x_fill, df), color='blue', alpha=0.5,label = f'Area under shaded region = {area:.4f}')\n",
        "\n",
        "# Add legend and labels\n",
        "ax.legend(loc='best', frameon=False)\n",
        "ax.set_xlabel('X')\n",
        "ax.set_ylabel('PDF(X)')\n",
        "ax.set_title('Chi-square Distribution with 10 Degrees of Freedom')\n",
        "\n",
        "plt.show()"
      ],
      "metadata": {
        "colab": {
          "base_uri": "https://localhost:8080/",
          "height": 456
        },
        "id": "nFXNwJvVdS1b",
        "outputId": "0a72c6c9-e8a3-474e-bafe-2f8468388f7d"
      },
      "execution_count": 7,
      "outputs": [
        {
          "output_type": "display_data",
          "data": {
            "text/plain": [
              "<Figure size 800x500 with 1 Axes>"
            ],
            "image/png": "[encoded data removed]"
          },
          "metadata": {}
        }
      ]
    },
    {
      "cell_type": "markdown",
      "source": [
        "**Q7. A random sample of 1000 people was asked if they preferred Coke or Pepsi. Of the sample, 520 preferred Coke. Calculate a 99% confidence interval for the true proportion of people in the population who prefer Coke.**"
      ],
      "metadata": {
        "id": "1tY--U2tZZgq"
      }
    },
    {
      "cell_type": "code",
      "source": [
        "import scipy.stats as st\n",
        "\n",
        "n = 1000\n",
        "x = 520\n",
        "conf_level = 0.99\n",
        "df = n - 1\n",
        "\n",
        "# Calculate the sample proportion and standard error\n",
        "p = x / n\n",
        "se = ((p * (1 - p)) / n) ** 0.5\n",
        "\n",
        "# Find the t-value\n",
        "t = st.t.ppf((1 + conf_level) / 2, df)\n",
        "\n",
        "# Print the critical value\n",
        "print(f'Critical T-statistic for {conf_level*100}% confidence for {n} samples is : {t:.4f}')\n",
        "\n",
        "# Calculate the confidence interval\n",
        "lower = p - t * se\n",
        "upper = p + t * se\n",
        "\n",
        "print(f\"Estimated mean population proportion with {conf_level*100}% Confidence interval: ({lower*100:.2f}%, {upper*100:.2f}%)\")"
      ],
      "metadata": {
        "colab": {
          "base_uri": "https://localhost:8080/"
        },
        "id": "5dnu54yfdZQg",
        "outputId": "a4e1a4b1-2a87-4c2c-96ae-d2e5eeba3552"
      },
      "execution_count": 8,
      "outputs": [
        {
          "output_type": "stream",
          "name": "stdout",
          "text": [
            "Critical T-statistic for 99.0% confidence for 1000 samples is : 2.5808\n",
            "Estimated mean population proportion with 99.0% Confidence interval: (47.92%, 56.08%)\n"
          ]
        }
      ]
    },
    {
      "cell_type": "markdown",
      "source": [
        "**Q8. A researcher hypothesizes that a coin is biased towards tails. They flip the coin 100 times and observe 45 tails. Conduct a chi-square goodness of fit test to determine if the observed frequencies match the expected frequencies of a fair coin. Use a significance level of 0.05.**"
      ],
      "metadata": {
        "id": "0k4KYeYkZeyh"
      }
    },
    {
      "cell_type": "code",
      "source": [
        "import scipy.stats as stats\n",
        "\n",
        "# Set the observed and expected frequencies\n",
        "observed_frequencies = [45, 55]\n",
        "expected_frequencies = [50, 50]\n",
        "\n",
        "# Null and Alternate Hypothesis\n",
        "null_hypothesis = \"The Coin is FAIR\"\n",
        "alternate_hypothesis = \"The Coin is BIASED\"\n",
        "\n",
        "# Compute the chi-square test statistic and p-value\n",
        "test_statistic, p_value = stats.chisquare(observed_frequencies, f_exp=expected_frequencies)\n",
        "\n",
        "# Print the results\n",
        "print(\"Chi-Square Test Statistic: {:.4f}\".format(test_statistic))\n",
        "print(\"P-value: {:.4f}\".format(p_value))\n",
        "\n",
        "# significance level\n",
        "alpha = 0.05\n",
        "\n",
        "# Compare the p-value to the significance level\n",
        "if p_value < alpha:\n",
        "    print(f\"Reject the null hypothesis: {alternate_hypothesis}\")\n",
        "else:\n",
        "    print(f\"Fail to reject the null hypothesis: {null_hypothesis}\")"
      ],
      "metadata": {
        "colab": {
          "base_uri": "https://localhost:8080/"
        },
        "id": "b6aPZBSqdfKS",
        "outputId": "ff43f0b2-973a-4e04-80f4-88d109451714"
      },
      "execution_count": 9,
      "outputs": [
        {
          "output_type": "stream",
          "name": "stdout",
          "text": [
            "Chi-Square Test Statistic: 1.0000\n",
            "P-value: 0.3173\n",
            "Fail to reject the null hypothesis: The Coin is FAIR\n"
          ]
        }
      ]
    },
    {
      "cell_type": "markdown",
      "source": [
        "**Q9. A study was conducted to determine if there is an association between smoking status (smoker or non-smoker) and lung cancer diagnosis (yes or no). The results are shown in the contingency table below. Conduct a chi-square test for independence to determine if there is a significant association between smoking status and lung cancer diagnosis.**"
      ],
      "metadata": {
        "id": "TIAIyttWZhWD"
      }
    },
    {
      "cell_type": "markdown",
      "source": [
        "![image.png](data:image/png;base64,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)"
      ],
      "metadata": {
        "id": "3vgmTAoHZmt0"
      }
    },
    {
      "cell_type": "markdown",
      "source": [
        "Use a significance level of 0.05."
      ],
      "metadata": {
        "id": "lH3DGXirZrOF"
      }
    },
    {
      "cell_type": "code",
      "source": [
        "import pandas as pd\n",
        "import scipy.stats as stats\n",
        "\n",
        "# Set up the contingency table\n",
        "observed_df = pd.DataFrame({'Lung Cancer:Yes':[60,30], 'Lung Cancer:No':[140,170]})\n",
        "observed_df.index = ['Smoker','Non Smoker']\n",
        "\n",
        "# Null Hypothesis and Alternate Hypothesis\n",
        "null_hypothesis = \"There is NO significant association between smoking status and lung cancer diagnosis.\"\n",
        "alternate_hypothesis = \"There is a SIGNIFICANT association between smoking status and lung cancer diagnosis.\"\n",
        "\n",
        "# Print Observed data\n",
        "print('Observed Data :')\n",
        "print(observed_df)\n",
        "print('\\n========================================\\n')\n",
        "\n",
        "# Compute the chi-square test statistic and p-value\n",
        "test_statistic, p_value, dof, expected = stats.chi2_contingency(observed_df)\n",
        "\n",
        "# Print expected df\n",
        "expected_df = pd.DataFrame(expected)\n",
        "expected_df.columns = observed_df.columns\n",
        "expected_df.index = observed_df.index\n",
        "print('Expected Data :')\n",
        "print(expected_df)\n",
        "\n",
        "# Print the results\n",
        "print(\"\\nChi-Square Test Statistic: {:.4f}\".format(test_statistic))\n",
        "print(\"P-value: {:.4f}\".format(p_value))\n",
        "\n",
        "# Significance value\n",
        "alpha = 0.05\n",
        "\n",
        "# Compare the p-value to the significance level\n",
        "if p_value < alpha:\n",
        "    print(f\"Reject the null hypothesis.\\nConclusion : {alternate_hypothesis}\")\n",
        "else:\n",
        "    print(f\"Fail to reject the null hypothesis.\\nConculsion : {null_hypothesis}\")"
      ],
      "metadata": {
        "colab": {
          "base_uri": "https://localhost:8080/"
        },
        "id": "pCFm73QYdkZE",
        "outputId": "01c78721-5931-4958-eb20-9f13437edae0"
      },
      "execution_count": 10,
      "outputs": [
        {
          "output_type": "stream",
          "name": "stdout",
          "text": [
            "Observed Data :\n",
            "            Lung Cancer:Yes  Lung Cancer:No\n",
            "Smoker                   60             140\n",
            "Non Smoker               30             170\n",
            "\n",
            "========================================\n",
            "\n",
            "Expected Data :\n",
            "            Lung Cancer:Yes  Lung Cancer:No\n",
            "Smoker                 45.0           155.0\n",
            "Non Smoker             45.0           155.0\n",
            "\n",
            "Chi-Square Test Statistic: 12.0573\n",
            "P-value: 0.0005\n",
            "Reject the null hypothesis.\n",
            "Conclusion : There is a SIGNIFICANT association between smoking status and lung cancer diagnosis.\n"
          ]
        }
      ]
    },
    {
      "cell_type": "markdown",
      "source": [
        "**Q10. A study was conducted to determine if the proportion of people who prefer milk chocolate, dark chocolate, or white chocolate is different in the U.S versus the U.K. A random sample of 500 people from the U.S. and a random sample of 500 people from the U.K. were surveyed. The results are shown in the contingency table below. Conduct a chi-square test for independence to determine if there is a significant association between chocolate preference and country of origin.**"
      ],
      "metadata": {
        "id": "uhf6C8bqZtAL"
      }
    },
    {
      "cell_type": "markdown",
      "source": [
        "![image.png](data:image/png;base64,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)"
      ],
      "metadata": {
        "id": "NYnHhGu4Z9xC"
      }
    },
    {
      "cell_type": "markdown",
      "source": [
        "Use a significance level of 0.01."
      ],
      "metadata": {
        "id": "a7fixqweZ-kt"
      }
    },
    {
      "cell_type": "code",
      "source": [
        "import pandas as pd\n",
        "import scipy.stats as stats\n",
        "\n",
        "# Set up the contingency table\n",
        "observed_df = pd.DataFrame({'Milk Chocolate':[200,225], 'Dark Chocolate':[150,175], 'White Chocolate':[150,100]})\n",
        "observed_df.index = ['U.S. (n=500)','U.K. (n=500)']\n",
        "print('Observed Data :')\n",
        "print(observed_df)\n",
        "\n",
        "# Null Hypothesis and Alternate Hypothesis\n",
        "null_hypothesis = \"There is NO significant association between Country and Chocolate type preffered.\"\n",
        "alternate_hypothesis = \"There is a SIGNIFICANT association between Country and Chocolate type preffered.\"\n",
        "\n",
        "print('\\n================================================================\\n')\n",
        "\n",
        "# Compute the chi-square test statistic and p-value\n",
        "test_statistic, p_value, dof, expected = stats.chi2_contingency(observed_df)\n",
        "\n",
        "# Print expected df\n",
        "expected_df = pd.DataFrame(expected)\n",
        "expected_df.columns = observed_df.columns\n",
        "expected_df.index = observed_df.index\n",
        "print('Expected Data :')\n",
        "print(expected_df)\n",
        "\n",
        "# Print the results\n",
        "print(\"\\nChi-Square Test Statistic: {:.4f}\".format(test_statistic))\n",
        "print(\"P-value: {:.4f}\".format(p_value))\n",
        "\n",
        "# Significance value\n",
        "alpha = 0.01\n",
        "\n",
        "# Compare the p-value to the significance level\n",
        "if p_value < alpha:\n",
        "    print(f\"Reject the null hypothesis.\\nConclusion : {alternate_hypothesis}\")\n",
        "else:\n",
        "      print(f\"Fail to reject the null hypothesis.\\nConculsion : {null_hypothesis}\")"
      ],
      "metadata": {
        "colab": {
          "base_uri": "https://localhost:8080/"
        },
        "id": "4ImT3vi1duGp",
        "outputId": "0a531dc0-0341-4991-ff72-9cc8ff763371"
      },
      "execution_count": 11,
      "outputs": [
        {
          "output_type": "stream",
          "name": "stdout",
          "text": [
            "Observed Data :\n",
            "              Milk Chocolate  Dark Chocolate  White Chocolate\n",
            "U.S. (n=500)             200             150              150\n",
            "U.K. (n=500)             225             175              100\n",
            "\n",
            "================================================================\n",
            "\n",
            "Expected Data :\n",
            "              Milk Chocolate  Dark Chocolate  White Chocolate\n",
            "U.S. (n=500)           212.5           162.5            125.0\n",
            "U.K. (n=500)           212.5           162.5            125.0\n",
            "\n",
            "Chi-Square Test Statistic: 13.3937\n",
            "P-value: 0.0012\n",
            "Reject the null hypothesis.\n",
            "Conclusion : There is a SIGNIFICANT association between Country and Chocolate type preffered.\n"
          ]
        }
      ]
    },
    {
      "cell_type": "markdown",
      "source": [
        "**Q11. A random sample of 30 people was selected from a population with an unknown mean and standard deviation. The sample mean was found to be 72 and the sample standard deviation was found to be 10. Conduct a hypothesis test to determine if the population mean is significantly different from 70. Use a significance level of 0.05.**"
      ],
      "metadata": {
        "id": "NmLUWodvaAME"
      }
    },
    {
      "cell_type": "markdown",
      "source": [
        "##**Answer :-**\n",
        "1. Using a t-test to compare the means"
      ],
      "metadata": {
        "id": "qxzic2_hdzpF"
      }
    },
    {
      "cell_type": "code",
      "source": [
        "import math\n",
        "from scipy.stats import t\n",
        "\n",
        "# Sample data\n",
        "sample_mean = 72\n",
        "sample_std = 10\n",
        "sample_size = 30\n",
        "\n",
        "# Hypotheses\n",
        "null_hypothesis = \"The population mean is equal to 70.\"\n",
        "alternative_hypothesis = \"The population mean is significantly different from 70.\"\n",
        "\n",
        "# Significance level\n",
        "alpha = 0.05\n",
        "\n",
        "# Degrees of freedom\n",
        "df = sample_size - 1\n",
        "\n",
        "# Calculate the t-statistic\n",
        "t_stat = (sample_mean - 70) / (sample_std / math.sqrt(sample_size))\n",
        "\n",
        "# Calculate the p-value\n",
        "p_value = 2 * (1 - t.cdf(abs(t_stat), df))\n",
        "\n",
        "# Compare the p-value to the significance level\n",
        "if p_value < alpha:\n",
        "    print(f\"Reject the null hypothesis. {alternative_hypothesis} (p-value={p_value})\")\n",
        "else:\n",
        "      print(f\"Fail to reject the null hypothesis. {null_hypothesis} (p-value={p_value})\")"
      ],
      "metadata": {
        "colab": {
          "base_uri": "https://localhost:8080/"
        },
        "id": "4QVDlm1id5Vt",
        "outputId": "a21f5df3-be22-4351-b82f-8979e8d99496"
      },
      "execution_count": 12,
      "outputs": [
        {
          "output_type": "stream",
          "name": "stdout",
          "text": [
            "Fail to reject the null hypothesis. The population mean is equal to 70. (p-value=0.2823362372860698)\n"
          ]
        }
      ]
    },
    {
      "cell_type": "markdown",
      "source": [
        "2. Using Chi Square test to compare means"
      ],
      "metadata": {
        "id": "apqP6HQqd9y_"
      }
    },
    {
      "cell_type": "code",
      "source": [
        "import numpy as np\n",
        "from scipy.stats import chi2\n",
        "\n",
        "# Sample data\n",
        "sample_mean = 72\n",
        "sample_std = 10\n",
        "sample_size = 30\n",
        "\n",
        "# Hypotheses\n",
        "null_hypothesis = \"The population mean is equal to 70.\"\n",
        "alternative_hypothesis = \"The population mean is significantly different from 70.\"\n",
        "\n",
        "# Significance level\n",
        "alpha = 0.05\n",
        "\n",
        "# Degrees of freedom\n",
        "df = sample_size - 1\n",
        "\n",
        "# Expected mean\n",
        "expected_mean = 70\n",
        "\n",
        "# Calculate the chi-square statistic\n",
        "chi_sq_stat = ((sample_mean - expected_mean)**2)/expected_mean\n",
        "print(f'Chi Square statistic : {chi_sq_stat:.4f}')\n",
        "\n",
        "# Calculate the p-value\n",
        "p_value = 1 - chi2.cdf(chi_sq_stat, df)\n",
        "\n",
        "# Compare the p-value to the significance level\n",
        "if p_value < alpha:\n",
        "    print(f\"Reject the null hypothesis. {alternative_hypothesis} (p-value={p_value:.4f})\")\n",
        "else:\n",
        "      print(f\"Fail to reject the null hypothesis. {null_hypothesis} (p-value={p_value:.4f})\")"
      ],
      "metadata": {
        "colab": {
          "base_uri": "https://localhost:8080/"
        },
        "id": "cfwXnfiTd_Px",
        "outputId": "c64c292a-d88e-45ac-cb6b-3b9a0af2bb63"
      },
      "execution_count": 13,
      "outputs": [
        {
          "output_type": "stream",
          "name": "stdout",
          "text": [
            "Chi Square statistic : 0.0571\n",
            "Fail to reject the null hypothesis. The population mean is equal to 70. (p-value=1.0000)\n"
          ]
        }
      ]
    }
  ]
}