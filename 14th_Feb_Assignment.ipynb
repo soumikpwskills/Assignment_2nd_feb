{
  "nbformat": 4,
  "nbformat_minor": 0,
  "metadata": {
    "colab": {
      "provenance": []
    },
    "kernelspec": {
      "name": "python3",
      "display_name": "Python 3"
    },
    "language_info": {
      "name": "python"
    }
  },
  "cells": [
    {
      "cell_type": "markdown",
      "source": [
        "**Q1. What is multithreading in python? Why is it used? Name the module used to handle threads in python.**"
      ],
      "metadata": {
        "id": "YJt5TJ4IoJPo"
      }
    },
    {
      "cell_type": "markdown",
      "source": [
        "**Ans :-**\n",
        "\n",
        "**Multithreading :-** Multithreading is a stringing procedure in Python programming to run various strings simultaneously by quickly exchanging between strings with a central processor help (called setting exchanging). In addition, it makes it possible to share its data space with the primary threads of a process, making it easier than with individual processes to share information and communicate with other threads. The goal of multithreading is to complete multiple tasks at the same time, which improves application rendering and performance.\n",
        "\n",
        "  It is used because --\n",
        "\n",
        "* It guarantees powerful usage of PC framework assets.\n",
        "* Applications with multiple threads respond faster.\n",
        "* It is more cost-effective because it shares resources and its state with sub-threads (child).\n",
        "* It makes the multiprocessor engineering more viable because of closeness.\n",
        "* By running multiple threads simultaneously, it cuts down on time.\n",
        "* To store multiple threads, the system does not require a lot of memory.\n",
        "\n",
        "The module \"threading\" is used to handle threads in python."
      ],
      "metadata": {
        "id": "jb9RGUmvrdn4"
      }
    },
    {
      "cell_type": "markdown",
      "source": [
        "**Q2. Why threading module used? Write the use of the following functions**\n",
        "1. activeCount()\n",
        "2. currentThread()\n",
        "3. enumerate()"
      ],
      "metadata": {
        "id": "d8XIxh8_zK3G"
      }
    },
    {
      "cell_type": "markdown",
      "source": [
        "**Ans :-** Threading module in Python allows a user to run different parts of the program in a concurrent manner and makes the design of the program simpler.\n",
        "\n",
        "1. activeCount() :- It is used to count the currently active or running threads.\n",
        "2. currentThread() :- It is used to return the current Thread object, which corresponds to the caller's thread of control.\n",
        "3. enumerate() :- It returns a list of all Thread objects currently alive. The list includes daemonic threads, dummy thread objects created by current_thread(), and the main thread. It excludes terminated threads and threads that have not yet been started.\n",
        "\n"
      ],
      "metadata": {
        "id": "oeSmQWPqzv5a"
      }
    },
    {
      "cell_type": "markdown",
      "source": [
        "**Q3. Explain the following functions**\n",
        "1. run()\n",
        "2. start()\n",
        "3. join()\n",
        "4. isAlive()"
      ],
      "metadata": {
        "id": "swoav3G91Thq"
      }
    },
    {
      "cell_type": "markdown",
      "source": [
        "**Ans :-**\n",
        "\n",
        "1. run() :- The run() function executes any target function belonging to a given thread object that is now active. It normally executes in the background after the start() function is invoked.\n",
        "2. start() :- start() method is an inbuilt method of the Thread class of the threading module, it is used to start a thread's activity. This method calls the run() method internally which then executes the target method. This method must be called at most one time for one thread.\n",
        "3. join() :- The join() method delays a program's flow of execution until the target thread has been completely read.\n",
        "4. isAlive() :-  It is used to check whether that thread is alive or not, ie, it is still running or not. This method returns True before the run() starts until just after the run() method is executed."
      ],
      "metadata": {
        "id": "lZjsGrYQ1lrd"
      }
    },
    {
      "cell_type": "markdown",
      "source": [
        "**Q4. Write a python program to create two threads. Thread one must print the list of squares and thread two must print the list of cubes.**"
      ],
      "metadata": {
        "id": "c9UWdUol3Cuc"
      }
    },
    {
      "cell_type": "code",
      "source": [
        "import threading\n",
        "from threading import *\n",
        "def cal_sqre(num):\n",
        "    print(\" Calculate the square root of the given number\")\n",
        "    for n in num:\n",
        "        print(' Square is : ', n * n)\n",
        "\n",
        "def cal_cube(num):\n",
        "    print(\" Calculate the cube of  the given number\")\n",
        "    for n in num:\n",
        "        print(\" Cube is : \", n * n *n)\n",
        "\n",
        "ar = [1,2,3,4,5,6,7,8,9]\n",
        "\n",
        "th1 = threading.Thread(target=cal_sqre, args=(ar, ))\n",
        "th2 = threading.Thread(target=cal_cube, args=(ar, ))\n",
        "th1.start()\n",
        "th2.start()\n",
        "th1.join()\n",
        "th2.join()"
      ],
      "metadata": {
        "colab": {
          "base_uri": "https://localhost:8080/"
        },
        "id": "r03DElFK3OOy",
        "outputId": "98bffb8e-f299-4307-ec4e-f1b6d8cd7a22"
      },
      "execution_count": 1,
      "outputs": [
        {
          "output_type": "stream",
          "name": "stdout",
          "text": [
            " Calculate the square root of the given number Calculate the cube of  the given number\n",
            " Cube is :  1\n",
            " Cube is :  8\n",
            " Cube is :  27\n",
            " Cube is :  64\n",
            " Cube is :  125\n",
            " Cube is :  216\n",
            " Cube is :  343\n",
            " Cube is :  512\n",
            " Cube is :  729\n",
            "\n",
            " Square is :  1\n",
            " Square is :  4\n",
            " Square is :  9\n",
            " Square is :  16\n",
            " Square is :  25\n",
            " Square is :  36\n",
            " Square is :  49\n",
            " Square is :  64\n",
            " Square is :  81\n"
          ]
        }
      ]
    },
    {
      "cell_type": "markdown",
      "source": [
        "**Q5. State advantages and disadvantages of multithreading.**"
      ],
      "metadata": {
        "id": "wQCB17096kjL"
      }
    },
    {
      "cell_type": "markdown",
      "source": [
        "**Ans :-**\n",
        "\n",
        "Advantages :-\n",
        "\n",
        "1. Enhanced performance by decreased development time\n",
        "2. Simplified and streamlined program coding\n",
        "3. Improvised GUI responsiveness\n",
        "4. Simultaneous and parallelized occurrence of tasks\n",
        "5. Better use of cache storage by utilization of resources\n",
        "6. Decreased cost of maintenance\n",
        "7. Better use of CPU resource\n",
        "\n",
        "Disadvantages :-\n",
        "\n",
        "1. Complex debugging and testing processes\n",
        "2. Overhead switching of context\n",
        "3. Increased potential for deadlock occurrence\n",
        "4. Increased difficulty level in writing a program\n",
        "5. Unpredictable results"
      ],
      "metadata": {
        "id": "kCGRB15Y6p44"
      }
    },
    {
      "cell_type": "markdown",
      "source": [
        "**Q6. Explain deadlocks and race conditions.**"
      ],
      "metadata": {
        "id": "H1WQK0TR7aQ4"
      }
    },
    {
      "cell_type": "markdown",
      "source": [
        "**Ans :-**\n",
        "\n",
        "A race condition occurs when two threads use the same variable at a given time. In racing, two tasks compete with each other and try to complete a task before each other.\n",
        "\n",
        "Deadlock exists when two threads seek one lock simultaneously.In this situation, two processes are waiting and expecting the complementary process to complete the task.\n",
        "\n",
        "This situations will stop both threads from processing or executing the functions."
      ],
      "metadata": {
        "id": "EOUyHEwu7csj"
      }
    }
  ]
}