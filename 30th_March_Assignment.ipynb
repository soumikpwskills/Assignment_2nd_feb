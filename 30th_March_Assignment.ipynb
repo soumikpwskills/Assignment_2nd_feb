{
  "cells": [
    {
      "cell_type": "markdown",
      "metadata": {
        "id": "qNqLxjygdauw"
      },
      "source": [
        "## Question 1 : What is Elastic Net Regression and how does it differ from other regression techniques?\n",
        "---"
      ]
    },
    {
      "cell_type": "markdown",
      "metadata": {
        "id": "qDBtcY2qdauw"
      },
      "source": [
        "## Answer :"
      ]
    },
    {
      "cell_type": "markdown",
      "metadata": {
        "id": "7SPIi8sEdauw"
      },
      "source": [
        "### Elastic Net Regression is a linear regression model that combines the penalties of two different regularization methods, L1 and L2.\n",
        "\n",
        "### L1 regularization, also known as Lasso regularization, adds a penalty term to the objective function that encourages sparse solutions by forcing some of the coefficients to be exactly zero. This makes it useful for feature selection and can help avoid overfitting by reducing the number of variables in the model.\n",
        "\n",
        "### L2 regularization, also known as Ridge regularization, adds a penalty term that shrinks the coefficients towards zero, but does not force them to be exactly zero. This can help reduce the effect of multicollinearity in the data and can also help prevent overfitting.\n",
        "\n",
        "### Elastic Net Regression combines these two methods by adding a penalty term that is a linear combination of the L1 and L2 penalties. The amount of regularization applied by each penalty term is controlled by a tuning parameter that can be adjusted to optimize performance.\n",
        "\n",
        "### Compared to other regression techniques, Elastic Net Regression has the advantage of being able to handle high-dimensional data with correlated predictors. It can also perform both feature selection and coefficient shrinkage simultaneously. However, it may not perform as well as other methods in certain situations, such as when the number of predictors is much larger than the sample size or when there are strong nonlinear relationships between the predictors and the response variable."
      ]
    },
    {
      "cell_type": "markdown",
      "metadata": {
        "id": "I2IDi-yGdauw"
      },
      "source": [
        "### Equation for Ridge Regression (L2 Penalty):\n",
        "$\n",
        "\\mathcal{L}_{\\text{ridge}}(\\mathbf{w}) = \\sum_{i=1}^{n} (y_i - \\mathbf{w}^T\\mathbf{x}_i)^2 + \\lambda 2\\sum_{j=1}^{p} w_j^2\n",
        "$\n",
        "\n",
        "### Equation for Lasso Regression (L1 Penalty) :\n",
        "$\n",
        "\\mathcal{L}_{\\text{lasso}}(\\mathbf{w}) = \\sum_{i=1}^{n} (y_i - \\mathbf{w}^T\\mathbf{x}_i)^2 + \\lambda 1\\sum_{j=1}^{p} |w_j|\n",
        "$\n",
        "\n",
        "### Equation for Elastic Net Regression :\n",
        "$\n",
        "\\mathcal{L}_{\\text{elastic net}}(\\mathbf{w}) = \\sum{i=1}^{n} (y_i - \\mathbf{w}^T\\mathbf{x}i)^2 + \\lambda 1\\sum{j=1}^{p} |\\omega_j| + \\lambda 2\\sum_{j=1}^{p} w_j^2\n",
        "$\n",
        "\n",
        "where :\n",
        "1. $\\mathbf{w}$ represents the vector of regression coefficients\n",
        "2. $\\mathbf{x}_i$ represents the feature vector for the $i$th data point, $y_i$ represents the target value for the $i$th data point.\n",
        "3. $p$ is the number of features\n",
        "4. $\\lambda 1$, $\\lambda 2$ are tuning parameters controlling the strength of the regularization penalty\n",
        "5. $|\\cdot|$ denotes the absolute value function.\n"
      ]
    },
    {
      "cell_type": "markdown",
      "metadata": {
        "id": "YHwrg_uidauw"
      },
      "source": [
        "## Question 2 : How do you choose the optimal values of the regularization parameters for Elastic Net Regression?\n",
        "---"
      ]
    },
    {
      "cell_type": "markdown",
      "metadata": {
        "id": "yOtuq0aZdauw"
      },
      "source": [
        "## Answer :"
      ]
    },
    {
      "cell_type": "markdown",
      "metadata": {
        "id": "hCNTF8Cadauw"
      },
      "source": [
        "### Choosing the optimal values of the regularization parameters for Elastic Net Regression typically involves a process called hyperparameter tuning. The goal is to find the values of $\\lambda_1$ and $\\lambda_2$ that result in the best model performance on a held-out validation set.\n",
        "\n",
        "### Here are the steps for hyperparameter tuning in Elastic Net Regression:\n",
        "\n",
        "1. Split the data into training and validation sets.\n",
        "\n",
        "2. Define a range of values for $\\lambda_1$ and $\\lambda_2$ to try. This range can be chosen based on prior knowledge, or through experimentation. For example, you can try a grid of values or use a randomized search approach.\n",
        "\n",
        "3. Train the Elastic Net model on the training set for each combination of $\\lambda_1$ and $\\lambda_2$ in the range of values defined in step 2.\n",
        "\n",
        "4. Evaluate the model performance on the validation set for each combination of $\\lambda_1$ and $\\lambda_2$.\n",
        "\n",
        "5. Select the values of $\\lambda_1$ and $\\lambda_2$ that result in the best model performance on the validation set.\n",
        "\n",
        "6. There are several metrics you can use to evaluate model performance, such as mean squared error (MSE), mean absolute error (MAE), or R-squared. You can choose the metric that is most appropriate for your problem.\n",
        "\n",
        "### It's important to note that hyperparameter tuning can be computationally expensive, especially if you have a large dataset or a large range of hyperparameter values to try. In some cases, it may be necessary to use techniques like cross-validation or Bayesian optimization to make the tuning process more efficient.\n",
        "\n",
        "### Below is python code for Hyperparameter tuning of Elastic Net :"
      ]
    },
    {
      "cell_type": "code",
      "execution_count": 1,
      "metadata": {
        "colab": {
          "base_uri": "https://localhost:8080/"
        },
        "id": "r0k3IVAzdauw",
        "outputId": "47e99a14-1b58-4a03-e278-1f15c4b0640c"
      },
      "outputs": [
        {
          "output_type": "stream",
          "name": "stdout",
          "text": [
            "Best alpha:  0.1\n",
            "Best l1_ratio:  0.9\n",
            "Testing MAE: 19.41\n",
            "Testing MSE: 594.31\n",
            "Testing RMSE : 24.38\n",
            "Testing R2 : 0.9649\n"
          ]
        }
      ],
      "source": [
        "from sklearn.datasets import make_regression\n",
        "from sklearn.linear_model import ElasticNetCV\n",
        "from sklearn.model_selection import train_test_split\n",
        "from sklearn.metrics import mean_absolute_error, mean_squared_error,r2_score\n",
        "\n",
        "# Generate synthetic data\n",
        "X, y = make_regression(n_samples=1000, n_features=10, noise=25, random_state=42)\n",
        "\n",
        "# Split data into training and validation sets\n",
        "X_train, X_test, y_train, y_test = train_test_split(X, y, test_size=0.2, random_state=42)\n",
        "\n",
        "# Define range of alpha and l1_ratio values to try\n",
        "alphas = [0.1, 1.0, 10.0]\n",
        "l1_ratios = [0.1, 0.5, 0.9]\n",
        "\n",
        "# Create ElasticNetCV model\n",
        "model = ElasticNetCV(l1_ratio=l1_ratios, alphas=alphas, cv=5)\n",
        "\n",
        "# Train model on training set\n",
        "model.fit(X_train, y_train)\n",
        "\n",
        "# Predict on test data\n",
        "y_test_pred = model.predict(X_test)\n",
        "\n",
        "# Evaluate model on test set\n",
        "mse = mean_squared_error(y_test, y_test_pred)\n",
        "mae = mean_absolute_error(y_test,y_test_pred)\n",
        "r2 = r2_score(y_test,y_test_pred)\n",
        "\n",
        "# Print Evaluated Results\n",
        "print(\"Best alpha: \", model.alpha_)\n",
        "print(\"Best l1_ratio: \", model.l1_ratio_)\n",
        "print(f\"Testing MAE: {mae:.2f}\")\n",
        "print(f\"Testing MSE: {mse:.2f}\")\n",
        "print(f\"Testing RMSE : {mse**0.5:.2f}\")\n",
        "print(f\"Testing R2 : {r2:.4f}\")"
      ]
    },
    {
      "cell_type": "markdown",
      "metadata": {
        "id": "iInMaMTbdaux"
      },
      "source": [
        "## Question 3 : What are the advantages and disadvantages of Elastic Net Regression?\n",
        "---"
      ]
    },
    {
      "cell_type": "markdown",
      "metadata": {
        "id": "eFkDMknHdaux"
      },
      "source": [
        "## Answer :"
      ]
    },
    {
      "cell_type": "markdown",
      "metadata": {
        "id": "9muDKirSdaux"
      },
      "source": [
        "### Here are some advantages and disadvantages of Elastic Net Regression:\n",
        "\n",
        "### Advantages:\n",
        "\n",
        "* Elastic Net Regression can handle high-dimensional datasets with many features, as it can perform feature selection and shrinkage simultaneously.\n",
        "* It can handle correlated features well, as it uses a combination of L1 and L2 penalties to balance between sparse and dense solutions.\n",
        "* It allows for a trade-off between bias and variance, as the regularization parameters can be tuned to adjust the degree of shrinkage.\n",
        "* It can be used for both regression and classification problems.\n",
        "\n",
        "### Disadvantages:\n",
        "\n",
        "* Elastic Net Regression can be computationally expensive, especially when dealing with a large number of features or a large dataset.\n",
        "The optimal values for the regularization parameters must be determined through hyperparameter tuning, which can also be computationally expensive.\n",
        "* Elastic Net Regression assumes that the relationship between the features and the target variable is linear. If the relationship is nonlinear, other methods such as decision trees or neural networks may be more appropriate.\n",
        "* It may not perform well if the dataset has a low number of samples compared to the number of features, as this can result in an overfitting of the model.\n",
        "\n",
        "### Overall, Elastic Net Regression can be a useful tool for handling high-dimensional datasets with correlated features, but it may not be the best option for all problems. It's important to carefully consider the advantages and disadvantages before deciding whether to use Elastic Net Regression for a particular task."
      ]
    },
    {
      "cell_type": "markdown",
      "metadata": {
        "id": "iMZCRU2idaux"
      },
      "source": [
        "## Question 4 : What are some common use cases for Elastic Net Regression?\n",
        "---"
      ]
    },
    {
      "cell_type": "markdown",
      "metadata": {
        "id": "-F9Tt3jsdaux"
      },
      "source": [
        "## Answer :"
      ]
    },
    {
      "cell_type": "markdown",
      "metadata": {
        "id": "a4UrUllxdaux"
      },
      "source": [
        "### Here are some common use cases for Elastic Net Regression:\n",
        "\n",
        "1. Gene expression analysis: Elastic Net Regression can be used to analyze gene expression data, where the number of features (genes) is typically much larger than the number of samples. By identifying the most important genes that are associated with a particular disease or condition, researchers can gain insights into the underlying biological mechanisms.\n",
        "\n",
        "2. Financial forecasting: Elastic Net Regression can be used to predict financial variables such as stock prices, exchange rates, and commodity prices. By incorporating multiple features such as historical prices, economic indicators, and news sentiment, the model can capture complex relationships and improve the accuracy of the predictions.\n",
        "\n",
        "3. Marketing analytics: Elastic Net Regression can be used to analyze customer behavior and preferences, and to predict the effectiveness of marketing campaigns. By identifying the most important factors that influence customer decisions, marketers can develop targeted strategies to improve customer engagement and loyalty.\n",
        "\n",
        "4. Image processing: Elastic Net Regression can be used for feature extraction and image denoising. By identifying the most important features that contribute to image classification or reconstruction, the model can improve the accuracy and quality of the results.\n",
        "\n",
        "5. Environmental science: Elastic Net Regression can be used to analyze environmental data such as air and water quality, climate variables, and soil properties. By identifying the most important variables that are associated with environmental degradation or pollution, researchers can develop strategies to mitigate the impacts and protect human health.\n",
        "\n",
        "### Overall, Elastic Net Regression can be used in a wide range of applications where there are high-dimensional datasets with correlated features. By incorporating both L1 and L2 penalties, Elastic Net Regression can balance between sparse and dense solutions, and provide a powerful tool for feature selection and regularization."
      ]
    },
    {
      "cell_type": "markdown",
      "metadata": {
        "id": "lG5eWMBSdauy"
      },
      "source": [
        "## Question 5 : How do you interpret the coefficients in Elastic Net Regression?\n",
        "---"
      ]
    },
    {
      "cell_type": "markdown",
      "metadata": {
        "id": "b4n6tE08dauy"
      },
      "source": [
        "## Answer :"
      ]
    },
    {
      "cell_type": "markdown",
      "metadata": {
        "id": "Wh8WUS6Edauy"
      },
      "source": [
        "### Interpreting the coefficients in Elastic Net Regression can be slightly more complex than in linear regression due to the presence of the regularization terms. Here are some general guidelines:\n",
        "\n",
        "1. Sign of the coefficient: The sign of the coefficient indicates whether the feature has a positive or negative effect on the target variable. For example, if the coefficient for a feature is positive, then an increase in the value of that feature will lead to an increase in the target variable.\n",
        "\n",
        "2. Magnitude of the coefficient: The magnitude of the coefficient indicates the strength of the relationship between the feature and the target variable. A larger magnitude indicates a stronger relationship. However, it's important to keep in mind that the magnitude of the coefficient can be influenced by the scale of the feature and the target variable.\n",
        "\n",
        "3. Regularization term: The regularization terms in Elastic Net Regression can shrink the magnitude of the coefficients towards zero, which can result in sparser solutions. Therefore, it's important to consider the regularization parameters when interpreting the coefficients. A larger value of the regularization parameter can result in more coefficients being shrunk towards zero, which can lead to a simpler model with fewer features.\n",
        "\n",
        "4. Coefficient stability: The stability of the coefficients across different datasets or subsets of the same dataset can provide information about the robustness of the model. If the coefficients are consistent across different datasets or subsets, then the model is more likely to generalize well to new data.\n",
        "\n",
        "### In summary, interpreting the coefficients in Elastic Net Regression requires considering the sign, magnitude, and stability of the coefficients, as well as the influence of the regularization terms. It's important to interpret the coefficients in the context of the specific application and to validate the model's performance on new data."
      ]
    },
    {
      "cell_type": "markdown",
      "metadata": {
        "id": "WB_mpzQ_dauy"
      },
      "source": [
        "## Question 6 : How do you handle missing values when using Elastic Net Regression?\n",
        "---"
      ]
    },
    {
      "cell_type": "markdown",
      "metadata": {
        "id": "2a_E2evzdauy"
      },
      "source": [
        "## Answer :"
      ]
    },
    {
      "cell_type": "markdown",
      "metadata": {
        "id": "j8AmFDCMdauy"
      },
      "source": [
        "### Handling missing values is an important preprocessing step when using Elastic Net Regression. Here are some common strategies for handling missing values:\n",
        "\n",
        "1. Remove samples with missing values: One simple approach is to remove samples with missing values from the dataset. However, this approach can lead to loss of information and reduced sample size.\n",
        "\n",
        "2. Impute missing values: Imputation is the process of replacing missing values with estimated values. There are several imputation methods available, such as mean imputation, median imputation, and regression imputation. Mean or median imputation can be used for continuous variables, while regression imputation can be used to predict missing values based on other variables.\n",
        "\n",
        "3. Use a missing value indicator: Another approach is to create a binary indicator variable that indicates whether a particular feature has a missing value or not. This approach allows the model to distinguish between missing and non-missing values and can help preserve information.\n",
        "\n",
        "### When using Elastic Net Regression, it's important to apply the same preprocessing steps to both the training and test datasets. Imputation and missing value indicators should be applied to both datasets to ensure that the model is consistent and generalizable.\n",
        "\n",
        "### It's also important to keep in mind that imputation can introduce bias and reduce the variability in the data. Therefore, it's important to validate the performance of the model with and without imputation, and to choose an appropriate imputation method based on the characteristics of the dataset and the specific application."
      ]
    },
    {
      "cell_type": "code",
      "execution_count": 2,
      "metadata": {
        "colab": {
          "base_uri": "https://localhost:8080/"
        },
        "id": "Plj7yvt0dauy",
        "outputId": "f95c7217-fc33-4183-8ac5-5d40c7b3f871"
      },
      "outputs": [
        {
          "output_type": "stream",
          "name": "stdout",
          "text": [
            "Best alpha:  0.0015970391288520694\n",
            "Best l1_ratio:  0.5\n",
            "Testing MAE: 0.53\n",
            "Testing MSE: 0.55\n",
            "Testing RMSE : 0.74\n",
            "Testing R2 : 0.5770\n"
          ]
        }
      ],
      "source": [
        "from sklearn.datasets import fetch_california_housing\n",
        "from sklearn.impute import SimpleImputer\n",
        "from sklearn.model_selection import train_test_split\n",
        "from sklearn.linear_model import ElasticNetCV\n",
        "from sklearn.metrics import mean_squared_error\n",
        "\n",
        "# Load dataset\n",
        "california_housing = fetch_california_housing(as_frame=True)\n",
        "X, y = california_housing.data, california_housing.target\n",
        "\n",
        "# Split dataset into train and test sets\n",
        "X_train, X_test, y_train, y_test = train_test_split(X, y, test_size=0.2, random_state=42)\n",
        "\n",
        "# Create imputer object for mean imputation\n",
        "imputer = SimpleImputer(strategy='mean')\n",
        "\n",
        "# Fit imputer to training data and transform both training and test data\n",
        "X_train_imputed = imputer.fit_transform(X_train)\n",
        "X_test_imputed = imputer.transform(X_test)\n",
        "\n",
        "# Scaling the dataset\n",
        "from sklearn.preprocessing import StandardScaler\n",
        "scaler = StandardScaler()\n",
        "X_train_scaled = scaler.fit_transform(X_train_imputed)\n",
        "X_test_scaled = scaler.transform(X_test_imputed)\n",
        "\n",
        "# Create Elastic Net model with cross-validation to choose hyperparameters\n",
        "model = ElasticNetCV(cv=5)\n",
        "\n",
        "# Fit model to training data\n",
        "model.fit(X_train_scaled, y_train)\n",
        "\n",
        "# Predict on test data\n",
        "y_test_pred = model.predict(X_test_scaled)\n",
        "\n",
        "# Evaluate model on test set\n",
        "mse = mean_squared_error(y_test, y_test_pred)\n",
        "mae = mean_absolute_error(y_test,y_test_pred)\n",
        "r2 = r2_score(y_test,y_test_pred)\n",
        "\n",
        "# Print Evaluated Results\n",
        "print(\"Best alpha: \", model.alpha_)\n",
        "print(\"Best l1_ratio: \", model.l1_ratio_)\n",
        "print(f\"Testing MAE: {mae:.2f}\")\n",
        "print(f\"Testing MSE: {mse:.2f}\")\n",
        "print(f\"Testing RMSE : {mse**0.5:.2f}\")\n",
        "print(f\"Testing R2 : {r2:.4f}\")"
      ]
    },
    {
      "cell_type": "markdown",
      "metadata": {
        "id": "3J4qzmCLdauy"
      },
      "source": [
        "## Question 7 : How do you use Elastic Net Regression for feature selection?\n",
        "---"
      ]
    },
    {
      "cell_type": "markdown",
      "metadata": {
        "id": "dYeefe91dauy"
      },
      "source": [
        "## Answer :"
      ]
    },
    {
      "cell_type": "markdown",
      "metadata": {
        "id": "R6uIKyzqdauy"
      },
      "source": [
        "### Elastic Net Regression can be used for feature selection by setting the L1 ratio parameter to a value between 0 and 1. When the L1 ratio is 1, Elastic Net Regression becomes equivalent to Lasso Regression, which is known for its feature selection properties. The L1 penalty in Lasso Regression forces some of the coefficients to become exactly zero, effectively selecting only the most important features for the model.\n",
        "\n",
        "### To use Elastic Net Regression for feature selection, you can set the L1 ratio to a value close to 1 (e.g., 0.9) and use cross-validation to select the best value for the regularization parameter alpha. The resulting model will have some coefficients that are exactly zero, indicating that those features were not selected by the model."
      ]
    },
    {
      "cell_type": "code",
      "execution_count": 3,
      "metadata": {
        "colab": {
          "base_uri": "https://localhost:8080/"
        },
        "id": "lamxzXWhdauy",
        "outputId": "07bfe212-e599-45b5-a488-c0f843f8647f"
      },
      "outputs": [
        {
          "output_type": "stream",
          "name": "stdout",
          "text": [
            "R^2 score: 0.5148375114202305\n",
            "Selected features: [('MedInc', 0.7124071084662037), ('HouseAge', 0.137194210466035), ('Latitude', -0.1758866518884966), ('Longitude', -0.13334284564464793)]\n"
          ]
        }
      ],
      "source": [
        "from sklearn.datasets import fetch_california_housing\n",
        "from sklearn.linear_model import ElasticNetCV\n",
        "from sklearn.preprocessing import StandardScaler\n",
        "from sklearn.model_selection import train_test_split\n",
        "\n",
        "# Load dataset\n",
        "california = fetch_california_housing()\n",
        "X, y = california.data, california.target\n",
        "\n",
        "# Scale data\n",
        "scaler = StandardScaler()\n",
        "X_scaled = scaler.fit_transform(X)\n",
        "\n",
        "# Split data into training and testing sets\n",
        "X_train, X_test, y_train, y_test = train_test_split(X_scaled, y, test_size=0.2, random_state=42)\n",
        "\n",
        "# Create Elastic Net model with cross-validation to choose hyperparameters\n",
        "model = ElasticNetCV(l1_ratio=0.5, alphas=[0.1, 0.5, 1.0],cv=5)\n",
        "\n",
        "# Fit model to training data\n",
        "model.fit(X_train, y_train)\n",
        "\n",
        "# Evaluate model on testing data\n",
        "score = model.score(X_test, y_test)\n",
        "print(\"R^2 score:\", score)\n",
        "\n",
        "# Get coefficients and feature names\n",
        "coef = model.coef_\n",
        "feature_names = california.feature_names\n",
        "\n",
        "# Print selected features and their coefficients\n",
        "selected_features = []\n",
        "for i in range(len(feature_names)):\n",
        "    if coef[i] != 0:\n",
        "        selected_features.append((feature_names[i], coef[i]))\n",
        "print(\"Selected features:\", selected_features)"
      ]
    },
    {
      "cell_type": "markdown",
      "metadata": {
        "id": "bbp6Q9aTdauy"
      },
      "source": [
        "## Question 8 : How do you pickle and unpickle a trained Elastic Net Regression model in Python?\n",
        "---"
      ]
    },
    {
      "cell_type": "markdown",
      "metadata": {
        "id": "eCRh26L_dauy"
      },
      "source": [
        "## Answer :"
      ]
    },
    {
      "cell_type": "markdown",
      "metadata": {
        "id": "SFiP4ckTdauz"
      },
      "source": [
        "### Pickle is a Python module that can be used to serialize and save Python objects to disk. This makes it a useful tool for saving trained machine learning models, including Elastic Net Regression models. Here's an example of how to pickle and unpickle an Elastic Net Regression model in Python:"
      ]
    },
    {
      "cell_type": "code",
      "execution_count": 4,
      "metadata": {
        "colab": {
          "base_uri": "https://localhost:8080/"
        },
        "id": "-S34xpKIdauz",
        "outputId": "bca88fc3-c9cf-47c1-ed63-bfc1207a6491"
      },
      "outputs": [
        {
          "output_type": "stream",
          "name": "stdout",
          "text": [
            "[  33.76505377   67.70054112   -5.23557654 -274.54102976   36.68328734]\n"
          ]
        }
      ],
      "source": [
        "import pickle\n",
        "from sklearn.datasets import make_regression\n",
        "from sklearn.linear_model import ElasticNetCV\n",
        "from sklearn.preprocessing import StandardScaler\n",
        "from sklearn.model_selection import train_test_split\n",
        "\n",
        "# Generate a random regression dataset\n",
        "X, y = make_regression(n_samples=1000, n_features=10, noise =25, random_state=42)\n",
        "\n",
        "# Split the data into training and testing sets\n",
        "X_train, X_test, y_train, y_test = train_test_split(X, y, test_size=0.2, random_state=42)\n",
        "\n",
        "# Scale the data\n",
        "scaler = StandardScaler()\n",
        "X_train_scaled = scaler.fit_transform(X_train)\n",
        "X_test_scaled = scaler.transform(X_test)\n",
        "\n",
        "# Create an Elastic Net model with cross-validation\n",
        "enet = ElasticNetCV(cv=5)\n",
        "\n",
        "# Fit the model to the training data\n",
        "enet.fit(X_train_scaled, y_train)\n",
        "\n",
        "# Pickle the trained model to a file\n",
        "with open('enet_model.pkl', 'wb') as f:\n",
        "    pickle.dump(enet, f)\n",
        "\n",
        "# Unpickle the model from the file\n",
        "with open('enet_model.pkl', 'rb') as f:\n",
        "    enet_loaded = pickle.load(f)\n",
        "\n",
        "# Use the unpickled model to make predictions on the testing data\n",
        "y_pred = enet_loaded.predict(X_test_scaled)\n",
        "print(y_pred[0:5])"
      ]
    },
    {
      "cell_type": "markdown",
      "metadata": {
        "id": "MfgxN7Szdauz"
      },
      "source": [
        "### In this code, we first train an Elastic Net Regression model on the Boston Housing dataset and then pickle it to a file using the pickle.dump() method. We then unpickle the model from the file using the pickle.load() method and use it to make predictions on a new data point. Note that we also need to load the StandardScaler object used to scale the data in order to scale the new data point before making predictions.\n",
        "\n",
        "### Pickle can be a convenient way to save trained machine learning models, but it's important to be aware of its limitations and potential security risks. In particular, unpickling untrusted data can potentially execute arbitrary code, so it's important to only unpickle data from trusted sources."
      ]
    },
    {
      "cell_type": "markdown",
      "metadata": {
        "id": "5amiDRVgdauz"
      },
      "source": [
        "## Question 9 : What is the purpose of pickling a model in machine learning?\n",
        "---"
      ]
    },
    {
      "cell_type": "markdown",
      "metadata": {
        "id": "K7YALnuBdauz"
      },
      "source": [
        "## Answer :"
      ]
    },
    {
      "cell_type": "markdown",
      "metadata": {
        "id": "QFGunCYTdauz"
      },
      "source": [
        "### The purpose of pickling a model in machine learning is to save the trained model to a file so that it can be used later without having to retrain the model. Pickling is a way to serialize the object and store it in a file, which can then be loaded later when needed. This is useful when the model takes a long time to train, or when you want to use the same model to make predictions on new data without having to train it from scratch every time.\n",
        "\n",
        "### In addition to saving time, pickling can also help ensure consistency between different environments. For example, if you train a model on one machine and then transfer it to another machine for use in a production environment, pickling allows you to maintain the same trained model, rather than retraining the model on the new machine, which may produce slightly different results due to differences in hardware or software configurations.\n",
        "\n",
        "### Overall, pickling is a convenient and efficient way to save trained machine learning models for later use."
      ]
    },
    {
      "cell_type": "markdown",
      "source": [
        "![image.png](data:image/png;base64,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)"
      ],
      "metadata": {
        "id": "p0otXLIndvqM"
      }
    }
  ],
  "metadata": {
    "kernelspec": {
      "display_name": "venv",
      "language": "python",
      "name": "python3"
    },
    "language_info": {
      "codemirror_mode": {
        "name": "ipython",
        "version": 3
      },
      "file_extension": ".py",
      "mimetype": "text/x-python",
      "name": "python",
      "nbconvert_exporter": "python",
      "pygments_lexer": "ipython3",
      "version": "3.10.7"
    },
    "orig_nbformat": 4,
    "colab": {
      "provenance": []
    }
  },
  "nbformat": 4,
  "nbformat_minor": 0
}