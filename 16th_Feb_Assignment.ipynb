{
  "nbformat": 4,
  "nbformat_minor": 0,
  "metadata": {
    "colab": {
      "provenance": []
    },
    "kernelspec": {
      "name": "python3",
      "display_name": "Python 3"
    },
    "language_info": {
      "name": "python"
    }
  },
  "cells": [
    {
      "cell_type": "markdown",
      "source": [
        "**Q1. What is a database? Differentiate between SQL and NoSQL databases.**"
      ],
      "metadata": {
        "id": "gYghItHVP7u2"
      }
    },
    {
      "cell_type": "markdown",
      "source": [
        "**Ans :-**  A database is an organized collection of structured information, or data, typically stored electronically in a computer system. A database is usually controlled by a database management system (DBMS). Together, the data and the DBMS, along with the applications that are associated with them, are referred to as a database system, often shortened to just database.\n",
        "\n",
        "Difference between SQL and NoSQL database :--\n",
        "\n",
        "* SQL databases are relational, and NoSQL databases are non-relational.\n",
        "* SQL databases use structured query language (SQL) and have a predefined schema. NoSQL databases have dynamic schemas for unstructured data.\n",
        "* SQL databases are vertically scalable, while NoSQL databases are horizontally scalable.\n",
        "* SQL databases are table-based, while NoSQL databases are document, key-value, graph, or wide-column stores.\n",
        "* SQL databases are better for multi-row transactions, while NoSQL is better for unstructured data like documents or JSON."
      ],
      "metadata": {
        "id": "5aTnMukICYtZ"
      }
    },
    {
      "cell_type": "markdown",
      "source": [
        "**Q2. What is DDL? Explain why CREATE, DROP, ALTER, and TRUNCATE are used with an example.**"
      ],
      "metadata": {
        "id": "EofBoYw6P9Fo"
      }
    },
    {
      "cell_type": "markdown",
      "source": [
        "**Ans :-**\n",
        "\n",
        "**DDL :-** A data definition language (DDL) is a computer language used to create and modify the structure of database objects in a database. These database objects include views, schemas, tables, indexes, etc.\n",
        "\n",
        "* CREATE :- The CREATE TABLE command is used to create a new table in the database.\n",
        "\n",
        " A copy of an existing table can also be created using CREATE TABLE.\n",
        "\n",
        " The following SQL creates a table called \"Persons\" that contains five columns: PersonID, LastName, FirstName, Address, and City:\n",
        "\n",
        " ```\n",
        " CREATE TABLE Persons (\n",
        "    PersonID int,\n",
        "    LastName varchar(255),\n",
        "    FirstName varchar(255),\n",
        "    Address varchar(255),\n",
        "    City varchar(255)\n",
        ");\n",
        "```\n",
        "\n",
        "* DROP :- The DROP TABLE command deletes a table in the database.\n",
        "\n",
        "  The following SQL deletes the table \"Shippers\":* DROP :- The DROP TABLE command deletes a table in the database.\n",
        "\n",
        "  The following SQL deletes the table \"Shippers\":\n",
        "\n",
        "  `DROP TABLE Shippers;`\n",
        "\n",
        "* ALTER :- The ALTER TABLE command adds, deletes, or modifies columns in a table.\n",
        "\n",
        "  The ALTER TABLE command also adds and deletes various constraints in a table.\n",
        "\n",
        "  The following SQL adds an \"Email\" column to the \"Customers\" table:\n",
        "\n",
        "  ```\n",
        "  ALTER TABLE Customers\n",
        "ADD Email varchar(255);\n",
        "```\n",
        "\n",
        "* TRUNCATE :- The TRUNCATE TABLE command deletes the data inside a table, but not the table itself.\n",
        "\n",
        "  The following SQL truncates the table \"Categories\":\n",
        "  ```\n",
        "  ALTER TABLE Customers\n",
        "ADD Email varchar(255);\n",
        "```"
      ],
      "metadata": {
        "id": "3TV9R0dlDcJg"
      }
    },
    {
      "cell_type": "markdown",
      "source": [
        "**Q3. What is DML? Explain INSERT, UPDATE, and DELETE with an example.**"
      ],
      "metadata": {
        "id": "lM4cxoQmP9Qw"
      }
    },
    {
      "cell_type": "markdown",
      "source": [
        "**Ans :-**\n",
        "\n",
        "**DML :-** A data manipulation language (DML) is a family of computer languages including commands permitting users to manipulate data in a database. This manipulation involves inserting data into database tables, retrieving existing data, deleting data from existing tables and modifying existing data. DML is mostly incorporated in SQL databases.\n",
        "\n",
        "* INSERT :- This command can be used to insert data into a row of a table. INSERT INTO would insert the values that are mentioned in the ‘Student’ table below.\n",
        "```\n",
        "INSERT INTO Student(Stu_Name, DOB, Phone, Mail)\n",
        "VALUES(‘Phoebe’, ‘1998-05-26’, 7812865845, ‘user@xyz.com’);\n",
        "```\n",
        "* UPDATE :- This statement in SQL is used to update the data that is present in an existing table of a database. The UPDATE statement can be used to update single or multiple columns on the basis of our specific needs.\n",
        "\n",
        "  `UPDATE Student SET Phone = 9039462901 WHERE Stu_Name = ’Phoebe’;`\n",
        "\n",
        "* DELETE :- The DELETE statement can be used in SQL to delete various records from a given table. On the basis of the condition that has been set in the WHERE clause, one can delete single or multiple records.\n",
        "\n",
        "  `DELETE FROM Student WHERE Stu_Name = ’Phoebe’;`\n",
        "\n",
        "  The command given above would delete the record for the student with the name ‘Phoebe’ from the ‘Student’ table. Apart from this, one can also use the LOCK Table statement to explicitly acquire the shared or exclusive table lock on a specified table."
      ],
      "metadata": {
        "id": "eHUuUANmHKxo"
      }
    },
    {
      "cell_type": "markdown",
      "source": [
        "**Q4. What is DQL? Explain SELECT with an example.**"
      ],
      "metadata": {
        "id": "ENts9MjqP9XQ"
      }
    },
    {
      "cell_type": "markdown",
      "source": [
        "**Ans :-** DQL is Data Query Language which statements are used for performing queries on the data within schema objects. The purpose of the DQL Command is to get some schema relation based on the query passed to it. We can define DQL as follows it is a component of SQL statement that allows getting data from the database and imposing order upon it. It includes the SELECT statement. This command allows getting the data out of the database to perform operations with it. When a SELECT is fired against a table or tables the result is compiled into a further temporary table, which is displayed or perhaps received by the program i.e. a front-end.\n",
        "\n",
        "* SELECT :-\n",
        "It is used to retrieve data from the database.\n",
        "\n",
        "  `SELECT Stu_Name FROM Student WHERE Phone = 9039462908;`\n",
        "\n",
        "  The command given above would select the record from the table ‘Student’ where the phone number is ‘9039462908’."
      ],
      "metadata": {
        "id": "v7Dq0UQzKsZM"
      }
    },
    {
      "cell_type": "markdown",
      "source": [
        "**Q5. Explain Primary Key and Foreign Key.**"
      ],
      "metadata": {
        "id": "2qwIhT6cP9do"
      }
    },
    {
      "cell_type": "markdown",
      "source": [
        "**Ans :-**\n",
        "\n",
        "Primary Key :- A primary key generally focuses on the uniqueness of the table. It is a column or a set of columns that uniquely distinguishes every row in the database. It means it should not have any duplicate value. Also, it doesn’t contain a NULL value.\n",
        "\n",
        "Foreign Key :- A foreign key is generally used to build a relationship between the two tables. The major purpose of the foreign key is to sustain data integrity between two separate instances of an entity."
      ],
      "metadata": {
        "id": "U-G_CWdkLSwp"
      }
    },
    {
      "cell_type": "markdown",
      "source": [
        "**Q6. Write a python code to connect MySQL to python. Explain the cursor() and execute() method.**"
      ],
      "metadata": {
        "id": "wKztbaiNP9jf"
      }
    },
    {
      "cell_type": "markdown",
      "source": [
        "Python code to connect MySQL to python\n",
        "```\n",
        "import mysql.connector\n",
        "\n",
        "mydb = mysql.connector.connect(\n",
        "  host=\"localhost\",\n",
        "  user=\"yourusername\",\n",
        "  password=\"yourpassword\"\n",
        ")\n",
        "\n",
        "print(mydb)\n",
        "```\n",
        "\n",
        "* cursor() method :- A cursor is an object which helps to execute the query and fetch the records from the database. The cursor plays a very important role in executing the query.\n",
        "\n",
        "* execute :- The execute () method helps us to execute the query and return records according to the query. The syntax of the execute () function is:\n",
        "\n",
        "  `execute (query, args = None)`"
      ],
      "metadata": {
        "id": "daB-Y8cfQVTs"
      }
    },
    {
      "cell_type": "markdown",
      "source": [
        "**Q7. Give the order of execution of SQL clauses in an SQL query.**"
      ],
      "metadata": {
        "id": "VvbKgFmZQMWI"
      }
    },
    {
      "cell_type": "markdown",
      "source": [
        "**Ans :-**\n",
        "\n",
        "#Query order of execution :-\n",
        "1. FROM and JOIN :-\n",
        "\n",
        "  The FROM clause, and subsequent JOINs are first executed to determine the total working set of data that is being queried. This includes subqueries in this clause, and can cause temporary tables to be created under the hood containing all the columns and rows of the tables being joined.\n",
        "\n",
        "2. WHERE :-\n",
        "\n",
        "  Once we have the total working set of data, the first-pass WHERE constraints are applied to the individual rows, and rows that do not satisfy the constraint are discarded. Each of the constraints can only access columns directly from the tables requested in the FROM clause. Aliases in the SELECT part of the query are not accessible in most databases since they may include expressions dependent on parts of the query that have not yet executed.\n",
        "\n",
        "3. GROUP BY :-\n",
        "\n",
        "  The remaining rows after the WHERE constraints are applied are then grouped based on common values in the column specified in the GROUP BY clause. As a result of the grouping, there will only be as many rows as there are unique values in that column. Implicitly, this means that you should only need to use this when you have aggregate functions in your query.\n",
        "\n",
        "4. HAVING :-\n",
        "\n",
        "  If the query has a GROUP BY clause, then the constraints in the HAVING clause are then applied to the grouped rows, discard the grouped rows that don't satisfy the constraint. Like the WHERE clause, aliases are also not accessible from this step in most databases.\n",
        "\n",
        "5. SELECT:-\n",
        "\n",
        "  Any expressions in the SELECT part of the query are finally computed.\n",
        "\n",
        "6. DISTINCT\n",
        "Of the remaining rows, rows with duplicate values in the column marked as DISTINCT will be discarded.\n",
        "\n",
        "7. ORDER BY :-\n",
        "\n",
        "  If an order is specified by the ORDER BY clause, the rows are then sorted by the specified data in either ascending or descending order. Since all the expressions in the SELECT part of the query have been computed, you can reference aliases in this clause.\n",
        "\n",
        "8. LIMIT / OFFSET :-\n",
        "\n",
        "  Finally, the rows that fall outside the range specified by the LIMIT and OFFSET are discarded, leaving the final set of rows to be returned from the query."
      ],
      "metadata": {
        "id": "W804NOvLQ-a_"
      }
    }
  ]
}