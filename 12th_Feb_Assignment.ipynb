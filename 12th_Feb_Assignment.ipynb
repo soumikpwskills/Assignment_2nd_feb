{
  "nbformat": 4,
  "nbformat_minor": 0,
  "metadata": {
    "colab": {
      "provenance": []
    },
    "kernelspec": {
      "name": "python3",
      "display_name": "Python 3"
    },
    "language_info": {
      "name": "python"
    }
  },
  "cells": [
    {
      "cell_type": "markdown",
      "source": [
        "**Q1. What is an Exception in python? Write the difference between Exceptions and Syntax errors.**"
      ],
      "metadata": {
        "id": "xyBWwYXSiPll"
      }
    },
    {
      "cell_type": "markdown",
      "source": [
        "**Ans :-** An exception is an event, which occurs during the execution of a program that disrupts the normal flow of the program's instructions. In general, when a Python script encounters a situation that it cannot cope with, it raises an exception. An exception is a Python object that represents an error. When a Python script raises an exception, it must either handle the exception immediately otherwise it terminates and quits.\n",
        "\n",
        "An error is an issue in a program that prevents the program from completing its task. In comparison, an exception is a condition that interrupts the normal flow of the program. Both errors and exceptions are a type of runtime error, which means they occur during the execution of a program."
      ],
      "metadata": {
        "id": "5ZAWeiPOjCVQ"
      }
    },
    {
      "cell_type": "markdown",
      "source": [
        "**Q2. What happened when an exception is not handled? Explain with an example.**"
      ],
      "metadata": {
        "id": "TwFauMXUjzhV"
      }
    },
    {
      "cell_type": "markdown",
      "source": [
        "**Ans :-** When a exception is not handled, they will terminate the program and produce a traceback."
      ],
      "metadata": {
        "id": "EJBDaqpDkGEB"
      }
    },
    {
      "cell_type": "code",
      "source": [
        "marks = 10000\n",
        "\n",
        "a = marks / 0\n",
        "print(a)\n"
      ],
      "metadata": {
        "colab": {
          "base_uri": "https://localhost:8080/",
          "height": 217
        },
        "id": "voj9iO15-JGc",
        "outputId": "c50ac80b-63ad-4b12-91fe-1c1bcf184ffc"
      },
      "execution_count": 1,
      "outputs": [
        {
          "output_type": "error",
          "ename": "ZeroDivisionError",
          "evalue": "ignored",
          "traceback": [
            "\u001b[0;31m---------------------------------------------------------------------------\u001b[0m",
            "\u001b[0;31mZeroDivisionError\u001b[0m                         Traceback (most recent call last)",
            "\u001b[0;32m<ipython-input-1-7598408e090f>\u001b[0m in \u001b[0;36m<cell line: 3>\u001b[0;34m()\u001b[0m\n\u001b[1;32m      1\u001b[0m \u001b[0mmarks\u001b[0m \u001b[0;34m=\u001b[0m \u001b[0;36m10000\u001b[0m\u001b[0;34m\u001b[0m\u001b[0;34m\u001b[0m\u001b[0m\n\u001b[1;32m      2\u001b[0m \u001b[0;34m\u001b[0m\u001b[0m\n\u001b[0;32m----> 3\u001b[0;31m \u001b[0ma\u001b[0m \u001b[0;34m=\u001b[0m \u001b[0mmarks\u001b[0m \u001b[0;34m/\u001b[0m \u001b[0;36m0\u001b[0m\u001b[0;34m\u001b[0m\u001b[0;34m\u001b[0m\u001b[0m\n\u001b[0m\u001b[1;32m      4\u001b[0m \u001b[0mprint\u001b[0m\u001b[0;34m(\u001b[0m\u001b[0ma\u001b[0m\u001b[0;34m)\u001b[0m\u001b[0;34m\u001b[0m\u001b[0;34m\u001b[0m\u001b[0m\n",
            "\u001b[0;31mZeroDivisionError\u001b[0m: division by zero"
          ]
        }
      ]
    },
    {
      "cell_type": "markdown",
      "source": [
        "Q3. Which Python statements are used to catch and handle exceptions? Explain with an example."
      ],
      "metadata": {
        "id": "t31lddag-W2x"
      }
    },
    {
      "cell_type": "markdown",
      "source": [
        "**Ans :-** The try and except block in Python is used to catch and handle exceptions.Python executes code following the try statement as a “normal” part of the program. The code that follows the except statement is the program’s response to any exceptions in the preceding try clause."
      ],
      "metadata": {
        "id": "gE8E_qU8-yQy"
      }
    },
    {
      "cell_type": "code",
      "source": [
        "\n",
        "a = [1, 2, 3]\n",
        "try:\n",
        "\tprint (\"Second element = %d\" %(a[1]))\n",
        "\n",
        "\t# Throws error since there are only 3 elements in array\n",
        "\tprint (\"Fourth element = %d\" %(a[3]))\n",
        "\n",
        "except:\n",
        "\tprint (\"An error occurred\")\n"
      ],
      "metadata": {
        "colab": {
          "base_uri": "https://localhost:8080/"
        },
        "id": "XCrKJoRT_PwJ",
        "outputId": "530e7cec-1f79-4ec6-862b-5b320eccb24f"
      },
      "execution_count": 2,
      "outputs": [
        {
          "output_type": "stream",
          "name": "stdout",
          "text": [
            "Second element = 2\n",
            "An error occurred\n"
          ]
        }
      ]
    },
    {
      "cell_type": "markdown",
      "source": [
        "Q4. Explain with an exmple:\n",
        "\n",
        "  a. try and else\n",
        "\n",
        "  b. finally\n",
        "\n",
        "  c. raise"
      ],
      "metadata": {
        "id": "Xz2IkoTTTaX0"
      }
    },
    {
      "cell_type": "markdown",
      "source": [
        "**Ans :-**\n",
        "\n",
        "a. Try: This block will test the excepted error to occur\n",
        "\n",
        "  Else: If there is no exception then this block will be executed\n",
        "\n",
        "b. Finally: Finally block always gets executed either exception is generated or not"
      ],
      "metadata": {
        "id": "Nyarnl0zT0qg"
      }
    },
    {
      "cell_type": "code",
      "source": [
        "def divide(x, y):\n",
        "\ttry:\n",
        "\t\tresult = x // y\n",
        "\texcept ZeroDivisionError:\n",
        "\t\tprint(\"Sorry ! You are dividing by zero \")\n",
        "\telse:\n",
        "\t\tprint(\"Yeah ! Your answer is :\", result)\n",
        "\tfinally:\n",
        "\t\tprint('This is always executed')\n",
        "\n",
        "divide(4, 2)\n",
        "divide(3, 0)\n"
      ],
      "metadata": {
        "colab": {
          "base_uri": "https://localhost:8080/"
        },
        "id": "KGkDd1Y2VNAm",
        "outputId": "2f2a0337-7c55-436d-acfc-f4c2f6342200"
      },
      "execution_count": 3,
      "outputs": [
        {
          "output_type": "stream",
          "name": "stdout",
          "text": [
            "Yeah ! Your answer is : 2\n",
            "This is always executed\n",
            "Sorry ! You are dividing by zero \n",
            "This is always executed\n"
          ]
        }
      ]
    },
    {
      "cell_type": "markdown",
      "source": [
        "c. Raise :- The raise keyword is used to raise an exception."
      ],
      "metadata": {
        "id": "RQjJbA3oVkpU"
      }
    },
    {
      "cell_type": "code",
      "source": [
        "x = \"hello\"\n",
        "\n",
        "if not type(x) is int:\n",
        "  raise TypeError(\"Only integers are allowed\")"
      ],
      "metadata": {
        "colab": {
          "base_uri": "https://localhost:8080/",
          "height": 200
        },
        "id": "t5L9dxrgVtiY",
        "outputId": "fa2bcf2c-8240-4a9d-9e99-6b8f98ec239c"
      },
      "execution_count": 4,
      "outputs": [
        {
          "output_type": "error",
          "ename": "TypeError",
          "evalue": "ignored",
          "traceback": [
            "\u001b[0;31m---------------------------------------------------------------------------\u001b[0m",
            "\u001b[0;31mTypeError\u001b[0m                                 Traceback (most recent call last)",
            "\u001b[0;32m<ipython-input-4-bc91768a6271>\u001b[0m in \u001b[0;36m<cell line: 3>\u001b[0;34m()\u001b[0m\n\u001b[1;32m      2\u001b[0m \u001b[0;34m\u001b[0m\u001b[0m\n\u001b[1;32m      3\u001b[0m \u001b[0;32mif\u001b[0m \u001b[0;32mnot\u001b[0m \u001b[0mtype\u001b[0m\u001b[0;34m(\u001b[0m\u001b[0mx\u001b[0m\u001b[0;34m)\u001b[0m \u001b[0;32mis\u001b[0m \u001b[0mint\u001b[0m\u001b[0;34m:\u001b[0m\u001b[0;34m\u001b[0m\u001b[0;34m\u001b[0m\u001b[0m\n\u001b[0;32m----> 4\u001b[0;31m   \u001b[0;32mraise\u001b[0m \u001b[0mTypeError\u001b[0m\u001b[0;34m(\u001b[0m\u001b[0;34m\"Only integers are allowed\"\u001b[0m\u001b[0;34m)\u001b[0m\u001b[0;34m\u001b[0m\u001b[0;34m\u001b[0m\u001b[0m\n\u001b[0m",
            "\u001b[0;31mTypeError\u001b[0m: Only integers are allowed"
          ]
        }
      ]
    },
    {
      "cell_type": "markdown",
      "source": [
        "Q5. What are Custom Exceptions in python? Why do you need Custom Exceptions? Explain with an example."
      ],
      "metadata": {
        "id": "lufB1jvMV9KE"
      }
    },
    {
      "cell_type": "markdown",
      "source": [
        "**Ans :-** In Python, we can define custom exceptions by creating a new class that is derived from the built-in Exception class.\n",
        "\n",
        "Built-in exceptions offer information about Python-related problems, and custom exceptions will add information about project-related problems.So we need custom exceptions.\n",
        "\n",
        "The following example defines a CustomException class that inherits from the Exception class.To raise the CustomException, you use the raise statement. For example, the following uses the raise statement to raise the CustomException:"
      ],
      "metadata": {
        "id": "P1WkJx42WmUI"
      }
    },
    {
      "cell_type": "code",
      "source": [
        "class CustomException(Exception):\n",
        "    \"\"\" my custom exception class \"\"\"\n",
        "\n",
        "\n",
        "try:\n",
        "    raise CustomException('This is my custom exception')\n",
        "except CustomException as ex:\n",
        "    print(ex)"
      ],
      "metadata": {
        "colab": {
          "base_uri": "https://localhost:8080/"
        },
        "id": "IqzEsw54YV5U",
        "outputId": "d6c8dfca-911c-4043-d9fc-df25d1634a59"
      },
      "execution_count": 5,
      "outputs": [
        {
          "output_type": "stream",
          "name": "stdout",
          "text": [
            "This is my custom exception\n"
          ]
        }
      ]
    },
    {
      "cell_type": "markdown",
      "source": [
        "Q6. Create a custom exception class. Use this class to handle an exception."
      ],
      "metadata": {
        "id": "mjsPa0JFXkis"
      }
    },
    {
      "cell_type": "code",
      "source": [
        "class InvalidAgeException(Exception):\n",
        "    \"Raised when the input value is less than 18\"\n",
        "    pass\n",
        "\n",
        "number = 18\n",
        "\n",
        "try:\n",
        "    input_num = int(input(\"Enter a number: \"))\n",
        "    if input_num < number:\n",
        "        raise InvalidAgeException\n",
        "    else:\n",
        "        print(\"Eligible to Vote\")\n",
        "\n",
        "except InvalidAgeException:\n",
        "    print(\"Exception occurred: Invalid Age\")"
      ],
      "metadata": {
        "colab": {
          "base_uri": "https://localhost:8080/"
        },
        "id": "Hc4wh9CxXZMw",
        "outputId": "55f305a9-b2c8-4309-dcac-8916ec68e65e"
      },
      "execution_count": 6,
      "outputs": [
        {
          "output_type": "stream",
          "name": "stdout",
          "text": [
            "Enter a number: 12\n",
            "Exception occurred: Invalid Age\n"
          ]
        }
      ]
    }
  ]
}
