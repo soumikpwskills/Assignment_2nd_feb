{
  "nbformat": 4,
  "nbformat_minor": 0,
  "metadata": {
    "colab": {
      "provenance": []
    },
    "kernelspec": {
      "name": "python3",
      "display_name": "Python 3"
    },
    "language_info": {
      "name": "python"
    }
  },
  "cells": [
    {
      "cell_type": "markdown",
      "source": [
        "**Q1. What is an Exception in python? Write the difference between Exceptions and Syntax errors.**"
      ],
      "metadata": {
        "id": "xyBWwYXSiPll"
      }
    },
    {
      "cell_type": "markdown",
      "source": [
        "**Ans :-** An exception is an event, which occurs during the execution of a program that disrupts the normal flow of the program's instructions. In general, when a Python script encounters a situation that it cannot cope with, it raises an exception. An exception is a Python object that represents an error. When a Python script raises an exception, it must either handle the exception immediately otherwise it terminates and quits.\n",
        "\n",
        "An error is an issue in a program that prevents the program from completing its task. In comparison, an exception is a condition that interrupts the normal flow of the program. Both errors and exceptions are a type of runtime error, which means they occur during the execution of a program. It returns a syntax error message because after the if statement a colon: is missing. We can fix this by writing the correct syntax.\n",
        "\n",
        "**Syntax errors:-**\n",
        "When the proper syntax of the language is not followed then a syntax error is thrown.\n",
        "Example"
      ],
      "metadata": {
        "id": "5ZAWeiPOjCVQ"
      }
    },
    {
      "cell_type": "code",
      "source": [
        "amount = 10000\n",
        "\n",
        "if(amount>2999)\n",
        "\tprint(\"You are eligible to purchase Dsa Self Paced\")\n",
        "\n"
      ],
      "metadata": {
        "colab": {
          "base_uri": "https://localhost:8080/",
          "height": 134
        },
        "id": "tladANQ3GF_l",
        "outputId": "685c5ffd-191d-46d4-d017-b5b1a40a0afc"
      },
      "execution_count": 1,
      "outputs": [
        {
          "output_type": "error",
          "ename": "SyntaxError",
          "evalue": "ignored",
          "traceback": [
            "\u001b[0;36m  File \u001b[0;32m\"<ipython-input-1-560b0096ff1b>\"\u001b[0;36m, line \u001b[0;32m3\u001b[0m\n\u001b[0;31m    if(amount>2999)\u001b[0m\n\u001b[0m                   ^\u001b[0m\n\u001b[0;31mSyntaxError\u001b[0m\u001b[0;31m:\u001b[0m expected ':'\n"
          ]
        }
      ]
    },
    {
      "cell_type": "markdown",
      "source": [
        "Exception :- When in the runtime an error that occurs after passing the syntax test is called exception or logical type. For example, when we divide any number by zero then the ZeroDivisionError exception is raised, or when we import a module that does not exist then ImportError is raised.In the above example the ZeroDivisionError as we are trying to divide a number by 0."
      ],
      "metadata": {
        "id": "_b0QVmKZGRAF"
      }
    },
    {
      "cell_type": "code",
      "source": [
        "marks = 10000\n",
        "\n",
        "a = marks / 0\n",
        "print(a)\n"
      ],
      "metadata": {
        "colab": {
          "base_uri": "https://localhost:8080/",
          "height": 226
        },
        "id": "wPAxzKH-GmiI",
        "outputId": "735e2c5a-64ee-4996-dce0-f786085695dd"
      },
      "execution_count": 2,
      "outputs": [
        {
          "output_type": "error",
          "ename": "ZeroDivisionError",
          "evalue": "ignored",
          "traceback": [
            "\u001b[0;31m---------------------------------------------------------------------------\u001b[0m",
            "\u001b[0;31mZeroDivisionError\u001b[0m                         Traceback (most recent call last)",
            "\u001b[0;32m<ipython-input-2-7598408e090f>\u001b[0m in \u001b[0;36m<cell line: 3>\u001b[0;34m()\u001b[0m\n\u001b[1;32m      1\u001b[0m \u001b[0mmarks\u001b[0m \u001b[0;34m=\u001b[0m \u001b[0;36m10000\u001b[0m\u001b[0;34m\u001b[0m\u001b[0;34m\u001b[0m\u001b[0m\n\u001b[1;32m      2\u001b[0m \u001b[0;34m\u001b[0m\u001b[0m\n\u001b[0;32m----> 3\u001b[0;31m \u001b[0ma\u001b[0m \u001b[0;34m=\u001b[0m \u001b[0mmarks\u001b[0m \u001b[0;34m/\u001b[0m \u001b[0;36m0\u001b[0m\u001b[0;34m\u001b[0m\u001b[0;34m\u001b[0m\u001b[0m\n\u001b[0m\u001b[1;32m      4\u001b[0m \u001b[0mprint\u001b[0m\u001b[0;34m(\u001b[0m\u001b[0ma\u001b[0m\u001b[0;34m)\u001b[0m\u001b[0;34m\u001b[0m\u001b[0;34m\u001b[0m\u001b[0m\n",
            "\u001b[0;31mZeroDivisionError\u001b[0m: division by zero"
          ]
        }
      ]
    },
    {
      "cell_type": "markdown",
      "source": [
        "**Q2. What happened when an exception is not handled? Explain with an example.**"
      ],
      "metadata": {
        "id": "TwFauMXUjzhV"
      }
    },
    {
      "cell_type": "markdown",
      "source": [
        "**Ans :-** When a exception is not handled, they will terminate the program and produce a traceback."
      ],
      "metadata": {
        "id": "EJBDaqpDkGEB"
      }
    },
    {
      "cell_type": "code",
      "source": [
        "a = 10000\n",
        "b=0\n",
        "x = a/b\n",
        "print(a)\n"
      ],
      "metadata": {
        "colab": {
          "base_uri": "https://localhost:8080/",
          "height": 226
        },
        "id": "voj9iO15-JGc",
        "outputId": "cfde2606-a048-4398-8476-471b2af8b2e5"
      },
      "execution_count": 3,
      "outputs": [
        {
          "output_type": "error",
          "ename": "ZeroDivisionError",
          "evalue": "ignored",
          "traceback": [
            "\u001b[0;31m---------------------------------------------------------------------------\u001b[0m",
            "\u001b[0;31mZeroDivisionError\u001b[0m                         Traceback (most recent call last)",
            "\u001b[0;32m<ipython-input-3-824476c6c203>\u001b[0m in \u001b[0;36m<cell line: 3>\u001b[0;34m()\u001b[0m\n\u001b[1;32m      1\u001b[0m \u001b[0ma\u001b[0m \u001b[0;34m=\u001b[0m \u001b[0;36m10000\u001b[0m\u001b[0;34m\u001b[0m\u001b[0;34m\u001b[0m\u001b[0m\n\u001b[1;32m      2\u001b[0m \u001b[0mb\u001b[0m\u001b[0;34m=\u001b[0m\u001b[0;36m0\u001b[0m\u001b[0;34m\u001b[0m\u001b[0;34m\u001b[0m\u001b[0m\n\u001b[0;32m----> 3\u001b[0;31m \u001b[0mx\u001b[0m \u001b[0;34m=\u001b[0m \u001b[0ma\u001b[0m\u001b[0;34m/\u001b[0m\u001b[0mb\u001b[0m\u001b[0;34m\u001b[0m\u001b[0;34m\u001b[0m\u001b[0m\n\u001b[0m\u001b[1;32m      4\u001b[0m \u001b[0mprint\u001b[0m\u001b[0;34m(\u001b[0m\u001b[0ma\u001b[0m\u001b[0;34m)\u001b[0m\u001b[0;34m\u001b[0m\u001b[0;34m\u001b[0m\u001b[0m\n",
            "\u001b[0;31mZeroDivisionError\u001b[0m: division by zero"
          ]
        }
      ]
    },
    {
      "cell_type": "markdown",
      "source": [
        "A ZeroDivisionError occurs in Python when a number is attempted to be divided by zero. Since division by zero is not allowed in mathematics, attempting this in Python code raises a ZeroDivisionError.In above example, a number a is attempted to be divided by another number b, whose value is zero, leading to a ZeroDivisionError.\n",
        "\n",
        "The ZeroDivisionError can be avoided using a conditional statement to check for a denominator or divisor of 0 before performing the operation.\n",
        "\n",
        "The code in the earlier example can be updated to use an if statement to check if the denominator is 0:"
      ],
      "metadata": {
        "id": "QXqwcIiuE9WB"
      }
    },
    {
      "cell_type": "code",
      "source": [
        "try:\n",
        "    a = 10\n",
        "    b = 0\n",
        "    print(a/b)\n",
        "except ZeroDivisionError as e:\n",
        "    print(\"Error: Cannot divide by zero\")\n"
      ],
      "metadata": {
        "colab": {
          "base_uri": "https://localhost:8080/"
        },
        "id": "cey772IyFRgh",
        "outputId": "68f99fab-3456-4dcb-8aaa-51f853556b8e"
      },
      "execution_count": 4,
      "outputs": [
        {
          "output_type": "stream",
          "name": "stdout",
          "text": [
            "Error: Cannot divide by zero\n"
          ]
        }
      ]
    },
    {
      "cell_type": "markdown",
      "source": [
        "Q3. Which Python statements are used to catch and handle exceptions? Explain with an example."
      ],
      "metadata": {
        "id": "t31lddag-W2x"
      }
    },
    {
      "cell_type": "markdown",
      "source": [
        "**Ans :-** The try and except block in Python is used to catch and handle exceptions.Python executes code following the try statement as a “normal” part of the program. The code that follows the except statement is the program’s response to any exceptions in the preceding try clause."
      ],
      "metadata": {
        "id": "gE8E_qU8-yQy"
      }
    },
    {
      "cell_type": "code",
      "source": [
        "\n",
        "try:\n",
        "    a = 10\n",
        "    b = 0\n",
        "    print(a/b)\n",
        "except ZeroDivisionError as e:\n",
        "    print(\"Error: Cannot divide by zero\")\n"
      ],
      "metadata": {
        "colab": {
          "base_uri": "https://localhost:8080/"
        },
        "id": "XCrKJoRT_PwJ",
        "outputId": "913e85bd-5c58-4ffe-b1f4-d313cadf428e"
      },
      "execution_count": 5,
      "outputs": [
        {
          "output_type": "stream",
          "name": "stdout",
          "text": [
            "Error: Cannot divide by zero\n"
          ]
        }
      ]
    },
    {
      "cell_type": "markdown",
      "source": [
        "A ZeroDivisionError occurs in Python when a number is attempted to be divided by zero. Since division by zero is not allowed in mathematics, attempting this in Python code raises a ZeroDivisionError.In above example, a number a is attempted to be divided by another number b, whose value is zero, leading to a ZeroDivisionError.\n",
        "\n",
        "The ZeroDivisionError can be avoided using a conditional statement to check for a denominator or divisor of 0 before performing the operation. In this way we can catch and handle errors using try and except block"
      ],
      "metadata": {
        "id": "jbT_mXZyHURe"
      }
    },
    {
      "cell_type": "markdown",
      "source": [
        "Q4. Explain with an exmple:\n",
        "\n",
        "  a. try and else\n",
        "\n",
        "  b. finally\n",
        "\n",
        "  c. raise"
      ],
      "metadata": {
        "id": "Xz2IkoTTTaX0"
      }
    },
    {
      "cell_type": "markdown",
      "source": [
        "**Ans :-**\n",
        "\n",
        "a. Try: This block will test the excepted error to occur\n",
        "\n",
        "  Else: If there is no exception then this block will be executed\n",
        "\n",
        "b. Finally: Finally block always gets executed either exception is generated or not"
      ],
      "metadata": {
        "id": "Nyarnl0zT0qg"
      }
    },
    {
      "cell_type": "code",
      "source": [
        "def divide(x, y):\n",
        "\ttry:\n",
        "\t\tresult = x // y\n",
        "\texcept ZeroDivisionError:\n",
        "\t\tprint(\"Sorry ! You are dividing by zero \")\n",
        "\telse:\n",
        "\t\tprint(\"Yeah ! Your answer is :\", result)\n",
        "\tfinally:\n",
        "\t\tprint('This is always executed')\n",
        "\n",
        "divide(4, 2)\n",
        "divide(3, 0)\n"
      ],
      "metadata": {
        "colab": {
          "base_uri": "https://localhost:8080/"
        },
        "id": "KGkDd1Y2VNAm",
        "outputId": "952b1233-9abd-4cce-c9d1-cbe8dddf9728"
      },
      "execution_count": 6,
      "outputs": [
        {
          "output_type": "stream",
          "name": "stdout",
          "text": [
            "Yeah ! Your answer is : 2\n",
            "This is always executed\n",
            "Sorry ! You are dividing by zero \n",
            "This is always executed\n"
          ]
        }
      ]
    },
    {
      "cell_type": "markdown",
      "source": [
        "In the above example when 4 is divided by 2, then the code of try is executed successfully as there is no errors. So the else block will be executed in this case.\n",
        "\n",
        "But when we execute divide(3,0) then zeroDivisionError will occur and the code will enter in the except block and will handle the exception successfully.\n",
        "\n",
        "The finally block will be executed every time the function is called.It doesn't depend on other blocks."
      ],
      "metadata": {
        "id": "FeNjqzXhHtaI"
      }
    },
    {
      "cell_type": "markdown",
      "source": [
        "c. Raise :- The raise keyword is used to raise an exception."
      ],
      "metadata": {
        "id": "RQjJbA3oVkpU"
      }
    },
    {
      "cell_type": "code",
      "source": [
        "x = \"hello\"\n",
        "\n",
        "if not type(x) is int:\n",
        "  raise TypeError(\"Only integers are allowed\")"
      ],
      "metadata": {
        "colab": {
          "base_uri": "https://localhost:8080/",
          "height": 207
        },
        "id": "t5L9dxrgVtiY",
        "outputId": "f6ff3284-7223-4333-a82d-5c0af0cd9400"
      },
      "execution_count": 7,
      "outputs": [
        {
          "output_type": "error",
          "ename": "TypeError",
          "evalue": "ignored",
          "traceback": [
            "\u001b[0;31m---------------------------------------------------------------------------\u001b[0m",
            "\u001b[0;31mTypeError\u001b[0m                                 Traceback (most recent call last)",
            "\u001b[0;32m<ipython-input-7-bc91768a6271>\u001b[0m in \u001b[0;36m<cell line: 3>\u001b[0;34m()\u001b[0m\n\u001b[1;32m      2\u001b[0m \u001b[0;34m\u001b[0m\u001b[0m\n\u001b[1;32m      3\u001b[0m \u001b[0;32mif\u001b[0m \u001b[0;32mnot\u001b[0m \u001b[0mtype\u001b[0m\u001b[0;34m(\u001b[0m\u001b[0mx\u001b[0m\u001b[0;34m)\u001b[0m \u001b[0;32mis\u001b[0m \u001b[0mint\u001b[0m\u001b[0;34m:\u001b[0m\u001b[0;34m\u001b[0m\u001b[0;34m\u001b[0m\u001b[0m\n\u001b[0;32m----> 4\u001b[0;31m   \u001b[0;32mraise\u001b[0m \u001b[0mTypeError\u001b[0m\u001b[0;34m(\u001b[0m\u001b[0;34m\"Only integers are allowed\"\u001b[0m\u001b[0;34m)\u001b[0m\u001b[0;34m\u001b[0m\u001b[0;34m\u001b[0m\u001b[0m\n\u001b[0m",
            "\u001b[0;31mTypeError\u001b[0m: Only integers are allowed"
          ]
        }
      ]
    },
    {
      "cell_type": "markdown",
      "source": [
        "With the help of raise keyword define what kind of error to raise with the help of custom exception. And the text will be shown as an error if an exception is raised\n",
        "\n",
        "In the above example, an exception is raised and we can see the entered text in the decription of the error."
      ],
      "metadata": {
        "id": "BnFVXQx2JTSI"
      }
    },
    {
      "cell_type": "markdown",
      "source": [
        "Q5. What are Custom Exceptions in python? Why do you need Custom Exceptions? Explain with an example."
      ],
      "metadata": {
        "id": "lufB1jvMV9KE"
      }
    },
    {
      "cell_type": "markdown",
      "source": [
        "**Ans :-** In Python, we can define custom exceptions by creating a new class that is derived from the built-in Exception class.\n",
        "\n",
        "Built-in exceptions offer information about Python-related problems, and custom exceptions will add information about project-related problems.So we need custom exceptions.\n",
        "\n",
        "The following example defines a CustomException class that inherits from the Exception class.To raise the CustomException, you use the raise statement. For example, the following uses the raise statement to raise the CustomException:"
      ],
      "metadata": {
        "id": "P1WkJx42WmUI"
      }
    },
    {
      "cell_type": "code",
      "source": [
        "class CustomException(Exception):\n",
        "    \"\"\" my custom exception class \"\"\"\n",
        "\n",
        "\n",
        "try:\n",
        "    raise CustomException('This is my custom exception')\n",
        "except CustomException as ex:\n",
        "    print(ex)"
      ],
      "metadata": {
        "colab": {
          "base_uri": "https://localhost:8080/"
        },
        "id": "IqzEsw54YV5U",
        "outputId": "ff7b1b33-a92e-4880-badc-fd5da061a716"
      },
      "execution_count": 8,
      "outputs": [
        {
          "output_type": "stream",
          "name": "stdout",
          "text": [
            "This is my custom exception\n"
          ]
        }
      ]
    },
    {
      "cell_type": "markdown",
      "source": [
        "When the type of the error is not known then we can use custom exception. In the above example we ccreate a cutom exception class.during the execution of the code an exception is raised and it is handled by custom exception."
      ],
      "metadata": {
        "id": "N9HOCTccKan2"
      }
    },
    {
      "cell_type": "markdown",
      "source": [
        "Q6. Create a custom exception class. Use this class to handle an exception."
      ],
      "metadata": {
        "id": "mjsPa0JFXkis"
      }
    },
    {
      "cell_type": "code",
      "source": [
        "class InvalidAgeException(Exception):\n",
        "    \"Raised when the input value is less than 18\"\n",
        "    pass\n",
        "\n",
        "number = 18\n",
        "\n",
        "try:\n",
        "    input_num = int(input(\"Enter a number: \"))\n",
        "    if input_num < number:\n",
        "        raise InvalidAgeException\n",
        "    else:\n",
        "        print(\"Eligible to Vote\")\n",
        "\n",
        "except InvalidAgeException:\n",
        "    print(\"Exception occurred: Invalid Age\")"
      ],
      "metadata": {
        "colab": {
          "base_uri": "https://localhost:8080/"
        },
        "id": "Hc4wh9CxXZMw",
        "outputId": "b35935ff-1ae9-442c-e9ea-b7cee34d7340"
      },
      "execution_count": 10,
      "outputs": [
        {
          "output_type": "stream",
          "name": "stdout",
          "text": [
            "Enter a number: 40\n",
            "Eligible to Vote\n"
          ]
        }
      ]
    }
  ]
}