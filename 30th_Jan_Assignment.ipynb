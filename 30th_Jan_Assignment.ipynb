{
  "cells": [
    {
      "cell_type": "markdown",
      "metadata": {
        "id": "57XrApniQrBX"
      },
      "source": [
        "**1. Write a program to accept percentage from the user and display the grade according to the following criteria:**"
      ]
    },
    {
      "cell_type": "code",
      "execution_count": null,
      "metadata": {
        "colab": {
          "base_uri": "https://localhost:8080/"
        },
        "id": "m5efy6N8RbxS",
        "outputId": "b1f70911-7c9d-4592-9353-189757d9ed46"
      },
      "outputs": [
        {
          "name": "stdout",
          "output_type": "stream",
          "text": [
            "Enter marks :- 72\n",
            "Grade = C\n"
          ]
        }
      ],
      "source": [
        "marks = int(input(\"Enter marks :- \"))\n",
        "print(\"Grade =\",end=\" \")\n",
        "if marks>90:\n",
        "  print(\"A\")\n",
        "elif marks>80 and marks<=90:\n",
        "  print(\"B\")\n",
        "elif marks>=60 and marks<=80:\n",
        "  print(\"C\")\n",
        "else:\n",
        "  print(\"D\")"
      ]
    },
    {
      "cell_type": "markdown",
      "metadata": {
        "id": "EfetEH4wRiT7"
      },
      "source": [
        "**2. Write a program to accept the cost price of a bike and display the road tax to be paid according to the following criteria:**"
      ]
    },
    {
      "cell_type": "code",
      "execution_count": null,
      "metadata": {
        "colab": {
          "base_uri": "https://localhost:8080/"
        },
        "id": "XmIyr-fHCoLe",
        "outputId": "a2a33e34-c15d-4a86-a738-eb7944bca45d"
      },
      "outputs": [
        {
          "name": "stdout",
          "output_type": "stream",
          "text": [
            "Enter the cost price of bike :- 10000\n",
            "Road tax to be paid :  5%\n"
          ]
        }
      ],
      "source": [
        "cost =int(input(\"Enter the cost price of bike :- \"))\n",
        "print(\"Road tax to be paid : \",end=\" \")\n",
        "if cost>100000:\n",
        "  print(\"15%\")\n",
        "elif cost>50000 and cost<=100000:\n",
        "  print(\"10%\")\n",
        "elif cost<=50000 and cost>=0:\n",
        "  print(\"5%\")\n",
        "else:\n",
        "  print(\"Enter valid cost\")"
      ]
    },
    {
      "cell_type": "markdown",
      "metadata": {
        "id": "raIGwFW3RuR7"
      },
      "source": [
        "**3. Accept any city from the user and display monuments of that city.**"
      ]
    },
    {
      "cell_type": "code",
      "execution_count": 27,
      "metadata": {
        "colab": {
          "base_uri": "https://localhost:8080/"
        },
        "id": "VOR1LWZ8KOSP",
        "outputId": "dc6b31ad-87f8-4b00-b024-9e55bab68e45"
      },
      "outputs": [
        {
          "name": "stdout",
          "output_type": "stream",
          "text": [
            "Enter the name of the city : Agra\n",
            "Taj Mahal\n"
          ]
        }
      ],
      "source": [
        "city = input(\"Enter the name of the city : \")\n",
        "if city==\"Delhi\":\n",
        "  print(\"Red FOrt\")\n",
        "elif city==\"Agra\":\n",
        "  print(\"Taj Mahal\")\n",
        "elif city==\"Jaipur\":\n",
        "  print(\"Jal Mahal\")\n",
        "else:\n",
        "  print(\"Enter correct name of the city.\")"
      ]
    },
    {
      "cell_type": "markdown",
      "metadata": {
        "id": "qjos_GCgR-dT"
      },
      "source": [
        "**4. Check how many times a given number can be divided by 3 before it is less than or equal to 10.**"
      ]
    },
    {
      "cell_type": "code",
      "execution_count": null,
      "metadata": {
        "colab": {
          "base_uri": "https://localhost:8080/"
        },
        "id": "jTwb3aBLMnFV",
        "outputId": "6a1265b4-2f33-4465-d4ee-0f10e216783a"
      },
      "outputs": [
        {
          "name": "stdout",
          "output_type": "stream",
          "text": [
            "Enter a number : 154\n",
            "3 times the number 154 can be divided by 3 before it is less than or equal to 10\n"
          ]
        }
      ],
      "source": [
        "count = 0\n",
        "number = int(input(\"Enter a number : \"))\n",
        "n=number\n",
        "while number > 10:\n",
        "    number = number / 3\n",
        "    count = count + 1\n",
        "print(count ,\"times the number\", n, \"can be divided by 3 before it is less than or equal to 10\")"
      ]
    },
    {
      "cell_type": "markdown",
      "metadata": {
        "id": "moK0zlGLSLsg"
      },
      "source": [
        "**5. Why and When to Use while Loop in Python give a detailed description with example.**\n",
        "\n",
        "Ans:- Python While Loop is used to execute a block of statements repeatedly until a given condition is satisfied. And when the condition becomes false, the line immediately after the loop in the program is executed.While loop falls under the category of indefinite iteration. Indefinite iteration means that the number of times the loop is executed isn’t specified explicitly in advance.\n",
        "\n",
        "A while loop is used when the number of iterations is unknown. It is used when we need to end the loop on a condition other than the number of repetitions. It is not necessary to know the condition ahead of time in this case. That is why we can use a boolean expression in the loop's initialization."
      ]
    },
    {
      "cell_type": "code",
      "execution_count": 11,
      "metadata": {
        "colab": {
          "base_uri": "https://localhost:8080/"
        },
        "id": "SSljk1xyP59j",
        "outputId": "0f46f8c8-8e49-4009-8113-c4d7a7089c56"
      },
      "outputs": [
        {
          "name": "stdout",
          "output_type": "stream",
          "text": [
            "1\n",
            "2\n",
            "3\n",
            "4\n",
            "5\n",
            "6\n",
            "7\n",
            "8\n",
            "9\n"
          ]
        }
      ],
      "source": [
        "i = 1\n",
        "# Iterate until the given condition is true\n",
        "while i < 10:\n",
        "   print(i)\n",
        "   i += 1 "
      ]
    },
    {
      "cell_type": "markdown",
      "metadata": {
        "id": "AXqWafQ2SNhu"
      },
      "source": [
        "**6. Use nested while loop to print 3 different pattern.**"
      ]
    },
    {
      "cell_type": "code",
      "execution_count": 21,
      "metadata": {
        "colab": {
          "base_uri": "https://localhost:8080/"
        },
        "id": "IqqNcjWUMk6r",
        "outputId": "cee607ea-668f-491c-e59a-71ea95d3a959"
      },
      "outputs": [
        {
          "name": "stdout",
          "output_type": "stream",
          "text": [
            "Enter number of rows : 10\n",
            "\n",
            "\n",
            "* \n",
            "* * \n",
            "* * * \n",
            "* * * * \n",
            "* * * * * \n",
            "* * * * * * \n",
            "* * * * * * * \n",
            "* * * * * * * * \n",
            "* * * * * * * * * \n",
            "* * * * * * * * * * \n"
          ]
        }
      ],
      "source": [
        "# Right Triangle\n",
        "n = int(input('Enter number of rows : '))\n",
        "print(\"\\n\")\n",
        "i = 1\n",
        "while i <= n :\n",
        "    j = 1\n",
        "    while j <= i:\n",
        "        print(\"*\", end = \" \")\n",
        "        j += 1\n",
        "    print()\n",
        "    i += 1"
      ]
    },
    {
      "cell_type": "code",
      "execution_count": 22,
      "metadata": {
        "colab": {
          "base_uri": "https://localhost:8080/"
        },
        "id": "wdSoRpE6QwXf",
        "outputId": "90542422-3554-42ba-d4ef-a388a60b03a0"
      },
      "outputs": [
        {
          "name": "stdout",
          "output_type": "stream",
          "text": [
            "Enter number of rows : 10\n",
            "\n",
            "\n",
            "* * * * * * * * * * \n",
            "* * * * * * * * * \n",
            "* * * * * * * * \n",
            "* * * * * * * \n",
            "* * * * * * \n",
            "* * * * * \n",
            "* * * * \n",
            "* * * \n",
            "* * \n",
            "* \n"
          ]
        }
      ],
      "source": [
        "# Inverted Right Triangle\n",
        "n = int(input('Enter number of rows : '))\n",
        "print(\"\\n\")\n",
        "i = 1\n",
        "while i <= n :\n",
        "    j = n\n",
        "    while j >= i:\n",
        "        print(\"*\", end = \" \")\n",
        "        j -= 1\n",
        "    print()\n",
        "    i += 1"
      ]
    },
    {
      "cell_type": "code",
      "execution_count": 23,
      "metadata": {
        "colab": {
          "base_uri": "https://localhost:8080/"
        },
        "id": "EL035rxtQzZq",
        "outputId": "6d57374f-fd09-40f9-bdba-6f9a2afa7d32"
      },
      "outputs": [
        {
          "name": "stdout",
          "output_type": "stream",
          "text": [
            "Enter number of rows : 10\n",
            "\n",
            "\n",
            "                  *   \n",
            "                 *  *   \n",
            "                *  *  *   \n",
            "               *  *  *  *   \n",
            "              *  *  *  *  *   \n",
            "             *  *  *  *  *  *   \n",
            "            *  *  *  *  *  *  *   \n",
            "           *  *  *  *  *  *  *  *   \n",
            "          *  *  *  *  *  *  *  *  *   \n",
            "         *  *  *  *  *  *  *  *  *  *   \n"
          ]
        }
      ],
      "source": [
        "# Full Triangle Pyramid\n",
        "\n",
        "size = int(input(\"Enter number of rows : \"))\n",
        "print(\"\\n\")\n",
        "m = (2 * size) - 2\n",
        "for i in range(0, size):\n",
        "    for j in range(0, m):\n",
        "        print(end=\" \")\n",
        "    # decrementing m after each loop\n",
        "    m = m - 1\n",
        "    for j in range(0, i + 1):\n",
        "        print(\"* \", end=' ')\n",
        "    print(\" \")"
      ]
    },
    {
      "cell_type": "markdown",
      "metadata": {
        "id": "RnwaqAmNSWIU"
      },
      "source": [
        "**7. Reverse a while loop to display numbers from 10 to 1.**"
      ]
    },
    {
      "cell_type": "code",
      "execution_count": 24,
      "metadata": {
        "colab": {
          "base_uri": "https://localhost:8080/"
        },
        "id": "CKt6zGydS032",
        "outputId": "73ed5b4a-6e59-460c-c3b0-d6155d557053"
      },
      "outputs": [
        {
          "name": "stdout",
          "output_type": "stream",
          "text": [
            "10\n",
            "9\n",
            "8\n",
            "7\n",
            "6\n",
            "5\n",
            "4\n",
            "3\n",
            "2\n",
            "1\n"
          ]
        }
      ],
      "source": [
        "i = 10\n",
        "while i > 0:\n",
        "    print(i)\n",
        "    i = i - 1"
      ]
    },
    {
      "cell_type": "markdown",
      "metadata": {
        "id": "AjvCd0D4SbJZ"
      },
      "source": [
        "**8. Reverse a while loop to display numbers from 10 to 1.**"
      ]
    },
    {
      "cell_type": "code",
      "execution_count": 25,
      "metadata": {
        "colab": {
          "base_uri": "https://localhost:8080/"
        },
        "id": "L2L9o0tRTQKY",
        "outputId": "5db9caed-3217-44bf-99ef-4af582abb0c1"
      },
      "outputs": [
        {
          "name": "stdout",
          "output_type": "stream",
          "text": [
            "10\n",
            "9\n",
            "8\n",
            "7\n",
            "6\n",
            "5\n",
            "4\n",
            "3\n",
            "2\n",
            "1\n"
          ]
        }
      ],
      "source": [
        "i = 10\n",
        "while i > 0:\n",
        "    print(i)\n",
        "    i = i - 1"
      ]
    }
  ],
  "metadata": {
    "colab": {
      "provenance": []
    },
    "kernelspec": {
      "display_name": "Python 3",
      "name": "python3"
    },
    "language_info": {
      "name": "python"
    }
  },
  "nbformat": 4,
  "nbformat_minor": 0
}
