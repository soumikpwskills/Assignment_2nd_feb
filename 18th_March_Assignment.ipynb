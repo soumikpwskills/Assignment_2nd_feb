{
  "nbformat": 4,
  "nbformat_minor": 0,
  "metadata": {
    "colab": {
      "provenance": []
    },
    "kernelspec": {
      "name": "python3",
      "display_name": "Python 3"
    },
    "language_info": {
      "name": "python"
    }
  },
  "cells": [
    {
      "cell_type": "markdown",
      "source": [
        "**Q1. What is the Filter method in feature selection, and how does it work?**"
      ],
      "metadata": {
        "id": "-QxX6wI7bk4a"
      }
    },
    {
      "cell_type": "markdown",
      "source": [
        "##**Answer :-**\n",
        "The Filter method is a popular technique in feature selection used to select relevant features from a dataset based on their statistical properties. It involves calculating statistical scores for each feature in the dataset and selecting the top-ranked features based on these scores. The main idea behind this method is to use statistical measures to evaluate the relevance of each feature independently of the target variable.\n",
        "\n",
        "Here are the general steps for applying the Filter method for feature selection:\n",
        "\n",
        "1. Choose a statistical measure: There are various statistical measures that can be used to evaluate the relevance of a feature. Commonly used measures include Pearson correlation coefficient, chi-squared test, mutual information, and ANOVA F-test. The choice of measure depends on the type of data and the problem at hand.\n",
        "\n",
        "2. Calculate the statistical score for each feature: For each feature in the dataset, the chosen statistical measure is computed between the feature and the target variable. The result is a statistical score that reflects the relevance of the feature to the target variable.\n",
        "\n",
        "3. Rank the features based on their scores: The features are then ranked based on their statistical scores, from the most relevant to the least relevant. The top-ranked features are considered the most important for the problem at hand.\n",
        "\n",
        "4. Select the top-ranked features: Finally, a fixed number of top-ranked features or a certain percentage of the total number of features can be selected as the final set of relevant features.\n",
        "\n",
        "The Filter method is computationally efficient and can handle a large number of features. However, it does not take into account the dependencies between features, and it may select irrelevant features that are highly correlated with the target variable. Therefore, it is often used in combination with other feature selection methods such as wrapper and embedded methods.\n",
        "\n",
        "Below is example of Feature Selection in python using ANOVA - Ftest for a classification problem IRIS dataset"
      ],
      "metadata": {
        "id": "_NXNaQpedb7j"
      }
    },
    {
      "cell_type": "code",
      "source": [
        "import seaborn as sns\n",
        "from sklearn.feature_selection import SelectKBest, f_classif\n",
        "\n",
        "# Load the tips dataset from Seaborn\n",
        "iris = sns.load_dataset(\"iris\")\n",
        "\n",
        "# Separate the target variable from the features\n",
        "X = iris.drop('species', axis=1)\n",
        "y = iris['species']\n",
        "\n",
        "# Apply the ANOVA F-test feature selection method\n",
        "selector = SelectKBest(score_func=f_classif, k=2)\n",
        "X_selected = selector.fit_transform(X, y)\n",
        "\n",
        "# Get the indices of the selected features\n",
        "selected_indices = selector.get_support(indices=True)\n",
        "\n",
        "# Print the names of the selected features\n",
        "selected_features = list(X.columns[selected_indices])\n",
        "print(selected_features)"
      ],
      "metadata": {
        "colab": {
          "base_uri": "https://localhost:8080/"
        },
        "id": "rheRT9i_eR1H",
        "outputId": "9f9d1d1c-5a20-4a01-e791-754ab35b6043"
      },
      "execution_count": 1,
      "outputs": [
        {
          "output_type": "stream",
          "name": "stdout",
          "text": [
            "['petal_length', 'petal_width']\n"
          ]
        }
      ]
    },
    {
      "cell_type": "markdown",
      "source": [
        "**Q2. How does the Wrapper method differ from the Filter method in feature selection?**"
      ],
      "metadata": {
        "id": "d1hfK3QobsZe"
      }
    },
    {
      "cell_type": "markdown",
      "source": [
        "##**Answer:-**\n",
        "The Wrapper method and the Filter method are two popular techniques for feature selection in machine learning. Here's a comparison of these methods in tabular format:"
      ],
      "metadata": {
        "id": "DZMu_l0FeZMv"
      }
    },
    {
      "cell_type": "markdown",
      "source": [
        "| Feature selection method | \tDescription\t| Pros |\tCons |\n",
        "| -- | -- | -- | -- |\n",
        "| Wrapper method |\tThe Wrapper method selects features based on how well they improve the performance of a specific machine learning model. It evaluates different subsets of features by training and testing the model multiple times.|\t- Can select the most relevant features for a specific model. - Can capture complex interactions between features.|\t- Can be computationally expensive.- May overfit to the training data.- May not work well with noisy data.|\n",
        "|Filter method |\tThe Filter method selects features based on their statistical significance, without regard to a specific machine learning model. It evaluates each feature individually and selects the top features based on a statistical measure.|\t- Fast and efficient, can handle large datasets. - Does not overfit to the training data. - Can handle noisy data.|\t- May not capture complex interactions between features. - May not select the optimal features for a specific model. - Assumes that the selected features are independent.|"
      ],
      "metadata": {
        "id": "KxPWi_0Zendo"
      }
    },
    {
      "cell_type": "markdown",
      "source": [
        "In summary, the Wrapper method is more tailored to the specific machine learning model and can capture complex interactions between features, but it can be computationally expensive and may overfit to the training data. The Filter method, on the other hand, is fast and efficient, can handle large datasets and noisy data, but may not capture complex interactions and may not select the optimal features for a specific model."
      ],
      "metadata": {
        "id": "Bg3iJ9dmfrZC"
      }
    },
    {
      "cell_type": "markdown",
      "source": [
        "**Q3. What are some common techniques used in Embedded feature selection methods?**"
      ],
      "metadata": {
        "id": "0Xdffy6-buRB"
      }
    },
    {
      "cell_type": "markdown",
      "source": [
        "##**Answer :-**\n",
        "Embedded feature selection methods are techniques used to select the most relevant features during the model training process. These methods aim to identify the most informative features that contribute the most to the model performance while reducing the number of features used in the model.\n",
        "\n",
        "Here are some common techniques used in Embedded feature selection methods:\n",
        "\n",
        "1. Lasso Regression: Lasso is a regression analysis technique that is used for feature selection and regularization. It can be used to identify the most relevant features by applying a penalty to the coefficients of the features. This penalty forces the coefficients of less important features to be shrunk towards zero, effectively eliminating them from the model.\n",
        "\n",
        "2. Ridge Regression: Ridge regression is another regression analysis technique that is used for feature selection and regularization. It works by adding a penalty term to the loss function that is proportional to the square of the magnitude of the coefficients of the features. This penalty term helps to shrink the coefficients of the less important features, effectively eliminating them from the model.\n",
        "\n",
        "3. Elastic Net: Elastic Net is a combination of Lasso and Ridge regression techniques. It can be used to select the most relevant features by balancing the L1 and L2 regularization terms. This technique helps to overcome the limitations of Lasso and Ridge regression techniques.\n",
        "\n",
        "4. Decision Trees: Decision trees are a machine learning algorithm that can be used for feature selection. They work by recursively splitting the data based on the most informative features. The most informative features are determined based on the decrease in impurity of the data after the split.\n",
        "\n",
        "5. Random Forest: Random Forest is an ensemble learning technique that combines multiple decision trees to improve the accuracy and reduce overfitting. It can also be used for feature selection by calculating the importance of each feature based on its contribution to the overall performance of the model.\n",
        "\n",
        "6. Gradient Boosting: Gradient Boosting is another ensemble learning technique that can be used for feature selection. It works by combining multiple weak learners to create a strong learner. It can also be used to calculate the importance of each feature based on its contribution to the overall performance of the model.\n",
        "\n",
        "These are some of the common techniques used in Embedded feature selection methods. The choice of technique depends on the problem domain and the characteristics of the dataset."
      ],
      "metadata": {
        "id": "0SiEvjy-fu5y"
      }
    },
    {
      "cell_type": "markdown",
      "source": [
        "![image.png](data:image/png;base64,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)"
      ],
      "metadata": {
        "id": "Bc0oF6sef8eT"
      }
    },
    {
      "cell_type": "markdown",
      "source": [
        "**Q4. What are some drawbacks of using the Filter method for feature selection?**"
      ],
      "metadata": {
        "id": "y6x3Gl7nbxCj"
      }
    },
    {
      "cell_type": "markdown",
      "source": [
        "##**Answer :-**\n",
        "The filter method is a popular technique for feature selection, where features are selected based on their statistical properties, such as correlation with the target variable, variance, and mutual information. While the filter method is simple and computationally efficient, it has several drawbacks that limit its applicability. Here are some drawbacks of using the filter method for feature selection:\n",
        "\n",
        "1. Ignoring Feature Interaction: The filter method considers each feature independently and does not take into account the interactions between features. Therefore, it may fail to select the most informative features that interact with each other to predict the target variable.\n",
        "\n",
        "2. High Correlation: The filter method may select redundant features that are highly correlated with each other. This can lead to overfitting and reduced generalization performance of the model.\n",
        "\n",
        "3. Insensitivity to the Target Variable: The filter method is based on the statistical properties of the features and does not consider the relationship between the features and the target variable. Therefore, it may not select features that are weakly correlated with the target variable but are important for predicting it.\n",
        "\n",
        "4. Threshold Dependency: The filter method requires a threshold value to determine the significance of the features. The choice of the threshold value is subjective and can significantly impact the performance of the model.\n",
        "\n",
        "5. Limited to Linear Relationships: The filter method is based on linear relationships between features and the target variable. It may not be suitable for nonlinear relationships and may fail to select features that are important for predicting the target variable.\n",
        "\n",
        "In summary, the filter method is a simple and computationally efficient technique for feature selection. However, it has several drawbacks that limit its applicability and may lead to suboptimal feature selection. Therefore, it is recommended to combine the filter method with other feature selection techniques to overcome these limitations and improve the performance of the model."
      ],
      "metadata": {
        "id": "KhSv1dZtgAZl"
      }
    },
    {
      "cell_type": "markdown",
      "source": [
        "**Q5. In which situations would you prefer using the Filter method over the Wrapper method for feature selection?**"
      ],
      "metadata": {
        "id": "etXsD_DTbyUH"
      }
    },
    {
      "cell_type": "markdown",
      "source": [
        "##**Answer :-**\n",
        "Both filter and wrapper methods are popular techniques for feature selection, and each has its advantages and disadvantages. The choice of the feature selection method depends on various factors, such as the dataset size, the number of features, the model complexity, and the computational resources available. Here are some situations where you might prefer using the filter method over the wrapper method for feature selection:\n",
        "1. Large Dataset: The filter method is computationally efficient and can handle a large number of features without overfitting. Therefore, if you have a large dataset with many features, the filter method may be a better choice than the wrapper method.\n",
        "\n",
        "2. Simple Model: If your model is simple and has a small number of parameters, the filter method may be sufficient for feature selection. In this case, the wrapper method may be overkill and may lead to overfitting.\n",
        "\n",
        "3. Linear Relationships: If the relationships between features and the target variable are linear, the filter method may be a better choice than the wrapper method. The filter method is based on statistical properties of the features and can handle linear relationships well.\n",
        "\n",
        "4. Dimensionality Reduction: The filter method can also be used as a pre-processing step for dimensionality reduction. By selecting the most informative features, the filter method can reduce the dimensionality of the dataset, making it easier to visualize and analyze.\n",
        "\n",
        "In summary, the filter method is a simple and computationally efficient technique for feature selection, and it can be a good choice in situations where the dataset is large, the model is simple, and the relationships between features and the target variable are linear. However, in situations where the model is complex, the number of features is small, or the relationships between features and the target variable are nonlinear, the wrapper method may be a better choice."
      ],
      "metadata": {
        "id": "J04Wekc_gNwY"
      }
    },
    {
      "cell_type": "markdown",
      "source": [
        "**Q6. In a telecom company, you are working on a project to develop a predictive model for customer churn. You are unsure of which features to include in the model because the dataset contains several different ones. Describe how you would choose the most pertinent attributes for the model using the Filter Method.**"
      ],
      "metadata": {
        "id": "o6i-jBlxbzhd"
      }
    },
    {
      "cell_type": "markdown",
      "source": [
        "##**Answer :-**\n",
        "To choose the most pertinent attributes for a predictive model of customer churn using the filter method, I can follow these steps:\n",
        "1. Identify the Target Variable: In this case, the target variable is customer churn, which is a binary variable that indicates whether a customer has left the telecom company or not.\n",
        "\n",
        "2. Explore the Dataset: Explore the dataset and identify the features that may be relevant for predicting customer churn. Some features that may be relevant for customer churn in a telecom company include call duration, call frequency, plan type, contract length, customer service calls, and monthly charges.\n",
        "\n",
        "3. Preprocess the Data: Preprocess the data to handle missing values, outliers, and categorical variables. You may also need to normalize or scale the features to ensure that they have similar ranges.\n",
        "\n",
        "4. Calculate Feature Scores: Calculate the scores of the features using a suitable metric such as correlation, variance, mutual information, or chi-squared test. The higher the score of a feature, the more relevant it is for predicting the target variable.\n",
        "\n",
        "5. Select Top-K Features: Select the top-k features with the highest scores using a suitable threshold or ranking method. You can use domain expertise or cross-validation to validate the selected features and ensure that they are not overfitting the model.\n",
        "\n",
        "6. Build the Model: Build the predictive model using the selected features and evaluate its performance on a validation set. You can use a suitable machine learning algorithm such as logistic regression, decision trees, or random forest, depending on the complexity of the problem and the size of the dataset.\n",
        "\n",
        "7. Fine-tune the Model: Fine-tune the model by adjusting its hyperparameters and feature selection criteria. You can use grid search or random search to optimize the hyperparameters and cross-validation to estimate the generalization performance of the model.\n",
        "\n",
        "In summary, the filter method is a simple and effective technique for feature selection in predictive modeling. By selecting the most pertinent attributes, you can improve the performance of the model and gain insights into the factors that contribute to customer churn in a telecom company."
      ],
      "metadata": {
        "id": "ZBOQDtVggXUQ"
      }
    },
    {
      "cell_type": "markdown",
      "source": [
        "**Q7. You are working on a project to predict the outcome of a soccer match. You have a large dataset with many features, including player statistics and team rankings. Explain how you would use the Embedded method to select the most relevant features for the model.**"
      ],
      "metadata": {
        "id": "Q-aGU7Agb59f"
      }
    },
    {
      "cell_type": "markdown",
      "source": [
        "##**Answer :-**\n",
        "The Embedded method is a feature selection technique that involves training a machine learning model with the dataset and selecting the most important features based on the weights assigned to them during the training process. It is called \"embedded\" because the feature selection process is embedded within the model training.\n",
        "\n",
        "To use the Embedded method for feature selection in the soccer match outcome prediction project, I would follow these steps:\n",
        "1. Preprocess the dataset: The first step is to preprocess the dataset, including cleaning, normalizing, and encoding categorical variables, if necessary.\n",
        "\n",
        "2. Split the data into training and testing sets: The next step is to split the dataset into training and testing sets. The training set will be used to train the machine learning model, and the testing set will be used to evaluate its performance.\n",
        "\n",
        "3. Train a machine learning model: After splitting the data, I would train a machine learning model on the training set. In this case, I would choose a model that is suitable for predicting the outcome of a soccer match, such as logistic regression, decision trees, or random forests.\n",
        "\n",
        "4. Determine the feature importance: During the training process, the model assigns weights to each feature based on their importance in predicting the outcome of a soccer match. I would use these weights to determine the most important features.\n",
        "\n",
        "5. Select the most important features: Based on the weights assigned by the model, I would select the top N features that have the highest importance scores. These are the features that will be used to train the final model.\n",
        "\n",
        "6. Evaluate the model: Finally, I would evaluate the performance of the model using the testing set. If the model performs well, it can be used to predict the outcome of a soccer match based on the selected features.\n",
        "\n",
        "Overall, using the Embedded method for feature selection can improve the accuracy and efficiency of the machine learning model in predicting the outcome of a soccer match. It can help identify the most relevant features that have the greatest impact on the outcome, while reducing the dimensionality of the dataset and speeding up the model training process."
      ],
      "metadata": {
        "id": "9xeylak8gqb1"
      }
    },
    {
      "cell_type": "markdown",
      "source": [
        "**Q8. You are working on a project to predict the price of a house based on its features, such as size, location, and age. You have a limited number of features, and you want to ensure that you select the most important ones for the model. Explain how you would use the Wrapper method to select the best set of features for the predictor.**"
      ],
      "metadata": {
        "id": "VVLNpbQUb_-K"
      }
    },
    {
      "cell_type": "markdown",
      "source": [
        "##**Answer :-**\n",
        "The Wrapper method is a feature selection approach that evaluates subsets of features by training and testing a machine learning model. Here are the steps to use the Wrapper method for feature selection:\n",
        "1. Define the evaluation metric: Choose an appropriate evaluation metric, such as mean squared error (MSE) or R-squared, to evaluate the performance of the model.\n",
        "\n",
        "2. Define the subset of features to be evaluated: Start with a small subset of features and then gradually increase the size of the subset.\n",
        "\n",
        "3. Train the model: Train a machine learning model on the training data using the subset of features.\n",
        "\n",
        "4. Evaluate the model: Evaluate the performance of the model on the validation data using the evaluation metric.\n",
        "\n",
        "5. Select the best subset of features: Select the subset of features that gives the best performance on the validation data.\n",
        "\n",
        "6. Repeat the process: Repeat the process with different subsets of features until the desired number of features or the best possible subset is achieved.\n",
        "\n",
        "7. Test the final model: Test the final model with the selected features on the test data to evaluate its performance.\n",
        "\n",
        "Here are some tips to keep in mind while using the Wrapper method:\n",
        "* The Wrapper method can be computationally expensive, especially when the number of features is large. It's important to choose a subset of features that is manageable in terms of computational resources.\n",
        "\n",
        "* The performance of the model depends on the quality of the data. Make sure to preprocess the data appropriately, handle missing values, and scale the features if necessary.\n",
        "\n",
        "* Use cross-validation to reduce the risk of overfitting and to get a more reliable estimate of the model's performance.\n",
        "\n",
        "* Consider using regularization techniques, such as Lasso or Ridge regression, to penalize the model for using unnecessary features and to encourage the selection of a simpler model.\n",
        "\n",
        "Overall, the Wrapper method is a useful approach for feature selection when the number of features is limited, and you want to identify the most important ones for the model."
      ],
      "metadata": {
        "id": "s8vOCzX1g2Wz"
      }
    }
  ]
}