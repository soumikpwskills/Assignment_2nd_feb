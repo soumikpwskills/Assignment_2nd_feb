{
  "nbformat": 4,
  "nbformat_minor": 0,
  "metadata": {
    "colab": {
      "provenance": []
    },
    "kernelspec": {
      "name": "python3",
      "display_name": "Python 3"
    },
    "language_info": {
      "name": "python"
    }
  },
  "cells": [
    {
      "cell_type": "markdown",
      "source": [
        "**Q1. What is MongoDB? Explain non-relational databases in short. In which scenarios it is preferred to use MongoDB over SQL databases?**"
      ],
      "metadata": {
        "id": "_qiBKaA4-GJZ"
      }
    },
    {
      "cell_type": "markdown",
      "source": [
        "**Ans :-** MongoDB is an open-source document-oriented database that is designed to store a large scale of data and also allows you to work with that data very efficiently. It is categorized under the NoSQL (Not only SQL) database because the storage and retrieval of data in the MongoDB are not in the form of tables.\n",
        "\n",
        "A non-relational database stores data in a non-tabular form, and tends to be more flexible than the traditional, SQL-based, relational database structures. It does not follow the relational model provided by traditional relational database management systems.\n",
        "\n",
        "MongoDB can be used over SQL databases if\n",
        "* The data is unstructured and complex\n",
        "* if schema can’t be pre-defined\n",
        "* if you need to handle a large volume of data and store it as documents"
      ],
      "metadata": {
        "id": "wDHaCCZI-LIy"
      }
    },
    {
      "cell_type": "markdown",
      "source": [
        "**Q2. State and Explain the features of MongoDB.**"
      ],
      "metadata": {
        "id": "BliDbgFKAbuA"
      }
    },
    {
      "cell_type": "markdown",
      "source": [
        "**Ans :-**\n",
        "\n",
        "**Features of MongoDB –**\n",
        "\n",
        "\n",
        "* **Schema-less Database:** It is the great feature provided by the MongoDB. A Schema-less database means one collection can hold different types of documents in it. Or in other words, in the MongoDB database, a single collection can hold multiple documents and these documents may consist of the different numbers of fields, content, and size. It is not necessary that the one document is similar to another document like in the relational databases. Due to this cool feature, MongoDB provides great flexibility to databases.\n",
        "* **Document Oriented:** In MongoDB, all the data stored in the documents instead of tables like in RDBMS. In these documents, the data is stored in fields(key-value pair) instead of rows and columns which make the data much more flexible in comparison to RDBMS. And each document contains its unique object id.\n",
        "* **Indexing:** In MongoDB database, every field in the documents is indexed with primary and secondary indices this makes easier and takes less time to get or search data from the pool of the data. If the data is not indexed, then database search each document with the specified query which takes lots of time and not so efficient.\n",
        "* **Scalability:** MongoDB provides horizontal scalability with the help of sharding. Sharding means to distribute data on multiple servers, here a large amount of data is partitioned into data chunks using the shard key, and these data chunks are evenly distributed across shards that reside across many physical servers. It will also add new machines to a running database.\n",
        "* **Replication:** MongoDB provides high availability and redundancy with the help of replication, it creates multiple copies of the data and sends these copies to a different server so that if one server fails, then the data is retrieved from another server.\n",
        "* **Aggregation:** It allows to perform operations on the grouped data and get a single result or computed result. It is similar to the SQL GROUPBY clause. It provides three different aggregations i.e, aggregation pipeline, map-reduce function, and single-purpose aggregation methods\n",
        "* **High Performance:** The performance of MongoDB is very high and data persistence as compared to another database due to its features like scalability, indexing, replication, etc."
      ],
      "metadata": {
        "id": "loeJA5A-AgeO"
      }
    },
    {
      "cell_type": "markdown",
      "source": [
        "**Q3. Write a code to connect MongoDB to Python. Also, create a database and a collection in MongoDB.**"
      ],
      "metadata": {
        "id": "T0n4D8pMBOEQ"
      }
    },
    {
      "cell_type": "code",
      "source": [
        "from pymongo import MongoClient\n",
        "\n",
        "client=MongoClient()\n",
        "\n",
        "client = MongoClient('mongodb://localhost:27017/')\n",
        "\n",
        "mydatabase = client['name_of_the_database']\n",
        "\n",
        "mycollection=mydatabase['myTable']\n",
        "\n",
        "rec={\n",
        "title: 'MongoDB and Python',\n",
        "description: 'MongoDB is no SQL database',\n",
        "tags: ['mongodb', 'database', 'NoSQL'],\n",
        "viewers: 100\n",
        "}\n",
        "\n",
        "rec = mydatabase.myTable.insert(record)\n"
      ],
      "metadata": {
        "id": "fS4A8r_lDbFp"
      },
      "execution_count": null,
      "outputs": []
    },
    {
      "cell_type": "markdown",
      "source": [
        "**Q4. Using the database and the collection created in question number 3, write a code to insert one record, and insert many records. Use the find() and find_one() methods to print the inserted record.**"
      ],
      "metadata": {
        "id": "xiaad8LUB9wz"
      }
    },
    {
      "cell_type": "code",
      "source": [
        "db.myNewCollection1.insertOne( { name:\"python\" } )"
      ],
      "metadata": {
        "id": "CRBW2R90ClSc"
      },
      "execution_count": null,
      "outputs": []
    },
    {
      "cell_type": "code",
      "source": [
        "db.myNewCollection2.insertMany([{name:\"py\", country:\"India\"},\n",
        "                                {name:\"rahul\", age:20}])"
      ],
      "metadata": {
        "id": "zP5aFOJpDXiF"
      },
      "execution_count": null,
      "outputs": []
    },
    {
      "cell_type": "code",
      "source": [
        "db.myNewCollection1.findOne({ name:\"python\" })"
      ],
      "metadata": {
        "id": "ANw-9bd4DuaO"
      },
      "execution_count": null,
      "outputs": []
    },
    {
      "cell_type": "code",
      "source": [
        "db.myNewCollection2.find({country:\"India\"})"
      ],
      "metadata": {
        "id": "4U0-kD7QEA4j"
      },
      "execution_count": null,
      "outputs": []
    },
    {
      "cell_type": "markdown",
      "source": [
        "**Q5. Explain how you can use the find() method to query the MongoDB database. Write a simple code to demonstrate this.**"
      ],
      "metadata": {
        "id": "mu4ojbnPEjwP"
      }
    },
    {
      "cell_type": "markdown",
      "source": [
        "**Ans :-**\n",
        "In MongoDB, find() method is used to select documents in a collection and return a cursor to the selected documents. Cursor means a pointer that points to a document, when we use find() method it returns a pointer on the selected documents and returns one by one. If we want to return pointer on all documents then use empty() parameter that returns all documents one by one. It takes only some optional parameters. The first optional parameter is the selection criteria on which we want to return a cursor. To return all documents in a collection use empty document({}). Using this method you can also replace embedded documents. You can also use this method in multi-document transactions. If you use this method in the mongo shell, then the shell will automatically iterate the cursor to display up to 20 documents in the collection, if you want to continue then type it or you can manually iterate the result of the find() method by assigning the returned cursor to a variable with the var keyword. You can also modify the behavior of this method using cursor methods.\n",
        "\n",
        "From the above example we can write :-"
      ],
      "metadata": {
        "id": "IpUi7L6FEmwp"
      }
    },
    {
      "cell_type": "code",
      "source": [
        "db.myNewCollection2.find({age:20})"
      ],
      "metadata": {
        "id": "kK1fw67hFQ1f"
      },
      "execution_count": null,
      "outputs": []
    },
    {
      "cell_type": "markdown",
      "source": [
        "**Q6. Explain the sort() method. Give an example to demonstrate sorting in MongoDB.**"
      ],
      "metadata": {
        "id": "j_kEUD0qFc5F"
      }
    },
    {
      "cell_type": "markdown",
      "source": [
        "**Ans :-**\n",
        "The sort() method specifies the order in which the query returns the matching documents from the given collection. You must apply this method to the cursor before retrieving any documents from the database. It takes a document as a parameter that contains a field: value pair that defines the sort order of the result set. The value is 1 or -1 specifying an ascending or descending sort respectively.\n",
        "\n",
        "* If a sort returns the same result every time we perform on same data, then such type of sort is known as a stable sort.\n",
        "* If a sort returns a different result every time we perform on same data, then such type of sort is known as unstable sort.\n",
        "* MongoDB generally performs a stable sort unless sorting on a field that holds duplicate values.  \n",
        "* We can use limit() method with sort() method, it will return first m documents, where m is the given limit.\n",
        "* MongoDB can find the result of the sort operation using indexes.\n",
        "* If MongoDB does not find sort order using index scanning, then it uses top-k sort algorithm."
      ],
      "metadata": {
        "id": "bQLOsxNwFeYL"
      }
    },
    {
      "cell_type": "markdown",
      "source": [
        "In the following examples, we are working with:\n",
        "\n",
        "Database: gfg\n",
        "\n",
        "Collections: student\n",
        "\n",
        "Document: Four documents contains name and age of the students.\n",
        "\n",
        "Return all the documents in ascending order of the age:\n",
        "\n",
        "`db.student.find().sort({age:1})`"
      ],
      "metadata": {
        "id": "lqSNqsKvGCuQ"
      }
    },
    {
      "cell_type": "markdown",
      "source": [
        "**Q7. Explain why delete_one(), delete_many(), and drop() is used.**"
      ],
      "metadata": {
        "id": "abp3PfSlGKde"
      }
    },
    {
      "cell_type": "markdown",
      "source": [
        "**Ans :-**\n",
        "\n",
        "**delete_one() :-** In MongoDB, a single document can be deleted by the method delete_one(). The first parameter of the method would be a query object which defines the document to be deleted. If there are multiple documents matching the filter query, only the first appeared document would be deleted.\n",
        "\n",
        "**delete_many() :-** Delete_many() is used when one needs to delete more than one document. A query object containing which document to be deleted is created and is passed as the first parameter to the delete_many().\n",
        "\n",
        "Syntax :-\n",
        "`collection.delete_many(filter, collation=None, hint=None, session=None)`\n",
        "\n",
        "**drop() :-** You can delete a table, or collection as it is called in MongoDB, by using the drop() method. The drop() method returns true if the collection was dropped successfully, and false if the collection does not exist."
      ],
      "metadata": {
        "id": "jPDjnEMDGOHK"
      }
    }
  ]
}