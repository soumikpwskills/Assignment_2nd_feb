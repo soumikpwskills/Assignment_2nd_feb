{
  "nbformat": 4,
  "nbformat_minor": 0,
  "metadata": {
    "colab": {
      "provenance": []
    },
    "kernelspec": {
      "name": "python3",
      "display_name": "Python 3"
    },
    "language_info": {
      "name": "python"
    }
  },
  "cells": [
    {
      "cell_type": "markdown",
      "source": [
        "Q1. What is Abstraction in OOps? Explain with an example."
      ],
      "metadata": {
        "id": "Vvj7cwIGfJcY"
      }
    },
    {
      "cell_type": "markdown",
      "source": [
        "**Ans :-** Abstraction is the process of hiding the internal details of an application from the outer world. Abstraction is used to describe things in simple terms. It’s used to create a boundary between the application and the client programs.\n",
        "\n",
        "Objects are the building blocks of Object-Oriented Programming. An object contains some properties and methods. We can hide them from the outer world through access modifiers. We can provide access only for required functions and properties to the other programs. This is the general procedure to implement abstraction in OOPS.\n",
        "\n",
        "**Example :-**"
      ],
      "metadata": {
        "id": "zrEVcUP8mcg5"
      }
    },
    {
      "cell_type": "code",
      "source": [
        "from abc import ABC,abstractmethod\n",
        " \n",
        "class Animal(ABC):\n",
        "\n",
        "    def sleep(self):\n",
        "      print(\"I am going to sleep in a while\")\n",
        " \n",
        "    @abstractmethod\n",
        "    def sound(self):\n",
        "      print(\"This function is for defining the sound by any animal\")\n",
        "      pass\n",
        " \n",
        "class Snake(Animal):\n",
        "    def sound(self):\n",
        "        print(\"I can hiss\")\n",
        " \n",
        "class Dog(Animal):\n",
        "    def sound(self):\n",
        "        print(\"I can bark\")\n",
        " \n",
        "class Lion(Animal):\n",
        "    def sound(self):\n",
        "        print(\"I can roar\")\n",
        "       \n",
        "class Cat(Animal):\n",
        "    def sound(self):\n",
        "        print(\"I can meow\")\n",
        "\n",
        "\n",
        "c = Cat()\n",
        "c.sleep()\n",
        "c.sound()\n",
        " \n",
        "c = Snake()\n",
        "c.sound()"
      ],
      "metadata": {
        "colab": {
          "base_uri": "https://localhost:8080/"
        },
        "id": "wa4JhZF7qNtu",
        "outputId": "704193af-5d64-4191-8ac3-35e2faa184ed"
      },
      "execution_count": 1,
      "outputs": [
        {
          "output_type": "stream",
          "name": "stdout",
          "text": [
            "I am going to sleep in a while\n",
            "I can meow\n",
            "I can hiss\n"
          ]
        }
      ]
    },
    {
      "cell_type": "markdown",
      "source": [
        "Q2. Differentiate between Abstraction and Encapsulation. Explain with an example."
      ],
      "metadata": {
        "id": "INO9jWrQfOtw"
      }
    },
    {
      "cell_type": "markdown",
      "source": [
        "**Ans :-** Difference between Abstraction and Encapsulation ---\n",
        "* Abstraction shows only useful data by providing the most necessary details, whereas Encapsulation wraps code and data for necessary information.\n",
        "* Abstraction is focused mainly on what should be done, while Encapsulation is focused on how it should be done.\n",
        "* Abstraction hides complexity by giving you a more abstract picture, while Encapsulation hides internal work so that you can change it later.\n",
        "* Abstraction helps you to partition the program into many independent portions, whereas Encapsulation is easy to change with new requirements.\n",
        "* Comparing Encapsulation vs Abstraction, Abstraction solves problems at the design level while Encapsulation solves problems at the implementation level.\n",
        "* Abstraction hides the irrelevant details found in the code, whereas Encapsulation helps developers to organize the entire code easily.\n",
        "\n",
        "**Example :-**"
      ],
      "metadata": {
        "id": "9HU60SeFr4Tk"
      }
    },
    {
      "cell_type": "code",
      "source": [
        "class Person:\n",
        "    def __init__(self):\n",
        "        self.name = \"Soumik Das\"\n",
        "\n",
        "    def bio(self):\n",
        "        self.addr = \"Kolkata\"\n",
        "        self.taxInfo = \"HUAPK29971\"\n",
        "        self.contact = \"01-777-523-342\"\n",
        "        print(self.addr, self.taxInfo, self.contact)\n",
        "\n",
        "    def interest(self):\n",
        "        self.favFood = \"Biriyani\"\n",
        "        self.hobbies = \"Python Programming\"\n",
        "        self.bloodGroup = \"A+\"\n",
        "        print(self.favFood, self.hobbies, self.bloodGroup)\n",
        "\n",
        "obj = Person()\n",
        "print(obj.name)\n",
        "obj.bio()\n",
        "obj.interest()"
      ],
      "metadata": {
        "colab": {
          "base_uri": "https://localhost:8080/"
        },
        "id": "_O2hzEy9t0ve",
        "outputId": "5b3f2ff5-0242-48d1-c2b1-e70d0c4102f7"
      },
      "execution_count": 2,
      "outputs": [
        {
          "output_type": "stream",
          "name": "stdout",
          "text": [
            "Soumik Das\n",
            "Kolkata HUAPK29971 01-777-523-342\n",
            "Biriyani Python Programming A+\n"
          ]
        }
      ]
    },
    {
      "cell_type": "markdown",
      "source": [
        "Q3. What is abc module in python? Why is it used?"
      ],
      "metadata": {
        "id": "tqV2Bs3ufQY4"
      }
    },
    {
      "cell_type": "markdown",
      "source": [
        "**Ans :-**\n",
        "This abc module provides the infrastructure for defining abstract base classes (ABCs) in Python.\n",
        "\n",
        "*Uses :-*\n",
        "* A way to overload isinstance() and issubclass().\n",
        "* A new module abc which serves as an “ABC support framework”. It defines a metaclass for use with ABCs and a decorator that can be used to define abstract methods.\n",
        "* Specific ABCs for containers and iterators, to be added to the collections module."
      ],
      "metadata": {
        "id": "WH9rFxsnukZa"
      }
    },
    {
      "cell_type": "markdown",
      "source": [
        "Q4. How can we achieve data abstraction?"
      ],
      "metadata": {
        "id": "RSAVuhwBfRGw"
      }
    },
    {
      "cell_type": "markdown",
      "source": [
        "**Ans:-** In Python, abstraction can be achieved by using abstract classes and interfaces.\n",
        "\n",
        "A class that consists of one or more abstract method is called the abstract class. Abstract methods do not contain their implementation. Abstract class can be inherited by the subclass and abstract method gets its definition in the subclass. Abstraction classes are meant to be the blueprint of the other class. An abstract class can be useful when we are designing large functions. An abstract class is also helpful to provide the standard interface for different implementations of components. Python provides the abc module to use the abstraction in the Python program."
      ],
      "metadata": {
        "id": "CyzJm83Lvavy"
      }
    },
    {
      "cell_type": "markdown",
      "source": [
        "Q5. Can we create an instance of an abstract class? Explain your answer."
      ],
      "metadata": {
        "id": "Qy_-luJFfTNY"
      }
    },
    {
      "cell_type": "markdown",
      "source": [
        "**Ans:-** Abstract classes are not complete, as they may have some methods that are not defined. So we cannot create an instance or object of an abstract class in Python. If we try to instantiate the abstract class, it raises an error."
      ],
      "metadata": {
        "id": "Vwcl2iMzwhzx"
      }
    }
  ]
}