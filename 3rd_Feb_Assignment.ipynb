{
  "nbformat": 4,
  "nbformat_minor": 0,
  "metadata": {
    "colab": {
      "provenance": []
    },
    "kernelspec": {
      "name": "python3",
      "display_name": "Python 3"
    },
    "language_info": {
      "name": "python"
    }
  },
  "cells": [
    {
      "cell_type": "markdown",
      "source": [
        "**Q1. Which keyword is used to create a function? Create a function to return a list of odd numbers in the range of 1 to 25**"
      ],
      "metadata": {
        "id": "z5JGtJKry1RO"
      }
    },
    {
      "cell_type": "markdown",
      "source": [
        "**Ans :-** 'def' keyword is used to create a function."
      ],
      "metadata": {
        "id": "NU4JvMZgzA2P"
      }
    },
    {
      "cell_type": "code",
      "source": [
        "def odd(n1,n2):\n",
        "  list=[]\n",
        "  if n1>n2:\n",
        "    return\n",
        "  else:\n",
        "    for n in range (n1,n2+1):\n",
        "      if n%2!=0:\n",
        "        list.append(n)\n",
        "  return list\n",
        "\n",
        "num1=1\n",
        "num2=25\n",
        "odd(num1,num2)"
      ],
      "metadata": {
        "colab": {
          "base_uri": "https://localhost:8080/"
        },
        "id": "xTsKvQZEznBN",
        "outputId": "738f67ce-e5c6-4f1b-e138-da1e645d378f"
      },
      "execution_count": 2,
      "outputs": [
        {
          "output_type": "execute_result",
          "data": {
            "text/plain": [
              "[1, 3, 5, 7, 9, 11, 13, 15, 17, 19, 21, 23, 25]"
            ]
          },
          "metadata": {},
          "execution_count": 2
        }
      ]
    },
    {
      "cell_type": "markdown",
      "source": [
        "**Q2. Why *args and **kwargs is used in some functions? Create a function each for *args and **kwargs to demonstrate their use.**"
      ],
      "metadata": {
        "id": "vryZRKtJ14A_"
      }
    },
    {
      "cell_type": "markdown",
      "source": [
        "**Ans :-** In Python, we can pass a variable number of arguments to a function using special symbols. There are two special symbols:\n",
        "1. *args (Non Keyword Arguments)\n",
        "2. **kwargs (Keyword Arguments)\n",
        "\n",
        "We use *args and **kwargs as an argument when we are unsure about the number of arguments to pass in the functions."
      ],
      "metadata": {
        "id": "PQ5b98m02KrS"
      }
    },
    {
      "cell_type": "markdown",
      "source": [
        "***args** :-\n",
        "Python has *args which allow us to pass the variable number of non keyword arguments to function.\n",
        "\n",
        "**Example**"
      ],
      "metadata": {
        "id": "TMWOAjh68_8I"
      }
    },
    {
      "cell_type": "code",
      "source": [
        "def add(*num):\n",
        "    sum = 0\n",
        "    \n",
        "    for n in num:\n",
        "        sum = sum + n\n",
        "\n",
        "    print(\"Sum:\",sum)\n",
        "\n",
        "add(7,5)\n",
        "add(4,25,67,7)\n",
        "add(1,2,3,5,6)"
      ],
      "metadata": {
        "colab": {
          "base_uri": "https://localhost:8080/"
        },
        "id": "LfPIvVtj9ZZ4",
        "outputId": "519384fe-0e81-4fea-d2c2-63f68d3be214"
      },
      "execution_count": 3,
      "outputs": [
        {
          "output_type": "stream",
          "name": "stdout",
          "text": [
            "Sum: 12\n",
            "Sum: 103\n",
            "Sum: 17\n"
          ]
        }
      ]
    },
    {
      "cell_type": "markdown",
      "source": [
        "In the above program, we used *num as a parameter which allows us to pass variable length argument list to the add() function. Inside the function, we have a loop which adds the passed argument and prints the result. We passed 3 different tuples with variable length as an argument to the function."
      ],
      "metadata": {
        "id": "L7LthWv09klq"
      }
    },
    {
      "cell_type": "markdown",
      "source": [
        "***kwargs** :-\n",
        "*kwargs allows us to pass the variable length of keyword arguments to the function.\n",
        "\n",
        "**Example :-**"
      ],
      "metadata": {
        "id": "ruNnnEYt9w8b"
      }
    },
    {
      "cell_type": "code",
      "source": [
        "def intro(**data):\n",
        "    print(\"\\nData type of argument:\",type(data))\n",
        "\n",
        "    for key, value in data.items():\n",
        "        print(\"{} is {}\".format(key,value))\n",
        "\n",
        "intro(Firstname=\"Soumik\", Lastname=\"Das\", Email=\"soumikdas042@gmail.com\",State=\"West Bengal\", Country=\"India\", Phone=9876543210)\n",
        "intro(Firstname=\"Physics\", Lastname=\"Wallah\", Age=5, Phone=1234567890)"
      ],
      "metadata": {
        "colab": {
          "base_uri": "https://localhost:8080/"
        },
        "id": "9mig0J8W_UH3",
        "outputId": "4c4571a6-f853-4ebc-b1ff-9e29fc1bd474"
      },
      "execution_count": 7,
      "outputs": [
        {
          "output_type": "stream",
          "name": "stdout",
          "text": [
            "\n",
            "Data type of argument: <class 'dict'>\n",
            "Firstname is Soumik\n",
            "Lastname is Das\n",
            "Email is soumikdas042@gmail.com\n",
            "State is West Bengal\n",
            "Country is India\n",
            "Phone is 9876543210\n",
            "\n",
            "Data type of argument: <class 'dict'>\n",
            "Firstname is Physics\n",
            "Lastname is Wallah\n",
            "Age is 5\n",
            "Phone is 1234567890\n"
          ]
        }
      ]
    },
    {
      "cell_type": "markdown",
      "source": [
        "**Q3.  What is an iterator in python? Name the method used to initialise the iterator object and the method used for iteration. Use these methods to print the first five elements of the given list [2, 4, 6, 8, 10, 12, 14,16, 18, 20].**"
      ],
      "metadata": {
        "id": "DJCrHnzOAcap"
      }
    },
    {
      "cell_type": "markdown",
      "source": [
        "**Ans :-** Iterator in Python is an object that is used to iterate over iterable objects like lists, tuples, dicts, and sets.\n",
        "\n",
        "The iterator object is initialized using the iter() method. It uses the next() method for iteration."
      ],
      "metadata": {
        "id": "0HcjaDbMBFtF"
      }
    },
    {
      "cell_type": "code",
      "source": [
        "list = [2,4,6,8,10,12,14,16,18,20]\n",
        "iterator = iter(list)\n",
        " \n",
        "print(next(iterator))\n",
        "print(next(iterator))\n",
        "print(next(iterator))\n",
        "print(next(iterator))\n",
        "print(next(iterator))"
      ],
      "metadata": {
        "colab": {
          "base_uri": "https://localhost:8080/"
        },
        "id": "68PXeeEWBfR5",
        "outputId": "c392b4f7-cefb-43e1-c1dc-a49b4ec2c8f3"
      },
      "execution_count": 9,
      "outputs": [
        {
          "output_type": "stream",
          "name": "stdout",
          "text": [
            "2\n",
            "4\n",
            "6\n",
            "8\n",
            "10\n"
          ]
        }
      ]
    },
    {
      "cell_type": "markdown",
      "source": [
        "**Q4. What is a generator function in python? Why yield keyword is used? Give an example of a generator function.**"
      ],
      "metadata": {
        "id": "Ru803yLEB9BO"
      }
    },
    {
      "cell_type": "markdown",
      "source": [
        "**Ans :-** In Python, a generator is a function that returns an iterator that produces a sequence of values when iterated over. A generator-function is defined like a normal function, but whenever it needs to generate a value, it does so with the yield keyword rather than return. If the body of a def contains yield, the function automatically becomes a generator function. \n",
        "\n",
        "In Python, similar to defining a normal function, we can define a generator function using the def keyword, but instead of the return statement we use the 'yield' statement.Here, the 'yield' keyword is used to produce a value from the generator."
      ],
      "metadata": {
        "id": "YxFTLB5ZCIYv"
      }
    },
    {
      "cell_type": "code",
      "source": [
        "def my_generator(n):\n",
        "    value = 1\n",
        "    while value <= n:\n",
        "        yield value\n",
        "        value += 1\n",
        "\n",
        "for value in my_generator(5):\n",
        "    print(value)\n"
      ],
      "metadata": {
        "colab": {
          "base_uri": "https://localhost:8080/"
        },
        "id": "-a375o10EHei",
        "outputId": "69204426-9a6a-4caa-8f7b-19a2231baef0"
      },
      "execution_count": 11,
      "outputs": [
        {
          "output_type": "stream",
          "name": "stdout",
          "text": [
            "1\n",
            "2\n",
            "3\n",
            "4\n",
            "5\n"
          ]
        }
      ]
    },
    {
      "cell_type": "markdown",
      "source": [
        "**Q5. Create a generator function for prime numbers less than 1000. Use the next() method to print the first 20 prime numbers.**"
      ],
      "metadata": {
        "id": "bRIA4UshEVsX"
      }
    },
    {
      "cell_type": "code",
      "source": [
        "def isprime(n):\n",
        "    for i in range(2 ,n):\n",
        "        if n % i == 0:\n",
        "            return False\n",
        "    return True\n",
        "\n",
        "def getPrimes():\n",
        "    yield 2\n",
        "    i = 2\n",
        "    while i < 1000:\n",
        "        i += 1\n",
        "        if isprime(i):\n",
        "            yield i\n",
        "g =getPrimes()\n",
        "for i in range (0,20):\n",
        "  print(next(g))"
      ],
      "metadata": {
        "colab": {
          "base_uri": "https://localhost:8080/"
        },
        "id": "KedYrKvGGH4i",
        "outputId": "b1d0d6c7-0f7b-41c6-ce2c-98ff007250e3"
      },
      "execution_count": 37,
      "outputs": [
        {
          "output_type": "stream",
          "name": "stdout",
          "text": [
            "2\n",
            "3\n",
            "5\n",
            "7\n",
            "11\n",
            "13\n",
            "17\n",
            "19\n",
            "23\n",
            "29\n",
            "31\n",
            "37\n",
            "41\n",
            "43\n",
            "47\n",
            "53\n",
            "59\n",
            "61\n",
            "67\n",
            "71\n"
          ]
        }
      ]
    },
    {
      "cell_type": "markdown",
      "source": [
        "**Q6. Write a python program to print the first 10 Fibonacci numbers using a while loop.**"
      ],
      "metadata": {
        "id": "P_RYdP-wPbMh"
      }
    },
    {
      "cell_type": "code",
      "source": [
        "n = 10\n",
        "n1, n2 = 0, 1\n",
        "count = 0\n",
        "if n <= 0:\n",
        "   print(\"Please enter a positive integer\")\n",
        "elif n == 1:\n",
        "   print(\"Fibonacci sequence upto\",n,\":\")\n",
        "   print(n1)\n",
        "else:\n",
        "   print(\"Fibonacci sequence:\")\n",
        "   while count < n:\n",
        "       print(n1)\n",
        "       nth = n1 + n2\n",
        "       n1 = n2\n",
        "       n2 = nth\n",
        "       count += 1"
      ],
      "metadata": {
        "colab": {
          "base_uri": "https://localhost:8080/"
        },
        "id": "4oC11ZvUPh4D",
        "outputId": "0ea06bc5-c1d3-449a-8b8b-4ee8cde16dfa"
      },
      "execution_count": 38,
      "outputs": [
        {
          "output_type": "stream",
          "name": "stdout",
          "text": [
            "Fibonacci sequence:\n",
            "0\n",
            "1\n",
            "1\n",
            "2\n",
            "3\n",
            "5\n",
            "8\n",
            "13\n",
            "21\n",
            "34\n"
          ]
        }
      ]
    },
    {
      "cell_type": "markdown",
      "source": [
        "**Q7. Write a List Comprehension to iterate through the given string: ‘pwskills’.**\n",
        "\n",
        "Expected output: ['p', 'w', 's', 'k', 'i', 'l', 'l', 's']"
      ],
      "metadata": {
        "id": "dDO97qnWQnx8"
      }
    },
    {
      "cell_type": "code",
      "source": [
        "list =[]\n",
        "string = \"pwskills\"\n",
        "iterator = iter(string)\n",
        " \n",
        "for word in string:\n",
        "    list.append(word)\n",
        "\n",
        "print(list)"
      ],
      "metadata": {
        "colab": {
          "base_uri": "https://localhost:8080/"
        },
        "id": "R3_TZQNiQyHP",
        "outputId": "547b3fe3-3bc0-4e1f-df2e-ac69a1ff9e5f"
      },
      "execution_count": 39,
      "outputs": [
        {
          "output_type": "stream",
          "name": "stdout",
          "text": [
            "['p', 'w', 's', 'k', 'i', 'l', 'l', 's']\n"
          ]
        }
      ]
    },
    {
      "cell_type": "markdown",
      "source": [
        "**Q8. Write a python program to check whether a given number is Palindrome or not using a while loop.**"
      ],
      "metadata": {
        "id": "7rpv36LJRszb"
      }
    },
    {
      "cell_type": "code",
      "source": [
        "num = int(input(\"Enter a number : \"))\n",
        "reverse = 0\n",
        "number = num\n",
        "while(num != 0):\n",
        "   remainder = num % 10\n",
        "   reverse = reverse * 10 + remainder\n",
        "   num = int(num / 10)\n",
        "\n",
        "if(number == reverse):\n",
        "   print(number,'is a Palindrome')\n",
        "else:\n",
        "   print(number,'is not a Palindrome')"
      ],
      "metadata": {
        "colab": {
          "base_uri": "https://localhost:8080/"
        },
        "id": "XVnjYmdjR65A",
        "outputId": "e575348e-a1f4-4d9f-adae-cf7e38fbed30"
      },
      "execution_count": 44,
      "outputs": [
        {
          "output_type": "stream",
          "name": "stdout",
          "text": [
            "Enter a number : 12321\n",
            "12321 is a Palindrome\n"
          ]
        }
      ]
    },
    {
      "cell_type": "markdown",
      "source": [
        "**Q9. Write a code to print odd numbers from 1 to 100 using list comprehension.**"
      ],
      "metadata": {
        "id": "6kzTLlUTSd-A"
      }
    },
    {
      "cell_type": "code",
      "source": [
        "list = []\n",
        "for i in range(1,101):\n",
        "  list.append(i)\n",
        "print(list)\n",
        "odd = []\n",
        "for i in list:\n",
        "  if i%2!=0:\n",
        "    odd.append(i)\n",
        "print(odd)"
      ],
      "metadata": {
        "colab": {
          "base_uri": "https://localhost:8080/"
        },
        "id": "rTBCOIxcSqQa",
        "outputId": "ddff4c23-e3c7-4447-8753-79d1c20e6140"
      },
      "execution_count": 47,
      "outputs": [
        {
          "output_type": "stream",
          "name": "stdout",
          "text": [
            "[1, 2, 3, 4, 5, 6, 7, 8, 9, 10, 11, 12, 13, 14, 15, 16, 17, 18, 19, 20, 21, 22, 23, 24, 25, 26, 27, 28, 29, 30, 31, 32, 33, 34, 35, 36, 37, 38, 39, 40, 41, 42, 43, 44, 45, 46, 47, 48, 49, 50, 51, 52, 53, 54, 55, 56, 57, 58, 59, 60, 61, 62, 63, 64, 65, 66, 67, 68, 69, 70, 71, 72, 73, 74, 75, 76, 77, 78, 79, 80, 81, 82, 83, 84, 85, 86, 87, 88, 89, 90, 91, 92, 93, 94, 95, 96, 97, 98, 99, 100]\n",
            "[1, 3, 5, 7, 9, 11, 13, 15, 17, 19, 21, 23, 25, 27, 29, 31, 33, 35, 37, 39, 41, 43, 45, 47, 49, 51, 53, 55, 57, 59, 61, 63, 65, 67, 69, 71, 73, 75, 77, 79, 81, 83, 85, 87, 89, 91, 93, 95, 97, 99]\n"
          ]
        }
      ]
    }
  ]
}