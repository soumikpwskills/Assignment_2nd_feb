{
  "cells": [
    {
      "attachments": {},
      "cell_type": "markdown",
      "metadata": {
        "id": "UYh4cucwNp8K"
      },
      "source": [
        "**Q1. You are writing code for a company. The requirement of the company is that you create a python function that will check whether the password entered by the user is correct or not. The function should take the password as input and return the string “Valid Password” if the entered password follows the below-given password guidelines else it should return “Invalid Password”.**\n",
        "\n",
        "Note: \n",
        "1. The Password should contain at least two uppercase letters and at least two lowercase letters.\n",
        "2. The Password should contain at least a number and three special characters.\n",
        "3. The length of the password should be 10 characters long."
      ]
    },
    {
      "cell_type": "code",
      "execution_count": 1,
      "metadata": {
        "colab": {
          "base_uri": "https://localhost:8080/"
        },
        "id": "Z3aX5OcdN7lD",
        "outputId": "edbee956-d589-481b-d01b-f08fe04c4f23"
      },
      "outputs": [
        {
          "name": "stdout",
          "output_type": "stream",
          "text": [
            "Valid Password\n"
          ]
        }
      ],
      "source": [
        "l, u, p, d = 0, 0, 0, 0\n",
        "s = input(\"Enter password : \")\n",
        "if (len(s) == 10):\n",
        "    for i in s:\n",
        " \n",
        "        # counting lowercase alphabets\n",
        "        if (i.islower()):\n",
        "            l+=1           \n",
        " \n",
        "        # counting uppercase alphabets\n",
        "        if (i.isupper()):\n",
        "            u+=1           \n",
        " \n",
        "        # counting digits\n",
        "        if (i.isdigit()):\n",
        "            d+=1           \n",
        " \n",
        "        # counting the mentioned special characters\n",
        "        if(i=='@'or i=='$' or i=='_' or i==\"!\" or i==\"%\" or i==\"^\" or i==\"#\"):\n",
        "            p+=1          \n",
        "if (l>=2 and u>=2 and p>=3 and d>=1 and l+p+u+d==len(s)):\n",
        "    print(\"Valid Password\")\n",
        "else:\n",
        "    print(\"Invalid Password\")"
      ]
    },
    {
      "attachments": {},
      "cell_type": "markdown",
      "metadata": {
        "id": "_sLtQmSAN766"
      },
      "source": [
        "** Q2. Solve the below-given questions using at least one of the following:**\n",
        "\n",
        "**1. Lambda function**\n",
        "\n",
        "**2. Filter function**\n",
        "\n",
        "**3. Zap function**\n",
        "\n",
        "**4. List Comprehension**\n",
        "\n",
        "\n",
        "* Check if the string starts with a particular letter.\n",
        "* Check if the string is numeric.\n",
        "* Sort a list of tuples having fruit names and their quantity. [(\"mango\",99),(\"orange\",80), (\"grapes\", 1000)].\n",
        "* Find the squares of numbers from 1 to 10.\n",
        "* Find the cube root of numbers from 1 to 10.\n",
        "* Check if a given number is even.\n",
        "* Filter odd numbers from the given list. [1,2,3,4,5,6,7,8,9,10]\n",
        "* Sort a list of integers into positive and negative integers lists. \n",
        " [1,2,3,4,5,6,-1,-2,-3,-4,-5,0]\n"
      ]
    },
    {
      "cell_type": "code",
      "execution_count": 2,
      "metadata": {
        "colab": {
          "base_uri": "https://localhost:8080/"
        },
        "id": "IcM02lA8PGPa",
        "outputId": "24dc54c5-f62a-4a62-832a-27eb3b220c29"
      },
      "outputs": [
        {
          "name": "stdout",
          "output_type": "stream",
          "text": [
            "True\n",
            "False\n"
          ]
        }
      ],
      "source": [
        "# Check if the string starts with a particular letter using lambda function\n",
        "starts_with = lambda x: True if x.startswith('P') else False\n",
        "print(starts_with('Python'))\n",
        "print(starts_with('Java'))"
      ]
    },
    {
      "cell_type": "code",
      "execution_count": 3,
      "metadata": {
        "colab": {
          "base_uri": "https://localhost:8080/"
        },
        "id": "gLRmxScn5YcX",
        "outputId": "3e2a9e3d-27b1-4b60-ab68-2669e243d759"
      },
      "outputs": [
        {
          "name": "stdout",
          "output_type": "stream",
          "text": [
            "True\n",
            "True\n",
            "True\n",
            "False\n"
          ]
        }
      ],
      "source": [
        "# Check if the string is numeric using lambda function\n",
        "is_num1 = lambda q: q.replace('.','',1).isdigit()\n",
        "is_num = lambda r: is_num(r[1:]) if r[0]=='-' else is_num1(r)\n",
        "print(is_num(\"64564\"))\n",
        "print(is_num(\"-64564\"))\n",
        "print(is_num(\"645.64\"))\n",
        "print(is_num(\"64A64\"))"
      ]
    },
    {
      "cell_type": "code",
      "execution_count": 4,
      "metadata": {
        "colab": {
          "base_uri": "https://localhost:8080/"
        },
        "id": "Y0b2Ph7T6E2f",
        "outputId": "f0a3bca7-13a6-4921-f764-5a82556eb7ba"
      },
      "outputs": [
        {
          "data": {
            "text/plain": [
              "[('orange', 80), ('mango', 99), ('grapes', 1000)]"
            ]
          },
          "execution_count": 4,
          "metadata": {},
          "output_type": "execute_result"
        }
      ],
      "source": [
        "# Sort a list of tuples having fruit names and their quantity using lambda function\n",
        "    \n",
        "tup = [(\"mango\",99),(\"orange\",80), (\"grapes\", 1000)]\n",
        "tup.sort(key = lambda x: x[1])\n",
        "tup"
      ]
    },
    {
      "cell_type": "code",
      "execution_count": 5,
      "metadata": {
        "colab": {
          "base_uri": "https://localhost:8080/"
        },
        "id": "MrE-F_Bn8Wp8",
        "outputId": "b76486c0-b802-404d-dcb7-9c95d338562e"
      },
      "outputs": [
        {
          "name": "stdout",
          "output_type": "stream",
          "text": [
            "Square the numbers from 1 to 10 :\n",
            "1 4 9 16 25 36 49 64 81 100 "
          ]
        }
      ],
      "source": [
        "# Find the squares of numbers from 1 to 10\n",
        "def square_num(n):\n",
        "  return n * n\n",
        "nums = []\n",
        "for i in range(1,11):\n",
        "  nums.append(i)\n",
        "result = map(square_num, nums)\n",
        "print(\"Square the numbers from 1 to 10 :\")\n",
        "for num in result:\n",
        "  print(num,end=\" \")"
      ]
    },
    {
      "cell_type": "code",
      "execution_count": 6,
      "metadata": {
        "colab": {
          "base_uri": "https://localhost:8080/"
        },
        "id": "bggMs4s98Y4r",
        "outputId": "15b643d0-6a87-4982-90f0-086285b25baa"
      },
      "outputs": [
        {
          "name": "stdout",
          "output_type": "stream",
          "text": [
            "Cube root the numbers from 1 to 10 :\n",
            "1.0 1.2599210498948732 1.4422495703074083 1.5874010519681994 1.7099759466766968 1.8171205928321397 1.912931182772389 2.0 2.080083823051904 2.154434690031884 "
          ]
        }
      ],
      "source": [
        "# Find the cube root of numbers from 1 to 10\n",
        "def square_num(n):\n",
        "  return n ** (1/3)\n",
        "nums = []\n",
        "for i in range(1,11):\n",
        "  nums.append(i)\n",
        "result = map(square_num, nums)\n",
        "print(\"Cube root the numbers from 1 to 10 :\")\n",
        "for num in result:\n",
        "  print(num,end=\" \")"
      ]
    },
    {
      "cell_type": "code",
      "execution_count": 7,
      "metadata": {
        "colab": {
          "base_uri": "https://localhost:8080/"
        },
        "id": "I9FvRUuz8c9L",
        "outputId": "b35d14ac-ac0a-480f-8aa9-3a2e8802f2c9"
      },
      "outputs": [
        {
          "name": "stdout",
          "output_type": "stream",
          "text": [
            "False\n",
            "True\n"
          ]
        }
      ],
      "source": [
        "# Check if a given number is even\n",
        "is_even = lambda n: True if n % 2 == 0 else False\n",
        "print(is_even(85))\n",
        "print(is_even(124))"
      ]
    },
    {
      "cell_type": "code",
      "execution_count": 8,
      "metadata": {
        "colab": {
          "base_uri": "https://localhost:8080/"
        },
        "id": "7aqgEbkR8h2j",
        "outputId": "47535ebb-a097-443e-e32d-b683372c8431"
      },
      "outputs": [
        {
          "name": "stdout",
          "output_type": "stream",
          "text": [
            "[1, 3, 5, 7, 9]\n"
          ]
        }
      ],
      "source": [
        "# Filter odd numbers from the given list\n",
        "numbers = [1,2,3,4,5,6,7,8,9,10]\n",
        "odd = filter(lambda n: n % 2 == 1, numbers)\n",
        "print(list(odd))"
      ]
    },
    {
      "cell_type": "code",
      "execution_count": 9,
      "metadata": {
        "colab": {
          "base_uri": "https://localhost:8080/"
        },
        "id": "-IO29Gek8rLb",
        "outputId": "b28c769e-4cff-491f-c7e4-9577bf8e97f4"
      },
      "outputs": [
        {
          "name": "stdout",
          "output_type": "stream",
          "text": [
            "Positive List :  [1, 2, 3, 4, 5, 6]\n",
            "Negative List :  [-1, -2, -3, -4, -5]\n"
          ]
        }
      ],
      "source": [
        "# Sort a list of integers into positive and negative integers lists\n",
        "numbers = [1,2,3,4,5,6,-1,-2,-3,-4,-5,0]\n",
        "positive_list = [x for x in numbers if x>0]\n",
        "negative_list = [x for x in numbers if x<0]\n",
        "print(\"Positive List : \", positive_list)\n",
        "print(\"Negative List : \", negative_list)"
      ]
    }
  ],
  "metadata": {
    "colab": {
      "provenance": []
    },
    "kernelspec": {
      "display_name": "Python 3",
      "name": "python3"
    },
    "language_info": {
      "codemirror_mode": {
        "name": "ipython",
        "version": 3
      },
      "file_extension": ".py",
      "mimetype": "text/x-python",
      "name": "python",
      "nbconvert_exporter": "python",
      "pygments_lexer": "ipython3",
      "version": "3.11.3"
    }
  },
  "nbformat": 4,
  "nbformat_minor": 0
}
