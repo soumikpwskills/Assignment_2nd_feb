{
  "nbformat": 4,
  "nbformat_minor": 0,
  "metadata": {
    "colab": {
      "provenance": []
    },
    "kernelspec": {
      "name": "python3",
      "display_name": "Python 3"
    },
    "language_info": {
      "name": "python"
    }
  },
  "cells": [
    {
      "cell_type": "markdown",
      "source": [
        "**Q1. You are writing code for a company. The requirement of the company is that you create a python function that will check whether the password entered by the user is correct or not. The function should take the password as input and return the string “Valid Password” if the entered password follows the below-given password guidelines else it should return “Invalid Password”.**\n",
        "\n",
        "Note: \n",
        "1. The Password should contain at least two uppercase letters and at least two lowercase letters.\n",
        "2. The Password should contain at least a number and three special characters.\n",
        "3. The length of the password should be 10 characters long."
      ],
      "metadata": {
        "id": "UYh4cucwNp8K"
      }
    },
    {
      "cell_type": "code",
      "source": [
        "l, u, p, d = 0, 0, 0, 0\n",
        "s = input(\"Enter password : \")\n",
        "if (len(s) == 10):\n",
        "    for i in s:\n",
        " \n",
        "        # counting lowercase alphabets\n",
        "        if (i.islower()):\n",
        "            l+=1           \n",
        " \n",
        "        # counting uppercase alphabets\n",
        "        if (i.isupper()):\n",
        "            u+=1           \n",
        " \n",
        "        # counting digits\n",
        "        if (i.isdigit()):\n",
        "            d+=1           \n",
        " \n",
        "        # counting the mentioned special characters\n",
        "        if(i=='@'or i=='$' or i=='_' or i==\"!\" or i==\"%\" or i==\"^\" or i==\"#\"):\n",
        "            p+=1          \n",
        "if (l>=2 and u>=2 and p>=3 and d>=1 and l+p+u+d==len(s)):\n",
        "    print(\"Valid Password\")\n",
        "else:\n",
        "    print(\"Invalid Password\")"
      ],
      "metadata": {
        "id": "Z3aX5OcdN7lD",
        "colab": {
          "base_uri": "https://localhost:8080/"
        },
        "outputId": "ed58262b-fc97-4187-fff2-ea6f1c9cebd5"
      },
      "execution_count": 1,
      "outputs": [
        {
          "output_type": "stream",
          "name": "stdout",
          "text": [
            "Enter password : Ab@cD#12_3\n",
            "Valid Password\n"
          ]
        }
      ]
    },
    {
      "cell_type": "markdown",
      "source": [
        "** Q2. Solve the below-given questions using at least one of the following:**\n",
        "\n",
        "**1. Lambda function**\n",
        "\n",
        "**2. Filter function**\n",
        "\n",
        "**3. Zap function**\n",
        "\n",
        "**4. List Comprehension**\n",
        "\n",
        "\n",
        "* Check if the string starts with a particular letter.\n",
        "* Check if the string is numeric.\n",
        "* Sort a list of tuples having fruit names and their quantity. [(\"mango\",99),(\"orange\",80), (\"grapes\", 1000)].\n",
        "* Find the squares of numbers from 1 to 10.\n",
        "* Find the cube root of numbers from 1 to 10.\n",
        "* Check if a given number is even.\n",
        "* Filter odd numbers from the given list. [1,2,3,4,5,6,7,8,9,10]\n",
        "* Sort a list of integers into positive and negative integers lists. \n",
        " [1,2,3,4,5,6,-1,-2,-3,-4,-5,0]\n"
      ],
      "metadata": {
        "id": "_sLtQmSAN766"
      }
    },
    {
      "cell_type": "code",
      "source": [
        "# Check if the string starts with a particular letter using lambda function\n",
        "starts_with = lambda x: True if x.startswith('P') else False\n",
        "print(starts_with('Python'))\n",
        "print(starts_with('Java'))"
      ],
      "metadata": {
        "id": "IcM02lA8PGPa",
        "colab": {
          "base_uri": "https://localhost:8080/"
        },
        "outputId": "cabe0ca0-ddf4-4239-eb3d-c9cb62bde914"
      },
      "execution_count": 2,
      "outputs": [
        {
          "output_type": "stream",
          "name": "stdout",
          "text": [
            "True\n",
            "False\n"
          ]
        }
      ]
    },
    {
      "cell_type": "code",
      "source": [
        "# Check if the string is numeric using lambda function\n",
        "is_num1 = lambda q: q.replace('.','',1).isdigit()\n",
        "is_num = lambda r: is_num(r[1:]) if r[0]=='-' else is_num1(r)\n",
        "print(is_num(\"64564\"))\n",
        "print(is_num(\"-64564\"))\n",
        "print(is_num(\"645.64\"))\n",
        "print(is_num(\"64A64\"))"
      ],
      "metadata": {
        "colab": {
          "base_uri": "https://localhost:8080/"
        },
        "id": "gLRmxScn5YcX",
        "outputId": "cd6ad566-019a-4765-bfa1-e30db4c2143a"
      },
      "execution_count": 3,
      "outputs": [
        {
          "output_type": "stream",
          "name": "stdout",
          "text": [
            "True\n",
            "True\n",
            "True\n",
            "False\n"
          ]
        }
      ]
    },
    {
      "cell_type": "code",
      "source": [
        "# Sort a list of tuples having fruit names and their quantity using lambda function\n",
        "    \n",
        "tup = [(\"mango\",99),(\"orange\",80), (\"grapes\", 1000)]\n",
        "tup.sort(key = lambda x: x[1])\n",
        "tup"
      ],
      "metadata": {
        "colab": {
          "base_uri": "https://localhost:8080/"
        },
        "id": "Y0b2Ph7T6E2f",
        "outputId": "cda0750f-28a9-456f-ba16-736fe30aa4b6"
      },
      "execution_count": 4,
      "outputs": [
        {
          "output_type": "execute_result",
          "data": {
            "text/plain": [
              "[('orange', 80), ('mango', 99), ('grapes', 1000)]"
            ]
          },
          "metadata": {},
          "execution_count": 4
        }
      ]
    },
    {
      "cell_type": "code",
      "source": [
        "# Find the squares of numbers from 1 to 10\n",
        "def square_num(n):\n",
        "  return n * n\n",
        "nums = []\n",
        "for i in range(1,11):\n",
        "  nums.append(i)\n",
        "result = map(square_num, nums)\n",
        "print(\"Square the numbers from 1 to 10 :\")\n",
        "for num in result:\n",
        "  print(num,end=\" \")"
      ],
      "metadata": {
        "colab": {
          "base_uri": "https://localhost:8080/"
        },
        "id": "MrE-F_Bn8Wp8",
        "outputId": "54d59471-8d66-49f6-8b03-b6cb5c5af509"
      },
      "execution_count": 5,
      "outputs": [
        {
          "output_type": "stream",
          "name": "stdout",
          "text": [
            "Square the numbers from 1 to 10 :\n",
            "1 4 9 16 25 36 49 64 81 100 "
          ]
        }
      ]
    },
    {
      "cell_type": "code",
      "source": [
        "# Find the cube root of numbers from 1 to 10\n",
        "def square_num(n):\n",
        "  return n ** (1/3)\n",
        "nums = []\n",
        "for i in range(1,11):\n",
        "  nums.append(i)\n",
        "result = map(square_num, nums)\n",
        "print(\"Cube root the numbers from 1 to 10 :\")\n",
        "for num in result:\n",
        "  print(num,end=\" \")"
      ],
      "metadata": {
        "colab": {
          "base_uri": "https://localhost:8080/"
        },
        "id": "bggMs4s98Y4r",
        "outputId": "6ef1d3f5-e7f5-4551-c219-7fc6367c146f"
      },
      "execution_count": 6,
      "outputs": [
        {
          "output_type": "stream",
          "name": "stdout",
          "text": [
            "Cube root the numbers from 1 to 10 :\n",
            "1.0 1.2599210498948732 1.4422495703074083 1.5874010519681994 1.7099759466766968 1.8171205928321397 1.912931182772389 2.0 2.080083823051904 2.154434690031884 "
          ]
        }
      ]
    },
    {
      "cell_type": "code",
      "source": [
        "# Check if a given number is even\n",
        "is_even = lambda n: True if n % 2 == 0 else False\n",
        "print(is_even(85))\n",
        "print(is_even(124))"
      ],
      "metadata": {
        "colab": {
          "base_uri": "https://localhost:8080/"
        },
        "id": "I9FvRUuz8c9L",
        "outputId": "c373518a-705c-4b4f-f2a7-324dd83ddb15"
      },
      "execution_count": 7,
      "outputs": [
        {
          "output_type": "stream",
          "name": "stdout",
          "text": [
            "False\n",
            "True\n"
          ]
        }
      ]
    },
    {
      "cell_type": "code",
      "source": [
        "# Filter odd numbers from the given list\n",
        "numbers = [1,2,3,4,5,6,7,8,9,10]\n",
        "odd = filter(lambda n: n % 2 == 1, numbers)\n",
        "print(list(odd))"
      ],
      "metadata": {
        "colab": {
          "base_uri": "https://localhost:8080/"
        },
        "id": "7aqgEbkR8h2j",
        "outputId": "b39649f4-bf54-4f2b-b210-298c9b0bd9cc"
      },
      "execution_count": 8,
      "outputs": [
        {
          "output_type": "stream",
          "name": "stdout",
          "text": [
            "[1, 3, 5, 7, 9]\n"
          ]
        }
      ]
    },
    {
      "cell_type": "code",
      "source": [
        "# Sort a list of integers into positive and negative integers lists\n",
        "numbers = [1,2,3,4,5,6,-1,-2,-3,-4,-5,0]\n",
        "positive_list = [x for x in numbers if x>0]\n",
        "negative_list = [x for x in numbers if x<0]\n",
        "print(\"Positive List : \", positive_list)\n",
        "print(\"Negative List : \", negative_list)"
      ],
      "metadata": {
        "colab": {
          "base_uri": "https://localhost:8080/"
        },
        "id": "-IO29Gek8rLb",
        "outputId": "e21a9c43-2148-40e0-f293-e0122bac2699"
      },
      "execution_count": 9,
      "outputs": [
        {
          "output_type": "stream",
          "name": "stdout",
          "text": [
            "Positive List :  [1, 2, 3, 4, 5, 6]\n",
            "Negative List :  [-1, -2, -3, -4, -5]\n"
          ]
        }
      ]
    }
  ]
}