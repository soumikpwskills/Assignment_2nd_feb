{
  "cells": [
    {
      "cell_type": "markdown",
      "metadata": {
        "id": "rKX5Wzg2FTs3"
      },
      "source": [
        "## Question 1 : You are working on machine learning project where you have containing numerical and categorical features. You have identified that some features are highly correlated and there are missing values in some of the columns. You want to build a pipeline that automates feature engineering process and handles missing values.\n",
        "\n",
        "### Design a Pipeline that includes following steps:\n",
        "* Use an automated method to identify important features of dataset\n",
        "* Use a numerical pipeline that includes following steps:\n",
        "    * Impute missing values in numeric columns with mean\n",
        "    * Scale the numerical columns using standardisation\n",
        "* Create a categorical pipeline that includes following steps:\n",
        "    * Impute missing values in categorical columns with most frequent data\n",
        "    * One Hot Encode the categorical columns\n",
        "* Combine the numerical and categorical pipelines using a ColumnTransformer\n",
        "* Use Random Forest Classifier to build final model\n",
        "* Evaluate accuracy of model on the test dataset\n",
        "\n",
        "### Note : Your Solution should include code snippets for each step of pipeline and a brief explaination of each step. You should also provide an interpretation of results and suggest possible improvements for pipeline\n",
        "---"
      ]
    },
    {
      "cell_type": "markdown",
      "metadata": {
        "id": "XLEb-BEsFTs3"
      },
      "source": [
        "## Answer :"
      ]
    },
    {
      "cell_type": "markdown",
      "metadata": {
        "id": "zJaRvDTlFTs3"
      },
      "source": [
        "### Used Employee Attrition dataset for performing above tasks\n",
        "Dataset link : [https://www.kaggle.com/datasets/pavansubhasht/ibm-hr-analytics-attrition-dataset/](https://www.kaggle.com/datasets/pavansubhasht/ibm-hr-analytics-attrition-dataset/)"
      ]
    },
    {
      "cell_type": "markdown",
      "metadata": {
        "id": "ytHuTslfFTs4"
      },
      "source": [
        "Uncover the factors that lead to employee attrition and explore important questions such as ‘show me a breakdown of distance from home by job role and attrition’ or ‘compare average monthly income by education and attrition’."
      ]
    },
    {
      "cell_type": "markdown",
      "metadata": {
        "id": "bRkm_-EfFTs4"
      },
      "source": [
        "### Read the dataset"
      ]
    },
    {
      "cell_type": "code",
      "execution_count": 1,
      "metadata": {
        "colab": {
          "base_uri": "https://localhost:8080/",
          "height": 325
        },
        "id": "uq9HmURmFTs4",
        "outputId": "d8dc2ea5-220b-4383-bed6-1307c32bbeba"
      },
      "outputs": [
        {
          "output_type": "execute_result",
          "data": {
            "text/plain": [
              "   Age Attrition     BusinessTravel  DailyRate              Department  \\\n",
              "0   41       Yes      Travel_Rarely       1102                   Sales   \n",
              "1   49        No  Travel_Frequently        279  Research & Development   \n",
              "2   37       Yes      Travel_Rarely       1373  Research & Development   \n",
              "3   33        No  Travel_Frequently       1392  Research & Development   \n",
              "4   27        No      Travel_Rarely        591  Research & Development   \n",
              "\n",
              "   DistanceFromHome  Education EducationField  EmployeeCount  EmployeeNumber  \\\n",
              "0                 1          2  Life Sciences              1               1   \n",
              "1                 8          1  Life Sciences              1               2   \n",
              "2                 2          2          Other              1               4   \n",
              "3                 3          4  Life Sciences              1               5   \n",
              "4                 2          1        Medical              1               7   \n",
              "\n",
              "   ...  RelationshipSatisfaction StandardHours  StockOptionLevel  \\\n",
              "0  ...                         1            80                 0   \n",
              "1  ...                         4            80                 1   \n",
              "2  ...                         2            80                 0   \n",
              "3  ...                         3            80                 0   \n",
              "4  ...                         4            80                 1   \n",
              "\n",
              "   TotalWorkingYears  TrainingTimesLastYear WorkLifeBalance  YearsAtCompany  \\\n",
              "0                  8                      0               1               6   \n",
              "1                 10                      3               3              10   \n",
              "2                  7                      3               3               0   \n",
              "3                  8                      3               3               8   \n",
              "4                  6                      3               3               2   \n",
              "\n",
              "  YearsInCurrentRole  YearsSinceLastPromotion  YearsWithCurrManager  \n",
              "0                  4                        0                     5  \n",
              "1                  7                        1                     7  \n",
              "2                  0                        0                     0  \n",
              "3                  7                        3                     0  \n",
              "4                  2                        2                     2  \n",
              "\n",
              "[5 rows x 35 columns]"
            ],
            "text/html": [
              "\n",
              "  <div id=\"df-79346d30-d377-490d-8a17-6bb5aa2cbe0e\" class=\"colab-df-container\">\n",
              "    <div>\n",
              "<style scoped>\n",
              "    .dataframe tbody tr th:only-of-type {\n",
              "        vertical-align: middle;\n",
              "    }\n",
              "\n",
              "    .dataframe tbody tr th {\n",
              "        vertical-align: top;\n",
              "    }\n",
              "\n",
              "    .dataframe thead th {\n",
              "        text-align: right;\n",
              "    }\n",
              "</style>\n",
              "<table border=\"1\" class=\"dataframe\">\n",
              "  <thead>\n",
              "    <tr style=\"text-align: right;\">\n",
              "      <th></th>\n",
              "      <th>Age</th>\n",
              "      <th>Attrition</th>\n",
              "      <th>BusinessTravel</th>\n",
              "      <th>DailyRate</th>\n",
              "      <th>Department</th>\n",
              "      <th>DistanceFromHome</th>\n",
              "      <th>Education</th>\n",
              "      <th>EducationField</th>\n",
              "      <th>EmployeeCount</th>\n",
              "      <th>EmployeeNumber</th>\n",
              "      <th>...</th>\n",
              "      <th>RelationshipSatisfaction</th>\n",
              "      <th>StandardHours</th>\n",
              "      <th>StockOptionLevel</th>\n",
              "      <th>TotalWorkingYears</th>\n",
              "      <th>TrainingTimesLastYear</th>\n",
              "      <th>WorkLifeBalance</th>\n",
              "      <th>YearsAtCompany</th>\n",
              "      <th>YearsInCurrentRole</th>\n",
              "      <th>YearsSinceLastPromotion</th>\n",
              "      <th>YearsWithCurrManager</th>\n",
              "    </tr>\n",
              "  </thead>\n",
              "  <tbody>\n",
              "    <tr>\n",
              "      <th>0</th>\n",
              "      <td>41</td>\n",
              "      <td>Yes</td>\n",
              "      <td>Travel_Rarely</td>\n",
              "      <td>1102</td>\n",
              "      <td>Sales</td>\n",
              "      <td>1</td>\n",
              "      <td>2</td>\n",
              "      <td>Life Sciences</td>\n",
              "      <td>1</td>\n",
              "      <td>1</td>\n",
              "      <td>...</td>\n",
              "      <td>1</td>\n",
              "      <td>80</td>\n",
              "      <td>0</td>\n",
              "      <td>8</td>\n",
              "      <td>0</td>\n",
              "      <td>1</td>\n",
              "      <td>6</td>\n",
              "      <td>4</td>\n",
              "      <td>0</td>\n",
              "      <td>5</td>\n",
              "    </tr>\n",
              "    <tr>\n",
              "      <th>1</th>\n",
              "      <td>49</td>\n",
              "      <td>No</td>\n",
              "      <td>Travel_Frequently</td>\n",
              "      <td>279</td>\n",
              "      <td>Research &amp; Development</td>\n",
              "      <td>8</td>\n",
              "      <td>1</td>\n",
              "      <td>Life Sciences</td>\n",
              "      <td>1</td>\n",
              "      <td>2</td>\n",
              "      <td>...</td>\n",
              "      <td>4</td>\n",
              "      <td>80</td>\n",
              "      <td>1</td>\n",
              "      <td>10</td>\n",
              "      <td>3</td>\n",
              "      <td>3</td>\n",
              "      <td>10</td>\n",
              "      <td>7</td>\n",
              "      <td>1</td>\n",
              "      <td>7</td>\n",
              "    </tr>\n",
              "    <tr>\n",
              "      <th>2</th>\n",
              "      <td>37</td>\n",
              "      <td>Yes</td>\n",
              "      <td>Travel_Rarely</td>\n",
              "      <td>1373</td>\n",
              "      <td>Research &amp; Development</td>\n",
              "      <td>2</td>\n",
              "      <td>2</td>\n",
              "      <td>Other</td>\n",
              "      <td>1</td>\n",
              "      <td>4</td>\n",
              "      <td>...</td>\n",
              "      <td>2</td>\n",
              "      <td>80</td>\n",
              "      <td>0</td>\n",
              "      <td>7</td>\n",
              "      <td>3</td>\n",
              "      <td>3</td>\n",
              "      <td>0</td>\n",
              "      <td>0</td>\n",
              "      <td>0</td>\n",
              "      <td>0</td>\n",
              "    </tr>\n",
              "    <tr>\n",
              "      <th>3</th>\n",
              "      <td>33</td>\n",
              "      <td>No</td>\n",
              "      <td>Travel_Frequently</td>\n",
              "      <td>1392</td>\n",
              "      <td>Research &amp; Development</td>\n",
              "      <td>3</td>\n",
              "      <td>4</td>\n",
              "      <td>Life Sciences</td>\n",
              "      <td>1</td>\n",
              "      <td>5</td>\n",
              "      <td>...</td>\n",
              "      <td>3</td>\n",
              "      <td>80</td>\n",
              "      <td>0</td>\n",
              "      <td>8</td>\n",
              "      <td>3</td>\n",
              "      <td>3</td>\n",
              "      <td>8</td>\n",
              "      <td>7</td>\n",
              "      <td>3</td>\n",
              "      <td>0</td>\n",
              "    </tr>\n",
              "    <tr>\n",
              "      <th>4</th>\n",
              "      <td>27</td>\n",
              "      <td>No</td>\n",
              "      <td>Travel_Rarely</td>\n",
              "      <td>591</td>\n",
              "      <td>Research &amp; Development</td>\n",
              "      <td>2</td>\n",
              "      <td>1</td>\n",
              "      <td>Medical</td>\n",
              "      <td>1</td>\n",
              "      <td>7</td>\n",
              "      <td>...</td>\n",
              "      <td>4</td>\n",
              "      <td>80</td>\n",
              "      <td>1</td>\n",
              "      <td>6</td>\n",
              "      <td>3</td>\n",
              "      <td>3</td>\n",
              "      <td>2</td>\n",
              "      <td>2</td>\n",
              "      <td>2</td>\n",
              "      <td>2</td>\n",
              "    </tr>\n",
              "  </tbody>\n",
              "</table>\n",
              "<p>5 rows × 35 columns</p>\n",
              "</div>\n",
              "    <div class=\"colab-df-buttons\">\n",
              "\n",
              "  <div class=\"colab-df-container\">\n",
              "    <button class=\"colab-df-convert\" onclick=\"convertToInteractive('df-79346d30-d377-490d-8a17-6bb5aa2cbe0e')\"\n",
              "            title=\"Convert this dataframe to an interactive table.\"\n",
              "            style=\"display:none;\">\n",
              "\n",
              "  <svg xmlns=\"http://www.w3.org/2000/svg\" height=\"24px\" viewBox=\"0 -960 960 960\">\n",
              "    <path d=\"M120-120v-720h720v720H120Zm60-500h600v-160H180v160Zm220 220h160v-160H400v160Zm0 220h160v-160H400v160ZM180-400h160v-160H180v160Zm440 0h160v-160H620v160ZM180-180h160v-160H180v160Zm440 0h160v-160H620v160Z\"/>\n",
              "  </svg>\n",
              "    </button>\n",
              "\n",
              "  <style>\n",
              "    .colab-df-container {\n",
              "      display:flex;\n",
              "      gap: 12px;\n",
              "    }\n",
              "\n",
              "    .colab-df-convert {\n",
              "      background-color: #E8F0FE;\n",
              "      border: none;\n",
              "      border-radius: 50%;\n",
              "      cursor: pointer;\n",
              "      display: none;\n",
              "      fill: #1967D2;\n",
              "      height: 32px;\n",
              "      padding: 0 0 0 0;\n",
              "      width: 32px;\n",
              "    }\n",
              "\n",
              "    .colab-df-convert:hover {\n",
              "      background-color: #E2EBFA;\n",
              "      box-shadow: 0px 1px 2px rgba(60, 64, 67, 0.3), 0px 1px 3px 1px rgba(60, 64, 67, 0.15);\n",
              "      fill: #174EA6;\n",
              "    }\n",
              "\n",
              "    .colab-df-buttons div {\n",
              "      margin-bottom: 4px;\n",
              "    }\n",
              "\n",
              "    [theme=dark] .colab-df-convert {\n",
              "      background-color: #3B4455;\n",
              "      fill: #D2E3FC;\n",
              "    }\n",
              "\n",
              "    [theme=dark] .colab-df-convert:hover {\n",
              "      background-color: #434B5C;\n",
              "      box-shadow: 0px 1px 3px 1px rgba(0, 0, 0, 0.15);\n",
              "      filter: drop-shadow(0px 1px 2px rgba(0, 0, 0, 0.3));\n",
              "      fill: #FFFFFF;\n",
              "    }\n",
              "  </style>\n",
              "\n",
              "    <script>\n",
              "      const buttonEl =\n",
              "        document.querySelector('#df-79346d30-d377-490d-8a17-6bb5aa2cbe0e button.colab-df-convert');\n",
              "      buttonEl.style.display =\n",
              "        google.colab.kernel.accessAllowed ? 'block' : 'none';\n",
              "\n",
              "      async function convertToInteractive(key) {\n",
              "        const element = document.querySelector('#df-79346d30-d377-490d-8a17-6bb5aa2cbe0e');\n",
              "        const dataTable =\n",
              "          await google.colab.kernel.invokeFunction('convertToInteractive',\n",
              "                                                    [key], {});\n",
              "        if (!dataTable) return;\n",
              "\n",
              "        const docLinkHtml = 'Like what you see? Visit the ' +\n",
              "          '<a target=\"_blank\" href=https://colab.research.google.com/notebooks/data_table.ipynb>data table notebook</a>'\n",
              "          + ' to learn more about interactive tables.';\n",
              "        element.innerHTML = '';\n",
              "        dataTable['output_type'] = 'display_data';\n",
              "        await google.colab.output.renderOutput(dataTable, element);\n",
              "        const docLink = document.createElement('div');\n",
              "        docLink.innerHTML = docLinkHtml;\n",
              "        element.appendChild(docLink);\n",
              "      }\n",
              "    </script>\n",
              "  </div>\n",
              "\n",
              "\n",
              "<div id=\"df-ce3c17b8-ff70-4711-8892-3aa953ada4cc\">\n",
              "  <button class=\"colab-df-quickchart\" onclick=\"quickchart('df-ce3c17b8-ff70-4711-8892-3aa953ada4cc')\"\n",
              "            title=\"Suggest charts\"\n",
              "            style=\"display:none;\">\n",
              "\n",
              "<svg xmlns=\"http://www.w3.org/2000/svg\" height=\"24px\"viewBox=\"0 0 24 24\"\n",
              "     width=\"24px\">\n",
              "    <g>\n",
              "        <path d=\"M19 3H5c-1.1 0-2 .9-2 2v14c0 1.1.9 2 2 2h14c1.1 0 2-.9 2-2V5c0-1.1-.9-2-2-2zM9 17H7v-7h2v7zm4 0h-2V7h2v10zm4 0h-2v-4h2v4z\"/>\n",
              "    </g>\n",
              "</svg>\n",
              "  </button>\n",
              "\n",
              "<style>\n",
              "  .colab-df-quickchart {\n",
              "      --bg-color: #E8F0FE;\n",
              "      --fill-color: #1967D2;\n",
              "      --hover-bg-color: #E2EBFA;\n",
              "      --hover-fill-color: #174EA6;\n",
              "      --disabled-fill-color: #AAA;\n",
              "      --disabled-bg-color: #DDD;\n",
              "  }\n",
              "\n",
              "  [theme=dark] .colab-df-quickchart {\n",
              "      --bg-color: #3B4455;\n",
              "      --fill-color: #D2E3FC;\n",
              "      --hover-bg-color: #434B5C;\n",
              "      --hover-fill-color: #FFFFFF;\n",
              "      --disabled-bg-color: #3B4455;\n",
              "      --disabled-fill-color: #666;\n",
              "  }\n",
              "\n",
              "  .colab-df-quickchart {\n",
              "    background-color: var(--bg-color);\n",
              "    border: none;\n",
              "    border-radius: 50%;\n",
              "    cursor: pointer;\n",
              "    display: none;\n",
              "    fill: var(--fill-color);\n",
              "    height: 32px;\n",
              "    padding: 0;\n",
              "    width: 32px;\n",
              "  }\n",
              "\n",
              "  .colab-df-quickchart:hover {\n",
              "    background-color: var(--hover-bg-color);\n",
              "    box-shadow: 0 1px 2px rgba(60, 64, 67, 0.3), 0 1px 3px 1px rgba(60, 64, 67, 0.15);\n",
              "    fill: var(--button-hover-fill-color);\n",
              "  }\n",
              "\n",
              "  .colab-df-quickchart-complete:disabled,\n",
              "  .colab-df-quickchart-complete:disabled:hover {\n",
              "    background-color: var(--disabled-bg-color);\n",
              "    fill: var(--disabled-fill-color);\n",
              "    box-shadow: none;\n",
              "  }\n",
              "\n",
              "  .colab-df-spinner {\n",
              "    border: 2px solid var(--fill-color);\n",
              "    border-color: transparent;\n",
              "    border-bottom-color: var(--fill-color);\n",
              "    animation:\n",
              "      spin 1s steps(1) infinite;\n",
              "  }\n",
              "\n",
              "  @keyframes spin {\n",
              "    0% {\n",
              "      border-color: transparent;\n",
              "      border-bottom-color: var(--fill-color);\n",
              "      border-left-color: var(--fill-color);\n",
              "    }\n",
              "    20% {\n",
              "      border-color: transparent;\n",
              "      border-left-color: var(--fill-color);\n",
              "      border-top-color: var(--fill-color);\n",
              "    }\n",
              "    30% {\n",
              "      border-color: transparent;\n",
              "      border-left-color: var(--fill-color);\n",
              "      border-top-color: var(--fill-color);\n",
              "      border-right-color: var(--fill-color);\n",
              "    }\n",
              "    40% {\n",
              "      border-color: transparent;\n",
              "      border-right-color: var(--fill-color);\n",
              "      border-top-color: var(--fill-color);\n",
              "    }\n",
              "    60% {\n",
              "      border-color: transparent;\n",
              "      border-right-color: var(--fill-color);\n",
              "    }\n",
              "    80% {\n",
              "      border-color: transparent;\n",
              "      border-right-color: var(--fill-color);\n",
              "      border-bottom-color: var(--fill-color);\n",
              "    }\n",
              "    90% {\n",
              "      border-color: transparent;\n",
              "      border-bottom-color: var(--fill-color);\n",
              "    }\n",
              "  }\n",
              "</style>\n",
              "\n",
              "  <script>\n",
              "    async function quickchart(key) {\n",
              "      const quickchartButtonEl =\n",
              "        document.querySelector('#' + key + ' button');\n",
              "      quickchartButtonEl.disabled = true;  // To prevent multiple clicks.\n",
              "      quickchartButtonEl.classList.add('colab-df-spinner');\n",
              "      try {\n",
              "        const charts = await google.colab.kernel.invokeFunction(\n",
              "            'suggestCharts', [key], {});\n",
              "      } catch (error) {\n",
              "        console.error('Error during call to suggestCharts:', error);\n",
              "      }\n",
              "      quickchartButtonEl.classList.remove('colab-df-spinner');\n",
              "      quickchartButtonEl.classList.add('colab-df-quickchart-complete');\n",
              "    }\n",
              "    (() => {\n",
              "      let quickchartButtonEl =\n",
              "        document.querySelector('#df-ce3c17b8-ff70-4711-8892-3aa953ada4cc button');\n",
              "      quickchartButtonEl.style.display =\n",
              "        google.colab.kernel.accessAllowed ? 'block' : 'none';\n",
              "    })();\n",
              "  </script>\n",
              "</div>\n",
              "\n",
              "    </div>\n",
              "  </div>\n"
            ],
            "application/vnd.google.colaboratory.intrinsic+json": {
              "type": "dataframe",
              "variable_name": "df"
            }
          },
          "metadata": {},
          "execution_count": 1
        }
      ],
      "source": [
        "import pandas as pd\n",
        "df = pd.read_csv('Attrition.csv')\n",
        "df.head()"
      ]
    },
    {
      "cell_type": "code",
      "execution_count": 2,
      "metadata": {
        "colab": {
          "base_uri": "https://localhost:8080/"
        },
        "id": "eDKXt83kFTs5",
        "outputId": "fd76ddd4-3eee-4739-dc4b-8e8af3919a0f"
      },
      "outputs": [
        {
          "output_type": "execute_result",
          "data": {
            "text/plain": [
              "(1470, 35)"
            ]
          },
          "metadata": {},
          "execution_count": 2
        }
      ],
      "source": [
        "df.shape"
      ]
    },
    {
      "cell_type": "code",
      "execution_count": 3,
      "metadata": {
        "colab": {
          "base_uri": "https://localhost:8080/"
        },
        "id": "03U33BxiFTs5",
        "outputId": "7f5a0bf5-f00c-4f3f-d572-256ada34dc91"
      },
      "outputs": [
        {
          "output_type": "stream",
          "name": "stdout",
          "text": [
            "<class 'pandas.core.frame.DataFrame'>\n",
            "RangeIndex: 1470 entries, 0 to 1469\n",
            "Data columns (total 35 columns):\n",
            " #   Column                    Non-Null Count  Dtype \n",
            "---  ------                    --------------  ----- \n",
            " 0   Age                       1470 non-null   int64 \n",
            " 1   Attrition                 1470 non-null   object\n",
            " 2   BusinessTravel            1470 non-null   object\n",
            " 3   DailyRate                 1470 non-null   int64 \n",
            " 4   Department                1470 non-null   object\n",
            " 5   DistanceFromHome          1470 non-null   int64 \n",
            " 6   Education                 1470 non-null   int64 \n",
            " 7   EducationField            1470 non-null   object\n",
            " 8   EmployeeCount             1470 non-null   int64 \n",
            " 9   EmployeeNumber            1470 non-null   int64 \n",
            " 10  EnvironmentSatisfaction   1470 non-null   int64 \n",
            " 11  Gender                    1470 non-null   object\n",
            " 12  HourlyRate                1470 non-null   int64 \n",
            " 13  JobInvolvement            1470 non-null   int64 \n",
            " 14  JobLevel                  1470 non-null   int64 \n",
            " 15  JobRole                   1470 non-null   object\n",
            " 16  JobSatisfaction           1470 non-null   int64 \n",
            " 17  MaritalStatus             1470 non-null   object\n",
            " 18  MonthlyIncome             1470 non-null   int64 \n",
            " 19  MonthlyRate               1470 non-null   int64 \n",
            " 20  NumCompaniesWorked        1470 non-null   int64 \n",
            " 21  Over18                    1470 non-null   object\n",
            " 22  OverTime                  1470 non-null   object\n",
            " 23  PercentSalaryHike         1470 non-null   int64 \n",
            " 24  PerformanceRating         1470 non-null   int64 \n",
            " 25  RelationshipSatisfaction  1470 non-null   int64 \n",
            " 26  StandardHours             1470 non-null   int64 \n",
            " 27  StockOptionLevel          1470 non-null   int64 \n",
            " 28  TotalWorkingYears         1470 non-null   int64 \n",
            " 29  TrainingTimesLastYear     1470 non-null   int64 \n",
            " 30  WorkLifeBalance           1470 non-null   int64 \n",
            " 31  YearsAtCompany            1470 non-null   int64 \n",
            " 32  YearsInCurrentRole        1470 non-null   int64 \n",
            " 33  YearsSinceLastPromotion   1470 non-null   int64 \n",
            " 34  YearsWithCurrManager      1470 non-null   int64 \n",
            "dtypes: int64(26), object(9)\n",
            "memory usage: 402.1+ KB\n"
          ]
        }
      ],
      "source": [
        "# Checking dataset info\n",
        "df.info()"
      ]
    },
    {
      "cell_type": "code",
      "execution_count": 4,
      "metadata": {
        "colab": {
          "base_uri": "https://localhost:8080/"
        },
        "id": "2xwN6xxBFTs5",
        "outputId": "1401ad80-31b2-4a69-ff46-a68208893e55"
      },
      "outputs": [
        {
          "output_type": "execute_result",
          "data": {
            "text/plain": [
              "Age                         0\n",
              "Attrition                   0\n",
              "BusinessTravel              0\n",
              "DailyRate                   0\n",
              "Department                  0\n",
              "DistanceFromHome            0\n",
              "Education                   0\n",
              "EducationField              0\n",
              "EmployeeCount               0\n",
              "EmployeeNumber              0\n",
              "EnvironmentSatisfaction     0\n",
              "Gender                      0\n",
              "HourlyRate                  0\n",
              "JobInvolvement              0\n",
              "JobLevel                    0\n",
              "JobRole                     0\n",
              "JobSatisfaction             0\n",
              "MaritalStatus               0\n",
              "MonthlyIncome               0\n",
              "MonthlyRate                 0\n",
              "NumCompaniesWorked          0\n",
              "Over18                      0\n",
              "OverTime                    0\n",
              "PercentSalaryHike           0\n",
              "PerformanceRating           0\n",
              "RelationshipSatisfaction    0\n",
              "StandardHours               0\n",
              "StockOptionLevel            0\n",
              "TotalWorkingYears           0\n",
              "TrainingTimesLastYear       0\n",
              "WorkLifeBalance             0\n",
              "YearsAtCompany              0\n",
              "YearsInCurrentRole          0\n",
              "YearsSinceLastPromotion     0\n",
              "YearsWithCurrManager        0\n",
              "dtype: int64"
            ]
          },
          "metadata": {},
          "execution_count": 4
        }
      ],
      "source": [
        "# Checking missing values in dataset\n",
        "df.isnull().sum()"
      ]
    },
    {
      "cell_type": "markdown",
      "metadata": {
        "id": "1fCl5acrFTs6"
      },
      "source": [
        "### No Missing values found in dataset"
      ]
    },
    {
      "cell_type": "markdown",
      "metadata": {
        "id": "cWe71nemFTs6"
      },
      "source": [
        "### Seperate X and Y"
      ]
    },
    {
      "cell_type": "code",
      "execution_count": 5,
      "metadata": {
        "id": "El8MErPxFTs6"
      },
      "outputs": [],
      "source": [
        "X = df.drop(labels=['Attrition'],axis=1)\n",
        "Y = df[['Attrition']]"
      ]
    },
    {
      "cell_type": "code",
      "execution_count": 6,
      "metadata": {
        "colab": {
          "base_uri": "https://localhost:8080/",
          "height": 206
        },
        "id": "86dFSSp_FTs6",
        "outputId": "0ddd5aa4-9d24-4898-b2bc-58ef201b218c"
      },
      "outputs": [
        {
          "output_type": "execute_result",
          "data": {
            "text/plain": [
              "  Attrition\n",
              "0       Yes\n",
              "1        No\n",
              "2       Yes\n",
              "3        No\n",
              "4        No"
            ],
            "text/html": [
              "\n",
              "  <div id=\"df-a95cd280-830c-41e6-b8d6-7fa3240deeae\" class=\"colab-df-container\">\n",
              "    <div>\n",
              "<style scoped>\n",
              "    .dataframe tbody tr th:only-of-type {\n",
              "        vertical-align: middle;\n",
              "    }\n",
              "\n",
              "    .dataframe tbody tr th {\n",
              "        vertical-align: top;\n",
              "    }\n",
              "\n",
              "    .dataframe thead th {\n",
              "        text-align: right;\n",
              "    }\n",
              "</style>\n",
              "<table border=\"1\" class=\"dataframe\">\n",
              "  <thead>\n",
              "    <tr style=\"text-align: right;\">\n",
              "      <th></th>\n",
              "      <th>Attrition</th>\n",
              "    </tr>\n",
              "  </thead>\n",
              "  <tbody>\n",
              "    <tr>\n",
              "      <th>0</th>\n",
              "      <td>Yes</td>\n",
              "    </tr>\n",
              "    <tr>\n",
              "      <th>1</th>\n",
              "      <td>No</td>\n",
              "    </tr>\n",
              "    <tr>\n",
              "      <th>2</th>\n",
              "      <td>Yes</td>\n",
              "    </tr>\n",
              "    <tr>\n",
              "      <th>3</th>\n",
              "      <td>No</td>\n",
              "    </tr>\n",
              "    <tr>\n",
              "      <th>4</th>\n",
              "      <td>No</td>\n",
              "    </tr>\n",
              "  </tbody>\n",
              "</table>\n",
              "</div>\n",
              "    <div class=\"colab-df-buttons\">\n",
              "\n",
              "  <div class=\"colab-df-container\">\n",
              "    <button class=\"colab-df-convert\" onclick=\"convertToInteractive('df-a95cd280-830c-41e6-b8d6-7fa3240deeae')\"\n",
              "            title=\"Convert this dataframe to an interactive table.\"\n",
              "            style=\"display:none;\">\n",
              "\n",
              "  <svg xmlns=\"http://www.w3.org/2000/svg\" height=\"24px\" viewBox=\"0 -960 960 960\">\n",
              "    <path d=\"M120-120v-720h720v720H120Zm60-500h600v-160H180v160Zm220 220h160v-160H400v160Zm0 220h160v-160H400v160ZM180-400h160v-160H180v160Zm440 0h160v-160H620v160ZM180-180h160v-160H180v160Zm440 0h160v-160H620v160Z\"/>\n",
              "  </svg>\n",
              "    </button>\n",
              "\n",
              "  <style>\n",
              "    .colab-df-container {\n",
              "      display:flex;\n",
              "      gap: 12px;\n",
              "    }\n",
              "\n",
              "    .colab-df-convert {\n",
              "      background-color: #E8F0FE;\n",
              "      border: none;\n",
              "      border-radius: 50%;\n",
              "      cursor: pointer;\n",
              "      display: none;\n",
              "      fill: #1967D2;\n",
              "      height: 32px;\n",
              "      padding: 0 0 0 0;\n",
              "      width: 32px;\n",
              "    }\n",
              "\n",
              "    .colab-df-convert:hover {\n",
              "      background-color: #E2EBFA;\n",
              "      box-shadow: 0px 1px 2px rgba(60, 64, 67, 0.3), 0px 1px 3px 1px rgba(60, 64, 67, 0.15);\n",
              "      fill: #174EA6;\n",
              "    }\n",
              "\n",
              "    .colab-df-buttons div {\n",
              "      margin-bottom: 4px;\n",
              "    }\n",
              "\n",
              "    [theme=dark] .colab-df-convert {\n",
              "      background-color: #3B4455;\n",
              "      fill: #D2E3FC;\n",
              "    }\n",
              "\n",
              "    [theme=dark] .colab-df-convert:hover {\n",
              "      background-color: #434B5C;\n",
              "      box-shadow: 0px 1px 3px 1px rgba(0, 0, 0, 0.15);\n",
              "      filter: drop-shadow(0px 1px 2px rgba(0, 0, 0, 0.3));\n",
              "      fill: #FFFFFF;\n",
              "    }\n",
              "  </style>\n",
              "\n",
              "    <script>\n",
              "      const buttonEl =\n",
              "        document.querySelector('#df-a95cd280-830c-41e6-b8d6-7fa3240deeae button.colab-df-convert');\n",
              "      buttonEl.style.display =\n",
              "        google.colab.kernel.accessAllowed ? 'block' : 'none';\n",
              "\n",
              "      async function convertToInteractive(key) {\n",
              "        const element = document.querySelector('#df-a95cd280-830c-41e6-b8d6-7fa3240deeae');\n",
              "        const dataTable =\n",
              "          await google.colab.kernel.invokeFunction('convertToInteractive',\n",
              "                                                    [key], {});\n",
              "        if (!dataTable) return;\n",
              "\n",
              "        const docLinkHtml = 'Like what you see? Visit the ' +\n",
              "          '<a target=\"_blank\" href=https://colab.research.google.com/notebooks/data_table.ipynb>data table notebook</a>'\n",
              "          + ' to learn more about interactive tables.';\n",
              "        element.innerHTML = '';\n",
              "        dataTable['output_type'] = 'display_data';\n",
              "        await google.colab.output.renderOutput(dataTable, element);\n",
              "        const docLink = document.createElement('div');\n",
              "        docLink.innerHTML = docLinkHtml;\n",
              "        element.appendChild(docLink);\n",
              "      }\n",
              "    </script>\n",
              "  </div>\n",
              "\n",
              "\n",
              "<div id=\"df-cbf78002-b784-4b22-b200-553d91297800\">\n",
              "  <button class=\"colab-df-quickchart\" onclick=\"quickchart('df-cbf78002-b784-4b22-b200-553d91297800')\"\n",
              "            title=\"Suggest charts\"\n",
              "            style=\"display:none;\">\n",
              "\n",
              "<svg xmlns=\"http://www.w3.org/2000/svg\" height=\"24px\"viewBox=\"0 0 24 24\"\n",
              "     width=\"24px\">\n",
              "    <g>\n",
              "        <path d=\"M19 3H5c-1.1 0-2 .9-2 2v14c0 1.1.9 2 2 2h14c1.1 0 2-.9 2-2V5c0-1.1-.9-2-2-2zM9 17H7v-7h2v7zm4 0h-2V7h2v10zm4 0h-2v-4h2v4z\"/>\n",
              "    </g>\n",
              "</svg>\n",
              "  </button>\n",
              "\n",
              "<style>\n",
              "  .colab-df-quickchart {\n",
              "      --bg-color: #E8F0FE;\n",
              "      --fill-color: #1967D2;\n",
              "      --hover-bg-color: #E2EBFA;\n",
              "      --hover-fill-color: #174EA6;\n",
              "      --disabled-fill-color: #AAA;\n",
              "      --disabled-bg-color: #DDD;\n",
              "  }\n",
              "\n",
              "  [theme=dark] .colab-df-quickchart {\n",
              "      --bg-color: #3B4455;\n",
              "      --fill-color: #D2E3FC;\n",
              "      --hover-bg-color: #434B5C;\n",
              "      --hover-fill-color: #FFFFFF;\n",
              "      --disabled-bg-color: #3B4455;\n",
              "      --disabled-fill-color: #666;\n",
              "  }\n",
              "\n",
              "  .colab-df-quickchart {\n",
              "    background-color: var(--bg-color);\n",
              "    border: none;\n",
              "    border-radius: 50%;\n",
              "    cursor: pointer;\n",
              "    display: none;\n",
              "    fill: var(--fill-color);\n",
              "    height: 32px;\n",
              "    padding: 0;\n",
              "    width: 32px;\n",
              "  }\n",
              "\n",
              "  .colab-df-quickchart:hover {\n",
              "    background-color: var(--hover-bg-color);\n",
              "    box-shadow: 0 1px 2px rgba(60, 64, 67, 0.3), 0 1px 3px 1px rgba(60, 64, 67, 0.15);\n",
              "    fill: var(--button-hover-fill-color);\n",
              "  }\n",
              "\n",
              "  .colab-df-quickchart-complete:disabled,\n",
              "  .colab-df-quickchart-complete:disabled:hover {\n",
              "    background-color: var(--disabled-bg-color);\n",
              "    fill: var(--disabled-fill-color);\n",
              "    box-shadow: none;\n",
              "  }\n",
              "\n",
              "  .colab-df-spinner {\n",
              "    border: 2px solid var(--fill-color);\n",
              "    border-color: transparent;\n",
              "    border-bottom-color: var(--fill-color);\n",
              "    animation:\n",
              "      spin 1s steps(1) infinite;\n",
              "  }\n",
              "\n",
              "  @keyframes spin {\n",
              "    0% {\n",
              "      border-color: transparent;\n",
              "      border-bottom-color: var(--fill-color);\n",
              "      border-left-color: var(--fill-color);\n",
              "    }\n",
              "    20% {\n",
              "      border-color: transparent;\n",
              "      border-left-color: var(--fill-color);\n",
              "      border-top-color: var(--fill-color);\n",
              "    }\n",
              "    30% {\n",
              "      border-color: transparent;\n",
              "      border-left-color: var(--fill-color);\n",
              "      border-top-color: var(--fill-color);\n",
              "      border-right-color: var(--fill-color);\n",
              "    }\n",
              "    40% {\n",
              "      border-color: transparent;\n",
              "      border-right-color: var(--fill-color);\n",
              "      border-top-color: var(--fill-color);\n",
              "    }\n",
              "    60% {\n",
              "      border-color: transparent;\n",
              "      border-right-color: var(--fill-color);\n",
              "    }\n",
              "    80% {\n",
              "      border-color: transparent;\n",
              "      border-right-color: var(--fill-color);\n",
              "      border-bottom-color: var(--fill-color);\n",
              "    }\n",
              "    90% {\n",
              "      border-color: transparent;\n",
              "      border-bottom-color: var(--fill-color);\n",
              "    }\n",
              "  }\n",
              "</style>\n",
              "\n",
              "  <script>\n",
              "    async function quickchart(key) {\n",
              "      const quickchartButtonEl =\n",
              "        document.querySelector('#' + key + ' button');\n",
              "      quickchartButtonEl.disabled = true;  // To prevent multiple clicks.\n",
              "      quickchartButtonEl.classList.add('colab-df-spinner');\n",
              "      try {\n",
              "        const charts = await google.colab.kernel.invokeFunction(\n",
              "            'suggestCharts', [key], {});\n",
              "      } catch (error) {\n",
              "        console.error('Error during call to suggestCharts:', error);\n",
              "      }\n",
              "      quickchartButtonEl.classList.remove('colab-df-spinner');\n",
              "      quickchartButtonEl.classList.add('colab-df-quickchart-complete');\n",
              "    }\n",
              "    (() => {\n",
              "      let quickchartButtonEl =\n",
              "        document.querySelector('#df-cbf78002-b784-4b22-b200-553d91297800 button');\n",
              "      quickchartButtonEl.style.display =\n",
              "        google.colab.kernel.accessAllowed ? 'block' : 'none';\n",
              "    })();\n",
              "  </script>\n",
              "</div>\n",
              "\n",
              "    </div>\n",
              "  </div>\n"
            ],
            "application/vnd.google.colaboratory.intrinsic+json": {
              "type": "dataframe",
              "variable_name": "Y",
              "summary": "{\n  \"name\": \"Y\",\n  \"rows\": 1470,\n  \"fields\": [\n    {\n      \"column\": \"Attrition\",\n      \"properties\": {\n        \"dtype\": \"category\",\n        \"num_unique_values\": 2,\n        \"samples\": [\n          \"No\",\n          \"Yes\"\n        ],\n        \"semantic_type\": \"\",\n        \"description\": \"\"\n      }\n    }\n  ]\n}"
            }
          },
          "metadata": {},
          "execution_count": 6
        }
      ],
      "source": [
        "Y.head()"
      ]
    },
    {
      "cell_type": "code",
      "execution_count": 7,
      "metadata": {
        "colab": {
          "base_uri": "https://localhost:8080/",
          "height": 206
        },
        "id": "LtMLsYriFTs6",
        "outputId": "6ef84a37-d038-49d3-a82b-cc5f88165e1f"
      },
      "outputs": [
        {
          "output_type": "execute_result",
          "data": {
            "text/plain": [
              "   Attrition\n",
              "0          1\n",
              "1          0\n",
              "2          1\n",
              "3          0\n",
              "4          0"
            ],
            "text/html": [
              "\n",
              "  <div id=\"df-fec2905a-af97-414c-af15-8dddbef602dd\" class=\"colab-df-container\">\n",
              "    <div>\n",
              "<style scoped>\n",
              "    .dataframe tbody tr th:only-of-type {\n",
              "        vertical-align: middle;\n",
              "    }\n",
              "\n",
              "    .dataframe tbody tr th {\n",
              "        vertical-align: top;\n",
              "    }\n",
              "\n",
              "    .dataframe thead th {\n",
              "        text-align: right;\n",
              "    }\n",
              "</style>\n",
              "<table border=\"1\" class=\"dataframe\">\n",
              "  <thead>\n",
              "    <tr style=\"text-align: right;\">\n",
              "      <th></th>\n",
              "      <th>Attrition</th>\n",
              "    </tr>\n",
              "  </thead>\n",
              "  <tbody>\n",
              "    <tr>\n",
              "      <th>0</th>\n",
              "      <td>1</td>\n",
              "    </tr>\n",
              "    <tr>\n",
              "      <th>1</th>\n",
              "      <td>0</td>\n",
              "    </tr>\n",
              "    <tr>\n",
              "      <th>2</th>\n",
              "      <td>1</td>\n",
              "    </tr>\n",
              "    <tr>\n",
              "      <th>3</th>\n",
              "      <td>0</td>\n",
              "    </tr>\n",
              "    <tr>\n",
              "      <th>4</th>\n",
              "      <td>0</td>\n",
              "    </tr>\n",
              "  </tbody>\n",
              "</table>\n",
              "</div>\n",
              "    <div class=\"colab-df-buttons\">\n",
              "\n",
              "  <div class=\"colab-df-container\">\n",
              "    <button class=\"colab-df-convert\" onclick=\"convertToInteractive('df-fec2905a-af97-414c-af15-8dddbef602dd')\"\n",
              "            title=\"Convert this dataframe to an interactive table.\"\n",
              "            style=\"display:none;\">\n",
              "\n",
              "  <svg xmlns=\"http://www.w3.org/2000/svg\" height=\"24px\" viewBox=\"0 -960 960 960\">\n",
              "    <path d=\"M120-120v-720h720v720H120Zm60-500h600v-160H180v160Zm220 220h160v-160H400v160Zm0 220h160v-160H400v160ZM180-400h160v-160H180v160Zm440 0h160v-160H620v160ZM180-180h160v-160H180v160Zm440 0h160v-160H620v160Z\"/>\n",
              "  </svg>\n",
              "    </button>\n",
              "\n",
              "  <style>\n",
              "    .colab-df-container {\n",
              "      display:flex;\n",
              "      gap: 12px;\n",
              "    }\n",
              "\n",
              "    .colab-df-convert {\n",
              "      background-color: #E8F0FE;\n",
              "      border: none;\n",
              "      border-radius: 50%;\n",
              "      cursor: pointer;\n",
              "      display: none;\n",
              "      fill: #1967D2;\n",
              "      height: 32px;\n",
              "      padding: 0 0 0 0;\n",
              "      width: 32px;\n",
              "    }\n",
              "\n",
              "    .colab-df-convert:hover {\n",
              "      background-color: #E2EBFA;\n",
              "      box-shadow: 0px 1px 2px rgba(60, 64, 67, 0.3), 0px 1px 3px 1px rgba(60, 64, 67, 0.15);\n",
              "      fill: #174EA6;\n",
              "    }\n",
              "\n",
              "    .colab-df-buttons div {\n",
              "      margin-bottom: 4px;\n",
              "    }\n",
              "\n",
              "    [theme=dark] .colab-df-convert {\n",
              "      background-color: #3B4455;\n",
              "      fill: #D2E3FC;\n",
              "    }\n",
              "\n",
              "    [theme=dark] .colab-df-convert:hover {\n",
              "      background-color: #434B5C;\n",
              "      box-shadow: 0px 1px 3px 1px rgba(0, 0, 0, 0.15);\n",
              "      filter: drop-shadow(0px 1px 2px rgba(0, 0, 0, 0.3));\n",
              "      fill: #FFFFFF;\n",
              "    }\n",
              "  </style>\n",
              "\n",
              "    <script>\n",
              "      const buttonEl =\n",
              "        document.querySelector('#df-fec2905a-af97-414c-af15-8dddbef602dd button.colab-df-convert');\n",
              "      buttonEl.style.display =\n",
              "        google.colab.kernel.accessAllowed ? 'block' : 'none';\n",
              "\n",
              "      async function convertToInteractive(key) {\n",
              "        const element = document.querySelector('#df-fec2905a-af97-414c-af15-8dddbef602dd');\n",
              "        const dataTable =\n",
              "          await google.colab.kernel.invokeFunction('convertToInteractive',\n",
              "                                                    [key], {});\n",
              "        if (!dataTable) return;\n",
              "\n",
              "        const docLinkHtml = 'Like what you see? Visit the ' +\n",
              "          '<a target=\"_blank\" href=https://colab.research.google.com/notebooks/data_table.ipynb>data table notebook</a>'\n",
              "          + ' to learn more about interactive tables.';\n",
              "        element.innerHTML = '';\n",
              "        dataTable['output_type'] = 'display_data';\n",
              "        await google.colab.output.renderOutput(dataTable, element);\n",
              "        const docLink = document.createElement('div');\n",
              "        docLink.innerHTML = docLinkHtml;\n",
              "        element.appendChild(docLink);\n",
              "      }\n",
              "    </script>\n",
              "  </div>\n",
              "\n",
              "\n",
              "<div id=\"df-91c22874-1f95-4265-a3fa-e33ab6d3dd05\">\n",
              "  <button class=\"colab-df-quickchart\" onclick=\"quickchart('df-91c22874-1f95-4265-a3fa-e33ab6d3dd05')\"\n",
              "            title=\"Suggest charts\"\n",
              "            style=\"display:none;\">\n",
              "\n",
              "<svg xmlns=\"http://www.w3.org/2000/svg\" height=\"24px\"viewBox=\"0 0 24 24\"\n",
              "     width=\"24px\">\n",
              "    <g>\n",
              "        <path d=\"M19 3H5c-1.1 0-2 .9-2 2v14c0 1.1.9 2 2 2h14c1.1 0 2-.9 2-2V5c0-1.1-.9-2-2-2zM9 17H7v-7h2v7zm4 0h-2V7h2v10zm4 0h-2v-4h2v4z\"/>\n",
              "    </g>\n",
              "</svg>\n",
              "  </button>\n",
              "\n",
              "<style>\n",
              "  .colab-df-quickchart {\n",
              "      --bg-color: #E8F0FE;\n",
              "      --fill-color: #1967D2;\n",
              "      --hover-bg-color: #E2EBFA;\n",
              "      --hover-fill-color: #174EA6;\n",
              "      --disabled-fill-color: #AAA;\n",
              "      --disabled-bg-color: #DDD;\n",
              "  }\n",
              "\n",
              "  [theme=dark] .colab-df-quickchart {\n",
              "      --bg-color: #3B4455;\n",
              "      --fill-color: #D2E3FC;\n",
              "      --hover-bg-color: #434B5C;\n",
              "      --hover-fill-color: #FFFFFF;\n",
              "      --disabled-bg-color: #3B4455;\n",
              "      --disabled-fill-color: #666;\n",
              "  }\n",
              "\n",
              "  .colab-df-quickchart {\n",
              "    background-color: var(--bg-color);\n",
              "    border: none;\n",
              "    border-radius: 50%;\n",
              "    cursor: pointer;\n",
              "    display: none;\n",
              "    fill: var(--fill-color);\n",
              "    height: 32px;\n",
              "    padding: 0;\n",
              "    width: 32px;\n",
              "  }\n",
              "\n",
              "  .colab-df-quickchart:hover {\n",
              "    background-color: var(--hover-bg-color);\n",
              "    box-shadow: 0 1px 2px rgba(60, 64, 67, 0.3), 0 1px 3px 1px rgba(60, 64, 67, 0.15);\n",
              "    fill: var(--button-hover-fill-color);\n",
              "  }\n",
              "\n",
              "  .colab-df-quickchart-complete:disabled,\n",
              "  .colab-df-quickchart-complete:disabled:hover {\n",
              "    background-color: var(--disabled-bg-color);\n",
              "    fill: var(--disabled-fill-color);\n",
              "    box-shadow: none;\n",
              "  }\n",
              "\n",
              "  .colab-df-spinner {\n",
              "    border: 2px solid var(--fill-color);\n",
              "    border-color: transparent;\n",
              "    border-bottom-color: var(--fill-color);\n",
              "    animation:\n",
              "      spin 1s steps(1) infinite;\n",
              "  }\n",
              "\n",
              "  @keyframes spin {\n",
              "    0% {\n",
              "      border-color: transparent;\n",
              "      border-bottom-color: var(--fill-color);\n",
              "      border-left-color: var(--fill-color);\n",
              "    }\n",
              "    20% {\n",
              "      border-color: transparent;\n",
              "      border-left-color: var(--fill-color);\n",
              "      border-top-color: var(--fill-color);\n",
              "    }\n",
              "    30% {\n",
              "      border-color: transparent;\n",
              "      border-left-color: var(--fill-color);\n",
              "      border-top-color: var(--fill-color);\n",
              "      border-right-color: var(--fill-color);\n",
              "    }\n",
              "    40% {\n",
              "      border-color: transparent;\n",
              "      border-right-color: var(--fill-color);\n",
              "      border-top-color: var(--fill-color);\n",
              "    }\n",
              "    60% {\n",
              "      border-color: transparent;\n",
              "      border-right-color: var(--fill-color);\n",
              "    }\n",
              "    80% {\n",
              "      border-color: transparent;\n",
              "      border-right-color: var(--fill-color);\n",
              "      border-bottom-color: var(--fill-color);\n",
              "    }\n",
              "    90% {\n",
              "      border-color: transparent;\n",
              "      border-bottom-color: var(--fill-color);\n",
              "    }\n",
              "  }\n",
              "</style>\n",
              "\n",
              "  <script>\n",
              "    async function quickchart(key) {\n",
              "      const quickchartButtonEl =\n",
              "        document.querySelector('#' + key + ' button');\n",
              "      quickchartButtonEl.disabled = true;  // To prevent multiple clicks.\n",
              "      quickchartButtonEl.classList.add('colab-df-spinner');\n",
              "      try {\n",
              "        const charts = await google.colab.kernel.invokeFunction(\n",
              "            'suggestCharts', [key], {});\n",
              "      } catch (error) {\n",
              "        console.error('Error during call to suggestCharts:', error);\n",
              "      }\n",
              "      quickchartButtonEl.classList.remove('colab-df-spinner');\n",
              "      quickchartButtonEl.classList.add('colab-df-quickchart-complete');\n",
              "    }\n",
              "    (() => {\n",
              "      let quickchartButtonEl =\n",
              "        document.querySelector('#df-91c22874-1f95-4265-a3fa-e33ab6d3dd05 button');\n",
              "      quickchartButtonEl.style.display =\n",
              "        google.colab.kernel.accessAllowed ? 'block' : 'none';\n",
              "    })();\n",
              "  </script>\n",
              "</div>\n",
              "\n",
              "    </div>\n",
              "  </div>\n"
            ],
            "application/vnd.google.colaboratory.intrinsic+json": {
              "type": "dataframe",
              "variable_name": "Y",
              "summary": "{\n  \"name\": \"Y\",\n  \"rows\": 1470,\n  \"fields\": [\n    {\n      \"column\": \"Attrition\",\n      \"properties\": {\n        \"dtype\": \"number\",\n        \"std\": 0,\n        \"min\": 0,\n        \"max\": 1,\n        \"num_unique_values\": 2,\n        \"samples\": [\n          0,\n          1\n        ],\n        \"semantic_type\": \"\",\n        \"description\": \"\"\n      }\n    }\n  ]\n}"
            }
          },
          "metadata": {},
          "execution_count": 7
        }
      ],
      "source": [
        "y_mapper = {'Yes':1,'No':0}\n",
        "Y = Y.replace(y_mapper)\n",
        "Y.head()"
      ]
    },
    {
      "cell_type": "code",
      "execution_count": 8,
      "metadata": {
        "id": "uJv67eoZFTs6"
      },
      "outputs": [],
      "source": [
        "cat_cols = list(X.select_dtypes(include='object').columns)\n",
        "num_cols = list(X.select_dtypes(exclude='object').columns)"
      ]
    },
    {
      "cell_type": "code",
      "execution_count": 9,
      "metadata": {
        "colab": {
          "base_uri": "https://localhost:8080/"
        },
        "id": "AqQf8baJFTs7",
        "outputId": "20f41c07-d70e-49aa-ea69-3d38f01f90ab"
      },
      "outputs": [
        {
          "output_type": "execute_result",
          "data": {
            "text/plain": [
              "['BusinessTravel',\n",
              " 'Department',\n",
              " 'EducationField',\n",
              " 'Gender',\n",
              " 'JobRole',\n",
              " 'MaritalStatus',\n",
              " 'Over18',\n",
              " 'OverTime']"
            ]
          },
          "metadata": {},
          "execution_count": 9
        }
      ],
      "source": [
        "cat_cols"
      ]
    },
    {
      "cell_type": "code",
      "execution_count": 10,
      "metadata": {
        "colab": {
          "base_uri": "https://localhost:8080/"
        },
        "id": "IY8GUVFDFTs7",
        "outputId": "c56c675d-d4d8-4e1c-cf6d-2862efb7e002"
      },
      "outputs": [
        {
          "output_type": "execute_result",
          "data": {
            "text/plain": [
              "['Age',\n",
              " 'DailyRate',\n",
              " 'DistanceFromHome',\n",
              " 'Education',\n",
              " 'EmployeeCount',\n",
              " 'EmployeeNumber',\n",
              " 'EnvironmentSatisfaction',\n",
              " 'HourlyRate',\n",
              " 'JobInvolvement',\n",
              " 'JobLevel',\n",
              " 'JobSatisfaction',\n",
              " 'MonthlyIncome',\n",
              " 'MonthlyRate',\n",
              " 'NumCompaniesWorked',\n",
              " 'PercentSalaryHike',\n",
              " 'PerformanceRating',\n",
              " 'RelationshipSatisfaction',\n",
              " 'StandardHours',\n",
              " 'StockOptionLevel',\n",
              " 'TotalWorkingYears',\n",
              " 'TrainingTimesLastYear',\n",
              " 'WorkLifeBalance',\n",
              " 'YearsAtCompany',\n",
              " 'YearsInCurrentRole',\n",
              " 'YearsSinceLastPromotion',\n",
              " 'YearsWithCurrManager']"
            ]
          },
          "metadata": {},
          "execution_count": 10
        }
      ],
      "source": [
        "num_cols"
      ]
    },
    {
      "cell_type": "code",
      "execution_count": 11,
      "metadata": {
        "colab": {
          "base_uri": "https://localhost:8080/"
        },
        "id": "666GGPjOFTs7",
        "outputId": "d96fdaea-6d44-4ce9-aa3f-eb45d493b37d"
      },
      "outputs": [
        {
          "output_type": "execute_result",
          "data": {
            "text/plain": [
              "26"
            ]
          },
          "metadata": {},
          "execution_count": 11
        }
      ],
      "source": [
        "len(num_cols)"
      ]
    },
    {
      "cell_type": "markdown",
      "metadata": {
        "id": "9hHBDRIqFTs7"
      },
      "source": [
        "### Feature selection for numerical columns"
      ]
    },
    {
      "cell_type": "code",
      "execution_count": 12,
      "metadata": {
        "id": "BofuL3q9FTs7"
      },
      "outputs": [],
      "source": [
        "from warnings import filterwarnings\n",
        "filterwarnings('ignore')"
      ]
    },
    {
      "cell_type": "code",
      "execution_count": 13,
      "metadata": {
        "colab": {
          "base_uri": "https://localhost:8080/"
        },
        "id": "BVZgRn3CFTs7",
        "outputId": "71c31d42-74af-43b8-ebf5-2698a1293faa"
      },
      "outputs": [
        {
          "output_type": "execute_result",
          "data": {
            "text/plain": [
              "['Age',\n",
              " 'JobInvolvement',\n",
              " 'JobLevel',\n",
              " 'JobSatisfaction',\n",
              " 'MonthlyIncome',\n",
              " 'StockOptionLevel',\n",
              " 'TotalWorkingYears',\n",
              " 'YearsAtCompany',\n",
              " 'YearsInCurrentRole',\n",
              " 'YearsWithCurrManager']"
            ]
          },
          "metadata": {},
          "execution_count": 13
        }
      ],
      "source": [
        "from sklearn.feature_selection import SelectKBest, f_classif\n",
        "X_num = X[num_cols]\n",
        "k_best_numerical = SelectKBest(f_classif,k=10)\n",
        "k_best_numerical.fit_transform(X_num,Y)\n",
        "selected_num_features = list(X_num.columns[k_best_numerical.get_support()])\n",
        "selected_num_features"
      ]
    },
    {
      "cell_type": "markdown",
      "metadata": {
        "id": "J9_7PSbLFTs7"
      },
      "source": [
        "### Feature Selection for categorical variables"
      ]
    },
    {
      "cell_type": "code",
      "execution_count": 14,
      "metadata": {
        "colab": {
          "base_uri": "https://localhost:8080/"
        },
        "id": "utqwbhYTFTs8",
        "outputId": "6b4699fe-59ca-46bf-ae96-277393921984"
      },
      "outputs": [
        {
          "output_type": "execute_result",
          "data": {
            "text/plain": [
              "['Department', 'EducationField', 'JobRole', 'MaritalStatus', 'OverTime']"
            ]
          },
          "metadata": {},
          "execution_count": 14
        }
      ],
      "source": [
        "from sklearn.feature_selection import SelectKBest, chi2\n",
        "X_cat = X[cat_cols]\n",
        "from sklearn.preprocessing import OrdinalEncoder\n",
        "oe = OrdinalEncoder()\n",
        "X_cat_encoded = pd.DataFrame(oe.fit_transform(X_cat),columns=oe.get_feature_names_out())\n",
        "k_best_categorical = SelectKBest(chi2,k=5)\n",
        "k_best_categorical.fit_transform(X_cat_encoded,Y)\n",
        "selected_cat_features = list(X_cat_encoded.columns[k_best_categorical.get_support()])\n",
        "selected_cat_features"
      ]
    },
    {
      "cell_type": "code",
      "execution_count": 15,
      "metadata": {
        "colab": {
          "base_uri": "https://localhost:8080/"
        },
        "id": "g5RbK5XCFTs8",
        "outputId": "1119818c-cb4c-414f-8ea7-9f825fec308d"
      },
      "outputs": [
        {
          "output_type": "execute_result",
          "data": {
            "text/plain": [
              "['Age',\n",
              " 'JobInvolvement',\n",
              " 'JobLevel',\n",
              " 'JobSatisfaction',\n",
              " 'MonthlyIncome',\n",
              " 'StockOptionLevel',\n",
              " 'TotalWorkingYears',\n",
              " 'YearsAtCompany',\n",
              " 'YearsInCurrentRole',\n",
              " 'YearsWithCurrManager',\n",
              " 'Department',\n",
              " 'EducationField',\n",
              " 'JobRole',\n",
              " 'MaritalStatus',\n",
              " 'OverTime']"
            ]
          },
          "metadata": {},
          "execution_count": 15
        }
      ],
      "source": [
        "selected_features = selected_num_features + selected_cat_features\n",
        "selected_features"
      ]
    },
    {
      "cell_type": "code",
      "execution_count": 16,
      "metadata": {
        "colab": {
          "base_uri": "https://localhost:8080/",
          "height": 313
        },
        "id": "_CNqtCZgFTs8",
        "outputId": "c85d2f7b-e5df-4c74-af27-a66ea03be6ec"
      },
      "outputs": [
        {
          "output_type": "execute_result",
          "data": {
            "text/plain": [
              "   Age  JobInvolvement  JobLevel  JobSatisfaction  MonthlyIncome  \\\n",
              "0   41               3         2                4           5993   \n",
              "1   49               2         2                2           5130   \n",
              "2   37               2         1                3           2090   \n",
              "3   33               3         1                3           2909   \n",
              "4   27               3         1                2           3468   \n",
              "\n",
              "   StockOptionLevel  TotalWorkingYears  YearsAtCompany  YearsInCurrentRole  \\\n",
              "0                 0                  8               6                   4   \n",
              "1                 1                 10              10                   7   \n",
              "2                 0                  7               0                   0   \n",
              "3                 0                  8               8                   7   \n",
              "4                 1                  6               2                   2   \n",
              "\n",
              "   YearsWithCurrManager              Department EducationField  \\\n",
              "0                     5                   Sales  Life Sciences   \n",
              "1                     7  Research & Development  Life Sciences   \n",
              "2                     0  Research & Development          Other   \n",
              "3                     0  Research & Development  Life Sciences   \n",
              "4                     2  Research & Development        Medical   \n",
              "\n",
              "                 JobRole MaritalStatus OverTime  \n",
              "0        Sales Executive        Single      Yes  \n",
              "1     Research Scientist       Married       No  \n",
              "2  Laboratory Technician        Single      Yes  \n",
              "3     Research Scientist       Married      Yes  \n",
              "4  Laboratory Technician       Married       No  "
            ],
            "text/html": [
              "\n",
              "  <div id=\"df-ad9ef824-9f4f-4590-9a9b-d9557f1f27a3\" class=\"colab-df-container\">\n",
              "    <div>\n",
              "<style scoped>\n",
              "    .dataframe tbody tr th:only-of-type {\n",
              "        vertical-align: middle;\n",
              "    }\n",
              "\n",
              "    .dataframe tbody tr th {\n",
              "        vertical-align: top;\n",
              "    }\n",
              "\n",
              "    .dataframe thead th {\n",
              "        text-align: right;\n",
              "    }\n",
              "</style>\n",
              "<table border=\"1\" class=\"dataframe\">\n",
              "  <thead>\n",
              "    <tr style=\"text-align: right;\">\n",
              "      <th></th>\n",
              "      <th>Age</th>\n",
              "      <th>JobInvolvement</th>\n",
              "      <th>JobLevel</th>\n",
              "      <th>JobSatisfaction</th>\n",
              "      <th>MonthlyIncome</th>\n",
              "      <th>StockOptionLevel</th>\n",
              "      <th>TotalWorkingYears</th>\n",
              "      <th>YearsAtCompany</th>\n",
              "      <th>YearsInCurrentRole</th>\n",
              "      <th>YearsWithCurrManager</th>\n",
              "      <th>Department</th>\n",
              "      <th>EducationField</th>\n",
              "      <th>JobRole</th>\n",
              "      <th>MaritalStatus</th>\n",
              "      <th>OverTime</th>\n",
              "    </tr>\n",
              "  </thead>\n",
              "  <tbody>\n",
              "    <tr>\n",
              "      <th>0</th>\n",
              "      <td>41</td>\n",
              "      <td>3</td>\n",
              "      <td>2</td>\n",
              "      <td>4</td>\n",
              "      <td>5993</td>\n",
              "      <td>0</td>\n",
              "      <td>8</td>\n",
              "      <td>6</td>\n",
              "      <td>4</td>\n",
              "      <td>5</td>\n",
              "      <td>Sales</td>\n",
              "      <td>Life Sciences</td>\n",
              "      <td>Sales Executive</td>\n",
              "      <td>Single</td>\n",
              "      <td>Yes</td>\n",
              "    </tr>\n",
              "    <tr>\n",
              "      <th>1</th>\n",
              "      <td>49</td>\n",
              "      <td>2</td>\n",
              "      <td>2</td>\n",
              "      <td>2</td>\n",
              "      <td>5130</td>\n",
              "      <td>1</td>\n",
              "      <td>10</td>\n",
              "      <td>10</td>\n",
              "      <td>7</td>\n",
              "      <td>7</td>\n",
              "      <td>Research &amp; Development</td>\n",
              "      <td>Life Sciences</td>\n",
              "      <td>Research Scientist</td>\n",
              "      <td>Married</td>\n",
              "      <td>No</td>\n",
              "    </tr>\n",
              "    <tr>\n",
              "      <th>2</th>\n",
              "      <td>37</td>\n",
              "      <td>2</td>\n",
              "      <td>1</td>\n",
              "      <td>3</td>\n",
              "      <td>2090</td>\n",
              "      <td>0</td>\n",
              "      <td>7</td>\n",
              "      <td>0</td>\n",
              "      <td>0</td>\n",
              "      <td>0</td>\n",
              "      <td>Research &amp; Development</td>\n",
              "      <td>Other</td>\n",
              "      <td>Laboratory Technician</td>\n",
              "      <td>Single</td>\n",
              "      <td>Yes</td>\n",
              "    </tr>\n",
              "    <tr>\n",
              "      <th>3</th>\n",
              "      <td>33</td>\n",
              "      <td>3</td>\n",
              "      <td>1</td>\n",
              "      <td>3</td>\n",
              "      <td>2909</td>\n",
              "      <td>0</td>\n",
              "      <td>8</td>\n",
              "      <td>8</td>\n",
              "      <td>7</td>\n",
              "      <td>0</td>\n",
              "      <td>Research &amp; Development</td>\n",
              "      <td>Life Sciences</td>\n",
              "      <td>Research Scientist</td>\n",
              "      <td>Married</td>\n",
              "      <td>Yes</td>\n",
              "    </tr>\n",
              "    <tr>\n",
              "      <th>4</th>\n",
              "      <td>27</td>\n",
              "      <td>3</td>\n",
              "      <td>1</td>\n",
              "      <td>2</td>\n",
              "      <td>3468</td>\n",
              "      <td>1</td>\n",
              "      <td>6</td>\n",
              "      <td>2</td>\n",
              "      <td>2</td>\n",
              "      <td>2</td>\n",
              "      <td>Research &amp; Development</td>\n",
              "      <td>Medical</td>\n",
              "      <td>Laboratory Technician</td>\n",
              "      <td>Married</td>\n",
              "      <td>No</td>\n",
              "    </tr>\n",
              "  </tbody>\n",
              "</table>\n",
              "</div>\n",
              "    <div class=\"colab-df-buttons\">\n",
              "\n",
              "  <div class=\"colab-df-container\">\n",
              "    <button class=\"colab-df-convert\" onclick=\"convertToInteractive('df-ad9ef824-9f4f-4590-9a9b-d9557f1f27a3')\"\n",
              "            title=\"Convert this dataframe to an interactive table.\"\n",
              "            style=\"display:none;\">\n",
              "\n",
              "  <svg xmlns=\"http://www.w3.org/2000/svg\" height=\"24px\" viewBox=\"0 -960 960 960\">\n",
              "    <path d=\"M120-120v-720h720v720H120Zm60-500h600v-160H180v160Zm220 220h160v-160H400v160Zm0 220h160v-160H400v160ZM180-400h160v-160H180v160Zm440 0h160v-160H620v160ZM180-180h160v-160H180v160Zm440 0h160v-160H620v160Z\"/>\n",
              "  </svg>\n",
              "    </button>\n",
              "\n",
              "  <style>\n",
              "    .colab-df-container {\n",
              "      display:flex;\n",
              "      gap: 12px;\n",
              "    }\n",
              "\n",
              "    .colab-df-convert {\n",
              "      background-color: #E8F0FE;\n",
              "      border: none;\n",
              "      border-radius: 50%;\n",
              "      cursor: pointer;\n",
              "      display: none;\n",
              "      fill: #1967D2;\n",
              "      height: 32px;\n",
              "      padding: 0 0 0 0;\n",
              "      width: 32px;\n",
              "    }\n",
              "\n",
              "    .colab-df-convert:hover {\n",
              "      background-color: #E2EBFA;\n",
              "      box-shadow: 0px 1px 2px rgba(60, 64, 67, 0.3), 0px 1px 3px 1px rgba(60, 64, 67, 0.15);\n",
              "      fill: #174EA6;\n",
              "    }\n",
              "\n",
              "    .colab-df-buttons div {\n",
              "      margin-bottom: 4px;\n",
              "    }\n",
              "\n",
              "    [theme=dark] .colab-df-convert {\n",
              "      background-color: #3B4455;\n",
              "      fill: #D2E3FC;\n",
              "    }\n",
              "\n",
              "    [theme=dark] .colab-df-convert:hover {\n",
              "      background-color: #434B5C;\n",
              "      box-shadow: 0px 1px 3px 1px rgba(0, 0, 0, 0.15);\n",
              "      filter: drop-shadow(0px 1px 2px rgba(0, 0, 0, 0.3));\n",
              "      fill: #FFFFFF;\n",
              "    }\n",
              "  </style>\n",
              "\n",
              "    <script>\n",
              "      const buttonEl =\n",
              "        document.querySelector('#df-ad9ef824-9f4f-4590-9a9b-d9557f1f27a3 button.colab-df-convert');\n",
              "      buttonEl.style.display =\n",
              "        google.colab.kernel.accessAllowed ? 'block' : 'none';\n",
              "\n",
              "      async function convertToInteractive(key) {\n",
              "        const element = document.querySelector('#df-ad9ef824-9f4f-4590-9a9b-d9557f1f27a3');\n",
              "        const dataTable =\n",
              "          await google.colab.kernel.invokeFunction('convertToInteractive',\n",
              "                                                    [key], {});\n",
              "        if (!dataTable) return;\n",
              "\n",
              "        const docLinkHtml = 'Like what you see? Visit the ' +\n",
              "          '<a target=\"_blank\" href=https://colab.research.google.com/notebooks/data_table.ipynb>data table notebook</a>'\n",
              "          + ' to learn more about interactive tables.';\n",
              "        element.innerHTML = '';\n",
              "        dataTable['output_type'] = 'display_data';\n",
              "        await google.colab.output.renderOutput(dataTable, element);\n",
              "        const docLink = document.createElement('div');\n",
              "        docLink.innerHTML = docLinkHtml;\n",
              "        element.appendChild(docLink);\n",
              "      }\n",
              "    </script>\n",
              "  </div>\n",
              "\n",
              "\n",
              "<div id=\"df-9e74c867-7db2-4ebb-b179-d82a00ee1f62\">\n",
              "  <button class=\"colab-df-quickchart\" onclick=\"quickchart('df-9e74c867-7db2-4ebb-b179-d82a00ee1f62')\"\n",
              "            title=\"Suggest charts\"\n",
              "            style=\"display:none;\">\n",
              "\n",
              "<svg xmlns=\"http://www.w3.org/2000/svg\" height=\"24px\"viewBox=\"0 0 24 24\"\n",
              "     width=\"24px\">\n",
              "    <g>\n",
              "        <path d=\"M19 3H5c-1.1 0-2 .9-2 2v14c0 1.1.9 2 2 2h14c1.1 0 2-.9 2-2V5c0-1.1-.9-2-2-2zM9 17H7v-7h2v7zm4 0h-2V7h2v10zm4 0h-2v-4h2v4z\"/>\n",
              "    </g>\n",
              "</svg>\n",
              "  </button>\n",
              "\n",
              "<style>\n",
              "  .colab-df-quickchart {\n",
              "      --bg-color: #E8F0FE;\n",
              "      --fill-color: #1967D2;\n",
              "      --hover-bg-color: #E2EBFA;\n",
              "      --hover-fill-color: #174EA6;\n",
              "      --disabled-fill-color: #AAA;\n",
              "      --disabled-bg-color: #DDD;\n",
              "  }\n",
              "\n",
              "  [theme=dark] .colab-df-quickchart {\n",
              "      --bg-color: #3B4455;\n",
              "      --fill-color: #D2E3FC;\n",
              "      --hover-bg-color: #434B5C;\n",
              "      --hover-fill-color: #FFFFFF;\n",
              "      --disabled-bg-color: #3B4455;\n",
              "      --disabled-fill-color: #666;\n",
              "  }\n",
              "\n",
              "  .colab-df-quickchart {\n",
              "    background-color: var(--bg-color);\n",
              "    border: none;\n",
              "    border-radius: 50%;\n",
              "    cursor: pointer;\n",
              "    display: none;\n",
              "    fill: var(--fill-color);\n",
              "    height: 32px;\n",
              "    padding: 0;\n",
              "    width: 32px;\n",
              "  }\n",
              "\n",
              "  .colab-df-quickchart:hover {\n",
              "    background-color: var(--hover-bg-color);\n",
              "    box-shadow: 0 1px 2px rgba(60, 64, 67, 0.3), 0 1px 3px 1px rgba(60, 64, 67, 0.15);\n",
              "    fill: var(--button-hover-fill-color);\n",
              "  }\n",
              "\n",
              "  .colab-df-quickchart-complete:disabled,\n",
              "  .colab-df-quickchart-complete:disabled:hover {\n",
              "    background-color: var(--disabled-bg-color);\n",
              "    fill: var(--disabled-fill-color);\n",
              "    box-shadow: none;\n",
              "  }\n",
              "\n",
              "  .colab-df-spinner {\n",
              "    border: 2px solid var(--fill-color);\n",
              "    border-color: transparent;\n",
              "    border-bottom-color: var(--fill-color);\n",
              "    animation:\n",
              "      spin 1s steps(1) infinite;\n",
              "  }\n",
              "\n",
              "  @keyframes spin {\n",
              "    0% {\n",
              "      border-color: transparent;\n",
              "      border-bottom-color: var(--fill-color);\n",
              "      border-left-color: var(--fill-color);\n",
              "    }\n",
              "    20% {\n",
              "      border-color: transparent;\n",
              "      border-left-color: var(--fill-color);\n",
              "      border-top-color: var(--fill-color);\n",
              "    }\n",
              "    30% {\n",
              "      border-color: transparent;\n",
              "      border-left-color: var(--fill-color);\n",
              "      border-top-color: var(--fill-color);\n",
              "      border-right-color: var(--fill-color);\n",
              "    }\n",
              "    40% {\n",
              "      border-color: transparent;\n",
              "      border-right-color: var(--fill-color);\n",
              "      border-top-color: var(--fill-color);\n",
              "    }\n",
              "    60% {\n",
              "      border-color: transparent;\n",
              "      border-right-color: var(--fill-color);\n",
              "    }\n",
              "    80% {\n",
              "      border-color: transparent;\n",
              "      border-right-color: var(--fill-color);\n",
              "      border-bottom-color: var(--fill-color);\n",
              "    }\n",
              "    90% {\n",
              "      border-color: transparent;\n",
              "      border-bottom-color: var(--fill-color);\n",
              "    }\n",
              "  }\n",
              "</style>\n",
              "\n",
              "  <script>\n",
              "    async function quickchart(key) {\n",
              "      const quickchartButtonEl =\n",
              "        document.querySelector('#' + key + ' button');\n",
              "      quickchartButtonEl.disabled = true;  // To prevent multiple clicks.\n",
              "      quickchartButtonEl.classList.add('colab-df-spinner');\n",
              "      try {\n",
              "        const charts = await google.colab.kernel.invokeFunction(\n",
              "            'suggestCharts', [key], {});\n",
              "      } catch (error) {\n",
              "        console.error('Error during call to suggestCharts:', error);\n",
              "      }\n",
              "      quickchartButtonEl.classList.remove('colab-df-spinner');\n",
              "      quickchartButtonEl.classList.add('colab-df-quickchart-complete');\n",
              "    }\n",
              "    (() => {\n",
              "      let quickchartButtonEl =\n",
              "        document.querySelector('#df-9e74c867-7db2-4ebb-b179-d82a00ee1f62 button');\n",
              "      quickchartButtonEl.style.display =\n",
              "        google.colab.kernel.accessAllowed ? 'block' : 'none';\n",
              "    })();\n",
              "  </script>\n",
              "</div>\n",
              "\n",
              "    </div>\n",
              "  </div>\n"
            ],
            "application/vnd.google.colaboratory.intrinsic+json": {
              "type": "dataframe",
              "variable_name": "X_selected",
              "summary": "{\n  \"name\": \"X_selected\",\n  \"rows\": 1470,\n  \"fields\": [\n    {\n      \"column\": \"Age\",\n      \"properties\": {\n        \"dtype\": \"number\",\n        \"std\": 9,\n        \"min\": 18,\n        \"max\": 60,\n        \"num_unique_values\": 43,\n        \"samples\": [\n          19,\n          50,\n          26\n        ],\n        \"semantic_type\": \"\",\n        \"description\": \"\"\n      }\n    },\n    {\n      \"column\": \"JobInvolvement\",\n      \"properties\": {\n        \"dtype\": \"number\",\n        \"std\": 0,\n        \"min\": 1,\n        \"max\": 4,\n        \"num_unique_values\": 4,\n        \"samples\": [\n          2,\n          1,\n          3\n        ],\n        \"semantic_type\": \"\",\n        \"description\": \"\"\n      }\n    },\n    {\n      \"column\": \"JobLevel\",\n      \"properties\": {\n        \"dtype\": \"number\",\n        \"std\": 1,\n        \"min\": 1,\n        \"max\": 5,\n        \"num_unique_values\": 5,\n        \"samples\": [\n          1,\n          5,\n          3\n        ],\n        \"semantic_type\": \"\",\n        \"description\": \"\"\n      }\n    },\n    {\n      \"column\": \"JobSatisfaction\",\n      \"properties\": {\n        \"dtype\": \"number\",\n        \"std\": 1,\n        \"min\": 1,\n        \"max\": 4,\n        \"num_unique_values\": 4,\n        \"samples\": [\n          2,\n          1,\n          4\n        ],\n        \"semantic_type\": \"\",\n        \"description\": \"\"\n      }\n    },\n    {\n      \"column\": \"MonthlyIncome\",\n      \"properties\": {\n        \"dtype\": \"number\",\n        \"std\": 4707,\n        \"min\": 1009,\n        \"max\": 19999,\n        \"num_unique_values\": 1349,\n        \"samples\": [\n          1420,\n          10169,\n          5309\n        ],\n        \"semantic_type\": \"\",\n        \"description\": \"\"\n      }\n    },\n    {\n      \"column\": \"StockOptionLevel\",\n      \"properties\": {\n        \"dtype\": \"number\",\n        \"std\": 0,\n        \"min\": 0,\n        \"max\": 3,\n        \"num_unique_values\": 4,\n        \"samples\": [\n          1,\n          2,\n          0\n        ],\n        \"semantic_type\": \"\",\n        \"description\": \"\"\n      }\n    },\n    {\n      \"column\": \"TotalWorkingYears\",\n      \"properties\": {\n        \"dtype\": \"number\",\n        \"std\": 7,\n        \"min\": 0,\n        \"max\": 40,\n        \"num_unique_values\": 40,\n        \"samples\": [\n          14,\n          19,\n          9\n        ],\n        \"semantic_type\": \"\",\n        \"description\": \"\"\n      }\n    },\n    {\n      \"column\": \"YearsAtCompany\",\n      \"properties\": {\n        \"dtype\": \"number\",\n        \"std\": 6,\n        \"min\": 0,\n        \"max\": 40,\n        \"num_unique_values\": 37,\n        \"samples\": [\n          21,\n          14,\n          2\n        ],\n        \"semantic_type\": \"\",\n        \"description\": \"\"\n      }\n    },\n    {\n      \"column\": \"YearsInCurrentRole\",\n      \"properties\": {\n        \"dtype\": \"number\",\n        \"std\": 3,\n        \"min\": 0,\n        \"max\": 18,\n        \"num_unique_values\": 19,\n        \"samples\": [\n          4,\n          9,\n          15\n        ],\n        \"semantic_type\": \"\",\n        \"description\": \"\"\n      }\n    },\n    {\n      \"column\": \"YearsWithCurrManager\",\n      \"properties\": {\n        \"dtype\": \"number\",\n        \"std\": 3,\n        \"min\": 0,\n        \"max\": 17,\n        \"num_unique_values\": 18,\n        \"samples\": [\n          5,\n          7,\n          17\n        ],\n        \"semantic_type\": \"\",\n        \"description\": \"\"\n      }\n    },\n    {\n      \"column\": \"Department\",\n      \"properties\": {\n        \"dtype\": \"category\",\n        \"num_unique_values\": 3,\n        \"samples\": [\n          \"Sales\",\n          \"Research & Development\",\n          \"Human Resources\"\n        ],\n        \"semantic_type\": \"\",\n        \"description\": \"\"\n      }\n    },\n    {\n      \"column\": \"EducationField\",\n      \"properties\": {\n        \"dtype\": \"category\",\n        \"num_unique_values\": 6,\n        \"samples\": [\n          \"Life Sciences\",\n          \"Other\",\n          \"Human Resources\"\n        ],\n        \"semantic_type\": \"\",\n        \"description\": \"\"\n      }\n    },\n    {\n      \"column\": \"JobRole\",\n      \"properties\": {\n        \"dtype\": \"category\",\n        \"num_unique_values\": 9,\n        \"samples\": [\n          \"Research Director\",\n          \"Research Scientist\",\n          \"Manager\"\n        ],\n        \"semantic_type\": \"\",\n        \"description\": \"\"\n      }\n    },\n    {\n      \"column\": \"MaritalStatus\",\n      \"properties\": {\n        \"dtype\": \"category\",\n        \"num_unique_values\": 3,\n        \"samples\": [\n          \"Single\",\n          \"Married\",\n          \"Divorced\"\n        ],\n        \"semantic_type\": \"\",\n        \"description\": \"\"\n      }\n    },\n    {\n      \"column\": \"OverTime\",\n      \"properties\": {\n        \"dtype\": \"category\",\n        \"num_unique_values\": 2,\n        \"samples\": [\n          \"No\",\n          \"Yes\"\n        ],\n        \"semantic_type\": \"\",\n        \"description\": \"\"\n      }\n    }\n  ]\n}"
            }
          },
          "metadata": {},
          "execution_count": 16
        }
      ],
      "source": [
        "X_selected = X[selected_features]\n",
        "X_selected.head()"
      ]
    },
    {
      "cell_type": "code",
      "execution_count": 17,
      "metadata": {
        "colab": {
          "base_uri": "https://localhost:8080/"
        },
        "id": "1U_8HqxjFTs-",
        "outputId": "7b2e1396-823e-40e8-c6f4-d72db6897596"
      },
      "outputs": [
        {
          "output_type": "execute_result",
          "data": {
            "text/plain": [
              "(1470, 15)"
            ]
          },
          "metadata": {},
          "execution_count": 17
        }
      ],
      "source": [
        "X_selected.shape"
      ]
    },
    {
      "cell_type": "markdown",
      "metadata": {
        "id": "uX7uH33QFTs-"
      },
      "source": [
        "### Feature Selection is completed"
      ]
    },
    {
      "cell_type": "markdown",
      "metadata": {
        "id": "EYO6vasvFTs-"
      },
      "source": [
        "### Train Test Split of data"
      ]
    },
    {
      "cell_type": "code",
      "execution_count": 18,
      "metadata": {
        "id": "GOcjr8dwFTs-"
      },
      "outputs": [],
      "source": [
        "from sklearn.model_selection import train_test_split\n",
        "xtrain, xtest, ytrain, ytest = train_test_split(X_selected,Y,test_size=0.2,random_state=42,stratify=Y)"
      ]
    },
    {
      "cell_type": "code",
      "execution_count": 19,
      "metadata": {
        "colab": {
          "base_uri": "https://localhost:8080/"
        },
        "id": "hihcPZbtFTs-",
        "outputId": "4c008226-022a-44f6-f434-9a89914c2d48"
      },
      "outputs": [
        {
          "output_type": "execute_result",
          "data": {
            "text/plain": [
              "(1176, 15)"
            ]
          },
          "metadata": {},
          "execution_count": 19
        }
      ],
      "source": [
        "xtrain.shape"
      ]
    },
    {
      "cell_type": "code",
      "execution_count": 20,
      "metadata": {
        "colab": {
          "base_uri": "https://localhost:8080/"
        },
        "id": "3qCe79C9FTs-",
        "outputId": "1f0d2657-6b4a-4d09-9c83-581317800911"
      },
      "outputs": [
        {
          "output_type": "execute_result",
          "data": {
            "text/plain": [
              "(294, 15)"
            ]
          },
          "metadata": {},
          "execution_count": 20
        }
      ],
      "source": [
        "xtest.shape"
      ]
    },
    {
      "cell_type": "code",
      "execution_count": 21,
      "metadata": {
        "colab": {
          "base_uri": "https://localhost:8080/"
        },
        "id": "wf31TYizFTs_",
        "outputId": "90d1d3fa-1ad8-4c59-dcc1-fc8d5d353fab"
      },
      "outputs": [
        {
          "output_type": "execute_result",
          "data": {
            "text/plain": [
              "Attrition\n",
              "0            986\n",
              "1            190\n",
              "dtype: int64"
            ]
          },
          "metadata": {},
          "execution_count": 21
        }
      ],
      "source": [
        "ytrain.value_counts()"
      ]
    },
    {
      "cell_type": "code",
      "execution_count": 22,
      "metadata": {
        "colab": {
          "base_uri": "https://localhost:8080/"
        },
        "id": "YuUArK_3FTs_",
        "outputId": "06dd22b8-9774-42d9-e0d3-68c4c9268be7"
      },
      "outputs": [
        {
          "output_type": "execute_result",
          "data": {
            "text/plain": [
              "Attrition\n",
              "0            247\n",
              "1             47\n",
              "dtype: int64"
            ]
          },
          "metadata": {},
          "execution_count": 22
        }
      ],
      "source": [
        "ytest.value_counts()"
      ]
    },
    {
      "cell_type": "markdown",
      "metadata": {
        "id": "Na-iiw6cFTs_"
      },
      "source": [
        "### Creating numeric and categorical pipeline"
      ]
    },
    {
      "cell_type": "code",
      "execution_count": 23,
      "metadata": {
        "id": "Q3HSYM7dFTs_"
      },
      "outputs": [],
      "source": [
        "from sklearn.impute import SimpleImputer\n",
        "from sklearn.pipeline import Pipeline\n",
        "from sklearn.preprocessing import OneHotEncoder,StandardScaler\n",
        "\n",
        "# Numeric Pipeline creation\n",
        "num_pipeline = Pipeline(steps=[('imputer',SimpleImputer(strategy='mean')),\n",
        "                               ('scaler',StandardScaler())])\n",
        "\n",
        "# Categorical Pipeline creation\n",
        "cat_pipeline = Pipeline(steps=[('imputer',SimpleImputer(strategy='most_frequent')),\n",
        "                               ('one_hot_encoder',OneHotEncoder()),\n",
        "                               ('scaler',StandardScaler(with_mean=False))])"
      ]
    },
    {
      "cell_type": "markdown",
      "metadata": {
        "id": "iRzB_XvuFTs_"
      },
      "source": [
        "### ColumnTransformer to combine numeric and Categorical pipelines"
      ]
    },
    {
      "cell_type": "code",
      "execution_count": 24,
      "metadata": {
        "colab": {
          "base_uri": "https://localhost:8080/"
        },
        "id": "YmPCviDvFTtA",
        "outputId": "900bd06e-3f9f-4831-b7f6-3d905d3941ff"
      },
      "outputs": [
        {
          "output_type": "execute_result",
          "data": {
            "text/plain": [
              "['Age',\n",
              " 'JobInvolvement',\n",
              " 'JobLevel',\n",
              " 'JobSatisfaction',\n",
              " 'MonthlyIncome',\n",
              " 'StockOptionLevel',\n",
              " 'TotalWorkingYears',\n",
              " 'YearsAtCompany',\n",
              " 'YearsInCurrentRole',\n",
              " 'YearsWithCurrManager']"
            ]
          },
          "metadata": {},
          "execution_count": 24
        }
      ],
      "source": [
        "selected_num_features"
      ]
    },
    {
      "cell_type": "code",
      "execution_count": 25,
      "metadata": {
        "colab": {
          "base_uri": "https://localhost:8080/"
        },
        "id": "2EzCuqAxFTtA",
        "outputId": "970c1b4e-f3be-4f17-e36a-818ecc8c967c"
      },
      "outputs": [
        {
          "output_type": "execute_result",
          "data": {
            "text/plain": [
              "['Department', 'EducationField', 'JobRole', 'MaritalStatus', 'OverTime']"
            ]
          },
          "metadata": {},
          "execution_count": 25
        }
      ],
      "source": [
        "selected_cat_features"
      ]
    },
    {
      "cell_type": "code",
      "execution_count": 26,
      "metadata": {
        "id": "FyuZkFMiFTtA"
      },
      "outputs": [],
      "source": [
        "from sklearn.compose import ColumnTransformer\n",
        "preprocessor = ColumnTransformer([('num_pipeline',num_pipeline,selected_num_features),\n",
        "                                  ('cat_pipeline',cat_pipeline,selected_cat_features)])"
      ]
    },
    {
      "cell_type": "markdown",
      "metadata": {
        "id": "asdwNI1FFTtA"
      },
      "source": [
        "### Transform the dataset with ColumnTransformer"
      ]
    },
    {
      "cell_type": "code",
      "execution_count": 27,
      "metadata": {
        "id": "9xyhz5dsFTtB"
      },
      "outputs": [],
      "source": [
        "xtrain_transformed = pd.DataFrame(preprocessor.fit_transform(xtrain),columns=preprocessor.get_feature_names_out())\n",
        "xtest_transformed = pd.DataFrame(preprocessor.transform(xtest),columns=preprocessor.get_feature_names_out())"
      ]
    },
    {
      "cell_type": "code",
      "execution_count": 28,
      "metadata": {
        "colab": {
          "base_uri": "https://localhost:8080/"
        },
        "id": "uXXioo6VFTtB",
        "outputId": "606f0b04-1542-4c9b-b907-300b1de0d48c"
      },
      "outputs": [
        {
          "output_type": "execute_result",
          "data": {
            "text/plain": [
              "array(['num_pipeline__Age', 'num_pipeline__JobInvolvement',\n",
              "       'num_pipeline__JobLevel', 'num_pipeline__JobSatisfaction',\n",
              "       'num_pipeline__MonthlyIncome', 'num_pipeline__StockOptionLevel',\n",
              "       'num_pipeline__TotalWorkingYears', 'num_pipeline__YearsAtCompany',\n",
              "       'num_pipeline__YearsInCurrentRole',\n",
              "       'num_pipeline__YearsWithCurrManager',\n",
              "       'cat_pipeline__Department_Human Resources',\n",
              "       'cat_pipeline__Department_Research & Development',\n",
              "       'cat_pipeline__Department_Sales',\n",
              "       'cat_pipeline__EducationField_Human Resources',\n",
              "       'cat_pipeline__EducationField_Life Sciences',\n",
              "       'cat_pipeline__EducationField_Marketing',\n",
              "       'cat_pipeline__EducationField_Medical',\n",
              "       'cat_pipeline__EducationField_Other',\n",
              "       'cat_pipeline__EducationField_Technical Degree',\n",
              "       'cat_pipeline__JobRole_Healthcare Representative',\n",
              "       'cat_pipeline__JobRole_Human Resources',\n",
              "       'cat_pipeline__JobRole_Laboratory Technician',\n",
              "       'cat_pipeline__JobRole_Manager',\n",
              "       'cat_pipeline__JobRole_Manufacturing Director',\n",
              "       'cat_pipeline__JobRole_Research Director',\n",
              "       'cat_pipeline__JobRole_Research Scientist',\n",
              "       'cat_pipeline__JobRole_Sales Executive',\n",
              "       'cat_pipeline__JobRole_Sales Representative',\n",
              "       'cat_pipeline__MaritalStatus_Divorced',\n",
              "       'cat_pipeline__MaritalStatus_Married',\n",
              "       'cat_pipeline__MaritalStatus_Single', 'cat_pipeline__OverTime_No',\n",
              "       'cat_pipeline__OverTime_Yes'], dtype=object)"
            ]
          },
          "metadata": {},
          "execution_count": 28
        }
      ],
      "source": [
        "preprocessor.get_feature_names_out()"
      ]
    },
    {
      "cell_type": "code",
      "execution_count": 29,
      "metadata": {
        "colab": {
          "base_uri": "https://localhost:8080/",
          "height": 273
        },
        "id": "zhp2Lg3BFTtB",
        "outputId": "730a3543-f709-48e2-8c6c-f5174994a98d"
      },
      "outputs": [
        {
          "output_type": "execute_result",
          "data": {
            "text/plain": [
              "   num_pipeline__Age  num_pipeline__JobInvolvement  num_pipeline__JobLevel  \\\n",
              "0           1.090194                      1.795282                1.762189   \n",
              "1          -1.634828                      0.373564               -0.986265   \n",
              "2           0.981193                      0.373564                1.762189   \n",
              "3          -1.307825                      0.373564               -0.986265   \n",
              "4           0.654191                      0.373564               -0.070114   \n",
              "\n",
              "   num_pipeline__JobSatisfaction  num_pipeline__MonthlyIncome  \\\n",
              "0                      -0.647997                     2.026752   \n",
              "1                       1.153526                    -0.864408   \n",
              "2                       0.252765                     2.347706   \n",
              "3                       0.252765                    -0.956202   \n",
              "4                       0.252765                    -0.185956   \n",
              "\n",
              "   num_pipeline__StockOptionLevel  num_pipeline__TotalWorkingYears  \\\n",
              "0                        2.613100                         2.261482   \n",
              "1                        0.247430                        -1.072675   \n",
              "2                        0.247430                         1.492061   \n",
              "3                       -0.935405                        -0.559727   \n",
              "4                        0.247430                        -0.175017   \n",
              "\n",
              "   num_pipeline__YearsAtCompany  num_pipeline__YearsInCurrentRole  \\\n",
              "0                     -0.665706                         -0.625365   \n",
              "1                     -0.830071                         -0.905635   \n",
              "2                      0.813578                          1.336527   \n",
              "3                     -0.008246                         -0.064824   \n",
              "4                      0.156119                          0.775986   \n",
              "\n",
              "   num_pipeline__YearsWithCurrManager  ...  \\\n",
              "0                           -0.616406  ...   \n",
              "1                           -0.897047  ...   \n",
              "2                            1.348076  ...   \n",
              "3                            0.506155  ...   \n",
              "4                            0.786795  ...   \n",
              "\n",
              "   cat_pipeline__JobRole_Manufacturing Director  \\\n",
              "0                                           0.0   \n",
              "1                                           0.0   \n",
              "2                                           0.0   \n",
              "3                                           0.0   \n",
              "4                                           0.0   \n",
              "\n",
              "   cat_pipeline__JobRole_Research Director  \\\n",
              "0                                      0.0   \n",
              "1                                      0.0   \n",
              "2                                      0.0   \n",
              "3                                      0.0   \n",
              "4                                      0.0   \n",
              "\n",
              "   cat_pipeline__JobRole_Research Scientist  \\\n",
              "0                                       0.0   \n",
              "1                                       0.0   \n",
              "2                                       0.0   \n",
              "3                                       0.0   \n",
              "4                                       0.0   \n",
              "\n",
              "   cat_pipeline__JobRole_Sales Executive  \\\n",
              "0                                    0.0   \n",
              "1                                    0.0   \n",
              "2                                    0.0   \n",
              "3                                    0.0   \n",
              "4                                    0.0   \n",
              "\n",
              "   cat_pipeline__JobRole_Sales Representative  \\\n",
              "0                                    0.000000   \n",
              "1                                    0.000000   \n",
              "2                                    0.000000   \n",
              "3                                    4.544641   \n",
              "4                                    0.000000   \n",
              "\n",
              "   cat_pipeline__MaritalStatus_Divorced  cat_pipeline__MaritalStatus_Married  \\\n",
              "0                              2.399905                             0.000000   \n",
              "1                              0.000000                             2.006697   \n",
              "2                              0.000000                             2.006697   \n",
              "3                              0.000000                             2.006697   \n",
              "4                              2.399905                             0.000000   \n",
              "\n",
              "   cat_pipeline__MaritalStatus_Single  cat_pipeline__OverTime_No  \\\n",
              "0                                 0.0                   2.205793   \n",
              "1                                 0.0                   2.205793   \n",
              "2                                 0.0                   2.205793   \n",
              "3                                 0.0                   2.205793   \n",
              "4                                 0.0                   0.000000   \n",
              "\n",
              "   cat_pipeline__OverTime_Yes  \n",
              "0                    0.000000  \n",
              "1                    0.000000  \n",
              "2                    0.000000  \n",
              "3                    0.000000  \n",
              "4                    2.205793  \n",
              "\n",
              "[5 rows x 33 columns]"
            ],
            "text/html": [
              "\n",
              "  <div id=\"df-ae123c8f-0f28-4488-b659-0e2f113b6c6c\" class=\"colab-df-container\">\n",
              "    <div>\n",
              "<style scoped>\n",
              "    .dataframe tbody tr th:only-of-type {\n",
              "        vertical-align: middle;\n",
              "    }\n",
              "\n",
              "    .dataframe tbody tr th {\n",
              "        vertical-align: top;\n",
              "    }\n",
              "\n",
              "    .dataframe thead th {\n",
              "        text-align: right;\n",
              "    }\n",
              "</style>\n",
              "<table border=\"1\" class=\"dataframe\">\n",
              "  <thead>\n",
              "    <tr style=\"text-align: right;\">\n",
              "      <th></th>\n",
              "      <th>num_pipeline__Age</th>\n",
              "      <th>num_pipeline__JobInvolvement</th>\n",
              "      <th>num_pipeline__JobLevel</th>\n",
              "      <th>num_pipeline__JobSatisfaction</th>\n",
              "      <th>num_pipeline__MonthlyIncome</th>\n",
              "      <th>num_pipeline__StockOptionLevel</th>\n",
              "      <th>num_pipeline__TotalWorkingYears</th>\n",
              "      <th>num_pipeline__YearsAtCompany</th>\n",
              "      <th>num_pipeline__YearsInCurrentRole</th>\n",
              "      <th>num_pipeline__YearsWithCurrManager</th>\n",
              "      <th>...</th>\n",
              "      <th>cat_pipeline__JobRole_Manufacturing Director</th>\n",
              "      <th>cat_pipeline__JobRole_Research Director</th>\n",
              "      <th>cat_pipeline__JobRole_Research Scientist</th>\n",
              "      <th>cat_pipeline__JobRole_Sales Executive</th>\n",
              "      <th>cat_pipeline__JobRole_Sales Representative</th>\n",
              "      <th>cat_pipeline__MaritalStatus_Divorced</th>\n",
              "      <th>cat_pipeline__MaritalStatus_Married</th>\n",
              "      <th>cat_pipeline__MaritalStatus_Single</th>\n",
              "      <th>cat_pipeline__OverTime_No</th>\n",
              "      <th>cat_pipeline__OverTime_Yes</th>\n",
              "    </tr>\n",
              "  </thead>\n",
              "  <tbody>\n",
              "    <tr>\n",
              "      <th>0</th>\n",
              "      <td>1.090194</td>\n",
              "      <td>1.795282</td>\n",
              "      <td>1.762189</td>\n",
              "      <td>-0.647997</td>\n",
              "      <td>2.026752</td>\n",
              "      <td>2.613100</td>\n",
              "      <td>2.261482</td>\n",
              "      <td>-0.665706</td>\n",
              "      <td>-0.625365</td>\n",
              "      <td>-0.616406</td>\n",
              "      <td>...</td>\n",
              "      <td>0.0</td>\n",
              "      <td>0.0</td>\n",
              "      <td>0.0</td>\n",
              "      <td>0.0</td>\n",
              "      <td>0.000000</td>\n",
              "      <td>2.399905</td>\n",
              "      <td>0.000000</td>\n",
              "      <td>0.0</td>\n",
              "      <td>2.205793</td>\n",
              "      <td>0.000000</td>\n",
              "    </tr>\n",
              "    <tr>\n",
              "      <th>1</th>\n",
              "      <td>-1.634828</td>\n",
              "      <td>0.373564</td>\n",
              "      <td>-0.986265</td>\n",
              "      <td>1.153526</td>\n",
              "      <td>-0.864408</td>\n",
              "      <td>0.247430</td>\n",
              "      <td>-1.072675</td>\n",
              "      <td>-0.830071</td>\n",
              "      <td>-0.905635</td>\n",
              "      <td>-0.897047</td>\n",
              "      <td>...</td>\n",
              "      <td>0.0</td>\n",
              "      <td>0.0</td>\n",
              "      <td>0.0</td>\n",
              "      <td>0.0</td>\n",
              "      <td>0.000000</td>\n",
              "      <td>0.000000</td>\n",
              "      <td>2.006697</td>\n",
              "      <td>0.0</td>\n",
              "      <td>2.205793</td>\n",
              "      <td>0.000000</td>\n",
              "    </tr>\n",
              "    <tr>\n",
              "      <th>2</th>\n",
              "      <td>0.981193</td>\n",
              "      <td>0.373564</td>\n",
              "      <td>1.762189</td>\n",
              "      <td>0.252765</td>\n",
              "      <td>2.347706</td>\n",
              "      <td>0.247430</td>\n",
              "      <td>1.492061</td>\n",
              "      <td>0.813578</td>\n",
              "      <td>1.336527</td>\n",
              "      <td>1.348076</td>\n",
              "      <td>...</td>\n",
              "      <td>0.0</td>\n",
              "      <td>0.0</td>\n",
              "      <td>0.0</td>\n",
              "      <td>0.0</td>\n",
              "      <td>0.000000</td>\n",
              "      <td>0.000000</td>\n",
              "      <td>2.006697</td>\n",
              "      <td>0.0</td>\n",
              "      <td>2.205793</td>\n",
              "      <td>0.000000</td>\n",
              "    </tr>\n",
              "    <tr>\n",
              "      <th>3</th>\n",
              "      <td>-1.307825</td>\n",
              "      <td>0.373564</td>\n",
              "      <td>-0.986265</td>\n",
              "      <td>0.252765</td>\n",
              "      <td>-0.956202</td>\n",
              "      <td>-0.935405</td>\n",
              "      <td>-0.559727</td>\n",
              "      <td>-0.008246</td>\n",
              "      <td>-0.064824</td>\n",
              "      <td>0.506155</td>\n",
              "      <td>...</td>\n",
              "      <td>0.0</td>\n",
              "      <td>0.0</td>\n",
              "      <td>0.0</td>\n",
              "      <td>0.0</td>\n",
              "      <td>4.544641</td>\n",
              "      <td>0.000000</td>\n",
              "      <td>2.006697</td>\n",
              "      <td>0.0</td>\n",
              "      <td>2.205793</td>\n",
              "      <td>0.000000</td>\n",
              "    </tr>\n",
              "    <tr>\n",
              "      <th>4</th>\n",
              "      <td>0.654191</td>\n",
              "      <td>0.373564</td>\n",
              "      <td>-0.070114</td>\n",
              "      <td>0.252765</td>\n",
              "      <td>-0.185956</td>\n",
              "      <td>0.247430</td>\n",
              "      <td>-0.175017</td>\n",
              "      <td>0.156119</td>\n",
              "      <td>0.775986</td>\n",
              "      <td>0.786795</td>\n",
              "      <td>...</td>\n",
              "      <td>0.0</td>\n",
              "      <td>0.0</td>\n",
              "      <td>0.0</td>\n",
              "      <td>0.0</td>\n",
              "      <td>0.000000</td>\n",
              "      <td>2.399905</td>\n",
              "      <td>0.000000</td>\n",
              "      <td>0.0</td>\n",
              "      <td>0.000000</td>\n",
              "      <td>2.205793</td>\n",
              "    </tr>\n",
              "  </tbody>\n",
              "</table>\n",
              "<p>5 rows × 33 columns</p>\n",
              "</div>\n",
              "    <div class=\"colab-df-buttons\">\n",
              "\n",
              "  <div class=\"colab-df-container\">\n",
              "    <button class=\"colab-df-convert\" onclick=\"convertToInteractive('df-ae123c8f-0f28-4488-b659-0e2f113b6c6c')\"\n",
              "            title=\"Convert this dataframe to an interactive table.\"\n",
              "            style=\"display:none;\">\n",
              "\n",
              "  <svg xmlns=\"http://www.w3.org/2000/svg\" height=\"24px\" viewBox=\"0 -960 960 960\">\n",
              "    <path d=\"M120-120v-720h720v720H120Zm60-500h600v-160H180v160Zm220 220h160v-160H400v160Zm0 220h160v-160H400v160ZM180-400h160v-160H180v160Zm440 0h160v-160H620v160ZM180-180h160v-160H180v160Zm440 0h160v-160H620v160Z\"/>\n",
              "  </svg>\n",
              "    </button>\n",
              "\n",
              "  <style>\n",
              "    .colab-df-container {\n",
              "      display:flex;\n",
              "      gap: 12px;\n",
              "    }\n",
              "\n",
              "    .colab-df-convert {\n",
              "      background-color: #E8F0FE;\n",
              "      border: none;\n",
              "      border-radius: 50%;\n",
              "      cursor: pointer;\n",
              "      display: none;\n",
              "      fill: #1967D2;\n",
              "      height: 32px;\n",
              "      padding: 0 0 0 0;\n",
              "      width: 32px;\n",
              "    }\n",
              "\n",
              "    .colab-df-convert:hover {\n",
              "      background-color: #E2EBFA;\n",
              "      box-shadow: 0px 1px 2px rgba(60, 64, 67, 0.3), 0px 1px 3px 1px rgba(60, 64, 67, 0.15);\n",
              "      fill: #174EA6;\n",
              "    }\n",
              "\n",
              "    .colab-df-buttons div {\n",
              "      margin-bottom: 4px;\n",
              "    }\n",
              "\n",
              "    [theme=dark] .colab-df-convert {\n",
              "      background-color: #3B4455;\n",
              "      fill: #D2E3FC;\n",
              "    }\n",
              "\n",
              "    [theme=dark] .colab-df-convert:hover {\n",
              "      background-color: #434B5C;\n",
              "      box-shadow: 0px 1px 3px 1px rgba(0, 0, 0, 0.15);\n",
              "      filter: drop-shadow(0px 1px 2px rgba(0, 0, 0, 0.3));\n",
              "      fill: #FFFFFF;\n",
              "    }\n",
              "  </style>\n",
              "\n",
              "    <script>\n",
              "      const buttonEl =\n",
              "        document.querySelector('#df-ae123c8f-0f28-4488-b659-0e2f113b6c6c button.colab-df-convert');\n",
              "      buttonEl.style.display =\n",
              "        google.colab.kernel.accessAllowed ? 'block' : 'none';\n",
              "\n",
              "      async function convertToInteractive(key) {\n",
              "        const element = document.querySelector('#df-ae123c8f-0f28-4488-b659-0e2f113b6c6c');\n",
              "        const dataTable =\n",
              "          await google.colab.kernel.invokeFunction('convertToInteractive',\n",
              "                                                    [key], {});\n",
              "        if (!dataTable) return;\n",
              "\n",
              "        const docLinkHtml = 'Like what you see? Visit the ' +\n",
              "          '<a target=\"_blank\" href=https://colab.research.google.com/notebooks/data_table.ipynb>data table notebook</a>'\n",
              "          + ' to learn more about interactive tables.';\n",
              "        element.innerHTML = '';\n",
              "        dataTable['output_type'] = 'display_data';\n",
              "        await google.colab.output.renderOutput(dataTable, element);\n",
              "        const docLink = document.createElement('div');\n",
              "        docLink.innerHTML = docLinkHtml;\n",
              "        element.appendChild(docLink);\n",
              "      }\n",
              "    </script>\n",
              "  </div>\n",
              "\n",
              "\n",
              "<div id=\"df-3b06cdb6-e718-462d-94c1-1adc33bd9f45\">\n",
              "  <button class=\"colab-df-quickchart\" onclick=\"quickchart('df-3b06cdb6-e718-462d-94c1-1adc33bd9f45')\"\n",
              "            title=\"Suggest charts\"\n",
              "            style=\"display:none;\">\n",
              "\n",
              "<svg xmlns=\"http://www.w3.org/2000/svg\" height=\"24px\"viewBox=\"0 0 24 24\"\n",
              "     width=\"24px\">\n",
              "    <g>\n",
              "        <path d=\"M19 3H5c-1.1 0-2 .9-2 2v14c0 1.1.9 2 2 2h14c1.1 0 2-.9 2-2V5c0-1.1-.9-2-2-2zM9 17H7v-7h2v7zm4 0h-2V7h2v10zm4 0h-2v-4h2v4z\"/>\n",
              "    </g>\n",
              "</svg>\n",
              "  </button>\n",
              "\n",
              "<style>\n",
              "  .colab-df-quickchart {\n",
              "      --bg-color: #E8F0FE;\n",
              "      --fill-color: #1967D2;\n",
              "      --hover-bg-color: #E2EBFA;\n",
              "      --hover-fill-color: #174EA6;\n",
              "      --disabled-fill-color: #AAA;\n",
              "      --disabled-bg-color: #DDD;\n",
              "  }\n",
              "\n",
              "  [theme=dark] .colab-df-quickchart {\n",
              "      --bg-color: #3B4455;\n",
              "      --fill-color: #D2E3FC;\n",
              "      --hover-bg-color: #434B5C;\n",
              "      --hover-fill-color: #FFFFFF;\n",
              "      --disabled-bg-color: #3B4455;\n",
              "      --disabled-fill-color: #666;\n",
              "  }\n",
              "\n",
              "  .colab-df-quickchart {\n",
              "    background-color: var(--bg-color);\n",
              "    border: none;\n",
              "    border-radius: 50%;\n",
              "    cursor: pointer;\n",
              "    display: none;\n",
              "    fill: var(--fill-color);\n",
              "    height: 32px;\n",
              "    padding: 0;\n",
              "    width: 32px;\n",
              "  }\n",
              "\n",
              "  .colab-df-quickchart:hover {\n",
              "    background-color: var(--hover-bg-color);\n",
              "    box-shadow: 0 1px 2px rgba(60, 64, 67, 0.3), 0 1px 3px 1px rgba(60, 64, 67, 0.15);\n",
              "    fill: var(--button-hover-fill-color);\n",
              "  }\n",
              "\n",
              "  .colab-df-quickchart-complete:disabled,\n",
              "  .colab-df-quickchart-complete:disabled:hover {\n",
              "    background-color: var(--disabled-bg-color);\n",
              "    fill: var(--disabled-fill-color);\n",
              "    box-shadow: none;\n",
              "  }\n",
              "\n",
              "  .colab-df-spinner {\n",
              "    border: 2px solid var(--fill-color);\n",
              "    border-color: transparent;\n",
              "    border-bottom-color: var(--fill-color);\n",
              "    animation:\n",
              "      spin 1s steps(1) infinite;\n",
              "  }\n",
              "\n",
              "  @keyframes spin {\n",
              "    0% {\n",
              "      border-color: transparent;\n",
              "      border-bottom-color: var(--fill-color);\n",
              "      border-left-color: var(--fill-color);\n",
              "    }\n",
              "    20% {\n",
              "      border-color: transparent;\n",
              "      border-left-color: var(--fill-color);\n",
              "      border-top-color: var(--fill-color);\n",
              "    }\n",
              "    30% {\n",
              "      border-color: transparent;\n",
              "      border-left-color: var(--fill-color);\n",
              "      border-top-color: var(--fill-color);\n",
              "      border-right-color: var(--fill-color);\n",
              "    }\n",
              "    40% {\n",
              "      border-color: transparent;\n",
              "      border-right-color: var(--fill-color);\n",
              "      border-top-color: var(--fill-color);\n",
              "    }\n",
              "    60% {\n",
              "      border-color: transparent;\n",
              "      border-right-color: var(--fill-color);\n",
              "    }\n",
              "    80% {\n",
              "      border-color: transparent;\n",
              "      border-right-color: var(--fill-color);\n",
              "      border-bottom-color: var(--fill-color);\n",
              "    }\n",
              "    90% {\n",
              "      border-color: transparent;\n",
              "      border-bottom-color: var(--fill-color);\n",
              "    }\n",
              "  }\n",
              "</style>\n",
              "\n",
              "  <script>\n",
              "    async function quickchart(key) {\n",
              "      const quickchartButtonEl =\n",
              "        document.querySelector('#' + key + ' button');\n",
              "      quickchartButtonEl.disabled = true;  // To prevent multiple clicks.\n",
              "      quickchartButtonEl.classList.add('colab-df-spinner');\n",
              "      try {\n",
              "        const charts = await google.colab.kernel.invokeFunction(\n",
              "            'suggestCharts', [key], {});\n",
              "      } catch (error) {\n",
              "        console.error('Error during call to suggestCharts:', error);\n",
              "      }\n",
              "      quickchartButtonEl.classList.remove('colab-df-spinner');\n",
              "      quickchartButtonEl.classList.add('colab-df-quickchart-complete');\n",
              "    }\n",
              "    (() => {\n",
              "      let quickchartButtonEl =\n",
              "        document.querySelector('#df-3b06cdb6-e718-462d-94c1-1adc33bd9f45 button');\n",
              "      quickchartButtonEl.style.display =\n",
              "        google.colab.kernel.accessAllowed ? 'block' : 'none';\n",
              "    })();\n",
              "  </script>\n",
              "</div>\n",
              "\n",
              "    </div>\n",
              "  </div>\n"
            ],
            "application/vnd.google.colaboratory.intrinsic+json": {
              "type": "dataframe",
              "variable_name": "xtrain_transformed"
            }
          },
          "metadata": {},
          "execution_count": 29
        }
      ],
      "source": [
        "xtrain_transformed.head()"
      ]
    },
    {
      "cell_type": "code",
      "execution_count": 30,
      "metadata": {
        "colab": {
          "base_uri": "https://localhost:8080/",
          "height": 273
        },
        "id": "rHkaOc38FTtB",
        "outputId": "6422367a-ecbe-4820-e4eb-90684a8aee69"
      },
      "outputs": [
        {
          "output_type": "execute_result",
          "data": {
            "text/plain": [
              "   num_pipeline__Age  num_pipeline__JobInvolvement  num_pipeline__JobLevel  \\\n",
              "0          -1.416826                      0.373564               -0.986265   \n",
              "1           0.763191                      1.795282               -0.986265   \n",
              "2          -0.653820                     -1.048155                0.846038   \n",
              "3           0.763191                      1.795282                2.678340   \n",
              "4          -0.108815                     -1.048155               -0.986265   \n",
              "\n",
              "   num_pipeline__JobSatisfaction  num_pipeline__MonthlyIncome  \\\n",
              "0                      -0.647997                    -0.969745   \n",
              "1                       1.153526                    -0.974474   \n",
              "2                       1.153526                     1.077650   \n",
              "3                      -1.548758                     2.718533   \n",
              "4                       0.252765                    -0.678457   \n",
              "\n",
              "   num_pipeline__StockOptionLevel  num_pipeline__TotalWorkingYears  \\\n",
              "0                        0.247430                        -1.329148   \n",
              "1                        0.247430                        -0.175017   \n",
              "2                        0.247430                        -0.175017   \n",
              "3                        1.430265                         1.876772   \n",
              "4                        0.247430                        -1.200911   \n",
              "\n",
              "   num_pipeline__YearsAtCompany  num_pipeline__YearsInCurrentRole  \\\n",
              "0                     -0.994436                         -1.185905   \n",
              "1                      0.484849                          0.215446   \n",
              "2                     -0.336976                         -0.064824   \n",
              "3                      2.950322                          1.336527   \n",
              "4                     -0.994436                         -1.185905   \n",
              "\n",
              "   num_pipeline__YearsWithCurrManager  ...  \\\n",
              "0                           -1.177687  ...   \n",
              "1                            0.786795  ...   \n",
              "2                           -0.897047  ...   \n",
              "3                            2.470637  ...   \n",
              "4                           -1.177687  ...   \n",
              "\n",
              "   cat_pipeline__JobRole_Manufacturing Director  \\\n",
              "0                                           0.0   \n",
              "1                                           0.0   \n",
              "2                                           0.0   \n",
              "3                                           0.0   \n",
              "4                                           0.0   \n",
              "\n",
              "   cat_pipeline__JobRole_Research Director  \\\n",
              "0                                      0.0   \n",
              "1                                      0.0   \n",
              "2                                      0.0   \n",
              "3                                      0.0   \n",
              "4                                      0.0   \n",
              "\n",
              "   cat_pipeline__JobRole_Research Scientist  \\\n",
              "0                                  0.000000   \n",
              "1                                  2.564289   \n",
              "2                                  0.000000   \n",
              "3                                  0.000000   \n",
              "4                                  2.564289   \n",
              "\n",
              "   cat_pipeline__JobRole_Sales Executive  \\\n",
              "0                                    0.0   \n",
              "1                                    0.0   \n",
              "2                                    0.0   \n",
              "3                                    0.0   \n",
              "4                                    0.0   \n",
              "\n",
              "   cat_pipeline__JobRole_Sales Representative  \\\n",
              "0                                    4.544641   \n",
              "1                                    0.000000   \n",
              "2                                    0.000000   \n",
              "3                                    0.000000   \n",
              "4                                    0.000000   \n",
              "\n",
              "   cat_pipeline__MaritalStatus_Divorced  cat_pipeline__MaritalStatus_Married  \\\n",
              "0                              0.000000                             2.006697   \n",
              "1                              0.000000                             2.006697   \n",
              "2                              2.399905                             0.000000   \n",
              "3                              2.399905                             0.000000   \n",
              "4                              0.000000                             2.006697   \n",
              "\n",
              "   cat_pipeline__MaritalStatus_Single  cat_pipeline__OverTime_No  \\\n",
              "0                                 0.0                   2.205793   \n",
              "1                                 0.0                   2.205793   \n",
              "2                                 0.0                   2.205793   \n",
              "3                                 0.0                   2.205793   \n",
              "4                                 0.0                   0.000000   \n",
              "\n",
              "   cat_pipeline__OverTime_Yes  \n",
              "0                    0.000000  \n",
              "1                    0.000000  \n",
              "2                    0.000000  \n",
              "3                    0.000000  \n",
              "4                    2.205793  \n",
              "\n",
              "[5 rows x 33 columns]"
            ],
            "text/html": [
              "\n",
              "  <div id=\"df-c7e539a1-38dc-441c-9beb-aed4e5de3205\" class=\"colab-df-container\">\n",
              "    <div>\n",
              "<style scoped>\n",
              "    .dataframe tbody tr th:only-of-type {\n",
              "        vertical-align: middle;\n",
              "    }\n",
              "\n",
              "    .dataframe tbody tr th {\n",
              "        vertical-align: top;\n",
              "    }\n",
              "\n",
              "    .dataframe thead th {\n",
              "        text-align: right;\n",
              "    }\n",
              "</style>\n",
              "<table border=\"1\" class=\"dataframe\">\n",
              "  <thead>\n",
              "    <tr style=\"text-align: right;\">\n",
              "      <th></th>\n",
              "      <th>num_pipeline__Age</th>\n",
              "      <th>num_pipeline__JobInvolvement</th>\n",
              "      <th>num_pipeline__JobLevel</th>\n",
              "      <th>num_pipeline__JobSatisfaction</th>\n",
              "      <th>num_pipeline__MonthlyIncome</th>\n",
              "      <th>num_pipeline__StockOptionLevel</th>\n",
              "      <th>num_pipeline__TotalWorkingYears</th>\n",
              "      <th>num_pipeline__YearsAtCompany</th>\n",
              "      <th>num_pipeline__YearsInCurrentRole</th>\n",
              "      <th>num_pipeline__YearsWithCurrManager</th>\n",
              "      <th>...</th>\n",
              "      <th>cat_pipeline__JobRole_Manufacturing Director</th>\n",
              "      <th>cat_pipeline__JobRole_Research Director</th>\n",
              "      <th>cat_pipeline__JobRole_Research Scientist</th>\n",
              "      <th>cat_pipeline__JobRole_Sales Executive</th>\n",
              "      <th>cat_pipeline__JobRole_Sales Representative</th>\n",
              "      <th>cat_pipeline__MaritalStatus_Divorced</th>\n",
              "      <th>cat_pipeline__MaritalStatus_Married</th>\n",
              "      <th>cat_pipeline__MaritalStatus_Single</th>\n",
              "      <th>cat_pipeline__OverTime_No</th>\n",
              "      <th>cat_pipeline__OverTime_Yes</th>\n",
              "    </tr>\n",
              "  </thead>\n",
              "  <tbody>\n",
              "    <tr>\n",
              "      <th>0</th>\n",
              "      <td>-1.416826</td>\n",
              "      <td>0.373564</td>\n",
              "      <td>-0.986265</td>\n",
              "      <td>-0.647997</td>\n",
              "      <td>-0.969745</td>\n",
              "      <td>0.247430</td>\n",
              "      <td>-1.329148</td>\n",
              "      <td>-0.994436</td>\n",
              "      <td>-1.185905</td>\n",
              "      <td>-1.177687</td>\n",
              "      <td>...</td>\n",
              "      <td>0.0</td>\n",
              "      <td>0.0</td>\n",
              "      <td>0.000000</td>\n",
              "      <td>0.0</td>\n",
              "      <td>4.544641</td>\n",
              "      <td>0.000000</td>\n",
              "      <td>2.006697</td>\n",
              "      <td>0.0</td>\n",
              "      <td>2.205793</td>\n",
              "      <td>0.000000</td>\n",
              "    </tr>\n",
              "    <tr>\n",
              "      <th>1</th>\n",
              "      <td>0.763191</td>\n",
              "      <td>1.795282</td>\n",
              "      <td>-0.986265</td>\n",
              "      <td>1.153526</td>\n",
              "      <td>-0.974474</td>\n",
              "      <td>0.247430</td>\n",
              "      <td>-0.175017</td>\n",
              "      <td>0.484849</td>\n",
              "      <td>0.215446</td>\n",
              "      <td>0.786795</td>\n",
              "      <td>...</td>\n",
              "      <td>0.0</td>\n",
              "      <td>0.0</td>\n",
              "      <td>2.564289</td>\n",
              "      <td>0.0</td>\n",
              "      <td>0.000000</td>\n",
              "      <td>0.000000</td>\n",
              "      <td>2.006697</td>\n",
              "      <td>0.0</td>\n",
              "      <td>2.205793</td>\n",
              "      <td>0.000000</td>\n",
              "    </tr>\n",
              "    <tr>\n",
              "      <th>2</th>\n",
              "      <td>-0.653820</td>\n",
              "      <td>-1.048155</td>\n",
              "      <td>0.846038</td>\n",
              "      <td>1.153526</td>\n",
              "      <td>1.077650</td>\n",
              "      <td>0.247430</td>\n",
              "      <td>-0.175017</td>\n",
              "      <td>-0.336976</td>\n",
              "      <td>-0.064824</td>\n",
              "      <td>-0.897047</td>\n",
              "      <td>...</td>\n",
              "      <td>0.0</td>\n",
              "      <td>0.0</td>\n",
              "      <td>0.000000</td>\n",
              "      <td>0.0</td>\n",
              "      <td>0.000000</td>\n",
              "      <td>2.399905</td>\n",
              "      <td>0.000000</td>\n",
              "      <td>0.0</td>\n",
              "      <td>2.205793</td>\n",
              "      <td>0.000000</td>\n",
              "    </tr>\n",
              "    <tr>\n",
              "      <th>3</th>\n",
              "      <td>0.763191</td>\n",
              "      <td>1.795282</td>\n",
              "      <td>2.678340</td>\n",
              "      <td>-1.548758</td>\n",
              "      <td>2.718533</td>\n",
              "      <td>1.430265</td>\n",
              "      <td>1.876772</td>\n",
              "      <td>2.950322</td>\n",
              "      <td>1.336527</td>\n",
              "      <td>2.470637</td>\n",
              "      <td>...</td>\n",
              "      <td>0.0</td>\n",
              "      <td>0.0</td>\n",
              "      <td>0.000000</td>\n",
              "      <td>0.0</td>\n",
              "      <td>0.000000</td>\n",
              "      <td>2.399905</td>\n",
              "      <td>0.000000</td>\n",
              "      <td>0.0</td>\n",
              "      <td>2.205793</td>\n",
              "      <td>0.000000</td>\n",
              "    </tr>\n",
              "    <tr>\n",
              "      <th>4</th>\n",
              "      <td>-0.108815</td>\n",
              "      <td>-1.048155</td>\n",
              "      <td>-0.986265</td>\n",
              "      <td>0.252765</td>\n",
              "      <td>-0.678457</td>\n",
              "      <td>0.247430</td>\n",
              "      <td>-1.200911</td>\n",
              "      <td>-0.994436</td>\n",
              "      <td>-1.185905</td>\n",
              "      <td>-1.177687</td>\n",
              "      <td>...</td>\n",
              "      <td>0.0</td>\n",
              "      <td>0.0</td>\n",
              "      <td>2.564289</td>\n",
              "      <td>0.0</td>\n",
              "      <td>0.000000</td>\n",
              "      <td>0.000000</td>\n",
              "      <td>2.006697</td>\n",
              "      <td>0.0</td>\n",
              "      <td>0.000000</td>\n",
              "      <td>2.205793</td>\n",
              "    </tr>\n",
              "  </tbody>\n",
              "</table>\n",
              "<p>5 rows × 33 columns</p>\n",
              "</div>\n",
              "    <div class=\"colab-df-buttons\">\n",
              "\n",
              "  <div class=\"colab-df-container\">\n",
              "    <button class=\"colab-df-convert\" onclick=\"convertToInteractive('df-c7e539a1-38dc-441c-9beb-aed4e5de3205')\"\n",
              "            title=\"Convert this dataframe to an interactive table.\"\n",
              "            style=\"display:none;\">\n",
              "\n",
              "  <svg xmlns=\"http://www.w3.org/2000/svg\" height=\"24px\" viewBox=\"0 -960 960 960\">\n",
              "    <path d=\"M120-120v-720h720v720H120Zm60-500h600v-160H180v160Zm220 220h160v-160H400v160Zm0 220h160v-160H400v160ZM180-400h160v-160H180v160Zm440 0h160v-160H620v160ZM180-180h160v-160H180v160Zm440 0h160v-160H620v160Z\"/>\n",
              "  </svg>\n",
              "    </button>\n",
              "\n",
              "  <style>\n",
              "    .colab-df-container {\n",
              "      display:flex;\n",
              "      gap: 12px;\n",
              "    }\n",
              "\n",
              "    .colab-df-convert {\n",
              "      background-color: #E8F0FE;\n",
              "      border: none;\n",
              "      border-radius: 50%;\n",
              "      cursor: pointer;\n",
              "      display: none;\n",
              "      fill: #1967D2;\n",
              "      height: 32px;\n",
              "      padding: 0 0 0 0;\n",
              "      width: 32px;\n",
              "    }\n",
              "\n",
              "    .colab-df-convert:hover {\n",
              "      background-color: #E2EBFA;\n",
              "      box-shadow: 0px 1px 2px rgba(60, 64, 67, 0.3), 0px 1px 3px 1px rgba(60, 64, 67, 0.15);\n",
              "      fill: #174EA6;\n",
              "    }\n",
              "\n",
              "    .colab-df-buttons div {\n",
              "      margin-bottom: 4px;\n",
              "    }\n",
              "\n",
              "    [theme=dark] .colab-df-convert {\n",
              "      background-color: #3B4455;\n",
              "      fill: #D2E3FC;\n",
              "    }\n",
              "\n",
              "    [theme=dark] .colab-df-convert:hover {\n",
              "      background-color: #434B5C;\n",
              "      box-shadow: 0px 1px 3px 1px rgba(0, 0, 0, 0.15);\n",
              "      filter: drop-shadow(0px 1px 2px rgba(0, 0, 0, 0.3));\n",
              "      fill: #FFFFFF;\n",
              "    }\n",
              "  </style>\n",
              "\n",
              "    <script>\n",
              "      const buttonEl =\n",
              "        document.querySelector('#df-c7e539a1-38dc-441c-9beb-aed4e5de3205 button.colab-df-convert');\n",
              "      buttonEl.style.display =\n",
              "        google.colab.kernel.accessAllowed ? 'block' : 'none';\n",
              "\n",
              "      async function convertToInteractive(key) {\n",
              "        const element = document.querySelector('#df-c7e539a1-38dc-441c-9beb-aed4e5de3205');\n",
              "        const dataTable =\n",
              "          await google.colab.kernel.invokeFunction('convertToInteractive',\n",
              "                                                    [key], {});\n",
              "        if (!dataTable) return;\n",
              "\n",
              "        const docLinkHtml = 'Like what you see? Visit the ' +\n",
              "          '<a target=\"_blank\" href=https://colab.research.google.com/notebooks/data_table.ipynb>data table notebook</a>'\n",
              "          + ' to learn more about interactive tables.';\n",
              "        element.innerHTML = '';\n",
              "        dataTable['output_type'] = 'display_data';\n",
              "        await google.colab.output.renderOutput(dataTable, element);\n",
              "        const docLink = document.createElement('div');\n",
              "        docLink.innerHTML = docLinkHtml;\n",
              "        element.appendChild(docLink);\n",
              "      }\n",
              "    </script>\n",
              "  </div>\n",
              "\n",
              "\n",
              "<div id=\"df-951122bd-4535-470f-8555-f9e51086348e\">\n",
              "  <button class=\"colab-df-quickchart\" onclick=\"quickchart('df-951122bd-4535-470f-8555-f9e51086348e')\"\n",
              "            title=\"Suggest charts\"\n",
              "            style=\"display:none;\">\n",
              "\n",
              "<svg xmlns=\"http://www.w3.org/2000/svg\" height=\"24px\"viewBox=\"0 0 24 24\"\n",
              "     width=\"24px\">\n",
              "    <g>\n",
              "        <path d=\"M19 3H5c-1.1 0-2 .9-2 2v14c0 1.1.9 2 2 2h14c1.1 0 2-.9 2-2V5c0-1.1-.9-2-2-2zM9 17H7v-7h2v7zm4 0h-2V7h2v10zm4 0h-2v-4h2v4z\"/>\n",
              "    </g>\n",
              "</svg>\n",
              "  </button>\n",
              "\n",
              "<style>\n",
              "  .colab-df-quickchart {\n",
              "      --bg-color: #E8F0FE;\n",
              "      --fill-color: #1967D2;\n",
              "      --hover-bg-color: #E2EBFA;\n",
              "      --hover-fill-color: #174EA6;\n",
              "      --disabled-fill-color: #AAA;\n",
              "      --disabled-bg-color: #DDD;\n",
              "  }\n",
              "\n",
              "  [theme=dark] .colab-df-quickchart {\n",
              "      --bg-color: #3B4455;\n",
              "      --fill-color: #D2E3FC;\n",
              "      --hover-bg-color: #434B5C;\n",
              "      --hover-fill-color: #FFFFFF;\n",
              "      --disabled-bg-color: #3B4455;\n",
              "      --disabled-fill-color: #666;\n",
              "  }\n",
              "\n",
              "  .colab-df-quickchart {\n",
              "    background-color: var(--bg-color);\n",
              "    border: none;\n",
              "    border-radius: 50%;\n",
              "    cursor: pointer;\n",
              "    display: none;\n",
              "    fill: var(--fill-color);\n",
              "    height: 32px;\n",
              "    padding: 0;\n",
              "    width: 32px;\n",
              "  }\n",
              "\n",
              "  .colab-df-quickchart:hover {\n",
              "    background-color: var(--hover-bg-color);\n",
              "    box-shadow: 0 1px 2px rgba(60, 64, 67, 0.3), 0 1px 3px 1px rgba(60, 64, 67, 0.15);\n",
              "    fill: var(--button-hover-fill-color);\n",
              "  }\n",
              "\n",
              "  .colab-df-quickchart-complete:disabled,\n",
              "  .colab-df-quickchart-complete:disabled:hover {\n",
              "    background-color: var(--disabled-bg-color);\n",
              "    fill: var(--disabled-fill-color);\n",
              "    box-shadow: none;\n",
              "  }\n",
              "\n",
              "  .colab-df-spinner {\n",
              "    border: 2px solid var(--fill-color);\n",
              "    border-color: transparent;\n",
              "    border-bottom-color: var(--fill-color);\n",
              "    animation:\n",
              "      spin 1s steps(1) infinite;\n",
              "  }\n",
              "\n",
              "  @keyframes spin {\n",
              "    0% {\n",
              "      border-color: transparent;\n",
              "      border-bottom-color: var(--fill-color);\n",
              "      border-left-color: var(--fill-color);\n",
              "    }\n",
              "    20% {\n",
              "      border-color: transparent;\n",
              "      border-left-color: var(--fill-color);\n",
              "      border-top-color: var(--fill-color);\n",
              "    }\n",
              "    30% {\n",
              "      border-color: transparent;\n",
              "      border-left-color: var(--fill-color);\n",
              "      border-top-color: var(--fill-color);\n",
              "      border-right-color: var(--fill-color);\n",
              "    }\n",
              "    40% {\n",
              "      border-color: transparent;\n",
              "      border-right-color: var(--fill-color);\n",
              "      border-top-color: var(--fill-color);\n",
              "    }\n",
              "    60% {\n",
              "      border-color: transparent;\n",
              "      border-right-color: var(--fill-color);\n",
              "    }\n",
              "    80% {\n",
              "      border-color: transparent;\n",
              "      border-right-color: var(--fill-color);\n",
              "      border-bottom-color: var(--fill-color);\n",
              "    }\n",
              "    90% {\n",
              "      border-color: transparent;\n",
              "      border-bottom-color: var(--fill-color);\n",
              "    }\n",
              "  }\n",
              "</style>\n",
              "\n",
              "  <script>\n",
              "    async function quickchart(key) {\n",
              "      const quickchartButtonEl =\n",
              "        document.querySelector('#' + key + ' button');\n",
              "      quickchartButtonEl.disabled = true;  // To prevent multiple clicks.\n",
              "      quickchartButtonEl.classList.add('colab-df-spinner');\n",
              "      try {\n",
              "        const charts = await google.colab.kernel.invokeFunction(\n",
              "            'suggestCharts', [key], {});\n",
              "      } catch (error) {\n",
              "        console.error('Error during call to suggestCharts:', error);\n",
              "      }\n",
              "      quickchartButtonEl.classList.remove('colab-df-spinner');\n",
              "      quickchartButtonEl.classList.add('colab-df-quickchart-complete');\n",
              "    }\n",
              "    (() => {\n",
              "      let quickchartButtonEl =\n",
              "        document.querySelector('#df-951122bd-4535-470f-8555-f9e51086348e button');\n",
              "      quickchartButtonEl.style.display =\n",
              "        google.colab.kernel.accessAllowed ? 'block' : 'none';\n",
              "    })();\n",
              "  </script>\n",
              "</div>\n",
              "\n",
              "    </div>\n",
              "  </div>\n"
            ],
            "application/vnd.google.colaboratory.intrinsic+json": {
              "type": "dataframe",
              "variable_name": "xtest_transformed"
            }
          },
          "metadata": {},
          "execution_count": 30
        }
      ],
      "source": [
        "xtest_transformed.head()"
      ]
    },
    {
      "cell_type": "markdown",
      "metadata": {
        "id": "hi4Ff4AfFTtB"
      },
      "source": [
        "### Training Random Forest"
      ]
    },
    {
      "cell_type": "code",
      "execution_count": 31,
      "metadata": {
        "colab": {
          "base_uri": "https://localhost:8080/",
          "height": 74
        },
        "id": "FuHdnfr2FTtB",
        "outputId": "24850388-d2d9-4816-d5bb-59152fac6a11"
      },
      "outputs": [
        {
          "output_type": "execute_result",
          "data": {
            "text/plain": [
              "RandomForestClassifier(max_depth=8, random_state=21)"
            ],
            "text/html": [
              "<style>#sk-container-id-1 {color: black;background-color: white;}#sk-container-id-1 pre{padding: 0;}#sk-container-id-1 div.sk-toggleable {background-color: white;}#sk-container-id-1 label.sk-toggleable__label {cursor: pointer;display: block;width: 100%;margin-bottom: 0;padding: 0.3em;box-sizing: border-box;text-align: center;}#sk-container-id-1 label.sk-toggleable__label-arrow:before {content: \"▸\";float: left;margin-right: 0.25em;color: #696969;}#sk-container-id-1 label.sk-toggleable__label-arrow:hover:before {color: black;}#sk-container-id-1 div.sk-estimator:hover label.sk-toggleable__label-arrow:before {color: black;}#sk-container-id-1 div.sk-toggleable__content {max-height: 0;max-width: 0;overflow: hidden;text-align: left;background-color: #f0f8ff;}#sk-container-id-1 div.sk-toggleable__content pre {margin: 0.2em;color: black;border-radius: 0.25em;background-color: #f0f8ff;}#sk-container-id-1 input.sk-toggleable__control:checked~div.sk-toggleable__content {max-height: 200px;max-width: 100%;overflow: auto;}#sk-container-id-1 input.sk-toggleable__control:checked~label.sk-toggleable__label-arrow:before {content: \"▾\";}#sk-container-id-1 div.sk-estimator input.sk-toggleable__control:checked~label.sk-toggleable__label {background-color: #d4ebff;}#sk-container-id-1 div.sk-label input.sk-toggleable__control:checked~label.sk-toggleable__label {background-color: #d4ebff;}#sk-container-id-1 input.sk-hidden--visually {border: 0;clip: rect(1px 1px 1px 1px);clip: rect(1px, 1px, 1px, 1px);height: 1px;margin: -1px;overflow: hidden;padding: 0;position: absolute;width: 1px;}#sk-container-id-1 div.sk-estimator {font-family: monospace;background-color: #f0f8ff;border: 1px dotted black;border-radius: 0.25em;box-sizing: border-box;margin-bottom: 0.5em;}#sk-container-id-1 div.sk-estimator:hover {background-color: #d4ebff;}#sk-container-id-1 div.sk-parallel-item::after {content: \"\";width: 100%;border-bottom: 1px solid gray;flex-grow: 1;}#sk-container-id-1 div.sk-label:hover label.sk-toggleable__label {background-color: #d4ebff;}#sk-container-id-1 div.sk-serial::before {content: \"\";position: absolute;border-left: 1px solid gray;box-sizing: border-box;top: 0;bottom: 0;left: 50%;z-index: 0;}#sk-container-id-1 div.sk-serial {display: flex;flex-direction: column;align-items: center;background-color: white;padding-right: 0.2em;padding-left: 0.2em;position: relative;}#sk-container-id-1 div.sk-item {position: relative;z-index: 1;}#sk-container-id-1 div.sk-parallel {display: flex;align-items: stretch;justify-content: center;background-color: white;position: relative;}#sk-container-id-1 div.sk-item::before, #sk-container-id-1 div.sk-parallel-item::before {content: \"\";position: absolute;border-left: 1px solid gray;box-sizing: border-box;top: 0;bottom: 0;left: 50%;z-index: -1;}#sk-container-id-1 div.sk-parallel-item {display: flex;flex-direction: column;z-index: 1;position: relative;background-color: white;}#sk-container-id-1 div.sk-parallel-item:first-child::after {align-self: flex-end;width: 50%;}#sk-container-id-1 div.sk-parallel-item:last-child::after {align-self: flex-start;width: 50%;}#sk-container-id-1 div.sk-parallel-item:only-child::after {width: 0;}#sk-container-id-1 div.sk-dashed-wrapped {border: 1px dashed gray;margin: 0 0.4em 0.5em 0.4em;box-sizing: border-box;padding-bottom: 0.4em;background-color: white;}#sk-container-id-1 div.sk-label label {font-family: monospace;font-weight: bold;display: inline-block;line-height: 1.2em;}#sk-container-id-1 div.sk-label-container {text-align: center;}#sk-container-id-1 div.sk-container {/* jupyter's `normalize.less` sets `[hidden] { display: none; }` but bootstrap.min.css set `[hidden] { display: none !important; }` so we also need the `!important` here to be able to override the default hidden behavior on the sphinx rendered scikit-learn.org. See: https://github.com/scikit-learn/scikit-learn/issues/21755 */display: inline-block !important;position: relative;}#sk-container-id-1 div.sk-text-repr-fallback {display: none;}</style><div id=\"sk-container-id-1\" class=\"sk-top-container\"><div class=\"sk-text-repr-fallback\"><pre>RandomForestClassifier(max_depth=8, random_state=21)</pre><b>In a Jupyter environment, please rerun this cell to show the HTML representation or trust the notebook. <br />On GitHub, the HTML representation is unable to render, please try loading this page with nbviewer.org.</b></div><div class=\"sk-container\" hidden><div class=\"sk-item\"><div class=\"sk-estimator sk-toggleable\"><input class=\"sk-toggleable__control sk-hidden--visually\" id=\"sk-estimator-id-1\" type=\"checkbox\" checked><label for=\"sk-estimator-id-1\" class=\"sk-toggleable__label sk-toggleable__label-arrow\">RandomForestClassifier</label><div class=\"sk-toggleable__content\"><pre>RandomForestClassifier(max_depth=8, random_state=21)</pre></div></div></div></div></div>"
            ]
          },
          "metadata": {},
          "execution_count": 31
        }
      ],
      "source": [
        "from sklearn.ensemble import RandomForestClassifier\n",
        "rfc = RandomForestClassifier(n_estimators=100,max_depth=8,random_state=21)\n",
        "rfc.fit(xtrain_transformed,ytrain)"
      ]
    },
    {
      "cell_type": "code",
      "execution_count": 32,
      "metadata": {
        "colab": {
          "base_uri": "https://localhost:8080/"
        },
        "id": "YyvSey-7FTtC",
        "outputId": "d0e14ebd-7cf5-43e8-e6c0-c3dcea85eb92"
      },
      "outputs": [
        {
          "output_type": "execute_result",
          "data": {
            "text/plain": [
              "array([0.86016949, 0.87659574, 0.87659574, 0.85957447, 0.85531915])"
            ]
          },
          "metadata": {},
          "execution_count": 32
        }
      ],
      "source": [
        "from sklearn.model_selection import cross_val_score, StratifiedKFold\n",
        "skf = StratifiedKFold(n_splits=5, shuffle=True)\n",
        "scores = cross_val_score(rfc,xtrain_transformed,ytrain,cv=skf,scoring='accuracy')\n",
        "scores"
      ]
    },
    {
      "cell_type": "code",
      "execution_count": 33,
      "metadata": {
        "colab": {
          "base_uri": "https://localhost:8080/"
        },
        "id": "0K1kQPa6FTtC",
        "outputId": "0f6e5ca2-8734-4580-97b1-0929f0132c19"
      },
      "outputs": [
        {
          "output_type": "execute_result",
          "data": {
            "text/plain": [
              "0.8656509195816806"
            ]
          },
          "metadata": {},
          "execution_count": 33
        }
      ],
      "source": [
        "import numpy as np\n",
        "np.mean(scores)"
      ]
    },
    {
      "cell_type": "markdown",
      "metadata": {
        "id": "GoLtdcDfFTtC"
      },
      "source": [
        "### Hyperparameter Tuning"
      ]
    },
    {
      "cell_type": "code",
      "execution_count": 34,
      "metadata": {
        "id": "mNf_snRFFTtC"
      },
      "outputs": [],
      "source": [
        "parameters = {\n",
        "    'n_estimators':[10,50,100,200,300,400],\n",
        "    'max_depth':[4,5,6,7,8,9,10],\n",
        "    'min_samples_leaf':[2,3,4,5,6],\n",
        "    'min_samples_split':[2,5,10]\n",
        "}"
      ]
    },
    {
      "cell_type": "code",
      "execution_count": 35,
      "metadata": {
        "id": "E4o9ax_QFTtD"
      },
      "outputs": [],
      "source": [
        "from sklearn.model_selection import RandomizedSearchCV\n",
        "rscv = RandomizedSearchCV(RandomForestClassifier(),\n",
        "                          param_distributions=parameters,\n",
        "                          cv=skf,\n",
        "                          n_iter=50,\n",
        "                          scoring='accuracy',\n",
        "                          verbose=3)"
      ]
    },
    {
      "cell_type": "code",
      "execution_count": 36,
      "metadata": {
        "colab": {
          "base_uri": "https://localhost:8080/",
          "height": 1000
        },
        "id": "H-CxoYqHFTtD",
        "outputId": "c5426169-cb42-4356-a01d-5054bf7fc7e3"
      },
      "outputs": [
        {
          "output_type": "stream",
          "name": "stdout",
          "text": [
            "Fitting 5 folds for each of 50 candidates, totalling 250 fits\n",
            "[CV 1/5] END max_depth=9, min_samples_leaf=2, min_samples_split=10, n_estimators=400;, score=0.843 total time=   0.8s\n",
            "[CV 2/5] END max_depth=9, min_samples_leaf=2, min_samples_split=10, n_estimators=400;, score=0.881 total time=   0.9s\n",
            "[CV 3/5] END max_depth=9, min_samples_leaf=2, min_samples_split=10, n_estimators=400;, score=0.860 total time=   0.8s\n",
            "[CV 4/5] END max_depth=9, min_samples_leaf=2, min_samples_split=10, n_estimators=400;, score=0.855 total time=   0.8s\n",
            "[CV 5/5] END max_depth=9, min_samples_leaf=2, min_samples_split=10, n_estimators=400;, score=0.872 total time=   0.8s\n",
            "[CV 1/5] END max_depth=9, min_samples_leaf=5, min_samples_split=5, n_estimators=200;, score=0.839 total time=   0.4s\n",
            "[CV 2/5] END max_depth=9, min_samples_leaf=5, min_samples_split=5, n_estimators=200;, score=0.877 total time=   0.4s\n",
            "[CV 3/5] END max_depth=9, min_samples_leaf=5, min_samples_split=5, n_estimators=200;, score=0.860 total time=   0.4s\n",
            "[CV 4/5] END max_depth=9, min_samples_leaf=5, min_samples_split=5, n_estimators=200;, score=0.851 total time=   0.4s\n",
            "[CV 5/5] END max_depth=9, min_samples_leaf=5, min_samples_split=5, n_estimators=200;, score=0.868 total time=   0.4s\n",
            "[CV 1/5] END max_depth=7, min_samples_leaf=3, min_samples_split=10, n_estimators=300;, score=0.835 total time=   0.6s\n",
            "[CV 2/5] END max_depth=7, min_samples_leaf=3, min_samples_split=10, n_estimators=300;, score=0.881 total time=   0.6s\n",
            "[CV 3/5] END max_depth=7, min_samples_leaf=3, min_samples_split=10, n_estimators=300;, score=0.864 total time=   0.9s\n",
            "[CV 4/5] END max_depth=7, min_samples_leaf=3, min_samples_split=10, n_estimators=300;, score=0.855 total time=   0.9s\n",
            "[CV 5/5] END max_depth=7, min_samples_leaf=3, min_samples_split=10, n_estimators=300;, score=0.872 total time=   0.8s\n",
            "[CV 1/5] END max_depth=4, min_samples_leaf=4, min_samples_split=2, n_estimators=100;, score=0.847 total time=   0.2s\n",
            "[CV 2/5] END max_depth=4, min_samples_leaf=4, min_samples_split=2, n_estimators=100;, score=0.851 total time=   0.2s\n",
            "[CV 3/5] END max_depth=4, min_samples_leaf=4, min_samples_split=2, n_estimators=100;, score=0.855 total time=   0.2s\n",
            "[CV 4/5] END max_depth=4, min_samples_leaf=4, min_samples_split=2, n_estimators=100;, score=0.855 total time=   0.2s\n",
            "[CV 5/5] END max_depth=4, min_samples_leaf=4, min_samples_split=2, n_estimators=100;, score=0.872 total time=   0.2s\n",
            "[CV 1/5] END max_depth=9, min_samples_leaf=3, min_samples_split=10, n_estimators=300;, score=0.843 total time=   0.6s\n",
            "[CV 2/5] END max_depth=9, min_samples_leaf=3, min_samples_split=10, n_estimators=300;, score=0.881 total time=   0.6s\n",
            "[CV 3/5] END max_depth=9, min_samples_leaf=3, min_samples_split=10, n_estimators=300;, score=0.860 total time=   0.6s\n",
            "[CV 4/5] END max_depth=9, min_samples_leaf=3, min_samples_split=10, n_estimators=300;, score=0.855 total time=   0.6s\n",
            "[CV 5/5] END max_depth=9, min_samples_leaf=3, min_samples_split=10, n_estimators=300;, score=0.868 total time=   0.6s\n",
            "[CV 1/5] END max_depth=4, min_samples_leaf=2, min_samples_split=10, n_estimators=10;, score=0.847 total time=   0.0s\n",
            "[CV 2/5] END max_depth=4, min_samples_leaf=2, min_samples_split=10, n_estimators=10;, score=0.855 total time=   0.0s\n",
            "[CV 3/5] END max_depth=4, min_samples_leaf=2, min_samples_split=10, n_estimators=10;, score=0.855 total time=   0.0s\n",
            "[CV 4/5] END max_depth=4, min_samples_leaf=2, min_samples_split=10, n_estimators=10;, score=0.864 total time=   0.0s\n",
            "[CV 5/5] END max_depth=4, min_samples_leaf=2, min_samples_split=10, n_estimators=10;, score=0.877 total time=   0.0s\n",
            "[CV 1/5] END max_depth=5, min_samples_leaf=3, min_samples_split=5, n_estimators=10;, score=0.847 total time=   0.0s\n",
            "[CV 2/5] END max_depth=5, min_samples_leaf=3, min_samples_split=5, n_estimators=10;, score=0.872 total time=   0.0s\n",
            "[CV 3/5] END max_depth=5, min_samples_leaf=3, min_samples_split=5, n_estimators=10;, score=0.851 total time=   0.0s\n",
            "[CV 4/5] END max_depth=5, min_samples_leaf=3, min_samples_split=5, n_estimators=10;, score=0.855 total time=   0.0s\n",
            "[CV 5/5] END max_depth=5, min_samples_leaf=3, min_samples_split=5, n_estimators=10;, score=0.868 total time=   0.0s\n",
            "[CV 1/5] END max_depth=8, min_samples_leaf=2, min_samples_split=2, n_estimators=50;, score=0.852 total time=   0.1s\n",
            "[CV 2/5] END max_depth=8, min_samples_leaf=2, min_samples_split=2, n_estimators=50;, score=0.872 total time=   0.1s\n",
            "[CV 3/5] END max_depth=8, min_samples_leaf=2, min_samples_split=2, n_estimators=50;, score=0.855 total time=   0.1s\n",
            "[CV 4/5] END max_depth=8, min_samples_leaf=2, min_samples_split=2, n_estimators=50;, score=0.855 total time=   0.1s\n",
            "[CV 5/5] END max_depth=8, min_samples_leaf=2, min_samples_split=2, n_estimators=50;, score=0.872 total time=   0.1s\n",
            "[CV 1/5] END max_depth=8, min_samples_leaf=6, min_samples_split=5, n_estimators=50;, score=0.839 total time=   0.1s\n",
            "[CV 2/5] END max_depth=8, min_samples_leaf=6, min_samples_split=5, n_estimators=50;, score=0.864 total time=   0.1s\n",
            "[CV 3/5] END max_depth=8, min_samples_leaf=6, min_samples_split=5, n_estimators=50;, score=0.860 total time=   0.1s\n",
            "[CV 4/5] END max_depth=8, min_samples_leaf=6, min_samples_split=5, n_estimators=50;, score=0.851 total time=   0.1s\n",
            "[CV 5/5] END max_depth=8, min_samples_leaf=6, min_samples_split=5, n_estimators=50;, score=0.872 total time=   0.1s\n",
            "[CV 1/5] END max_depth=6, min_samples_leaf=5, min_samples_split=5, n_estimators=400;, score=0.839 total time=   0.7s\n",
            "[CV 2/5] END max_depth=6, min_samples_leaf=5, min_samples_split=5, n_estimators=400;, score=0.868 total time=   0.7s\n",
            "[CV 3/5] END max_depth=6, min_samples_leaf=5, min_samples_split=5, n_estimators=400;, score=0.855 total time=   0.7s\n",
            "[CV 4/5] END max_depth=6, min_samples_leaf=5, min_samples_split=5, n_estimators=400;, score=0.855 total time=   0.7s\n",
            "[CV 5/5] END max_depth=6, min_samples_leaf=5, min_samples_split=5, n_estimators=400;, score=0.872 total time=   0.7s\n",
            "[CV 1/5] END max_depth=4, min_samples_leaf=6, min_samples_split=2, n_estimators=200;, score=0.847 total time=   0.4s\n",
            "[CV 2/5] END max_depth=4, min_samples_leaf=6, min_samples_split=2, n_estimators=200;, score=0.851 total time=   0.4s\n",
            "[CV 3/5] END max_depth=4, min_samples_leaf=6, min_samples_split=2, n_estimators=200;, score=0.851 total time=   0.4s\n",
            "[CV 4/5] END max_depth=4, min_samples_leaf=6, min_samples_split=2, n_estimators=200;, score=0.864 total time=   0.5s\n",
            "[CV 5/5] END max_depth=4, min_samples_leaf=6, min_samples_split=2, n_estimators=200;, score=0.868 total time=   0.5s\n",
            "[CV 1/5] END max_depth=10, min_samples_leaf=2, min_samples_split=2, n_estimators=200;, score=0.847 total time=   0.7s\n",
            "[CV 2/5] END max_depth=10, min_samples_leaf=2, min_samples_split=2, n_estimators=200;, score=0.877 total time=   0.6s\n",
            "[CV 3/5] END max_depth=10, min_samples_leaf=2, min_samples_split=2, n_estimators=200;, score=0.864 total time=   0.4s\n",
            "[CV 4/5] END max_depth=10, min_samples_leaf=2, min_samples_split=2, n_estimators=200;, score=0.860 total time=   0.4s\n",
            "[CV 5/5] END max_depth=10, min_samples_leaf=2, min_samples_split=2, n_estimators=200;, score=0.872 total time=   0.4s\n",
            "[CV 1/5] END max_depth=9, min_samples_leaf=3, min_samples_split=5, n_estimators=300;, score=0.843 total time=   0.6s\n",
            "[CV 2/5] END max_depth=9, min_samples_leaf=3, min_samples_split=5, n_estimators=300;, score=0.881 total time=   0.6s\n",
            "[CV 3/5] END max_depth=9, min_samples_leaf=3, min_samples_split=5, n_estimators=300;, score=0.868 total time=   0.6s\n",
            "[CV 4/5] END max_depth=9, min_samples_leaf=3, min_samples_split=5, n_estimators=300;, score=0.851 total time=   0.6s\n",
            "[CV 5/5] END max_depth=9, min_samples_leaf=3, min_samples_split=5, n_estimators=300;, score=0.877 total time=   0.6s\n",
            "[CV 1/5] END max_depth=8, min_samples_leaf=3, min_samples_split=10, n_estimators=400;, score=0.839 total time=   0.8s\n",
            "[CV 2/5] END max_depth=8, min_samples_leaf=3, min_samples_split=10, n_estimators=400;, score=0.877 total time=   0.8s\n",
            "[CV 3/5] END max_depth=8, min_samples_leaf=3, min_samples_split=10, n_estimators=400;, score=0.860 total time=   0.8s\n",
            "[CV 4/5] END max_depth=8, min_samples_leaf=3, min_samples_split=10, n_estimators=400;, score=0.851 total time=   0.8s\n",
            "[CV 5/5] END max_depth=8, min_samples_leaf=3, min_samples_split=10, n_estimators=400;, score=0.872 total time=   0.8s\n",
            "[CV 1/5] END max_depth=5, min_samples_leaf=3, min_samples_split=5, n_estimators=300;, score=0.839 total time=   0.5s\n",
            "[CV 2/5] END max_depth=5, min_samples_leaf=3, min_samples_split=5, n_estimators=300;, score=0.864 total time=   0.6s\n",
            "[CV 3/5] END max_depth=5, min_samples_leaf=3, min_samples_split=5, n_estimators=300;, score=0.855 total time=   0.6s\n",
            "[CV 4/5] END max_depth=5, min_samples_leaf=3, min_samples_split=5, n_estimators=300;, score=0.855 total time=   0.9s\n",
            "[CV 5/5] END max_depth=5, min_samples_leaf=3, min_samples_split=5, n_estimators=300;, score=0.872 total time=   0.8s\n",
            "[CV 1/5] END max_depth=4, min_samples_leaf=5, min_samples_split=10, n_estimators=10;, score=0.835 total time=   0.0s\n",
            "[CV 2/5] END max_depth=4, min_samples_leaf=5, min_samples_split=10, n_estimators=10;, score=0.868 total time=   0.0s\n",
            "[CV 3/5] END max_depth=4, min_samples_leaf=5, min_samples_split=10, n_estimators=10;, score=0.860 total time=   0.0s\n",
            "[CV 4/5] END max_depth=4, min_samples_leaf=5, min_samples_split=10, n_estimators=10;, score=0.860 total time=   0.0s\n",
            "[CV 5/5] END max_depth=4, min_samples_leaf=5, min_samples_split=10, n_estimators=10;, score=0.868 total time=   0.0s\n",
            "[CV 1/5] END max_depth=7, min_samples_leaf=3, min_samples_split=10, n_estimators=50;, score=0.839 total time=   0.2s\n",
            "[CV 2/5] END max_depth=7, min_samples_leaf=3, min_samples_split=10, n_estimators=50;, score=0.877 total time=   0.2s\n",
            "[CV 3/5] END max_depth=7, min_samples_leaf=3, min_samples_split=10, n_estimators=50;, score=0.860 total time=   0.2s\n",
            "[CV 4/5] END max_depth=7, min_samples_leaf=3, min_samples_split=10, n_estimators=50;, score=0.851 total time=   0.1s\n",
            "[CV 5/5] END max_depth=7, min_samples_leaf=3, min_samples_split=10, n_estimators=50;, score=0.868 total time=   0.1s\n",
            "[CV 1/5] END max_depth=7, min_samples_leaf=3, min_samples_split=2, n_estimators=200;, score=0.843 total time=   0.4s\n",
            "[CV 2/5] END max_depth=7, min_samples_leaf=3, min_samples_split=2, n_estimators=200;, score=0.877 total time=   0.4s\n",
            "[CV 3/5] END max_depth=7, min_samples_leaf=3, min_samples_split=2, n_estimators=200;, score=0.860 total time=   0.4s\n",
            "[CV 4/5] END max_depth=7, min_samples_leaf=3, min_samples_split=2, n_estimators=200;, score=0.855 total time=   0.4s\n",
            "[CV 5/5] END max_depth=7, min_samples_leaf=3, min_samples_split=2, n_estimators=200;, score=0.877 total time=   0.4s\n",
            "[CV 1/5] END max_depth=5, min_samples_leaf=6, min_samples_split=2, n_estimators=400;, score=0.839 total time=   0.7s\n",
            "[CV 2/5] END max_depth=5, min_samples_leaf=6, min_samples_split=2, n_estimators=400;, score=0.864 total time=   0.7s\n",
            "[CV 3/5] END max_depth=5, min_samples_leaf=6, min_samples_split=2, n_estimators=400;, score=0.855 total time=   0.7s\n",
            "[CV 4/5] END max_depth=5, min_samples_leaf=6, min_samples_split=2, n_estimators=400;, score=0.855 total time=   0.7s\n",
            "[CV 5/5] END max_depth=5, min_samples_leaf=6, min_samples_split=2, n_estimators=400;, score=0.872 total time=   0.7s\n",
            "[CV 1/5] END max_depth=5, min_samples_leaf=5, min_samples_split=10, n_estimators=10;, score=0.843 total time=   0.0s\n",
            "[CV 2/5] END max_depth=5, min_samples_leaf=5, min_samples_split=10, n_estimators=10;, score=0.860 total time=   0.0s\n",
            "[CV 3/5] END max_depth=5, min_samples_leaf=5, min_samples_split=10, n_estimators=10;, score=0.847 total time=   0.0s\n",
            "[CV 4/5] END max_depth=5, min_samples_leaf=5, min_samples_split=10, n_estimators=10;, score=0.864 total time=   0.0s\n",
            "[CV 5/5] END max_depth=5, min_samples_leaf=5, min_samples_split=10, n_estimators=10;, score=0.872 total time=   0.0s\n",
            "[CV 1/5] END max_depth=10, min_samples_leaf=4, min_samples_split=2, n_estimators=50;, score=0.843 total time=   0.1s\n",
            "[CV 2/5] END max_depth=10, min_samples_leaf=4, min_samples_split=2, n_estimators=50;, score=0.868 total time=   0.1s\n",
            "[CV 3/5] END max_depth=10, min_samples_leaf=4, min_samples_split=2, n_estimators=50;, score=0.864 total time=   0.1s\n",
            "[CV 4/5] END max_depth=10, min_samples_leaf=4, min_samples_split=2, n_estimators=50;, score=0.860 total time=   0.1s\n",
            "[CV 5/5] END max_depth=10, min_samples_leaf=4, min_samples_split=2, n_estimators=50;, score=0.860 total time=   0.1s\n",
            "[CV 1/5] END max_depth=9, min_samples_leaf=2, min_samples_split=2, n_estimators=50;, score=0.852 total time=   0.1s\n",
            "[CV 2/5] END max_depth=9, min_samples_leaf=2, min_samples_split=2, n_estimators=50;, score=0.881 total time=   0.1s\n",
            "[CV 3/5] END max_depth=9, min_samples_leaf=2, min_samples_split=2, n_estimators=50;, score=0.851 total time=   0.1s\n",
            "[CV 4/5] END max_depth=9, min_samples_leaf=2, min_samples_split=2, n_estimators=50;, score=0.847 total time=   0.1s\n",
            "[CV 5/5] END max_depth=9, min_samples_leaf=2, min_samples_split=2, n_estimators=50;, score=0.868 total time=   0.1s\n",
            "[CV 1/5] END max_depth=8, min_samples_leaf=2, min_samples_split=5, n_estimators=300;, score=0.843 total time=   0.6s\n",
            "[CV 2/5] END max_depth=8, min_samples_leaf=2, min_samples_split=5, n_estimators=300;, score=0.881 total time=   0.6s\n",
            "[CV 3/5] END max_depth=8, min_samples_leaf=2, min_samples_split=5, n_estimators=300;, score=0.864 total time=   0.6s\n",
            "[CV 4/5] END max_depth=8, min_samples_leaf=2, min_samples_split=5, n_estimators=300;, score=0.851 total time=   1.0s\n",
            "[CV 5/5] END max_depth=8, min_samples_leaf=2, min_samples_split=5, n_estimators=300;, score=0.872 total time=   0.8s\n",
            "[CV 1/5] END max_depth=8, min_samples_leaf=4, min_samples_split=5, n_estimators=200;, score=0.843 total time=   0.6s\n",
            "[CV 2/5] END max_depth=8, min_samples_leaf=4, min_samples_split=5, n_estimators=200;, score=0.881 total time=   0.6s\n",
            "[CV 3/5] END max_depth=8, min_samples_leaf=4, min_samples_split=5, n_estimators=200;, score=0.864 total time=   0.6s\n",
            "[CV 4/5] END max_depth=8, min_samples_leaf=4, min_samples_split=5, n_estimators=200;, score=0.855 total time=   0.4s\n",
            "[CV 5/5] END max_depth=8, min_samples_leaf=4, min_samples_split=5, n_estimators=200;, score=0.868 total time=   0.4s\n",
            "[CV 1/5] END max_depth=4, min_samples_leaf=3, min_samples_split=2, n_estimators=400;, score=0.847 total time=   0.7s\n",
            "[CV 2/5] END max_depth=4, min_samples_leaf=3, min_samples_split=2, n_estimators=400;, score=0.851 total time=   0.7s\n",
            "[CV 3/5] END max_depth=4, min_samples_leaf=3, min_samples_split=2, n_estimators=400;, score=0.855 total time=   0.7s\n",
            "[CV 4/5] END max_depth=4, min_samples_leaf=3, min_samples_split=2, n_estimators=400;, score=0.855 total time=   0.7s\n",
            "[CV 5/5] END max_depth=4, min_samples_leaf=3, min_samples_split=2, n_estimators=400;, score=0.872 total time=   0.7s\n",
            "[CV 1/5] END max_depth=10, min_samples_leaf=6, min_samples_split=10, n_estimators=400;, score=0.835 total time=   0.8s\n",
            "[CV 2/5] END max_depth=10, min_samples_leaf=6, min_samples_split=10, n_estimators=400;, score=0.868 total time=   0.8s\n",
            "[CV 3/5] END max_depth=10, min_samples_leaf=6, min_samples_split=10, n_estimators=400;, score=0.860 total time=   0.8s\n",
            "[CV 4/5] END max_depth=10, min_samples_leaf=6, min_samples_split=10, n_estimators=400;, score=0.851 total time=   0.8s\n",
            "[CV 5/5] END max_depth=10, min_samples_leaf=6, min_samples_split=10, n_estimators=400;, score=0.872 total time=   0.8s\n",
            "[CV 1/5] END max_depth=7, min_samples_leaf=4, min_samples_split=5, n_estimators=100;, score=0.839 total time=   0.2s\n",
            "[CV 2/5] END max_depth=7, min_samples_leaf=4, min_samples_split=5, n_estimators=100;, score=0.864 total time=   0.2s\n",
            "[CV 3/5] END max_depth=7, min_samples_leaf=4, min_samples_split=5, n_estimators=100;, score=0.860 total time=   0.2s\n",
            "[CV 4/5] END max_depth=7, min_samples_leaf=4, min_samples_split=5, n_estimators=100;, score=0.855 total time=   0.2s\n",
            "[CV 5/5] END max_depth=7, min_samples_leaf=4, min_samples_split=5, n_estimators=100;, score=0.872 total time=   0.2s\n",
            "[CV 1/5] END max_depth=5, min_samples_leaf=3, min_samples_split=10, n_estimators=400;, score=0.839 total time=   0.7s\n",
            "[CV 2/5] END max_depth=5, min_samples_leaf=3, min_samples_split=10, n_estimators=400;, score=0.868 total time=   1.0s\n",
            "[CV 3/5] END max_depth=5, min_samples_leaf=3, min_samples_split=10, n_estimators=400;, score=0.855 total time=   1.1s\n",
            "[CV 4/5] END max_depth=5, min_samples_leaf=3, min_samples_split=10, n_estimators=400;, score=0.855 total time=   0.9s\n",
            "[CV 5/5] END max_depth=5, min_samples_leaf=3, min_samples_split=10, n_estimators=400;, score=0.872 total time=   0.7s\n",
            "[CV 1/5] END max_depth=8, min_samples_leaf=6, min_samples_split=10, n_estimators=100;, score=0.839 total time=   0.2s\n",
            "[CV 2/5] END max_depth=8, min_samples_leaf=6, min_samples_split=10, n_estimators=100;, score=0.872 total time=   0.2s\n",
            "[CV 3/5] END max_depth=8, min_samples_leaf=6, min_samples_split=10, n_estimators=100;, score=0.860 total time=   0.2s\n",
            "[CV 4/5] END max_depth=8, min_samples_leaf=6, min_samples_split=10, n_estimators=100;, score=0.864 total time=   0.2s\n",
            "[CV 5/5] END max_depth=8, min_samples_leaf=6, min_samples_split=10, n_estimators=100;, score=0.872 total time=   0.2s\n",
            "[CV 1/5] END max_depth=8, min_samples_leaf=5, min_samples_split=5, n_estimators=200;, score=0.839 total time=   0.4s\n",
            "[CV 2/5] END max_depth=8, min_samples_leaf=5, min_samples_split=5, n_estimators=200;, score=0.868 total time=   0.4s\n",
            "[CV 3/5] END max_depth=8, min_samples_leaf=5, min_samples_split=5, n_estimators=200;, score=0.855 total time=   0.4s\n",
            "[CV 4/5] END max_depth=8, min_samples_leaf=5, min_samples_split=5, n_estimators=200;, score=0.851 total time=   0.4s\n",
            "[CV 5/5] END max_depth=8, min_samples_leaf=5, min_samples_split=5, n_estimators=200;, score=0.872 total time=   0.4s\n",
            "[CV 1/5] END max_depth=9, min_samples_leaf=2, min_samples_split=2, n_estimators=200;, score=0.843 total time=   0.4s\n",
            "[CV 2/5] END max_depth=9, min_samples_leaf=2, min_samples_split=2, n_estimators=200;, score=0.872 total time=   0.4s\n",
            "[CV 3/5] END max_depth=9, min_samples_leaf=2, min_samples_split=2, n_estimators=200;, score=0.864 total time=   0.4s\n",
            "[CV 4/5] END max_depth=9, min_samples_leaf=2, min_samples_split=2, n_estimators=200;, score=0.851 total time=   0.4s\n",
            "[CV 5/5] END max_depth=9, min_samples_leaf=2, min_samples_split=2, n_estimators=200;, score=0.877 total time=   0.4s\n",
            "[CV 1/5] END max_depth=7, min_samples_leaf=4, min_samples_split=2, n_estimators=300;, score=0.835 total time=   0.6s\n",
            "[CV 2/5] END max_depth=7, min_samples_leaf=4, min_samples_split=2, n_estimators=300;, score=0.877 total time=   0.6s\n",
            "[CV 3/5] END max_depth=7, min_samples_leaf=4, min_samples_split=2, n_estimators=300;, score=0.860 total time=   0.6s\n",
            "[CV 4/5] END max_depth=7, min_samples_leaf=4, min_samples_split=2, n_estimators=300;, score=0.855 total time=   0.6s\n",
            "[CV 5/5] END max_depth=7, min_samples_leaf=4, min_samples_split=2, n_estimators=300;, score=0.872 total time=   0.6s\n",
            "[CV 1/5] END max_depth=7, min_samples_leaf=2, min_samples_split=2, n_estimators=50;, score=0.847 total time=   0.1s\n",
            "[CV 2/5] END max_depth=7, min_samples_leaf=2, min_samples_split=2, n_estimators=50;, score=0.872 total time=   0.1s\n",
            "[CV 3/5] END max_depth=7, min_samples_leaf=2, min_samples_split=2, n_estimators=50;, score=0.860 total time=   0.1s\n",
            "[CV 4/5] END max_depth=7, min_samples_leaf=2, min_samples_split=2, n_estimators=50;, score=0.851 total time=   0.1s\n",
            "[CV 5/5] END max_depth=7, min_samples_leaf=2, min_samples_split=2, n_estimators=50;, score=0.868 total time=   0.1s\n",
            "[CV 1/5] END max_depth=5, min_samples_leaf=5, min_samples_split=2, n_estimators=10;, score=0.856 total time=   0.0s\n",
            "[CV 2/5] END max_depth=5, min_samples_leaf=5, min_samples_split=2, n_estimators=10;, score=0.855 total time=   0.0s\n",
            "[CV 3/5] END max_depth=5, min_samples_leaf=5, min_samples_split=2, n_estimators=10;, score=0.855 total time=   0.0s\n",
            "[CV 4/5] END max_depth=5, min_samples_leaf=5, min_samples_split=2, n_estimators=10;, score=0.868 total time=   0.0s\n",
            "[CV 5/5] END max_depth=5, min_samples_leaf=5, min_samples_split=2, n_estimators=10;, score=0.864 total time=   0.0s\n",
            "[CV 1/5] END max_depth=7, min_samples_leaf=5, min_samples_split=2, n_estimators=200;, score=0.839 total time=   0.5s\n",
            "[CV 2/5] END max_depth=7, min_samples_leaf=5, min_samples_split=2, n_estimators=200;, score=0.872 total time=   0.6s\n",
            "[CV 3/5] END max_depth=7, min_samples_leaf=5, min_samples_split=2, n_estimators=200;, score=0.860 total time=   0.6s\n",
            "[CV 4/5] END max_depth=7, min_samples_leaf=5, min_samples_split=2, n_estimators=200;, score=0.855 total time=   0.6s\n",
            "[CV 5/5] END max_depth=7, min_samples_leaf=5, min_samples_split=2, n_estimators=200;, score=0.872 total time=   0.6s\n",
            "[CV 1/5] END max_depth=9, min_samples_leaf=2, min_samples_split=5, n_estimators=400;, score=0.839 total time=   0.8s\n",
            "[CV 2/5] END max_depth=9, min_samples_leaf=2, min_samples_split=5, n_estimators=400;, score=0.877 total time=   0.8s\n",
            "[CV 3/5] END max_depth=9, min_samples_leaf=2, min_samples_split=5, n_estimators=400;, score=0.860 total time=   0.8s\n",
            "[CV 4/5] END max_depth=9, min_samples_leaf=2, min_samples_split=5, n_estimators=400;, score=0.855 total time=   0.8s\n",
            "[CV 5/5] END max_depth=9, min_samples_leaf=2, min_samples_split=5, n_estimators=400;, score=0.868 total time=   0.8s\n",
            "[CV 1/5] END max_depth=8, min_samples_leaf=2, min_samples_split=2, n_estimators=10;, score=0.843 total time=   0.0s\n",
            "[CV 2/5] END max_depth=8, min_samples_leaf=2, min_samples_split=2, n_estimators=10;, score=0.877 total time=   0.0s\n",
            "[CV 3/5] END max_depth=8, min_samples_leaf=2, min_samples_split=2, n_estimators=10;, score=0.847 total time=   0.0s\n",
            "[CV 4/5] END max_depth=8, min_samples_leaf=2, min_samples_split=2, n_estimators=10;, score=0.847 total time=   0.0s\n",
            "[CV 5/5] END max_depth=8, min_samples_leaf=2, min_samples_split=2, n_estimators=10;, score=0.864 total time=   0.0s\n",
            "[CV 1/5] END max_depth=6, min_samples_leaf=3, min_samples_split=5, n_estimators=50;, score=0.839 total time=   0.1s\n",
            "[CV 2/5] END max_depth=6, min_samples_leaf=3, min_samples_split=5, n_estimators=50;, score=0.877 total time=   0.1s\n",
            "[CV 3/5] END max_depth=6, min_samples_leaf=3, min_samples_split=5, n_estimators=50;, score=0.860 total time=   0.1s\n",
            "[CV 4/5] END max_depth=6, min_samples_leaf=3, min_samples_split=5, n_estimators=50;, score=0.855 total time=   0.1s\n",
            "[CV 5/5] END max_depth=6, min_samples_leaf=3, min_samples_split=5, n_estimators=50;, score=0.872 total time=   0.1s\n",
            "[CV 1/5] END max_depth=5, min_samples_leaf=5, min_samples_split=2, n_estimators=300;, score=0.843 total time=   0.5s\n",
            "[CV 2/5] END max_depth=5, min_samples_leaf=5, min_samples_split=2, n_estimators=300;, score=0.864 total time=   0.5s\n",
            "[CV 3/5] END max_depth=5, min_samples_leaf=5, min_samples_split=2, n_estimators=300;, score=0.855 total time=   0.6s\n",
            "[CV 4/5] END max_depth=5, min_samples_leaf=5, min_samples_split=2, n_estimators=300;, score=0.855 total time=   0.5s\n",
            "[CV 5/5] END max_depth=5, min_samples_leaf=5, min_samples_split=2, n_estimators=300;, score=0.872 total time=   0.6s\n",
            "[CV 1/5] END max_depth=10, min_samples_leaf=4, min_samples_split=10, n_estimators=400;, score=0.839 total time=   0.8s\n",
            "[CV 2/5] END max_depth=10, min_samples_leaf=4, min_samples_split=10, n_estimators=400;, score=0.877 total time=   0.8s\n",
            "[CV 3/5] END max_depth=10, min_samples_leaf=4, min_samples_split=10, n_estimators=400;, score=0.860 total time=   0.8s\n",
            "[CV 4/5] END max_depth=10, min_samples_leaf=4, min_samples_split=10, n_estimators=400;, score=0.855 total time=   1.2s\n",
            "[CV 5/5] END max_depth=10, min_samples_leaf=4, min_samples_split=10, n_estimators=400;, score=0.868 total time=   1.3s\n",
            "[CV 1/5] END max_depth=7, min_samples_leaf=4, min_samples_split=10, n_estimators=50;, score=0.843 total time=   0.1s\n",
            "[CV 2/5] END max_depth=7, min_samples_leaf=4, min_samples_split=10, n_estimators=50;, score=0.877 total time=   0.1s\n",
            "[CV 3/5] END max_depth=7, min_samples_leaf=4, min_samples_split=10, n_estimators=50;, score=0.855 total time=   0.1s\n",
            "[CV 4/5] END max_depth=7, min_samples_leaf=4, min_samples_split=10, n_estimators=50;, score=0.855 total time=   0.1s\n",
            "[CV 5/5] END max_depth=7, min_samples_leaf=4, min_samples_split=10, n_estimators=50;, score=0.872 total time=   0.1s\n",
            "[CV 1/5] END max_depth=4, min_samples_leaf=3, min_samples_split=5, n_estimators=200;, score=0.839 total time=   0.4s\n",
            "[CV 2/5] END max_depth=4, min_samples_leaf=3, min_samples_split=5, n_estimators=200;, score=0.847 total time=   0.3s\n",
            "[CV 3/5] END max_depth=4, min_samples_leaf=3, min_samples_split=5, n_estimators=200;, score=0.855 total time=   0.4s\n",
            "[CV 4/5] END max_depth=4, min_samples_leaf=3, min_samples_split=5, n_estimators=200;, score=0.860 total time=   0.3s\n",
            "[CV 5/5] END max_depth=4, min_samples_leaf=3, min_samples_split=5, n_estimators=200;, score=0.872 total time=   0.3s\n",
            "[CV 1/5] END max_depth=7, min_samples_leaf=2, min_samples_split=10, n_estimators=10;, score=0.852 total time=   0.0s\n",
            "[CV 2/5] END max_depth=7, min_samples_leaf=2, min_samples_split=10, n_estimators=10;, score=0.889 total time=   0.0s\n",
            "[CV 3/5] END max_depth=7, min_samples_leaf=2, min_samples_split=10, n_estimators=10;, score=0.851 total time=   0.0s\n",
            "[CV 4/5] END max_depth=7, min_samples_leaf=2, min_samples_split=10, n_estimators=10;, score=0.838 total time=   0.0s\n",
            "[CV 5/5] END max_depth=7, min_samples_leaf=2, min_samples_split=10, n_estimators=10;, score=0.877 total time=   0.0s\n",
            "[CV 1/5] END max_depth=6, min_samples_leaf=5, min_samples_split=5, n_estimators=50;, score=0.843 total time=   0.1s\n",
            "[CV 2/5] END max_depth=6, min_samples_leaf=5, min_samples_split=5, n_estimators=50;, score=0.868 total time=   0.1s\n",
            "[CV 3/5] END max_depth=6, min_samples_leaf=5, min_samples_split=5, n_estimators=50;, score=0.855 total time=   0.1s\n",
            "[CV 4/5] END max_depth=6, min_samples_leaf=5, min_samples_split=5, n_estimators=50;, score=0.851 total time=   0.1s\n",
            "[CV 5/5] END max_depth=6, min_samples_leaf=5, min_samples_split=5, n_estimators=50;, score=0.872 total time=   0.1s\n",
            "[CV 1/5] END max_depth=8, min_samples_leaf=4, min_samples_split=10, n_estimators=100;, score=0.839 total time=   0.2s\n",
            "[CV 2/5] END max_depth=8, min_samples_leaf=4, min_samples_split=10, n_estimators=100;, score=0.872 total time=   0.2s\n",
            "[CV 3/5] END max_depth=8, min_samples_leaf=4, min_samples_split=10, n_estimators=100;, score=0.864 total time=   0.2s\n",
            "[CV 4/5] END max_depth=8, min_samples_leaf=4, min_samples_split=10, n_estimators=100;, score=0.855 total time=   0.2s\n",
            "[CV 5/5] END max_depth=8, min_samples_leaf=4, min_samples_split=10, n_estimators=100;, score=0.872 total time=   0.2s\n",
            "[CV 1/5] END max_depth=10, min_samples_leaf=3, min_samples_split=10, n_estimators=10;, score=0.843 total time=   0.0s\n",
            "[CV 2/5] END max_depth=10, min_samples_leaf=3, min_samples_split=10, n_estimators=10;, score=0.881 total time=   0.0s\n",
            "[CV 3/5] END max_depth=10, min_samples_leaf=3, min_samples_split=10, n_estimators=10;, score=0.834 total time=   0.0s\n",
            "[CV 4/5] END max_depth=10, min_samples_leaf=3, min_samples_split=10, n_estimators=10;, score=0.860 total time=   0.0s\n",
            "[CV 5/5] END max_depth=10, min_samples_leaf=3, min_samples_split=10, n_estimators=10;, score=0.877 total time=   0.0s\n",
            "[CV 1/5] END max_depth=5, min_samples_leaf=5, min_samples_split=10, n_estimators=100;, score=0.847 total time=   0.2s\n",
            "[CV 2/5] END max_depth=5, min_samples_leaf=5, min_samples_split=10, n_estimators=100;, score=0.860 total time=   0.2s\n",
            "[CV 3/5] END max_depth=5, min_samples_leaf=5, min_samples_split=10, n_estimators=100;, score=0.860 total time=   0.2s\n",
            "[CV 4/5] END max_depth=5, min_samples_leaf=5, min_samples_split=10, n_estimators=100;, score=0.855 total time=   0.2s\n",
            "[CV 5/5] END max_depth=5, min_samples_leaf=5, min_samples_split=10, n_estimators=100;, score=0.872 total time=   0.2s\n",
            "[CV 1/5] END max_depth=7, min_samples_leaf=2, min_samples_split=10, n_estimators=50;, score=0.847 total time=   0.1s\n",
            "[CV 2/5] END max_depth=7, min_samples_leaf=2, min_samples_split=10, n_estimators=50;, score=0.877 total time=   0.1s\n",
            "[CV 3/5] END max_depth=7, min_samples_leaf=2, min_samples_split=10, n_estimators=50;, score=0.860 total time=   0.1s\n",
            "[CV 4/5] END max_depth=7, min_samples_leaf=2, min_samples_split=10, n_estimators=50;, score=0.851 total time=   0.1s\n",
            "[CV 5/5] END max_depth=7, min_samples_leaf=2, min_samples_split=10, n_estimators=50;, score=0.872 total time=   0.1s\n",
            "[CV 1/5] END max_depth=4, min_samples_leaf=4, min_samples_split=10, n_estimators=50;, score=0.839 total time=   0.1s\n",
            "[CV 2/5] END max_depth=4, min_samples_leaf=4, min_samples_split=10, n_estimators=50;, score=0.851 total time=   0.1s\n",
            "[CV 3/5] END max_depth=4, min_samples_leaf=4, min_samples_split=10, n_estimators=50;, score=0.851 total time=   0.1s\n",
            "[CV 4/5] END max_depth=4, min_samples_leaf=4, min_samples_split=10, n_estimators=50;, score=0.855 total time=   0.1s\n",
            "[CV 5/5] END max_depth=4, min_samples_leaf=4, min_samples_split=10, n_estimators=50;, score=0.860 total time=   0.1s\n",
            "[CV 1/5] END max_depth=5, min_samples_leaf=2, min_samples_split=2, n_estimators=300;, score=0.843 total time=   0.5s\n",
            "[CV 2/5] END max_depth=5, min_samples_leaf=2, min_samples_split=2, n_estimators=300;, score=0.868 total time=   0.5s\n",
            "[CV 3/5] END max_depth=5, min_samples_leaf=2, min_samples_split=2, n_estimators=300;, score=0.855 total time=   0.6s\n",
            "[CV 4/5] END max_depth=5, min_samples_leaf=2, min_samples_split=2, n_estimators=300;, score=0.855 total time=   0.5s\n",
            "[CV 5/5] END max_depth=5, min_samples_leaf=2, min_samples_split=2, n_estimators=300;, score=0.872 total time=   0.6s\n"
          ]
        },
        {
          "output_type": "execute_result",
          "data": {
            "text/plain": [
              "RandomizedSearchCV(cv=StratifiedKFold(n_splits=5, random_state=None, shuffle=True),\n",
              "                   estimator=RandomForestClassifier(), n_iter=50,\n",
              "                   param_distributions={'max_depth': [4, 5, 6, 7, 8, 9, 10],\n",
              "                                        'min_samples_leaf': [2, 3, 4, 5, 6],\n",
              "                                        'min_samples_split': [2, 5, 10],\n",
              "                                        'n_estimators': [10, 50, 100, 200, 300,\n",
              "                                                         400]},\n",
              "                   scoring='accuracy', verbose=3)"
            ],
            "text/html": [
              "<style>#sk-container-id-2 {color: black;background-color: white;}#sk-container-id-2 pre{padding: 0;}#sk-container-id-2 div.sk-toggleable {background-color: white;}#sk-container-id-2 label.sk-toggleable__label {cursor: pointer;display: block;width: 100%;margin-bottom: 0;padding: 0.3em;box-sizing: border-box;text-align: center;}#sk-container-id-2 label.sk-toggleable__label-arrow:before {content: \"▸\";float: left;margin-right: 0.25em;color: #696969;}#sk-container-id-2 label.sk-toggleable__label-arrow:hover:before {color: black;}#sk-container-id-2 div.sk-estimator:hover label.sk-toggleable__label-arrow:before {color: black;}#sk-container-id-2 div.sk-toggleable__content {max-height: 0;max-width: 0;overflow: hidden;text-align: left;background-color: #f0f8ff;}#sk-container-id-2 div.sk-toggleable__content pre {margin: 0.2em;color: black;border-radius: 0.25em;background-color: #f0f8ff;}#sk-container-id-2 input.sk-toggleable__control:checked~div.sk-toggleable__content {max-height: 200px;max-width: 100%;overflow: auto;}#sk-container-id-2 input.sk-toggleable__control:checked~label.sk-toggleable__label-arrow:before {content: \"▾\";}#sk-container-id-2 div.sk-estimator input.sk-toggleable__control:checked~label.sk-toggleable__label {background-color: #d4ebff;}#sk-container-id-2 div.sk-label input.sk-toggleable__control:checked~label.sk-toggleable__label {background-color: #d4ebff;}#sk-container-id-2 input.sk-hidden--visually {border: 0;clip: rect(1px 1px 1px 1px);clip: rect(1px, 1px, 1px, 1px);height: 1px;margin: -1px;overflow: hidden;padding: 0;position: absolute;width: 1px;}#sk-container-id-2 div.sk-estimator {font-family: monospace;background-color: #f0f8ff;border: 1px dotted black;border-radius: 0.25em;box-sizing: border-box;margin-bottom: 0.5em;}#sk-container-id-2 div.sk-estimator:hover {background-color: #d4ebff;}#sk-container-id-2 div.sk-parallel-item::after {content: \"\";width: 100%;border-bottom: 1px solid gray;flex-grow: 1;}#sk-container-id-2 div.sk-label:hover label.sk-toggleable__label {background-color: #d4ebff;}#sk-container-id-2 div.sk-serial::before {content: \"\";position: absolute;border-left: 1px solid gray;box-sizing: border-box;top: 0;bottom: 0;left: 50%;z-index: 0;}#sk-container-id-2 div.sk-serial {display: flex;flex-direction: column;align-items: center;background-color: white;padding-right: 0.2em;padding-left: 0.2em;position: relative;}#sk-container-id-2 div.sk-item {position: relative;z-index: 1;}#sk-container-id-2 div.sk-parallel {display: flex;align-items: stretch;justify-content: center;background-color: white;position: relative;}#sk-container-id-2 div.sk-item::before, #sk-container-id-2 div.sk-parallel-item::before {content: \"\";position: absolute;border-left: 1px solid gray;box-sizing: border-box;top: 0;bottom: 0;left: 50%;z-index: -1;}#sk-container-id-2 div.sk-parallel-item {display: flex;flex-direction: column;z-index: 1;position: relative;background-color: white;}#sk-container-id-2 div.sk-parallel-item:first-child::after {align-self: flex-end;width: 50%;}#sk-container-id-2 div.sk-parallel-item:last-child::after {align-self: flex-start;width: 50%;}#sk-container-id-2 div.sk-parallel-item:only-child::after {width: 0;}#sk-container-id-2 div.sk-dashed-wrapped {border: 1px dashed gray;margin: 0 0.4em 0.5em 0.4em;box-sizing: border-box;padding-bottom: 0.4em;background-color: white;}#sk-container-id-2 div.sk-label label {font-family: monospace;font-weight: bold;display: inline-block;line-height: 1.2em;}#sk-container-id-2 div.sk-label-container {text-align: center;}#sk-container-id-2 div.sk-container {/* jupyter's `normalize.less` sets `[hidden] { display: none; }` but bootstrap.min.css set `[hidden] { display: none !important; }` so we also need the `!important` here to be able to override the default hidden behavior on the sphinx rendered scikit-learn.org. See: https://github.com/scikit-learn/scikit-learn/issues/21755 */display: inline-block !important;position: relative;}#sk-container-id-2 div.sk-text-repr-fallback {display: none;}</style><div id=\"sk-container-id-2\" class=\"sk-top-container\"><div class=\"sk-text-repr-fallback\"><pre>RandomizedSearchCV(cv=StratifiedKFold(n_splits=5, random_state=None, shuffle=True),\n",
              "                   estimator=RandomForestClassifier(), n_iter=50,\n",
              "                   param_distributions={&#x27;max_depth&#x27;: [4, 5, 6, 7, 8, 9, 10],\n",
              "                                        &#x27;min_samples_leaf&#x27;: [2, 3, 4, 5, 6],\n",
              "                                        &#x27;min_samples_split&#x27;: [2, 5, 10],\n",
              "                                        &#x27;n_estimators&#x27;: [10, 50, 100, 200, 300,\n",
              "                                                         400]},\n",
              "                   scoring=&#x27;accuracy&#x27;, verbose=3)</pre><b>In a Jupyter environment, please rerun this cell to show the HTML representation or trust the notebook. <br />On GitHub, the HTML representation is unable to render, please try loading this page with nbviewer.org.</b></div><div class=\"sk-container\" hidden><div class=\"sk-item sk-dashed-wrapped\"><div class=\"sk-label-container\"><div class=\"sk-label sk-toggleable\"><input class=\"sk-toggleable__control sk-hidden--visually\" id=\"sk-estimator-id-2\" type=\"checkbox\" ><label for=\"sk-estimator-id-2\" class=\"sk-toggleable__label sk-toggleable__label-arrow\">RandomizedSearchCV</label><div class=\"sk-toggleable__content\"><pre>RandomizedSearchCV(cv=StratifiedKFold(n_splits=5, random_state=None, shuffle=True),\n",
              "                   estimator=RandomForestClassifier(), n_iter=50,\n",
              "                   param_distributions={&#x27;max_depth&#x27;: [4, 5, 6, 7, 8, 9, 10],\n",
              "                                        &#x27;min_samples_leaf&#x27;: [2, 3, 4, 5, 6],\n",
              "                                        &#x27;min_samples_split&#x27;: [2, 5, 10],\n",
              "                                        &#x27;n_estimators&#x27;: [10, 50, 100, 200, 300,\n",
              "                                                         400]},\n",
              "                   scoring=&#x27;accuracy&#x27;, verbose=3)</pre></div></div></div><div class=\"sk-parallel\"><div class=\"sk-parallel-item\"><div class=\"sk-item\"><div class=\"sk-label-container\"><div class=\"sk-label sk-toggleable\"><input class=\"sk-toggleable__control sk-hidden--visually\" id=\"sk-estimator-id-3\" type=\"checkbox\" ><label for=\"sk-estimator-id-3\" class=\"sk-toggleable__label sk-toggleable__label-arrow\">estimator: RandomForestClassifier</label><div class=\"sk-toggleable__content\"><pre>RandomForestClassifier()</pre></div></div></div><div class=\"sk-serial\"><div class=\"sk-item\"><div class=\"sk-estimator sk-toggleable\"><input class=\"sk-toggleable__control sk-hidden--visually\" id=\"sk-estimator-id-4\" type=\"checkbox\" ><label for=\"sk-estimator-id-4\" class=\"sk-toggleable__label sk-toggleable__label-arrow\">RandomForestClassifier</label><div class=\"sk-toggleable__content\"><pre>RandomForestClassifier()</pre></div></div></div></div></div></div></div></div></div></div>"
            ]
          },
          "metadata": {},
          "execution_count": 36
        }
      ],
      "source": [
        "rscv.fit(xtrain_transformed,ytrain)"
      ]
    },
    {
      "cell_type": "code",
      "execution_count": 37,
      "metadata": {
        "colab": {
          "base_uri": "https://localhost:8080/"
        },
        "id": "bnk29Ux6FTtD",
        "outputId": "2bd15aa1-9169-4457-b045-bb77e043b969"
      },
      "outputs": [
        {
          "output_type": "execute_result",
          "data": {
            "text/plain": [
              "{'n_estimators': 300,\n",
              " 'min_samples_split': 5,\n",
              " 'min_samples_leaf': 3,\n",
              " 'max_depth': 9}"
            ]
          },
          "metadata": {},
          "execution_count": 37
        }
      ],
      "source": [
        "rscv.best_params_"
      ]
    },
    {
      "cell_type": "code",
      "execution_count": 38,
      "metadata": {
        "colab": {
          "base_uri": "https://localhost:8080/"
        },
        "id": "FqYEBR2KFTtE",
        "outputId": "6a35c829-9b49-4783-fdae-1d7f127e6286"
      },
      "outputs": [
        {
          "output_type": "execute_result",
          "data": {
            "text/plain": [
              "0.8639632167327804"
            ]
          },
          "metadata": {},
          "execution_count": 38
        }
      ],
      "source": [
        "rscv.best_score_"
      ]
    },
    {
      "cell_type": "code",
      "execution_count": 39,
      "metadata": {
        "colab": {
          "base_uri": "https://localhost:8080/",
          "height": 92
        },
        "id": "-rhVlTqqFTtE",
        "outputId": "e1c3efd2-e031-4a11-d5df-ace57dde05fc"
      },
      "outputs": [
        {
          "output_type": "execute_result",
          "data": {
            "text/plain": [
              "RandomForestClassifier(max_depth=9, min_samples_leaf=3, min_samples_split=5,\n",
              "                       n_estimators=300)"
            ],
            "text/html": [
              "<style>#sk-container-id-3 {color: black;background-color: white;}#sk-container-id-3 pre{padding: 0;}#sk-container-id-3 div.sk-toggleable {background-color: white;}#sk-container-id-3 label.sk-toggleable__label {cursor: pointer;display: block;width: 100%;margin-bottom: 0;padding: 0.3em;box-sizing: border-box;text-align: center;}#sk-container-id-3 label.sk-toggleable__label-arrow:before {content: \"▸\";float: left;margin-right: 0.25em;color: #696969;}#sk-container-id-3 label.sk-toggleable__label-arrow:hover:before {color: black;}#sk-container-id-3 div.sk-estimator:hover label.sk-toggleable__label-arrow:before {color: black;}#sk-container-id-3 div.sk-toggleable__content {max-height: 0;max-width: 0;overflow: hidden;text-align: left;background-color: #f0f8ff;}#sk-container-id-3 div.sk-toggleable__content pre {margin: 0.2em;color: black;border-radius: 0.25em;background-color: #f0f8ff;}#sk-container-id-3 input.sk-toggleable__control:checked~div.sk-toggleable__content {max-height: 200px;max-width: 100%;overflow: auto;}#sk-container-id-3 input.sk-toggleable__control:checked~label.sk-toggleable__label-arrow:before {content: \"▾\";}#sk-container-id-3 div.sk-estimator input.sk-toggleable__control:checked~label.sk-toggleable__label {background-color: #d4ebff;}#sk-container-id-3 div.sk-label input.sk-toggleable__control:checked~label.sk-toggleable__label {background-color: #d4ebff;}#sk-container-id-3 input.sk-hidden--visually {border: 0;clip: rect(1px 1px 1px 1px);clip: rect(1px, 1px, 1px, 1px);height: 1px;margin: -1px;overflow: hidden;padding: 0;position: absolute;width: 1px;}#sk-container-id-3 div.sk-estimator {font-family: monospace;background-color: #f0f8ff;border: 1px dotted black;border-radius: 0.25em;box-sizing: border-box;margin-bottom: 0.5em;}#sk-container-id-3 div.sk-estimator:hover {background-color: #d4ebff;}#sk-container-id-3 div.sk-parallel-item::after {content: \"\";width: 100%;border-bottom: 1px solid gray;flex-grow: 1;}#sk-container-id-3 div.sk-label:hover label.sk-toggleable__label {background-color: #d4ebff;}#sk-container-id-3 div.sk-serial::before {content: \"\";position: absolute;border-left: 1px solid gray;box-sizing: border-box;top: 0;bottom: 0;left: 50%;z-index: 0;}#sk-container-id-3 div.sk-serial {display: flex;flex-direction: column;align-items: center;background-color: white;padding-right: 0.2em;padding-left: 0.2em;position: relative;}#sk-container-id-3 div.sk-item {position: relative;z-index: 1;}#sk-container-id-3 div.sk-parallel {display: flex;align-items: stretch;justify-content: center;background-color: white;position: relative;}#sk-container-id-3 div.sk-item::before, #sk-container-id-3 div.sk-parallel-item::before {content: \"\";position: absolute;border-left: 1px solid gray;box-sizing: border-box;top: 0;bottom: 0;left: 50%;z-index: -1;}#sk-container-id-3 div.sk-parallel-item {display: flex;flex-direction: column;z-index: 1;position: relative;background-color: white;}#sk-container-id-3 div.sk-parallel-item:first-child::after {align-self: flex-end;width: 50%;}#sk-container-id-3 div.sk-parallel-item:last-child::after {align-self: flex-start;width: 50%;}#sk-container-id-3 div.sk-parallel-item:only-child::after {width: 0;}#sk-container-id-3 div.sk-dashed-wrapped {border: 1px dashed gray;margin: 0 0.4em 0.5em 0.4em;box-sizing: border-box;padding-bottom: 0.4em;background-color: white;}#sk-container-id-3 div.sk-label label {font-family: monospace;font-weight: bold;display: inline-block;line-height: 1.2em;}#sk-container-id-3 div.sk-label-container {text-align: center;}#sk-container-id-3 div.sk-container {/* jupyter's `normalize.less` sets `[hidden] { display: none; }` but bootstrap.min.css set `[hidden] { display: none !important; }` so we also need the `!important` here to be able to override the default hidden behavior on the sphinx rendered scikit-learn.org. See: https://github.com/scikit-learn/scikit-learn/issues/21755 */display: inline-block !important;position: relative;}#sk-container-id-3 div.sk-text-repr-fallback {display: none;}</style><div id=\"sk-container-id-3\" class=\"sk-top-container\"><div class=\"sk-text-repr-fallback\"><pre>RandomForestClassifier(max_depth=9, min_samples_leaf=3, min_samples_split=5,\n",
              "                       n_estimators=300)</pre><b>In a Jupyter environment, please rerun this cell to show the HTML representation or trust the notebook. <br />On GitHub, the HTML representation is unable to render, please try loading this page with nbviewer.org.</b></div><div class=\"sk-container\" hidden><div class=\"sk-item\"><div class=\"sk-estimator sk-toggleable\"><input class=\"sk-toggleable__control sk-hidden--visually\" id=\"sk-estimator-id-5\" type=\"checkbox\" checked><label for=\"sk-estimator-id-5\" class=\"sk-toggleable__label sk-toggleable__label-arrow\">RandomForestClassifier</label><div class=\"sk-toggleable__content\"><pre>RandomForestClassifier(max_depth=9, min_samples_leaf=3, min_samples_split=5,\n",
              "                       n_estimators=300)</pre></div></div></div></div></div>"
            ]
          },
          "metadata": {},
          "execution_count": 39
        }
      ],
      "source": [
        "best_rfc = rscv.best_estimator_\n",
        "best_rfc"
      ]
    },
    {
      "cell_type": "markdown",
      "metadata": {
        "id": "ytloK_SFFTtE"
      },
      "source": [
        "### Evaluate model on test data"
      ]
    },
    {
      "cell_type": "code",
      "execution_count": 40,
      "metadata": {
        "colab": {
          "base_uri": "https://localhost:8080/"
        },
        "id": "3FKdrIYNFTtE",
        "outputId": "c750cd1b-cab7-44d1-adb3-e23369f197d3"
      },
      "outputs": [
        {
          "output_type": "execute_result",
          "data": {
            "text/plain": [
              "array([1, 0, 0, 0, 0, 0, 0, 0, 0, 0, 0, 0, 0, 0, 0, 0, 0, 0, 0, 0, 0, 0,\n",
              "       0, 0, 0, 0, 0, 0, 0, 0, 0, 0, 0, 0, 0, 0, 0, 0, 0, 1, 0, 0, 0, 0,\n",
              "       0, 0, 0, 0, 0, 0, 0, 0, 0, 0, 0, 0, 0, 0, 0, 0, 0, 0, 0, 0, 0, 0,\n",
              "       0, 1, 0, 0, 0, 0, 0, 0, 0, 0, 0, 0, 0, 0, 0, 0, 0, 0, 0, 0, 0, 0,\n",
              "       0, 0, 0, 0, 1, 0, 0, 0, 0, 0, 0, 0, 0, 0, 0, 0, 0, 0, 0, 0, 0, 0,\n",
              "       0, 0, 0, 0, 0, 0, 0, 0, 0, 0, 0, 0, 0, 0, 0, 0, 0, 0, 0, 0, 0, 0,\n",
              "       0, 0, 0, 1, 0, 0, 0, 0, 0, 0, 0, 0, 0, 0, 0, 0, 0, 0, 0, 0, 0, 0,\n",
              "       0, 0, 0, 0, 0, 0, 0, 0, 0, 0, 0, 0, 0, 0, 1, 0, 0, 0, 0, 0, 0, 0,\n",
              "       0, 0, 0, 0, 0, 0, 0, 0, 0, 0, 0, 0, 0, 1, 0, 0, 0, 0, 0, 0, 0, 0,\n",
              "       0, 1, 1, 0, 0, 0, 1, 0, 0, 0, 0, 0, 0, 0, 0, 0, 1, 0, 0, 0, 0, 0,\n",
              "       0, 0, 0, 1, 0, 0, 1, 0, 0, 0, 0, 0, 0, 0, 0, 0, 0, 0, 0, 0, 0, 1,\n",
              "       0, 0, 0, 0, 0, 0, 0, 0, 1, 0, 0, 0, 0, 0, 0, 1, 0, 0, 0, 0, 0, 0,\n",
              "       0, 0, 0, 0, 0, 0, 1, 0, 0, 0, 0, 0, 1, 0, 0, 0, 0, 0, 0, 0, 0, 0,\n",
              "       0, 0, 0, 0, 0, 0, 0, 0])"
            ]
          },
          "metadata": {},
          "execution_count": 40
        }
      ],
      "source": [
        "ypred_test = best_rfc.predict(xtest_transformed)\n",
        "ypred_test"
      ]
    },
    {
      "cell_type": "code",
      "execution_count": 41,
      "metadata": {
        "colab": {
          "base_uri": "https://localhost:8080/",
          "height": 447
        },
        "id": "mLdVIwWnFTtF",
        "outputId": "59d3ade1-8de9-4baf-e1ed-47465e974e54"
      },
      "outputs": [
        {
          "output_type": "execute_result",
          "data": {
            "text/plain": [
              "<Axes: >"
            ]
          },
          "metadata": {},
          "execution_count": 41
        },
        {
          "output_type": "display_data",
          "data": {
            "text/plain": [
              "<Figure size 640x480 with 2 Axes>"
            ],
            "image/png": "[encoded data removed]"
          },
          "metadata": {}
        }
      ],
      "source": [
        "from sklearn.metrics import confusion_matrix\n",
        "import seaborn as sns\n",
        "cf = confusion_matrix(ytest, ypred_test)\n",
        "sns.heatmap(cf,annot=True,fmt='d')"
      ]
    },
    {
      "cell_type": "code",
      "execution_count": 42,
      "metadata": {
        "colab": {
          "base_uri": "https://localhost:8080/"
        },
        "id": "5F0DBUQLFTtF",
        "outputId": "c24ff314-3a83-4289-b9fc-5e81b791607d"
      },
      "outputs": [
        {
          "output_type": "stream",
          "name": "stdout",
          "text": [
            "Accuracy on testing data is 0.8401\n"
          ]
        }
      ],
      "source": [
        "from sklearn.metrics import accuracy_score\n",
        "acc = accuracy_score(ytest, ypred_test)\n",
        "print(f'Accuracy on testing data is {acc:.4f}')"
      ]
    },
    {
      "cell_type": "markdown",
      "metadata": {
        "id": "7y97VPXaFTtF"
      },
      "source": [
        "### Insights\n",
        "1. Above model has accuracy of 0.8503 on testing data\n",
        "2. However above data has imbalance data on target\n",
        "3. To deal with imbalanced techniques such as SMOTE (Synthetic Minority Oversampling TEchnique)\n",
        "4. Feature selection can also be avoided in above data and performance should be checked with all features as well"
      ]
    },
    {
      "cell_type": "markdown",
      "metadata": {
        "id": "KuVzphrfFTtF"
      },
      "source": [
        "## Question 2 : Build a pipeline that includes random forest classifier and a logistic regression classifier , and then voting classifier to combine their predictions. Train the pipeline on iris dataset and evaluate its accuracy\n",
        "---"
      ]
    },
    {
      "cell_type": "markdown",
      "metadata": {
        "id": "FIZAoi1-FTtG"
      },
      "source": [
        "## Answer :"
      ]
    },
    {
      "cell_type": "markdown",
      "metadata": {
        "id": "TpyhmMPAFTtG"
      },
      "source": [
        "### Load Iris Dataset"
      ]
    },
    {
      "cell_type": "code",
      "execution_count": 43,
      "metadata": {
        "id": "u3J6Io4bFTtG"
      },
      "outputs": [],
      "source": [
        "from sklearn.datasets import load_iris\n",
        "X,Y = load_iris(return_X_y=True)"
      ]
    },
    {
      "cell_type": "code",
      "execution_count": 44,
      "metadata": {
        "colab": {
          "base_uri": "https://localhost:8080/"
        },
        "id": "sbq0HjsdFTtG",
        "outputId": "a2cf7cd7-df59-42e5-8534-b1090e99dd58"
      },
      "outputs": [
        {
          "output_type": "execute_result",
          "data": {
            "text/plain": [
              "(150, 4)"
            ]
          },
          "metadata": {},
          "execution_count": 44
        }
      ],
      "source": [
        "X.shape"
      ]
    },
    {
      "cell_type": "code",
      "execution_count": 45,
      "metadata": {
        "colab": {
          "base_uri": "https://localhost:8080/"
        },
        "id": "Bxnzeou5FTtH",
        "outputId": "6117a5cd-da46-4c1c-ca5b-cf89009e8b91"
      },
      "outputs": [
        {
          "output_type": "execute_result",
          "data": {
            "text/plain": [
              "(150,)"
            ]
          },
          "metadata": {},
          "execution_count": 45
        }
      ],
      "source": [
        "Y.shape"
      ]
    },
    {
      "cell_type": "markdown",
      "metadata": {
        "id": "Qy4GlF80FTtH"
      },
      "source": [
        "### Train Test Split"
      ]
    },
    {
      "cell_type": "code",
      "execution_count": 46,
      "metadata": {
        "id": "vfWfovN4FTtH"
      },
      "outputs": [],
      "source": [
        "from sklearn.model_selection import train_test_split\n",
        "xtrain, xtest, ytrain, ytest = train_test_split(X,Y,test_size=0.3,random_state=42)"
      ]
    },
    {
      "cell_type": "code",
      "execution_count": 47,
      "metadata": {
        "colab": {
          "base_uri": "https://localhost:8080/"
        },
        "id": "J_R8ynL_FTtH",
        "outputId": "52be0e29-3e92-45ef-80e6-5ff6c1e6823b"
      },
      "outputs": [
        {
          "output_type": "execute_result",
          "data": {
            "text/plain": [
              "(105, 4)"
            ]
          },
          "metadata": {},
          "execution_count": 47
        }
      ],
      "source": [
        "xtrain.shape"
      ]
    },
    {
      "cell_type": "code",
      "execution_count": 48,
      "metadata": {
        "colab": {
          "base_uri": "https://localhost:8080/"
        },
        "id": "ui9HsOuFFTtH",
        "outputId": "a57ffa04-488a-4b2f-d7a6-38d125fbdc16"
      },
      "outputs": [
        {
          "output_type": "execute_result",
          "data": {
            "text/plain": [
              "(45, 4)"
            ]
          },
          "metadata": {},
          "execution_count": 48
        }
      ],
      "source": [
        "xtest.shape"
      ]
    },
    {
      "cell_type": "markdown",
      "metadata": {
        "id": "IDIp4wIIFTtI"
      },
      "source": [
        "### Standard Scaling"
      ]
    },
    {
      "cell_type": "code",
      "execution_count": 49,
      "metadata": {
        "id": "nYHRMlV6FTtI"
      },
      "outputs": [],
      "source": [
        "from sklearn.preprocessing import StandardScaler\n",
        "scaler = StandardScaler()\n",
        "xtrain = scaler.fit_transform(xtrain)\n",
        "xtest = scaler.transform(xtest)"
      ]
    },
    {
      "cell_type": "markdown",
      "metadata": {
        "id": "hus_cqT9FTtI"
      },
      "source": [
        "### Create pipeline"
      ]
    },
    {
      "cell_type": "code",
      "execution_count": 50,
      "metadata": {
        "id": "Py0j94J8FTtI"
      },
      "outputs": [],
      "source": [
        "from sklearn.pipeline import Pipeline\n",
        "from sklearn.ensemble import RandomForestClassifier\n",
        "from sklearn.linear_model import LogisticRegression\n",
        "from sklearn.ensemble import VotingClassifier\n",
        "from sklearn.preprocessing import StandardScaler\n",
        "\n",
        "# Defining Base models\n",
        "rfc = RandomForestClassifier(n_estimators=100,max_depth=4)\n",
        "lr = LogisticRegression(C=1.0)\n",
        "\n",
        "# Voting Classifier Pipeline\n",
        "vc = VotingClassifier(estimators=[('rfc',rfc),\n",
        "                                  ('lr',lr)],\n",
        "                                  voting='soft')"
      ]
    },
    {
      "cell_type": "code",
      "execution_count": 51,
      "metadata": {
        "colab": {
          "base_uri": "https://localhost:8080/",
          "height": 109
        },
        "id": "o0ZHJzHUFTtI",
        "outputId": "3af53bba-e043-4e60-e2b0-7a890a167cca"
      },
      "outputs": [
        {
          "output_type": "execute_result",
          "data": {
            "text/plain": [
              "VotingClassifier(estimators=[('rfc', RandomForestClassifier(max_depth=4)),\n",
              "                             ('lr', LogisticRegression())],\n",
              "                 voting='soft')"
            ],
            "text/html": [
              "<style>#sk-container-id-4 {color: black;background-color: white;}#sk-container-id-4 pre{padding: 0;}#sk-container-id-4 div.sk-toggleable {background-color: white;}#sk-container-id-4 label.sk-toggleable__label {cursor: pointer;display: block;width: 100%;margin-bottom: 0;padding: 0.3em;box-sizing: border-box;text-align: center;}#sk-container-id-4 label.sk-toggleable__label-arrow:before {content: \"▸\";float: left;margin-right: 0.25em;color: #696969;}#sk-container-id-4 label.sk-toggleable__label-arrow:hover:before {color: black;}#sk-container-id-4 div.sk-estimator:hover label.sk-toggleable__label-arrow:before {color: black;}#sk-container-id-4 div.sk-toggleable__content {max-height: 0;max-width: 0;overflow: hidden;text-align: left;background-color: #f0f8ff;}#sk-container-id-4 div.sk-toggleable__content pre {margin: 0.2em;color: black;border-radius: 0.25em;background-color: #f0f8ff;}#sk-container-id-4 input.sk-toggleable__control:checked~div.sk-toggleable__content {max-height: 200px;max-width: 100%;overflow: auto;}#sk-container-id-4 input.sk-toggleable__control:checked~label.sk-toggleable__label-arrow:before {content: \"▾\";}#sk-container-id-4 div.sk-estimator input.sk-toggleable__control:checked~label.sk-toggleable__label {background-color: #d4ebff;}#sk-container-id-4 div.sk-label input.sk-toggleable__control:checked~label.sk-toggleable__label {background-color: #d4ebff;}#sk-container-id-4 input.sk-hidden--visually {border: 0;clip: rect(1px 1px 1px 1px);clip: rect(1px, 1px, 1px, 1px);height: 1px;margin: -1px;overflow: hidden;padding: 0;position: absolute;width: 1px;}#sk-container-id-4 div.sk-estimator {font-family: monospace;background-color: #f0f8ff;border: 1px dotted black;border-radius: 0.25em;box-sizing: border-box;margin-bottom: 0.5em;}#sk-container-id-4 div.sk-estimator:hover {background-color: #d4ebff;}#sk-container-id-4 div.sk-parallel-item::after {content: \"\";width: 100%;border-bottom: 1px solid gray;flex-grow: 1;}#sk-container-id-4 div.sk-label:hover label.sk-toggleable__label {background-color: #d4ebff;}#sk-container-id-4 div.sk-serial::before {content: \"\";position: absolute;border-left: 1px solid gray;box-sizing: border-box;top: 0;bottom: 0;left: 50%;z-index: 0;}#sk-container-id-4 div.sk-serial {display: flex;flex-direction: column;align-items: center;background-color: white;padding-right: 0.2em;padding-left: 0.2em;position: relative;}#sk-container-id-4 div.sk-item {position: relative;z-index: 1;}#sk-container-id-4 div.sk-parallel {display: flex;align-items: stretch;justify-content: center;background-color: white;position: relative;}#sk-container-id-4 div.sk-item::before, #sk-container-id-4 div.sk-parallel-item::before {content: \"\";position: absolute;border-left: 1px solid gray;box-sizing: border-box;top: 0;bottom: 0;left: 50%;z-index: -1;}#sk-container-id-4 div.sk-parallel-item {display: flex;flex-direction: column;z-index: 1;position: relative;background-color: white;}#sk-container-id-4 div.sk-parallel-item:first-child::after {align-self: flex-end;width: 50%;}#sk-container-id-4 div.sk-parallel-item:last-child::after {align-self: flex-start;width: 50%;}#sk-container-id-4 div.sk-parallel-item:only-child::after {width: 0;}#sk-container-id-4 div.sk-dashed-wrapped {border: 1px dashed gray;margin: 0 0.4em 0.5em 0.4em;box-sizing: border-box;padding-bottom: 0.4em;background-color: white;}#sk-container-id-4 div.sk-label label {font-family: monospace;font-weight: bold;display: inline-block;line-height: 1.2em;}#sk-container-id-4 div.sk-label-container {text-align: center;}#sk-container-id-4 div.sk-container {/* jupyter's `normalize.less` sets `[hidden] { display: none; }` but bootstrap.min.css set `[hidden] { display: none !important; }` so we also need the `!important` here to be able to override the default hidden behavior on the sphinx rendered scikit-learn.org. See: https://github.com/scikit-learn/scikit-learn/issues/21755 */display: inline-block !important;position: relative;}#sk-container-id-4 div.sk-text-repr-fallback {display: none;}</style><div id=\"sk-container-id-4\" class=\"sk-top-container\"><div class=\"sk-text-repr-fallback\"><pre>VotingClassifier(estimators=[(&#x27;rfc&#x27;, RandomForestClassifier(max_depth=4)),\n",
              "                             (&#x27;lr&#x27;, LogisticRegression())],\n",
              "                 voting=&#x27;soft&#x27;)</pre><b>In a Jupyter environment, please rerun this cell to show the HTML representation or trust the notebook. <br />On GitHub, the HTML representation is unable to render, please try loading this page with nbviewer.org.</b></div><div class=\"sk-container\" hidden><div class=\"sk-item sk-dashed-wrapped\"><div class=\"sk-label-container\"><div class=\"sk-label sk-toggleable\"><input class=\"sk-toggleable__control sk-hidden--visually\" id=\"sk-estimator-id-6\" type=\"checkbox\" ><label for=\"sk-estimator-id-6\" class=\"sk-toggleable__label sk-toggleable__label-arrow\">VotingClassifier</label><div class=\"sk-toggleable__content\"><pre>VotingClassifier(estimators=[(&#x27;rfc&#x27;, RandomForestClassifier(max_depth=4)),\n",
              "                             (&#x27;lr&#x27;, LogisticRegression())],\n",
              "                 voting=&#x27;soft&#x27;)</pre></div></div></div><div class=\"sk-parallel\"><div class=\"sk-parallel-item\"><div class=\"sk-item\"><div class=\"sk-label-container\"><div class=\"sk-label sk-toggleable\"><label>rfc</label></div></div><div class=\"sk-serial\"><div class=\"sk-item\"><div class=\"sk-estimator sk-toggleable\"><input class=\"sk-toggleable__control sk-hidden--visually\" id=\"sk-estimator-id-7\" type=\"checkbox\" ><label for=\"sk-estimator-id-7\" class=\"sk-toggleable__label sk-toggleable__label-arrow\">RandomForestClassifier</label><div class=\"sk-toggleable__content\"><pre>RandomForestClassifier(max_depth=4)</pre></div></div></div></div></div></div><div class=\"sk-parallel-item\"><div class=\"sk-item\"><div class=\"sk-label-container\"><div class=\"sk-label sk-toggleable\"><label>lr</label></div></div><div class=\"sk-serial\"><div class=\"sk-item\"><div class=\"sk-estimator sk-toggleable\"><input class=\"sk-toggleable__control sk-hidden--visually\" id=\"sk-estimator-id-8\" type=\"checkbox\" ><label for=\"sk-estimator-id-8\" class=\"sk-toggleable__label sk-toggleable__label-arrow\">LogisticRegression</label><div class=\"sk-toggleable__content\"><pre>LogisticRegression()</pre></div></div></div></div></div></div></div></div></div></div>"
            ]
          },
          "metadata": {},
          "execution_count": 51
        }
      ],
      "source": [
        "vc.fit(xtrain,ytrain)"
      ]
    },
    {
      "cell_type": "markdown",
      "metadata": {
        "id": "A0qhBUYoFTtI"
      },
      "source": [
        "### Predicting the test results"
      ]
    },
    {
      "cell_type": "code",
      "execution_count": 52,
      "metadata": {
        "colab": {
          "base_uri": "https://localhost:8080/"
        },
        "id": "nMAUX-y6FTtJ",
        "outputId": "d987f086-e4d9-46d1-e285-2397513d20ab"
      },
      "outputs": [
        {
          "output_type": "execute_result",
          "data": {
            "text/plain": [
              "array([1, 0, 2, 1, 1, 0, 1, 2, 1, 1, 2, 0, 0, 0, 0, 1, 2, 1, 1, 2, 0, 2,\n",
              "       0, 2, 2, 2, 2, 2, 0, 0, 0, 0, 1, 0, 0, 2, 1, 0, 0, 0, 2, 1, 1, 0,\n",
              "       0])"
            ]
          },
          "metadata": {},
          "execution_count": 52
        }
      ],
      "source": [
        "ypred_test = vc.predict(xtest)\n",
        "ypred_test"
      ]
    },
    {
      "cell_type": "markdown",
      "metadata": {
        "id": "w4QF0JYdFTtJ"
      },
      "source": [
        "### Evaluating the model on test data"
      ]
    },
    {
      "cell_type": "code",
      "execution_count": 53,
      "metadata": {
        "colab": {
          "base_uri": "https://localhost:8080/",
          "height": 447
        },
        "id": "JuNMai7KFTtJ",
        "outputId": "255d4548-828c-48af-e6a9-6034f429b78d"
      },
      "outputs": [
        {
          "output_type": "execute_result",
          "data": {
            "text/plain": [
              "<Axes: >"
            ]
          },
          "metadata": {},
          "execution_count": 53
        },
        {
          "output_type": "display_data",
          "data": {
            "text/plain": [
              "<Figure size 640x480 with 2 Axes>"
            ],
            "image/png": "[encoded data removed]"
          },
          "metadata": {}
        }
      ],
      "source": [
        "from sklearn.metrics import confusion_matrix\n",
        "import seaborn as sns\n",
        "cf = confusion_matrix(ytest,ypred_test)\n",
        "sns.heatmap(cf,annot=True,fmt='d')"
      ]
    },
    {
      "cell_type": "code",
      "execution_count": 54,
      "metadata": {
        "colab": {
          "base_uri": "https://localhost:8080/"
        },
        "id": "O_C-KRkeFTtJ",
        "outputId": "5c3dc8b9-d7c6-4a1f-f4f6-832f78fdda35"
      },
      "outputs": [
        {
          "output_type": "stream",
          "name": "stdout",
          "text": [
            "              precision    recall  f1-score   support\n",
            "\n",
            "           0       1.00      1.00      1.00        19\n",
            "           1       1.00      1.00      1.00        13\n",
            "           2       1.00      1.00      1.00        13\n",
            "\n",
            "    accuracy                           1.00        45\n",
            "   macro avg       1.00      1.00      1.00        45\n",
            "weighted avg       1.00      1.00      1.00        45\n",
            "\n"
          ]
        }
      ],
      "source": [
        "# Classification Report\n",
        "from sklearn.metrics import classification_report\n",
        "print(classification_report(ytest,ypred_test))"
      ]
    },
    {
      "cell_type": "code",
      "execution_count": 55,
      "metadata": {
        "colab": {
          "base_uri": "https://localhost:8080/"
        },
        "id": "rYswmjpTFTtJ",
        "outputId": "471b47d5-5686-411f-d4ae-14fd4177628a"
      },
      "outputs": [
        {
          "output_type": "stream",
          "name": "stdout",
          "text": [
            "Accuracy on Final Voting Classifier model is 100.00%\n"
          ]
        }
      ],
      "source": [
        "# Accuracy Score\n",
        "from sklearn.metrics import accuracy_score\n",
        "acc = accuracy_score(ytest,ypred_test)\n",
        "print(f'Accuracy on Final Voting Classifier model is {acc*100:.2f}%')"
      ]
    }
  ],
  "metadata": {
    "kernelspec": {
      "display_name": "venv",
      "language": "python",
      "name": "python3"
    },
    "language_info": {
      "codemirror_mode": {
        "name": "ipython",
        "version": 3
      },
      "file_extension": ".py",
      "mimetype": "text/x-python",
      "name": "python",
      "nbconvert_exporter": "python",
      "pygments_lexer": "ipython3",
      "version": "3.10.7"
    },
    "orig_nbformat": 4,
    "colab": {
      "provenance": []
    }
  },
  "nbformat": 4,
  "nbformat_minor": 0
}