{
  "nbformat": 4,
  "nbformat_minor": 0,
  "metadata": {
    "colab": {
      "provenance": []
    },
    "kernelspec": {
      "name": "python3",
      "display_name": "Python 3"
    },
    "language_info": {
      "name": "python"
    }
  },
  "cells": [
    {
      "cell_type": "markdown",
      "source": [
        "**Q1. Create a vehicle class with an init method having instance variables as name_of_vehicle, max_speed and average_of_vehicle.**"
      ],
      "metadata": {
        "id": "fr7qWUVUk98Y"
      }
    },
    {
      "cell_type": "code",
      "source": [
        "class Vehicle:\n",
        "\n",
        "    def __init__(self, name_of_vehicle, max_speed, average_of_vehicle):\n",
        "        self.name_of_vehicle = name_of_vehicle\n",
        "        self.max_speed = max_speed\n",
        "        self.average_of_vehicle = average_of_vehicle\n",
        "\n",
        "bike = Vehicle(\"Royal Enfield Classic 350\", 130, 37)\n",
        "print(\"Vehicle Name:\", bike.name_of_vehicle, \"\\nMaximum Speed:\", bike.max_speed,\"km/h\", \"\\nAverage:\", bike.average_of_vehicle,\"km/l\")"
      ],
      "metadata": {
        "colab": {
          "base_uri": "https://localhost:8080/"
        },
        "id": "T2xfX-qVlH8P",
        "outputId": "c9762cee-c1d0-42de-a273-13cbdd4f1226"
      },
      "execution_count": 1,
      "outputs": [
        {
          "output_type": "stream",
          "name": "stdout",
          "text": [
            "Vehicle Name: Royal Enfield Classic 350 \n",
            "Maximum Speed: 130 km/h \n",
            "Average: 37 km/l\n"
          ]
        }
      ]
    },
    {
      "cell_type": "markdown",
      "source": [
        "**Q2. Create a child class car from the vehicle class created in Que 1, which will inherit the vehicle class. Create a method named seating_capacity which takes capacity as an argument and returns the name of the vehicle and its seating capacity.**"
      ],
      "metadata": {
        "id": "IvY7mF0Lo2Ln"
      }
    },
    {
      "cell_type": "code",
      "source": [
        "class car(Vehicle):\n",
        "\n",
        "    def seating_capacity(self, capacity):\n",
        "        return f\"The seating capacity of a {self.name_of_vehicle} is {capacity}\"\n",
        "\n",
        "car(\"Tata Nexon\", 180, 20).seating_capacity(5)"
      ],
      "metadata": {
        "colab": {
          "base_uri": "https://localhost:8080/",
          "height": 36
        },
        "id": "1uwLc9sCpA-e",
        "outputId": "471209bc-47c5-44bb-e446-5ce1dce63491"
      },
      "execution_count": 2,
      "outputs": [
        {
          "output_type": "execute_result",
          "data": {
            "text/plain": [
              "'The seating capacity of a Tata Nexon is 5'"
            ],
            "application/vnd.google.colaboratory.intrinsic+json": {
              "type": "string"
            }
          },
          "metadata": {},
          "execution_count": 2
        }
      ]
    },
    {
      "cell_type": "markdown",
      "source": [
        "**Q3. What is multiple inheritance? Write a python code to demonstrate multiple inheritance.**"
      ],
      "metadata": {
        "id": "zB4GbWYMr66a"
      }
    },
    {
      "cell_type": "markdown",
      "source": [
        "**Ans :-**\n",
        "\n",
        "***Multiple Inheritance*** :-\n",
        "When a class is derived from more than one base class it is called multiple Inheritance. The derived class inherits all the features of the base case.\n",
        "\n",
        "Example :-"
      ],
      "metadata": {
        "id": "GfgXgjVjsAYr"
      }
    },
    {
      "cell_type": "code",
      "source": [
        "# creating base class 1\n",
        "class father():\n",
        "\tdef singing(self):\n",
        "\t\tprint(\"Dad sings well\")\n",
        "\n",
        "# creating a base class 2\n",
        "class mother():\n",
        "\tdef coding(self):\n",
        "\t\tprint(\"Mom codes well\")\n",
        "\n",
        "# creating derived class\n",
        "class Child(father, mother):\n",
        "\tdef playing(self):\n",
        "\t\tprint(\"Kid loves to play\")\n",
        "\n",
        "\n",
        "child = Child()\n",
        "\n",
        "child.singing()\n",
        "child.coding()\n",
        "child.playing()"
      ],
      "metadata": {
        "colab": {
          "base_uri": "https://localhost:8080/"
        },
        "id": "c-U3fpVPsuV2",
        "outputId": "f163aa3d-11d3-45ba-f28b-7c37a567b992"
      },
      "execution_count": 3,
      "outputs": [
        {
          "output_type": "stream",
          "name": "stdout",
          "text": [
            "Dad sings well\n",
            "Mom codes well\n",
            "Kid loves to play\n"
          ]
        }
      ]
    },
    {
      "cell_type": "markdown",
      "source": [
        "**Q4. What are getter and setter in python? Create a class and create a getter and a setter method in this class.**"
      ],
      "metadata": {
        "id": "8fsCCEUztiAd"
      }
    },
    {
      "cell_type": "markdown",
      "source": [
        "**Ans :-** Getters and setters in Python are different from those in other OOPs languages. The primary use of getters and setters is to ensure data encapsulation in object-oriented programs.\n",
        "\n",
        "**Getter :-** Getters are the methods that are used in Object-Oriented Programming (OOPS) to access a class's private attributes. The setattr() function in Python corresponds to the getattr() function in Python. It alters an object's attribute values.\n",
        "\n",
        "**Setter :-** The setter is a method that is used to set the property's value. It is very useful in object-oriented programming to set the value of private attributes in a class."
      ],
      "metadata": {
        "id": "yUccX445tstE"
      }
    },
    {
      "cell_type": "code",
      "source": [
        "\n",
        "class sample:\n",
        "     def __init__(self):\n",
        "          self._age = 0\n",
        "\n",
        "     # function to get value of _age\n",
        "     def get_age(self):\n",
        "         print(\"getter method called\")\n",
        "         return self._age\n",
        "\n",
        "     # function to set value of _age\n",
        "     def set_age(self, a):\n",
        "         print(\"setter method called\")\n",
        "         self._age = a\n",
        "\n",
        "\n",
        "     age = property(get_age, set_age)\n",
        "\n",
        "mark = sample()\n",
        "\n",
        "mark.age = 10\n",
        "\n",
        "print(mark.age)"
      ],
      "metadata": {
        "colab": {
          "base_uri": "https://localhost:8080/"
        },
        "id": "wiyNapo1ugck",
        "outputId": "58c99550-72e9-4d51-8719-5378372cd210"
      },
      "execution_count": 4,
      "outputs": [
        {
          "output_type": "stream",
          "name": "stdout",
          "text": [
            "setter method called\n",
            "getter method called\n",
            "10\n"
          ]
        }
      ]
    },
    {
      "cell_type": "markdown",
      "source": [
        "**Q5.What is method overriding in python? Write a python code to demonstrate method overriding.**"
      ],
      "metadata": {
        "id": "vuyTrmslvqIC"
      }
    },
    {
      "cell_type": "markdown",
      "source": [
        "**Ans :-**\n",
        "\n",
        "Method Overriding :- Method overriding is an ability of any object-oriented programming language that allows a subclass or child class to provide a specific implementation of a method that is already provided by one of its super-classes or parent classes. When a method in a subclass has the same name, same parameters or signature and same return type(or sub-type) as a method in its super-class, then the method in the subclass is said to override the method in the super-class.\n",
        "\n",
        "The version of a method that is executed will be determined by the object that is used to invoke it. If an object of a parent class is used to invoke the method, then the version in the parent class will be executed, but if an object of the subclass is used to invoke the method, then the version in the child class will be executed. In other words, it is the type of the object being referred to (not the type of the reference variable) that determines which version of an overridden method will be executed."
      ],
      "metadata": {
        "id": "8I3InM2XvsdU"
      }
    },
    {
      "cell_type": "code",
      "source": [
        "class Parent():\n",
        "\n",
        "\tdef __init__(self):\n",
        "\t\tself.value = \"Inside Parent\"\n",
        "\n",
        "\tdef show(self):\n",
        "\t\tprint(self.value)\n",
        "\n",
        "class Child(Parent):\n",
        "\n",
        "\tdef __init__(self):\n",
        "\t\tself.value = \"Inside Child\"\n",
        "\n",
        "\tdef show(self):\n",
        "\t\tprint(self.value)\n",
        "\n",
        "\n",
        "obj1 = Parent()\n",
        "obj2 = Child()\n",
        "\n",
        "obj1.show()\n",
        "obj2.show()\n"
      ],
      "metadata": {
        "colab": {
          "base_uri": "https://localhost:8080/"
        },
        "id": "WIQrYkuzwpM7",
        "outputId": "0c5c119c-7f2e-400a-d0b4-60ea965f29a1"
      },
      "execution_count": 5,
      "outputs": [
        {
          "output_type": "stream",
          "name": "stdout",
          "text": [
            "Inside Parent\n",
            "Inside Child\n"
          ]
        }
      ]
    }
  ]
}